{
 "cells": [
  {
   "cell_type": "markdown",
   "id": "40bb6d2e-c86a-4068-ba9e-0034d593d762",
   "metadata": {},
   "source": [
    "# python 1st code\n",
    ".lets work with number"
   ]
  },
  {
   "cell_type": "code",
   "execution_count": 28,
   "id": "474a50d0-c5d3-4ca4-ad2c-c7d07117c15c",
   "metadata": {},
   "outputs": [
    {
     "data": {
      "text/plain": [
       "50"
      ]
     },
     "execution_count": 28,
     "metadata": {},
     "output_type": "execute_result"
    }
   ],
   "source": [
    "10 * 5"
   ]
  },
  {
   "cell_type": "code",
   "execution_count": 29,
   "id": "1086fe6f-8a62-4572-a1e6-e0036f2f0c3f",
   "metadata": {},
   "outputs": [
    {
     "data": {
      "text/plain": [
       "2.0"
      ]
     },
     "execution_count": 29,
     "metadata": {},
     "output_type": "execute_result"
    }
   ],
   "source": [
    "10 / 5"
   ]
  },
  {
   "cell_type": "code",
   "execution_count": 30,
   "id": "fdb0c577-233a-45f6-8a92-8df8ff2719ae",
   "metadata": {},
   "outputs": [
    {
     "data": {
      "text/plain": [
       "2"
      ]
     },
     "execution_count": 30,
     "metadata": {},
     "output_type": "execute_result"
    }
   ],
   "source": [
    "10 // 5"
   ]
  },
  {
   "cell_type": "code",
   "execution_count": 31,
   "id": "3838f6c1-16b3-4fff-8f7c-0aee58a0374e",
   "metadata": {},
   "outputs": [
    {
     "data": {
      "text/plain": [
       "14"
      ]
     },
     "execution_count": 31,
     "metadata": {},
     "output_type": "execute_result"
    }
   ],
   "source": [
    "(10+5)-7+6"
   ]
  },
  {
   "cell_type": "code",
   "execution_count": 32,
   "id": "e9038b85-a832-43e4-8b86-21445c8af9bd",
   "metadata": {},
   "outputs": [
    {
     "data": {
      "text/plain": [
       "30"
      ]
     },
     "execution_count": 32,
     "metadata": {},
     "output_type": "execute_result"
    }
   ],
   "source": [
    "5+(5*5)"
   ]
  },
  {
   "cell_type": "code",
   "execution_count": 33,
   "id": "82ae5d00-660d-4875-b96f-f5f043d8e5f5",
   "metadata": {},
   "outputs": [
    {
     "data": {
      "text/plain": [
       "50"
      ]
     },
     "execution_count": 33,
     "metadata": {},
     "output_type": "execute_result"
    }
   ],
   "source": [
    "(5+5)*5"
   ]
  },
  {
   "cell_type": "code",
   "execution_count": 34,
   "id": "0a287cf3-f1a6-473f-b6fe-118b6f0eb20a",
   "metadata": {},
   "outputs": [
    {
     "data": {
      "text/plain": [
       "53"
      ]
     },
     "execution_count": 34,
     "metadata": {},
     "output_type": "execute_result"
    }
   ],
   "source": [
    "_ + 3"
   ]
  },
  {
   "cell_type": "code",
   "execution_count": 35,
   "id": "4b77a344-5c7d-455e-81d3-9179b27f57bd",
   "metadata": {},
   "outputs": [
    {
     "data": {
      "text/plain": [
       "56"
      ]
     },
     "execution_count": 35,
     "metadata": {},
     "output_type": "execute_result"
    }
   ],
   "source": [
    "_ + 3"
   ]
  },
  {
   "cell_type": "code",
   "execution_count": 36,
   "id": "020324e9-1019-45aa-80ae-d4af6f65f649",
   "metadata": {},
   "outputs": [
    {
     "data": {
      "text/plain": [
       "'3.12.7 | packaged by Anaconda, Inc. | (main, Oct  4 2024, 13:17:27) [MSC v.1929 64 bit (AMD64)]'"
      ]
     },
     "execution_count": 36,
     "metadata": {},
     "output_type": "execute_result"
    }
   ],
   "source": [
    "import sys \n",
    "sys.version"
   ]
  },
  {
   "cell_type": "code",
   "execution_count": 37,
   "id": "db3e7304-e4dc-4cc1-a760-0f7f8dfdc820",
   "metadata": {},
   "outputs": [
    {
     "data": {
      "text/plain": [
       "4"
      ]
     },
     "execution_count": 37,
     "metadata": {},
     "output_type": "execute_result"
    }
   ],
   "source": [
    "1+1\n",
    "2+1\n",
    "3+1"
   ]
  },
  {
   "cell_type": "code",
   "execution_count": 38,
   "id": "7f7972ce-b57c-43d8-8008-9db4eb16c559",
   "metadata": {},
   "outputs": [
    {
     "name": "stdout",
     "output_type": "stream",
     "text": [
      "2\n",
      "3\n",
      "4\n"
     ]
    }
   ],
   "source": [
    "print(1+1)\n",
    "print(2+1)\n",
    "print(3+1)"
   ]
  },
  {
   "cell_type": "markdown",
   "id": "ce81b04f-a25e-4c03-a76e-861bb0377651",
   "metadata": {},
   "source": [
    "# print is use for answer"
   ]
  },
  {
   "cell_type": "code",
   "execution_count": 39,
   "id": "7e41209c-02e7-421d-9593-f06cf89b640e",
   "metadata": {},
   "outputs": [
    {
     "data": {
      "text/plain": [
       "20"
      ]
     },
     "execution_count": 39,
     "metadata": {},
     "output_type": "execute_result"
    }
   ],
   "source": [
    "a=10\n",
    "b=20\n",
    "a \n",
    "b"
   ]
  },
  {
   "cell_type": "code",
   "execution_count": 40,
   "id": "ed3968b2-4142-4196-bf59-2c1cb4cc8e92",
   "metadata": {},
   "outputs": [
    {
     "name": "stdout",
     "output_type": "stream",
     "text": [
      "30\n"
     ]
    }
   ],
   "source": [
    "a=10\n",
    "b=20\n",
    "\n",
    "c=a+b\n",
    "print(c)"
   ]
  },
  {
   "cell_type": "code",
   "execution_count": 41,
   "id": "aca90d2e-32df-4ddb-88f8-6142b082a5de",
   "metadata": {},
   "outputs": [
    {
     "name": "stdout",
     "output_type": "stream",
     "text": [
      "10\n",
      "20\n",
      "30\n"
     ]
    }
   ],
   "source": [
    "print(a)\n",
    "print(b)\n",
    "print(c)"
   ]
  },
  {
   "cell_type": "code",
   "execution_count": 42,
   "id": "257472ed-5931-4f14-a110-1e060615f430",
   "metadata": {},
   "outputs": [
    {
     "name": "stdout",
     "output_type": "stream",
     "text": [
      "10\n",
      "20\n"
     ]
    }
   ],
   "source": [
    "a=10\n",
    "b=20\n",
    "print(a)\n",
    "print(b)"
   ]
  },
  {
   "cell_type": "code",
   "execution_count": 43,
   "id": "cb5680ab-b951-4f55-8138-796c1640c288",
   "metadata": {},
   "outputs": [
    {
     "name": "stdout",
     "output_type": "stream",
     "text": [
      "10\n",
      "10 20\n",
      "python\n",
      "10 20 python\n"
     ]
    }
   ],
   "source": [
    "print(10)\n",
    "print(10,20)\n",
    "print('python')\n",
    "print(10,20,'python')"
   ]
  },
  {
   "cell_type": "code",
   "execution_count": 44,
   "id": "c0b7b78f-fab9-4d62-9ee8-d24155f22a33",
   "metadata": {},
   "outputs": [
    {
     "data": {
      "text/plain": [
       "['False',\n",
       " 'None',\n",
       " 'True',\n",
       " 'and',\n",
       " 'as',\n",
       " 'assert',\n",
       " 'async',\n",
       " 'await',\n",
       " 'break',\n",
       " 'class',\n",
       " 'continue',\n",
       " 'def',\n",
       " 'del',\n",
       " 'elif',\n",
       " 'else',\n",
       " 'except',\n",
       " 'finally',\n",
       " 'for',\n",
       " 'from',\n",
       " 'global',\n",
       " 'if',\n",
       " 'import',\n",
       " 'in',\n",
       " 'is',\n",
       " 'lambda',\n",
       " 'nonlocal',\n",
       " 'not',\n",
       " 'or',\n",
       " 'pass',\n",
       " 'raise',\n",
       " 'return',\n",
       " 'try',\n",
       " 'while',\n",
       " 'with',\n",
       " 'yield']"
      ]
     },
     "execution_count": 44,
     "metadata": {},
     "output_type": "execute_result"
    }
   ],
   "source": [
    "import keyword\n",
    "keyword.kwlist"
   ]
  },
  {
   "cell_type": "code",
   "execution_count": 45,
   "id": "e91b5a0b-c7bc-424a-ad37-bfe2789482fd",
   "metadata": {},
   "outputs": [
    {
     "data": {
      "text/plain": [
       "35"
      ]
     },
     "execution_count": 45,
     "metadata": {},
     "output_type": "execute_result"
    }
   ],
   "source": [
    "len(keyword.kwlist)"
   ]
  },
  {
   "cell_type": "markdown",
   "id": "ae54baae-f485-4fa4-b6cc-31fc887f021e",
   "metadata": {},
   "source": [
    "# pyton variable concepts & python identifier concept\n",
    ".syntax of define variable || (variable name = value) || (identifier = value)"
   ]
  },
  {
   "cell_type": "code",
   "execution_count": 46,
   "id": "ff432916-9f27-4cdd-b554-ec47e47869c6",
   "metadata": {},
   "outputs": [
    {
     "data": {
      "text/plain": [
       "15"
      ]
     },
     "execution_count": 46,
     "metadata": {},
     "output_type": "execute_result"
    }
   ],
   "source": [
    "NIT = 15\n",
    "NIT"
   ]
  },
  {
   "cell_type": "code",
   "execution_count": 47,
   "id": "177b0aa9-0692-40fa-a7d9-85de72c97762",
   "metadata": {},
   "outputs": [
    {
     "data": {
      "text/plain": [
       "20"
      ]
     },
     "execution_count": 47,
     "metadata": {},
     "output_type": "execute_result"
    }
   ],
   "source": [
    "NIT = 20\n",
    "NIT"
   ]
  },
  {
   "cell_type": "code",
   "execution_count": 48,
   "id": "57d5a8ab-7d0c-4399-a9cc-fd0fad040faf",
   "metadata": {},
   "outputs": [
    {
     "data": {
      "text/plain": [
       "15"
      ]
     },
     "execution_count": 48,
     "metadata": {},
     "output_type": "execute_result"
    }
   ],
   "source": [
    "v = 15\n",
    "v"
   ]
  },
  {
   "cell_type": "code",
   "execution_count": 49,
   "id": "7427ad79-2b61-4d70-9ff4-4b853c258c83",
   "metadata": {},
   "outputs": [
    {
     "name": "stdout",
     "output_type": "stream",
     "text": [
      "15\n",
      "20\n"
     ]
    }
   ],
   "source": [
    "print(v)\n",
    "print(NIT)"
   ]
  },
  {
   "cell_type": "code",
   "execution_count": 50,
   "id": "0439528c-5f49-4de1-b7bc-f16e434c3aec",
   "metadata": {},
   "outputs": [
    {
     "data": {
      "text/plain": [
       "20"
      ]
     },
     "execution_count": 50,
     "metadata": {},
     "output_type": "execute_result"
    }
   ],
   "source": [
    "NIT"
   ]
  },
  {
   "cell_type": "code",
   "execution_count": 51,
   "id": "424d3014-2d65-4aba-b5e8-848a3fc0982d",
   "metadata": {},
   "outputs": [
    {
     "data": {
      "text/plain": [
       "15"
      ]
     },
     "execution_count": 51,
     "metadata": {},
     "output_type": "execute_result"
    }
   ],
   "source": [
    "v"
   ]
  },
  {
   "cell_type": "code",
   "execution_count": 52,
   "id": "64a49c34-b8fb-40fb-ba95-2ca64d62bf4d",
   "metadata": {},
   "outputs": [
    {
     "data": {
      "text/plain": [
       "20"
      ]
     },
     "execution_count": 52,
     "metadata": {},
     "output_type": "execute_result"
    }
   ],
   "source": [
    "var1 = 20\n",
    "var1"
   ]
  },
  {
   "cell_type": "code",
   "execution_count": 53,
   "id": "5610d701-2378-4e58-9d7f-f4afb3bfa839",
   "metadata": {},
   "outputs": [
    {
     "name": "stdout",
     "output_type": "stream",
     "text": [
      "80\n",
      "20\n"
     ]
    }
   ],
   "source": [
    "x_train,x_test = 80,20\n",
    "print (x_train)\n",
    "print (x_test)"
   ]
  },
  {
   "cell_type": "code",
   "execution_count": 54,
   "id": "8c8ea836-e6f9-4a4d-94ed-6c082dd5fd95",
   "metadata": {},
   "outputs": [
    {
     "ename": "NameError",
     "evalue": "name 'd' is not defined",
     "output_type": "error",
     "traceback": [
      "\u001b[1;31m---------------------------------------------------------------------------\u001b[0m",
      "\u001b[1;31mNameError\u001b[0m                                 Traceback (most recent call last)",
      "Cell \u001b[1;32mIn[54], line 1\u001b[0m\n\u001b[1;32m----> 1\u001b[0m a,b,c,d \u001b[38;5;241m-\u001b[39m \u001b[38;5;241m10\u001b[39m,\u001b[38;5;241m20\u001b[39m,\u001b[38;5;241m30\u001b[39m,\u001b[38;5;241m40\u001b[39m\n",
      "\u001b[1;31mNameError\u001b[0m: name 'd' is not defined"
     ]
    }
   ],
   "source": [
    "a,b,c,d - 10,20,30,40"
   ]
  },
  {
   "cell_type": "markdown",
   "id": "0e94e730-adee-40ad-bfbe-891c6133eec7",
   "metadata": {},
   "source": [
    "# python data types\n",
    "- INT\n",
    "- FLOAT\n",
    "- BOOL\n",
    "- STRING\n",
    "- COMPLEX"
   ]
  },
  {
   "cell_type": "code",
   "execution_count": 55,
   "id": "017e3a65-7dfd-447e-b37e-f32d4f1bec04",
   "metadata": {},
   "outputs": [
    {
     "data": {
      "text/plain": [
       "30"
      ]
     },
     "execution_count": 55,
     "metadata": {},
     "output_type": "execute_result"
    }
   ],
   "source": [
    "i = 30\n",
    "i"
   ]
  },
  {
   "cell_type": "code",
   "execution_count": 56,
   "id": "cf2dd509-e536-4489-a7b2-fc745586a759",
   "metadata": {},
   "outputs": [
    {
     "data": {
      "text/plain": [
       "int"
      ]
     },
     "execution_count": 56,
     "metadata": {},
     "output_type": "execute_result"
    }
   ],
   "source": [
    "type(i)"
   ]
  },
  {
   "cell_type": "code",
   "execution_count": 57,
   "id": "ec5d9728-3333-4fe3-919f-208cce583a0c",
   "metadata": {},
   "outputs": [
    {
     "name": "stdout",
     "output_type": "stream",
     "text": [
      "<class 'int'>\n"
     ]
    }
   ],
   "source": [
    "print(type(i))"
   ]
  },
  {
   "cell_type": "code",
   "execution_count": 58,
   "id": "38c5916d-c6c6-4bb2-81b4-78549d7ddd6e",
   "metadata": {},
   "outputs": [],
   "source": [
    "i1, i2 = 20, 30"
   ]
  },
  {
   "cell_type": "code",
   "execution_count": 59,
   "id": "3fc1b0a1-f143-45f8-bbee-0a814a82a292",
   "metadata": {},
   "outputs": [
    {
     "data": {
      "text/plain": [
       "80"
      ]
     },
     "execution_count": 59,
     "metadata": {},
     "output_type": "execute_result"
    }
   ],
   "source": [
    "i + i1 + i2"
   ]
  },
  {
   "cell_type": "code",
   "execution_count": 60,
   "id": "a51d9f91-a8cc-4e7e-80bf-eb54986c294b",
   "metadata": {},
   "outputs": [
    {
     "data": {
      "text/plain": [
       "20"
      ]
     },
     "execution_count": 60,
     "metadata": {},
     "output_type": "execute_result"
    }
   ],
   "source": [
    "i - i2 + i1"
   ]
  },
  {
   "cell_type": "code",
   "execution_count": 61,
   "id": "31a7d717-9776-40bf-aff0-d768e8f505f6",
   "metadata": {},
   "outputs": [
    {
     "name": "stdout",
     "output_type": "stream",
     "text": [
      "30\n",
      "20\n",
      "30\n"
     ]
    }
   ],
   "source": [
    "print(i)\n",
    "print(i1)\n",
    "print(i2)"
   ]
  },
  {
   "cell_type": "code",
   "execution_count": 62,
   "id": "2053353e-781b-4f90-b6f3-8654c7db37b4",
   "metadata": {},
   "outputs": [
    {
     "data": {
      "text/plain": [
       "-20"
      ]
     },
     "execution_count": 62,
     "metadata": {},
     "output_type": "execute_result"
    }
   ],
   "source": [
    "i - (i2 + i1)"
   ]
  },
  {
   "cell_type": "markdown",
   "id": "ecdfa111-4552-44c4-9187-4627732e0414",
   "metadata": {},
   "source": [
    "# integer data types we are completed"
   ]
  },
  {
   "cell_type": "code",
   "execution_count": 63,
   "id": "8b7d4d24-4280-4b28-b895-d8f73b84eb34",
   "metadata": {},
   "outputs": [
    {
     "data": {
      "text/plain": [
       "110.23"
      ]
     },
     "execution_count": 63,
     "metadata": {},
     "output_type": "execute_result"
    }
   ],
   "source": [
    "f = 110.23\n",
    "f"
   ]
  },
  {
   "cell_type": "code",
   "execution_count": 64,
   "id": "060eeef8-6ffe-4d7d-96e1-5aa5e131895d",
   "metadata": {},
   "outputs": [
    {
     "data": {
      "text/plain": [
       "float"
      ]
     },
     "execution_count": 64,
     "metadata": {},
     "output_type": "execute_result"
    }
   ],
   "source": [
    "type(f)"
   ]
  },
  {
   "cell_type": "code",
   "execution_count": 65,
   "id": "c164efa4-416c-4f19-8c59-6a9129e2795d",
   "metadata": {},
   "outputs": [],
   "source": [
    "f1, f2, f3 = 2.3, 3.4, 5.1"
   ]
  },
  {
   "cell_type": "code",
   "execution_count": 66,
   "id": "fbc15072-47c6-41bc-971a-c865b4187f7a",
   "metadata": {},
   "outputs": [
    {
     "name": "stdout",
     "output_type": "stream",
     "text": [
      "110.23\n",
      "2.3\n",
      "3.4\n",
      "5.1\n"
     ]
    }
   ],
   "source": [
    "print(f)\n",
    "print(f1)\n",
    "print(f2)\n",
    "print(f3)"
   ]
  },
  {
   "cell_type": "code",
   "execution_count": 67,
   "id": "bf4e01b9-6410-4e51-8481-75e6e165b6d6",
   "metadata": {},
   "outputs": [
    {
     "ename": "SyntaxError",
     "evalue": "invalid decimal literal (4253518237.py, line 1)",
     "output_type": "error",
     "traceback": [
      "\u001b[1;36m  Cell \u001b[1;32mIn[67], line 1\u001b[1;36m\u001b[0m\n\u001b[1;33m    1f = 1e0\u001b[0m\n\u001b[1;37m    ^\u001b[0m\n\u001b[1;31mSyntaxError\u001b[0m\u001b[1;31m:\u001b[0m invalid decimal literal\n"
     ]
    }
   ],
   "source": [
    "1f = 1e0"
   ]
  },
  {
   "cell_type": "code",
   "execution_count": 68,
   "id": "6592d740-a1b4-4ba0-8ea8-e0187aac05cd",
   "metadata": {},
   "outputs": [
    {
     "data": {
      "text/plain": [
       "1.0"
      ]
     },
     "execution_count": 68,
     "metadata": {},
     "output_type": "execute_result"
    }
   ],
   "source": [
    "f1 = 1e0\n",
    "f1"
   ]
  },
  {
   "cell_type": "code",
   "execution_count": 69,
   "id": "e0b814c5-00df-4410-b009-9983c501739a",
   "metadata": {},
   "outputs": [
    {
     "data": {
      "text/plain": [
       "20.0"
      ]
     },
     "execution_count": 69,
     "metadata": {},
     "output_type": "execute_result"
    }
   ],
   "source": [
    "f2 = 2e1\n",
    "f2"
   ]
  },
  {
   "cell_type": "code",
   "execution_count": 70,
   "id": "02463343-41e9-468a-9322-d92313eaae67",
   "metadata": {},
   "outputs": [
    {
     "data": {
      "text/plain": [
       "300.0"
      ]
     },
     "execution_count": 70,
     "metadata": {},
     "output_type": "execute_result"
    }
   ],
   "source": [
    "f3 = 3e2\n",
    "f3"
   ]
  },
  {
   "cell_type": "code",
   "execution_count": 71,
   "id": "e3adf575-d314-4e36-8589-e63032bbc483",
   "metadata": {},
   "outputs": [
    {
     "data": {
      "text/plain": [
       "3000.0"
      ]
     },
     "execution_count": 71,
     "metadata": {},
     "output_type": "execute_result"
    }
   ],
   "source": [
    "f4 = 3e3\n",
    "f4"
   ]
  },
  {
   "cell_type": "code",
   "execution_count": 72,
   "id": "85ba5696-e0d8-4a58-b26b-a02bb6b06f62",
   "metadata": {},
   "outputs": [
    {
     "data": {
      "text/plain": [
       "240.0"
      ]
     },
     "execution_count": 72,
     "metadata": {},
     "output_type": "execute_result"
    }
   ],
   "source": [
    "f5 = 2.4e2\n",
    "f5"
   ]
  },
  {
   "cell_type": "markdown",
   "id": "639ee9d6-44b5-4ff1-aa09-6b9e7169bd2a",
   "metadata": {},
   "source": [
    "# bool or boolean"
   ]
  },
  {
   "cell_type": "code",
   "execution_count": 73,
   "id": "8bace1a1-0277-443c-a0d4-02053f884e30",
   "metadata": {},
   "outputs": [
    {
     "data": {
      "text/plain": [
       "True"
      ]
     },
     "execution_count": 73,
     "metadata": {},
     "output_type": "execute_result"
    }
   ],
   "source": [
    "b = True\n",
    "b"
   ]
  },
  {
   "cell_type": "code",
   "execution_count": 74,
   "id": "8e692d11-23c3-4834-8504-3450ffa83ce3",
   "metadata": {},
   "outputs": [
    {
     "data": {
      "text/plain": [
       "False"
      ]
     },
     "execution_count": 74,
     "metadata": {},
     "output_type": "execute_result"
    }
   ],
   "source": [
    "b1 = False\n",
    "b1"
   ]
  },
  {
   "cell_type": "code",
   "execution_count": 75,
   "id": "3621ed35-6965-4329-b58d-999ae5b2f8b0",
   "metadata": {},
   "outputs": [
    {
     "name": "stdout",
     "output_type": "stream",
     "text": [
      "True\n",
      "False\n"
     ]
    }
   ],
   "source": [
    "print(b)\n",
    "print(b1)"
   ]
  },
  {
   "cell_type": "code",
   "execution_count": 76,
   "id": "9a034c20-f79c-4c92-870d-44c9a5e1e8c3",
   "metadata": {},
   "outputs": [
    {
     "data": {
      "text/plain": [
       "1"
      ]
     },
     "execution_count": 76,
     "metadata": {},
     "output_type": "execute_result"
    }
   ],
   "source": [
    "True + False"
   ]
  },
  {
   "cell_type": "code",
   "execution_count": 77,
   "id": "0619902d-5df3-4e14-8409-89e2d9831ebb",
   "metadata": {},
   "outputs": [
    {
     "data": {
      "text/plain": [
       "1"
      ]
     },
     "execution_count": 77,
     "metadata": {},
     "output_type": "execute_result"
    }
   ],
   "source": [
    "True - False"
   ]
  },
  {
   "cell_type": "code",
   "execution_count": 78,
   "id": "713a01b6-8912-41ea-8ccc-4cf3e15d9e35",
   "metadata": {},
   "outputs": [
    {
     "data": {
      "text/plain": [
       "-1"
      ]
     },
     "execution_count": 78,
     "metadata": {},
     "output_type": "execute_result"
    }
   ],
   "source": [
    "False - True"
   ]
  },
  {
   "cell_type": "code",
   "execution_count": 79,
   "id": "126e3082-6e3b-4cef-8a29-1657577b5def",
   "metadata": {},
   "outputs": [
    {
     "data": {
      "text/plain": [
       "2"
      ]
     },
     "execution_count": 79,
     "metadata": {},
     "output_type": "execute_result"
    }
   ],
   "source": [
    "True + True + True + False - True"
   ]
  },
  {
   "cell_type": "code",
   "execution_count": 80,
   "id": "0a7ff9a6-ecc5-4635-baee-fee0dc2fc5e9",
   "metadata": {},
   "outputs": [
    {
     "data": {
      "text/plain": [
       "0"
      ]
     },
     "execution_count": 80,
     "metadata": {},
     "output_type": "execute_result"
    }
   ],
   "source": [
    "False * True"
   ]
  },
  {
   "cell_type": "code",
   "execution_count": 81,
   "id": "8ec00aca-80b6-40af-b142-0366d60d7f23",
   "metadata": {},
   "outputs": [
    {
     "data": {
      "text/plain": [
       "0.0"
      ]
     },
     "execution_count": 81,
     "metadata": {},
     "output_type": "execute_result"
    }
   ],
   "source": [
    "False / True"
   ]
  },
  {
   "cell_type": "code",
   "execution_count": 82,
   "id": "b2b24d20-ca6a-4ea9-9bbf-7e55c1ddbb96",
   "metadata": {},
   "outputs": [
    {
     "ename": "ZeroDivisionError",
     "evalue": "division by zero",
     "output_type": "error",
     "traceback": [
      "\u001b[1;31m---------------------------------------------------------------------------\u001b[0m",
      "\u001b[1;31mZeroDivisionError\u001b[0m                         Traceback (most recent call last)",
      "Cell \u001b[1;32mIn[82], line 1\u001b[0m\n\u001b[1;32m----> 1\u001b[0m \u001b[38;5;28;01mTrue\u001b[39;00m \u001b[38;5;241m/\u001b[39m \u001b[38;5;28;01mFalse\u001b[39;00m\n",
      "\u001b[1;31mZeroDivisionError\u001b[0m: division by zero"
     ]
    }
   ],
   "source": [
    "True / False"
   ]
  },
  {
   "cell_type": "code",
   "execution_count": 83,
   "id": "0210a03c-c521-44c3-b535-11f944051fbd",
   "metadata": {},
   "outputs": [
    {
     "data": {
      "text/plain": [
       "(1+20j)"
      ]
     },
     "execution_count": 83,
     "metadata": {},
     "output_type": "execute_result"
    }
   ],
   "source": [
    "c = 1 + 20j\n",
    "c"
   ]
  },
  {
   "cell_type": "code",
   "execution_count": 84,
   "id": "1d6f1ffb-6383-461d-bdf9-962bf9b5b2de",
   "metadata": {},
   "outputs": [
    {
     "data": {
      "text/plain": [
       "complex"
      ]
     },
     "execution_count": 84,
     "metadata": {},
     "output_type": "execute_result"
    }
   ],
   "source": [
    "type(c)"
   ]
  },
  {
   "cell_type": "code",
   "execution_count": 85,
   "id": "57b6e1e4-5c98-4def-a5f0-bd767e7090f5",
   "metadata": {},
   "outputs": [
    {
     "data": {
      "text/plain": [
       "(1+20j)"
      ]
     },
     "execution_count": 85,
     "metadata": {},
     "output_type": "execute_result"
    }
   ],
   "source": [
    "c"
   ]
  },
  {
   "cell_type": "code",
   "execution_count": 86,
   "id": "6d6c67f7-68a4-42d3-9a00-96f9fc1d8fd6",
   "metadata": {},
   "outputs": [
    {
     "data": {
      "text/plain": [
       "1.0"
      ]
     },
     "execution_count": 86,
     "metadata": {},
     "output_type": "execute_result"
    }
   ],
   "source": [
    "c.real"
   ]
  },
  {
   "cell_type": "code",
   "execution_count": 87,
   "id": "f8027a47-8e81-45c6-b85f-03dcbb61246f",
   "metadata": {},
   "outputs": [
    {
     "data": {
      "text/plain": [
       "20.0"
      ]
     },
     "execution_count": 87,
     "metadata": {},
     "output_type": "execute_result"
    }
   ],
   "source": [
    "c.imag"
   ]
  },
  {
   "cell_type": "code",
   "execution_count": 88,
   "id": "af6a82cf-e0cb-4628-9acb-f4d386c3f5e8",
   "metadata": {},
   "outputs": [
    {
     "name": "stdout",
     "output_type": "stream",
     "text": [
      "(40+60j)\n",
      "(-20-20j)\n"
     ]
    }
   ],
   "source": [
    "c1 = 10+ 20j\n",
    "c2 = 30 + 40j\n",
    "print(c1 + c2)\n",
    "print(c1 - c2)"
   ]
  },
  {
   "cell_type": "markdown",
   "id": "7c249948-ce6f-4484-90be-3ed11e70bbe9",
   "metadata": {},
   "source": [
    "# 24 day"
   ]
  },
  {
   "cell_type": "code",
   "execution_count": 89,
   "id": "22df195f-b824-401c-9f4a-2d0792cc96e5",
   "metadata": {},
   "outputs": [],
   "source": [
    "s = 'nit'"
   ]
  },
  {
   "cell_type": "code",
   "execution_count": 90,
   "id": "cd278e92-af18-4929-aaba-60f54c70aa35",
   "metadata": {},
   "outputs": [
    {
     "data": {
      "text/plain": [
       "'nit'"
      ]
     },
     "execution_count": 90,
     "metadata": {},
     "output_type": "execute_result"
    }
   ],
   "source": [
    "s"
   ]
  },
  {
   "cell_type": "code",
   "execution_count": 91,
   "id": "0c74a848-6a59-4f78-9234-7b11131a0795",
   "metadata": {},
   "outputs": [
    {
     "data": {
      "text/plain": [
       "str"
      ]
     },
     "execution_count": 91,
     "metadata": {},
     "output_type": "execute_result"
    }
   ],
   "source": [
    "type(s)"
   ]
  },
  {
   "cell_type": "code",
   "execution_count": 92,
   "id": "04392363-7c7c-4bce-a693-740939cbbe1a",
   "metadata": {},
   "outputs": [
    {
     "data": {
      "text/plain": [
       "'hello python'"
      ]
     },
     "execution_count": 92,
     "metadata": {},
     "output_type": "execute_result"
    }
   ],
   "source": [
    "s1= \"hello python\"\n",
    "s1"
   ]
  },
  {
   "cell_type": "code",
   "execution_count": 93,
   "id": "2306a766-5f50-4d85-a025-9a3bb8bb7631",
   "metadata": {},
   "outputs": [
    {
     "data": {
      "text/plain": [
       "' nit\\n         \\n         hello python'"
      ]
     },
     "execution_count": 93,
     "metadata": {},
     "output_type": "execute_result"
    }
   ],
   "source": [
    "s2 =''' nit\n",
    "         \n",
    "         hello python'''\n",
    "s2"
   ]
  },
  {
   "cell_type": "markdown",
   "id": "6a182caf-b09e-49c7-9104-a50f33874290",
   "metadata": {},
   "source": [
    "# string indexing"
   ]
  },
  {
   "cell_type": "code",
   "execution_count": 94,
   "id": "ea39881e-e0ef-4e45-8010-1f6a78d6b902",
   "metadata": {},
   "outputs": [
    {
     "data": {
      "text/plain": [
       "'hello python'"
      ]
     },
     "execution_count": 94,
     "metadata": {},
     "output_type": "execute_result"
    }
   ],
   "source": [
    "s1"
   ]
  },
  {
   "cell_type": "code",
   "execution_count": 95,
   "id": "f0d5887c-b621-420d-adfb-a96d0d78ec87",
   "metadata": {},
   "outputs": [
    {
     "data": {
      "text/plain": [
       "'h'"
      ]
     },
     "execution_count": 95,
     "metadata": {},
     "output_type": "execute_result"
    }
   ],
   "source": [
    "s1[0]"
   ]
  },
  {
   "cell_type": "code",
   "execution_count": 96,
   "id": "56b7403c-6108-4885-83af-bc67d1dae3c7",
   "metadata": {},
   "outputs": [
    {
     "data": {
      "text/plain": [
       "'t'"
      ]
     },
     "execution_count": 96,
     "metadata": {},
     "output_type": "execute_result"
    }
   ],
   "source": [
    "s1[-4]"
   ]
  },
  {
   "cell_type": "code",
   "execution_count": 97,
   "id": "cc4ef49f-57d0-4a11-9068-aff7080fedc7",
   "metadata": {},
   "outputs": [
    {
     "data": {
      "text/plain": [
       "'o'"
      ]
     },
     "execution_count": 97,
     "metadata": {},
     "output_type": "execute_result"
    }
   ],
   "source": [
    "s1[4]"
   ]
  },
  {
   "cell_type": "code",
   "execution_count": 98,
   "id": "1e9804a1-d71e-400a-9353-67a13c172264",
   "metadata": {},
   "outputs": [
    {
     "data": {
      "text/plain": [
       "' '"
      ]
     },
     "execution_count": 98,
     "metadata": {},
     "output_type": "execute_result"
    }
   ],
   "source": [
    "s1[-7]"
   ]
  },
  {
   "cell_type": "code",
   "execution_count": 99,
   "id": "4e62d7ba-a37e-4261-a84f-11742bf17cd4",
   "metadata": {},
   "outputs": [
    {
     "data": {
      "text/plain": [
       "'nit'"
      ]
     },
     "execution_count": 99,
     "metadata": {},
     "output_type": "execute_result"
    }
   ],
   "source": [
    "s"
   ]
  },
  {
   "cell_type": "code",
   "execution_count": 100,
   "id": "2a4e4151-a130-4676-8acd-bb1283429e50",
   "metadata": {},
   "outputs": [
    {
     "name": "stdout",
     "output_type": "stream",
     "text": [
      "n\n",
      "i\n",
      "t\n"
     ]
    }
   ],
   "source": [
    "print(s[0])\n",
    "print(s[1])\n",
    "print(s[2])"
   ]
  },
  {
   "cell_type": "code",
   "execution_count": 101,
   "id": "5ec26ca7-8be6-48c7-b48a-62bc2dc3e943",
   "metadata": {},
   "outputs": [
    {
     "data": {
      "text/plain": [
       "'hello python'"
      ]
     },
     "execution_count": 101,
     "metadata": {},
     "output_type": "execute_result"
    }
   ],
   "source": [
    "s1"
   ]
  },
  {
   "cell_type": "code",
   "execution_count": 102,
   "id": "4a7049ae-8c59-4ed2-880f-da1c4c572003",
   "metadata": {},
   "outputs": [
    {
     "data": {
      "text/plain": [
       "'hello python'"
      ]
     },
     "execution_count": 102,
     "metadata": {},
     "output_type": "execute_result"
    }
   ],
   "source": [
    "s1[:]"
   ]
  },
  {
   "cell_type": "code",
   "execution_count": 103,
   "id": "ba6f5bef-46ce-4ccf-9139-de1ec273546b",
   "metadata": {},
   "outputs": [
    {
     "data": {
      "text/plain": [
       "'llo p'"
      ]
     },
     "execution_count": 103,
     "metadata": {},
     "output_type": "execute_result"
    }
   ],
   "source": [
    "s1[2:7]"
   ]
  },
  {
   "cell_type": "code",
   "execution_count": 104,
   "id": "f33506fb-f96f-432b-842c-d5cc4311cde9",
   "metadata": {},
   "outputs": [
    {
     "data": {
      "text/plain": [
       "' nit\\n         \\n         hello python'"
      ]
     },
     "execution_count": 104,
     "metadata": {},
     "output_type": "execute_result"
    }
   ],
   "source": [
    "s2"
   ]
  },
  {
   "cell_type": "code",
   "execution_count": 105,
   "id": "544ac4e9-3a69-47be-be42-7638fca71918",
   "metadata": {},
   "outputs": [
    {
     "data": {
      "text/plain": [
       "'dataanalyst'"
      ]
     },
     "execution_count": 105,
     "metadata": {},
     "output_type": "execute_result"
    }
   ],
   "source": [
    "s3 = 'dataanalyst'\n",
    "s3"
   ]
  },
  {
   "cell_type": "code",
   "execution_count": 106,
   "id": "7dfb2d23-fb15-477c-9244-804eb5f9eca3",
   "metadata": {},
   "outputs": [
    {
     "data": {
      "text/plain": [
       "'dataanalys'"
      ]
     },
     "execution_count": 106,
     "metadata": {},
     "output_type": "execute_result"
    }
   ],
   "source": [
    "s3[0:10]"
   ]
  },
  {
   "cell_type": "code",
   "execution_count": 107,
   "id": "7d181007-4f80-48e7-b581-fa395f83dc61",
   "metadata": {},
   "outputs": [
    {
     "data": {
      "text/plain": [
       "'dataanalyst'"
      ]
     },
     "execution_count": 107,
     "metadata": {},
     "output_type": "execute_result"
    }
   ],
   "source": [
    "s3[0:11]"
   ]
  },
  {
   "cell_type": "code",
   "execution_count": 108,
   "id": "10e5035c-5306-4d94-b115-cf8adefcc8e2",
   "metadata": {},
   "outputs": [
    {
     "data": {
      "text/plain": [
       "'dataanalyst'"
      ]
     },
     "execution_count": 108,
     "metadata": {},
     "output_type": "execute_result"
    }
   ],
   "source": [
    "s3"
   ]
  },
  {
   "cell_type": "code",
   "execution_count": 109,
   "id": "e7e7ca37-61f4-49e0-8c69-9868ea1bf7ab",
   "metadata": {},
   "outputs": [
    {
     "ename": "IndexError",
     "evalue": "string index out of range",
     "output_type": "error",
     "traceback": [
      "\u001b[1;31m---------------------------------------------------------------------------\u001b[0m",
      "\u001b[1;31mIndexError\u001b[0m                                Traceback (most recent call last)",
      "Cell \u001b[1;32mIn[109], line 1\u001b[0m\n\u001b[1;32m----> 1\u001b[0m s3[\u001b[38;5;241m12\u001b[39m]\n",
      "\u001b[1;31mIndexError\u001b[0m: string index out of range"
     ]
    }
   ],
   "source": [
    "s3[12]"
   ]
  },
  {
   "cell_type": "code",
   "execution_count": 110,
   "id": "83bcb5e7-3e58-4d3e-88a2-1ecd2f02a03d",
   "metadata": {},
   "outputs": [
    {
     "data": {
      "text/plain": [
       "'dataanalyst'"
      ]
     },
     "execution_count": 110,
     "metadata": {},
     "output_type": "execute_result"
    }
   ],
   "source": [
    "s3"
   ]
  },
  {
   "cell_type": "code",
   "execution_count": 111,
   "id": "bc614609-59e6-47b4-960d-7ab4a776b21a",
   "metadata": {},
   "outputs": [
    {
     "data": {
      "text/plain": [
       "'st'"
      ]
     },
     "execution_count": 111,
     "metadata": {},
     "output_type": "execute_result"
    }
   ],
   "source": [
    "s3[9:12]"
   ]
  },
  {
   "cell_type": "code",
   "execution_count": 112,
   "id": "5ed8fa99-7a6b-4093-b8d3-57e045256798",
   "metadata": {},
   "outputs": [
    {
     "data": {
      "text/plain": [
       "'dataanalyst'"
      ]
     },
     "execution_count": 112,
     "metadata": {},
     "output_type": "execute_result"
    }
   ],
   "source": [
    "s3"
   ]
  },
  {
   "cell_type": "markdown",
   "id": "e5c47027-629b-4684-82c6-58f12f2e63cd",
   "metadata": {},
   "source": []
  },
  {
   "cell_type": "code",
   "execution_count": 113,
   "id": "28fd3929-c3b9-46f5-9688-e477229c93ef",
   "metadata": {},
   "outputs": [
    {
     "data": {
      "text/plain": [
       "'daas'"
      ]
     },
     "execution_count": 113,
     "metadata": {},
     "output_type": "execute_result"
    }
   ],
   "source": [
    "s3[0:11:3]"
   ]
  },
  {
   "cell_type": "code",
   "execution_count": 114,
   "id": "566e3c65-9364-4a6a-9525-9202f2aa61e0",
   "metadata": {},
   "outputs": [
    {
     "data": {
      "text/plain": [
       "'dataanalyst'"
      ]
     },
     "execution_count": 114,
     "metadata": {},
     "output_type": "execute_result"
    }
   ],
   "source": [
    "s3"
   ]
  },
  {
   "cell_type": "code",
   "execution_count": 115,
   "id": "5ca28d2e-b0e6-4730-9d95-d6636653d70a",
   "metadata": {},
   "outputs": [
    {
     "data": {
      "text/plain": [
       "'taanaly'"
      ]
     },
     "execution_count": 115,
     "metadata": {},
     "output_type": "execute_result"
    }
   ],
   "source": [
    "s3[2:-2]"
   ]
  },
  {
   "cell_type": "code",
   "execution_count": 116,
   "id": "5b2781f6-1ba0-418b-800d-b2282adce27e",
   "metadata": {},
   "outputs": [
    {
     "name": "stdout",
     "output_type": "stream",
     "text": [
      "nit\n",
      "hello python\n",
      " nit\n",
      "         \n",
      "         hello python\n",
      "dataanalyst\n"
     ]
    }
   ],
   "source": [
    "print(s)\n",
    "print(s1)\n",
    "print(s2)\n",
    "print(s3)"
   ]
  },
  {
   "cell_type": "code",
   "execution_count": 117,
   "id": "323af64f-dca7-4b2e-ac80-3843e47bb1c1",
   "metadata": {},
   "outputs": [
    {
     "data": {
      "text/plain": [
       "'dataanalyst'"
      ]
     },
     "execution_count": 117,
     "metadata": {},
     "output_type": "execute_result"
    }
   ],
   "source": [
    "s3"
   ]
  },
  {
   "cell_type": "code",
   "execution_count": 118,
   "id": "4e654b34-22a8-4b56-bdcf-8124bc71fc11",
   "metadata": {},
   "outputs": [
    {
     "name": "stdout",
     "output_type": "stream",
     "text": [
      "d\n",
      "a\n",
      "t\n",
      "a\n",
      "a\n",
      "n\n",
      "a\n",
      "l\n",
      "y\n",
      "s\n",
      "t\n"
     ]
    }
   ],
   "source": [
    "for i in s3:\n",
    "    print(i)"
   ]
  },
  {
   "cell_type": "markdown",
   "id": "3801842c-6db4-4b08-a8e2-4adfc2ffd6ea",
   "metadata": {},
   "source": [
    "# python data type completed"
   ]
  },
  {
   "cell_type": "markdown",
   "id": "57412809-ea5e-4024-b9cd-e364e0dfca9f",
   "metadata": {},
   "source": [
    "# python type casting | type conversion"
   ]
  },
  {
   "cell_type": "code",
   "execution_count": 119,
   "id": "9a64f81c-687e-41b9-994a-414315ee4914",
   "metadata": {},
   "outputs": [
    {
     "data": {
      "text/plain": [
       "2"
      ]
     },
     "execution_count": 119,
     "metadata": {},
     "output_type": "execute_result"
    }
   ],
   "source": [
    "int(2.3) #float to int"
   ]
  },
  {
   "cell_type": "code",
   "execution_count": 120,
   "id": "31ac7a74-312c-40b7-8cb7-da53dc86c415",
   "metadata": {},
   "outputs": [
    {
     "data": {
      "text/plain": [
       "1"
      ]
     },
     "execution_count": 120,
     "metadata": {},
     "output_type": "execute_result"
    }
   ],
   "source": [
    "int(True) #boat to int"
   ]
  },
  {
   "cell_type": "code",
   "execution_count": 121,
   "id": "df0945a3-6bcf-4907-8b4d-f1fc51eb1468",
   "metadata": {},
   "outputs": [
    {
     "data": {
      "text/plain": [
       "0"
      ]
     },
     "execution_count": 121,
     "metadata": {},
     "output_type": "execute_result"
    }
   ],
   "source": [
    "int(False)"
   ]
  },
  {
   "cell_type": "code",
   "execution_count": 122,
   "id": "9c5e6f75-e094-4071-bdbe-25df06ae81c0",
   "metadata": {},
   "outputs": [
    {
     "ename": "TypeError",
     "evalue": "int() argument must be a string, a bytes-like object or a real number, not 'complex'",
     "output_type": "error",
     "traceback": [
      "\u001b[1;31m---------------------------------------------------------------------------\u001b[0m",
      "\u001b[1;31mTypeError\u001b[0m                                 Traceback (most recent call last)",
      "Cell \u001b[1;32mIn[122], line 1\u001b[0m\n\u001b[1;32m----> 1\u001b[0m \u001b[38;5;28mint\u001b[39m(\u001b[38;5;241m1\u001b[39m\u001b[38;5;241m+\u001b[39m\u001b[38;5;241m2\u001b[39mj)\n",
      "\u001b[1;31mTypeError\u001b[0m: int() argument must be a string, a bytes-like object or a real number, not 'complex'"
     ]
    }
   ],
   "source": [
    "int(1+2j) # complex to int not possible"
   ]
  },
  {
   "cell_type": "code",
   "execution_count": 123,
   "id": "b1db6ed1-5440-4703-a595-4e71d9039003",
   "metadata": {},
   "outputs": [
    {
     "data": {
      "text/plain": [
       "10"
      ]
     },
     "execution_count": 123,
     "metadata": {},
     "output_type": "execute_result"
    }
   ],
   "source": [
    "int('10') #string to int"
   ]
  },
  {
   "cell_type": "code",
   "execution_count": 124,
   "id": "9796ad5f-dab4-4fa6-9bbc-056ed68a374b",
   "metadata": {},
   "outputs": [
    {
     "ename": "ValueError",
     "evalue": "invalid literal for int() with base 10: 'ten'",
     "output_type": "error",
     "traceback": [
      "\u001b[1;31m---------------------------------------------------------------------------\u001b[0m",
      "\u001b[1;31mValueError\u001b[0m                                Traceback (most recent call last)",
      "Cell \u001b[1;32mIn[124], line 1\u001b[0m\n\u001b[1;32m----> 1\u001b[0m \u001b[38;5;28mint\u001b[39m(\u001b[38;5;124m'\u001b[39m\u001b[38;5;124mten\u001b[39m\u001b[38;5;124m'\u001b[39m)\n",
      "\u001b[1;31mValueError\u001b[0m: invalid literal for int() with base 10: 'ten'"
     ]
    }
   ],
   "source": [
    "int('ten') # word to int not possible"
   ]
  },
  {
   "cell_type": "code",
   "execution_count": 125,
   "id": "10773a68-cb77-4606-802f-09ac12722131",
   "metadata": {},
   "outputs": [
    {
     "data": {
      "text/plain": [
       "' nit\\n         \\n         hello python'"
      ]
     },
     "execution_count": 125,
     "metadata": {},
     "output_type": "execute_result"
    }
   ],
   "source": [
    "s2"
   ]
  },
  {
   "cell_type": "code",
   "execution_count": 126,
   "id": "1201b3b5-989c-4555-be3c-a7390d8584ac",
   "metadata": {},
   "outputs": [],
   "source": [
    "del s2"
   ]
  },
  {
   "cell_type": "code",
   "execution_count": 127,
   "id": "c0fba9d3-f949-449e-ba51-6101e46a1e64",
   "metadata": {},
   "outputs": [],
   "source": [
    "import numpy as np\n",
    "a = np.nan"
   ]
  },
  {
   "cell_type": "code",
   "execution_count": 128,
   "id": "a0ee7bba-1742-4adf-8b8c-591c4b221d4e",
   "metadata": {},
   "outputs": [
    {
     "data": {
      "text/plain": [
       "float"
      ]
     },
     "execution_count": 128,
     "metadata": {},
     "output_type": "execute_result"
    }
   ],
   "source": [
    "type(a)"
   ]
  },
  {
   "cell_type": "markdown",
   "id": "bc891bc7-2524-4b74-9091-e17527f2bdbe",
   "metadata": {},
   "source": [
    " # 25 th oct"
   ]
  },
  {
   "cell_type": "code",
   "execution_count": 129,
   "id": "d34287a4-e58c-41ac-ae19-1d52567ac0ac",
   "metadata": {},
   "outputs": [
    {
     "data": {
      "text/plain": [
       "3.0"
      ]
     },
     "execution_count": 129,
     "metadata": {},
     "output_type": "execute_result"
    }
   ],
   "source": [
    "float(3)"
   ]
  },
  {
   "cell_type": "code",
   "execution_count": 130,
   "id": "bf647745-87e4-4630-bc1d-1c94c37cc588",
   "metadata": {},
   "outputs": [
    {
     "data": {
      "text/plain": [
       "1.0"
      ]
     },
     "execution_count": 130,
     "metadata": {},
     "output_type": "execute_result"
    }
   ],
   "source": [
    "float(True)"
   ]
  },
  {
   "cell_type": "code",
   "execution_count": 131,
   "id": "5d1e0882-64cc-44dc-a402-6d5053ca85ba",
   "metadata": {},
   "outputs": [
    {
     "ename": "TypeError",
     "evalue": "float() argument must be a string or a real number, not 'complex'",
     "output_type": "error",
     "traceback": [
      "\u001b[1;31m---------------------------------------------------------------------------\u001b[0m",
      "\u001b[1;31mTypeError\u001b[0m                                 Traceback (most recent call last)",
      "Cell \u001b[1;32mIn[131], line 1\u001b[0m\n\u001b[1;32m----> 1\u001b[0m \u001b[38;5;28mfloat\u001b[39m(\u001b[38;5;241m1\u001b[39m\u001b[38;5;241m+\u001b[39m\u001b[38;5;241m2\u001b[39mj)\n",
      "\u001b[1;31mTypeError\u001b[0m: float() argument must be a string or a real number, not 'complex'"
     ]
    }
   ],
   "source": [
    "float(1+2j)"
   ]
  },
  {
   "cell_type": "code",
   "execution_count": 132,
   "id": "0d8c4854-424e-47fe-b2c2-f11b5be45a5c",
   "metadata": {},
   "outputs": [
    {
     "ename": "TypeError",
     "evalue": "float expected at most 1 argument, got 2",
     "output_type": "error",
     "traceback": [
      "\u001b[1;31m---------------------------------------------------------------------------\u001b[0m",
      "\u001b[1;31mTypeError\u001b[0m                                 Traceback (most recent call last)",
      "Cell \u001b[1;32mIn[132], line 1\u001b[0m\n\u001b[1;32m----> 1\u001b[0m \u001b[38;5;28mfloat\u001b[39m(\u001b[38;5;241m3\u001b[39m, \u001b[38;5;241m4\u001b[39m)\n",
      "\u001b[1;31mTypeError\u001b[0m: float expected at most 1 argument, got 2"
     ]
    }
   ],
   "source": [
    "float(3, 4)"
   ]
  },
  {
   "cell_type": "code",
   "execution_count": 133,
   "id": "c0603608-bea1-4aee-b920-ab61ff6a3b87",
   "metadata": {},
   "outputs": [
    {
     "data": {
      "text/plain": [
       "10.0"
      ]
     },
     "execution_count": 133,
     "metadata": {},
     "output_type": "execute_result"
    }
   ],
   "source": [
    "float('10')"
   ]
  },
  {
   "cell_type": "code",
   "execution_count": 134,
   "id": "e59ccd84-db6d-499a-a3e1-0e5cf052e445",
   "metadata": {},
   "outputs": [
    {
     "data": {
      "text/plain": [
       "(10+0j)"
      ]
     },
     "execution_count": 134,
     "metadata": {},
     "output_type": "execute_result"
    }
   ],
   "source": [
    "complex(10)"
   ]
  },
  {
   "cell_type": "code",
   "execution_count": 135,
   "id": "867a087e-4310-4948-bd00-cc77bd091205",
   "metadata": {},
   "outputs": [
    {
     "data": {
      "text/plain": [
       "(10+20j)"
      ]
     },
     "execution_count": 135,
     "metadata": {},
     "output_type": "execute_result"
    }
   ],
   "source": [
    "complex(10 ,20)"
   ]
  },
  {
   "cell_type": "code",
   "execution_count": 136,
   "id": "ba485c03-136f-44b5-985c-0957609e6c08",
   "metadata": {},
   "outputs": [
    {
     "ename": "TypeError",
     "evalue": "complex() takes at most 2 arguments (3 given)",
     "output_type": "error",
     "traceback": [
      "\u001b[1;31m---------------------------------------------------------------------------\u001b[0m",
      "\u001b[1;31mTypeError\u001b[0m                                 Traceback (most recent call last)",
      "Cell \u001b[1;32mIn[136], line 1\u001b[0m\n\u001b[1;32m----> 1\u001b[0m \u001b[38;5;28mcomplex\u001b[39m(\u001b[38;5;241m10\u001b[39m, \u001b[38;5;241m20\u001b[39m, \u001b[38;5;241m30\u001b[39m)\n",
      "\u001b[1;31mTypeError\u001b[0m: complex() takes at most 2 arguments (3 given)"
     ]
    }
   ],
   "source": [
    "complex(10, 20, 30)"
   ]
  },
  {
   "cell_type": "code",
   "execution_count": 137,
   "id": "3baa85c7-dfae-4940-b835-8aced578bf05",
   "metadata": {},
   "outputs": [
    {
     "data": {
      "text/plain": [
       "(2.3+0j)"
      ]
     },
     "execution_count": 137,
     "metadata": {},
     "output_type": "execute_result"
    }
   ],
   "source": [
    "complex(2.3)"
   ]
  },
  {
   "cell_type": "code",
   "execution_count": 138,
   "id": "5435bb51-e7d4-410f-80ba-c42527f54388",
   "metadata": {},
   "outputs": [
    {
     "data": {
      "text/plain": [
       "(2.3+10j)"
      ]
     },
     "execution_count": 138,
     "metadata": {},
     "output_type": "execute_result"
    }
   ],
   "source": [
    "complex(2.3, 10)"
   ]
  },
  {
   "cell_type": "code",
   "execution_count": 139,
   "id": "b5efe92a-e39c-4242-b08b-d4784d41c30d",
   "metadata": {},
   "outputs": [
    {
     "data": {
      "text/plain": [
       "(1+0j)"
      ]
     },
     "execution_count": 139,
     "metadata": {},
     "output_type": "execute_result"
    }
   ],
   "source": [
    "complex(True)"
   ]
  },
  {
   "cell_type": "code",
   "execution_count": 140,
   "id": "f85f1228-7530-47c0-880b-a017d7cc6ba7",
   "metadata": {},
   "outputs": [
    {
     "data": {
      "text/plain": [
       "0j"
      ]
     },
     "execution_count": 140,
     "metadata": {},
     "output_type": "execute_result"
    }
   ],
   "source": [
    "complex(False)"
   ]
  },
  {
   "cell_type": "code",
   "execution_count": 141,
   "id": "c887839a-4209-41c7-8b29-93b2f0239853",
   "metadata": {},
   "outputs": [
    {
     "data": {
      "text/plain": [
       "(10+0j)"
      ]
     },
     "execution_count": 141,
     "metadata": {},
     "output_type": "execute_result"
    }
   ],
   "source": [
    "complex('10')"
   ]
  },
  {
   "cell_type": "code",
   "execution_count": 142,
   "id": "45daa1cb-c018-41ab-a786-eddd9b7c57c8",
   "metadata": {},
   "outputs": [
    {
     "data": {
      "text/plain": [
       "True"
      ]
     },
     "execution_count": 142,
     "metadata": {},
     "output_type": "execute_result"
    }
   ],
   "source": [
    "bool(1)"
   ]
  },
  {
   "cell_type": "code",
   "execution_count": 143,
   "id": "14e50257-20bf-470f-8112-ea7a6d201ef7",
   "metadata": {},
   "outputs": [
    {
     "data": {
      "text/plain": [
       "False"
      ]
     },
     "execution_count": 143,
     "metadata": {},
     "output_type": "execute_result"
    }
   ],
   "source": [
    "bool(0)"
   ]
  },
  {
   "cell_type": "code",
   "execution_count": 144,
   "id": "7156bba2-c69b-4ffc-99c3-f1a3415a06fa",
   "metadata": {},
   "outputs": [
    {
     "data": {
      "text/plain": [
       "True"
      ]
     },
     "execution_count": 144,
     "metadata": {},
     "output_type": "execute_result"
    }
   ],
   "source": [
    "bool(2.3)"
   ]
  },
  {
   "cell_type": "code",
   "execution_count": 145,
   "id": "a8466afc-a150-4942-b4a9-da4c4a1b666f",
   "metadata": {},
   "outputs": [
    {
     "data": {
      "text/plain": [
       "False"
      ]
     },
     "execution_count": 145,
     "metadata": {},
     "output_type": "execute_result"
    }
   ],
   "source": [
    "bool()"
   ]
  },
  {
   "cell_type": "code",
   "execution_count": 146,
   "id": "955ec24e-a42c-4305-b0a9-11a34c59fee7",
   "metadata": {},
   "outputs": [
    {
     "data": {
      "text/plain": [
       "True"
      ]
     },
     "execution_count": 146,
     "metadata": {},
     "output_type": "execute_result"
    }
   ],
   "source": [
    "bool('nit')"
   ]
  },
  {
   "cell_type": "code",
   "execution_count": 147,
   "id": "61460722-0211-4edc-81c6-c1d17e8ab2d3",
   "metadata": {},
   "outputs": [
    {
     "data": {
      "text/plain": [
       "True"
      ]
     },
     "execution_count": 147,
     "metadata": {},
     "output_type": "execute_result"
    }
   ],
   "source": [
    "bool(10+2j)"
   ]
  },
  {
   "cell_type": "code",
   "execution_count": 148,
   "id": "375d223e-aa02-4bb5-9a69-e6e21adfb9be",
   "metadata": {},
   "outputs": [
    {
     "data": {
      "text/plain": [
       "False"
      ]
     },
     "execution_count": 148,
     "metadata": {},
     "output_type": "execute_result"
    }
   ],
   "source": [
    "bool(0+0j)"
   ]
  },
  {
   "cell_type": "code",
   "execution_count": 149,
   "id": "2c8cddf8-7545-450a-85ab-16c1602f1142",
   "metadata": {},
   "outputs": [
    {
     "name": "stdout",
     "output_type": "stream",
     "text": [
      "2\n",
      "2.3\n",
      "True\n",
      "(1+2j)\n"
     ]
    }
   ],
   "source": [
    "print(str(2))\n",
    "print(str(2.3))\n",
    "print(str(True))\n",
    "print(str(1+2j))"
   ]
  },
  {
   "cell_type": "code",
   "execution_count": 150,
   "id": "5efcb1ff-d59f-4625-867a-a84e26fdc1b4",
   "metadata": {},
   "outputs": [],
   "source": [
    "# python type casting (convert all other datatype of one datatype)"
   ]
  },
  {
   "cell_type": "code",
   "execution_count": 151,
   "id": "4e9ef970-c9a4-47c6-a68e-645da6300419",
   "metadata": {},
   "outputs": [
    {
     "data": {
      "text/plain": [
       "'HELLOPYTHON'"
      ]
     },
     "execution_count": 151,
     "metadata": {},
     "output_type": "execute_result"
    }
   ],
   "source": [
    "index = 'HELLOPYTHON'\n",
    "index"
   ]
  },
  {
   "cell_type": "code",
   "execution_count": 152,
   "id": "6873a9e8-3994-4447-9c15-fb59a99728fc",
   "metadata": {},
   "outputs": [
    {
     "data": {
      "text/plain": [
       "'HELLOPYTHON'"
      ]
     },
     "execution_count": 152,
     "metadata": {},
     "output_type": "execute_result"
    }
   ],
   "source": [
    "index[:]"
   ]
  },
  {
   "cell_type": "code",
   "execution_count": 153,
   "id": "dfbc9198-e29b-45a3-82d7-2b72842f19fb",
   "metadata": {},
   "outputs": [
    {
     "data": {
      "text/plain": [
       "'NOHTYPOLLEH'"
      ]
     },
     "execution_count": 153,
     "metadata": {},
     "output_type": "execute_result"
    }
   ],
   "source": [
    "index[::-1]"
   ]
  },
  {
   "cell_type": "code",
   "execution_count": 154,
   "id": "e3945231-d9cf-48e2-b33d-d7fa529ea10f",
   "metadata": {},
   "outputs": [
    {
     "data": {
      "text/plain": [
       "'HELLOPYTHON'"
      ]
     },
     "execution_count": 154,
     "metadata": {},
     "output_type": "execute_result"
    }
   ],
   "source": [
    "index"
   ]
  },
  {
   "cell_type": "code",
   "execution_count": 155,
   "id": "63f89e4b-db67-4e7c-85d9-d2fcaa4be133",
   "metadata": {},
   "outputs": [
    {
     "data": {
      "text/plain": [
       "'NHYOLH'"
      ]
     },
     "execution_count": 155,
     "metadata": {},
     "output_type": "execute_result"
    }
   ],
   "source": [
    "index[::-2]"
   ]
  },
  {
   "cell_type": "code",
   "execution_count": 156,
   "id": "a8a9bfe3-dbe3-4601-a348-c44480de2ee1",
   "metadata": {},
   "outputs": [
    {
     "data": {
      "text/plain": [
       "'HELLOPYTHON'"
      ]
     },
     "execution_count": 156,
     "metadata": {},
     "output_type": "execute_result"
    }
   ],
   "source": [
    "index"
   ]
  },
  {
   "cell_type": "code",
   "execution_count": 157,
   "id": "23033c21-1b78-408e-86de-46039975da71",
   "metadata": {},
   "outputs": [
    {
     "data": {
      "text/plain": [
       "'NYL'"
      ]
     },
     "execution_count": 157,
     "metadata": {},
     "output_type": "execute_result"
    }
   ],
   "source": [
    "index[::-4]"
   ]
  },
  {
   "cell_type": "code",
   "execution_count": 158,
   "id": "3b8e44cf-8f48-47a6-89df-e6844acddc74",
   "metadata": {},
   "outputs": [
    {
     "data": {
      "text/plain": [
       "'HELLOPYTHON'"
      ]
     },
     "execution_count": 158,
     "metadata": {},
     "output_type": "execute_result"
    }
   ],
   "source": [
    "index"
   ]
  },
  {
   "cell_type": "code",
   "execution_count": 159,
   "id": "3e43011f-2e60-4d32-8dd5-0be8e3d270f7",
   "metadata": {},
   "outputs": [
    {
     "data": {
      "text/plain": [
       "'HELLOPY'"
      ]
     },
     "execution_count": 159,
     "metadata": {},
     "output_type": "execute_result"
    }
   ],
   "source": [
    "index[:-4]"
   ]
  },
  {
   "cell_type": "code",
   "execution_count": 160,
   "id": "c4875a28-fdaa-4016-a643-3295435c5747",
   "metadata": {},
   "outputs": [
    {
     "data": {
      "text/plain": [
       "'OPYTHON'"
      ]
     },
     "execution_count": 160,
     "metadata": {},
     "output_type": "execute_result"
    }
   ],
   "source": [
    "index[4:]"
   ]
  },
  {
   "cell_type": "code",
   "execution_count": 161,
   "id": "72a36cc1-f296-4fb2-90e3-15fa1c255984",
   "metadata": {},
   "outputs": [
    {
     "data": {
      "text/plain": [
       "'HELL'"
      ]
     },
     "execution_count": 161,
     "metadata": {},
     "output_type": "execute_result"
    }
   ],
   "source": [
    "index[:4]"
   ]
  },
  {
   "cell_type": "code",
   "execution_count": 162,
   "id": "d048be94-e89d-4a35-a2eb-4e38def16142",
   "metadata": {},
   "outputs": [
    {
     "data": {
      "text/plain": [
       "'HELLOPYTHON'"
      ]
     },
     "execution_count": 162,
     "metadata": {},
     "output_type": "execute_result"
    }
   ],
   "source": [
    "index"
   ]
  },
  {
   "cell_type": "code",
   "execution_count": 163,
   "id": "c261e3e6-2eea-4aac-b660-1d1b82a45c51",
   "metadata": {},
   "outputs": [
    {
     "data": {
      "text/plain": [
       "'LL'"
      ]
     },
     "execution_count": 163,
     "metadata": {},
     "output_type": "execute_result"
    }
   ],
   "source": [
    "index[2:4]"
   ]
  },
  {
   "cell_type": "code",
   "execution_count": 164,
   "id": "3e1271a2-9c43-4e2d-8bb3-07bc162cbce5",
   "metadata": {},
   "outputs": [
    {
     "data": {
      "text/plain": [
       "'EOT'"
      ]
     },
     "execution_count": 164,
     "metadata": {},
     "output_type": "execute_result"
    }
   ],
   "source": [
    "index[1:10:3]"
   ]
  },
  {
   "cell_type": "markdown",
   "id": "b9a51f0f-3999-4346-9938-987c738053e4",
   "metadata": {},
   "source": [
    "# python type casting we are completed"
   ]
  },
  {
   "cell_type": "code",
   "execution_count": 165,
   "id": "6b325a47-8153-4fa8-9eae-de3e787196ac",
   "metadata": {},
   "outputs": [
    {
     "data": {
      "image/png": "[encoded data removed]",
      "text/plain": [
       "<Figure size 640x480 with 1 Axes>"
      ]
     },
     "metadata": {},
     "output_type": "display_data"
    }
   ],
   "source": [
    "import matplotlib.pyplot as plt\n",
    "plt.plot([1, 2, 3, 4])\n",
    "plt.ylabel('Numbers')\n",
    "plt.show()"
   ]
  },
  {
   "cell_type": "code",
   "execution_count": 166,
   "id": "291418dd-e178-4893-b1d7-2b758398fe02",
   "metadata": {},
   "outputs": [
    {
     "data": {
      "image/png": "[encoded data removed]",
      "text/plain": [
       "<Figure size 640x480 with 1 Axes>"
      ]
     },
     "metadata": {},
     "output_type": "display_data"
    }
   ],
   "source": [
    "import matplotlib.pyplot as plt\n",
    "plt.plot([1, 4, 9, 16])\n",
    "plt.ylabel('Numbers')\n",
    "plt.show()"
   ]
  },
  {
   "cell_type": "code",
   "execution_count": 167,
   "id": "c84ecdcd-aa5a-4dd8-8de5-fd04ef2faec0",
   "metadata": {},
   "outputs": [
    {
     "data": {
      "image/png": "[encoded data removed]",
      "text/plain": [
       "<Figure size 640x480 with 1 Axes>"
      ]
     },
     "metadata": {},
     "output_type": "display_data"
    }
   ],
   "source": [
    "import matplotlib.pyplot as plt\n",
    "plt.plot([1, 8, 27, 64])\n",
    "plt.ylabel('Numbers')\n",
    "plt.show()"
   ]
  },
  {
   "cell_type": "markdown",
   "id": "f5590f90-f19d-4fec-b4d1-7fb4f1167c6d",
   "metadata": {},
   "source": [
    "# 26th DATA STRUCTURE"
   ]
  },
  {
   "cell_type": "code",
   "execution_count": 168,
   "id": "e13b2c06-f8c0-4860-8d4b-993dbd739296",
   "metadata": {},
   "outputs": [
    {
     "data": {
      "text/plain": [
       "[]"
      ]
     },
     "execution_count": 168,
     "metadata": {},
     "output_type": "execute_result"
    }
   ],
   "source": [
    "l = []\n",
    "l"
   ]
  },
  {
   "cell_type": "code",
   "execution_count": 169,
   "id": "4bdf5787-1c93-4d0b-8679-bc9cefd02034",
   "metadata": {},
   "outputs": [
    {
     "data": {
      "text/plain": [
       "list"
      ]
     },
     "execution_count": 169,
     "metadata": {},
     "output_type": "execute_result"
    }
   ],
   "source": [
    "type(l)"
   ]
  },
  {
   "cell_type": "code",
   "execution_count": 170,
   "id": "62738251-0ca8-43dd-97f5-167073b17e4f",
   "metadata": {},
   "outputs": [
    {
     "data": {
      "text/plain": [
       "[10]"
      ]
     },
     "execution_count": 170,
     "metadata": {},
     "output_type": "execute_result"
    }
   ],
   "source": [
    "l.append(10)\n",
    "l"
   ]
  },
  {
   "cell_type": "code",
   "execution_count": 171,
   "id": "4957d8cf-7748-46ea-a0df-e87293cde639",
   "metadata": {},
   "outputs": [],
   "source": [
    "l.append(20)\n",
    "l.append(30)"
   ]
  },
  {
   "cell_type": "code",
   "execution_count": 172,
   "id": "aa457cf3-b798-423d-bda0-0f250a059a2c",
   "metadata": {},
   "outputs": [
    {
     "data": {
      "text/plain": [
       "[10, 20, 30]"
      ]
     },
     "execution_count": 172,
     "metadata": {},
     "output_type": "execute_result"
    }
   ],
   "source": [
    "l"
   ]
  },
  {
   "cell_type": "code",
   "execution_count": 173,
   "id": "b740f0e1-c8f7-442f-b103-9ccecc8e8bbe",
   "metadata": {},
   "outputs": [
    {
     "data": {
      "text/plain": [
       "[10, 20, 30, 2.3]"
      ]
     },
     "execution_count": 173,
     "metadata": {},
     "output_type": "execute_result"
    }
   ],
   "source": [
    "l.append(2.3)\n",
    "l"
   ]
  },
  {
   "cell_type": "code",
   "execution_count": 174,
   "id": "4344cf1c-9103-48aa-acbd-92a73a4f94a8",
   "metadata": {},
   "outputs": [],
   "source": [
    "l.append(1+2j)\n",
    "l.append(True)\n",
    "l.append('nit')"
   ]
  },
  {
   "cell_type": "code",
   "execution_count": 175,
   "id": "2d655086-937d-475f-9152-cdca708f7122",
   "metadata": {},
   "outputs": [
    {
     "data": {
      "text/plain": [
       "[10, 20, 30, 2.3, (1+2j), True, 'nit']"
      ]
     },
     "execution_count": 175,
     "metadata": {},
     "output_type": "execute_result"
    }
   ],
   "source": [
    "l"
   ]
  },
  {
   "cell_type": "code",
   "execution_count": 176,
   "id": "fcb26951-be58-44d0-85e5-2eb931251453",
   "metadata": {},
   "outputs": [
    {
     "data": {
      "text/plain": [
       "7"
      ]
     },
     "execution_count": 176,
     "metadata": {},
     "output_type": "execute_result"
    }
   ],
   "source": [
    "len(l)"
   ]
  },
  {
   "cell_type": "code",
   "execution_count": 177,
   "id": "654566f1-0dfe-4083-8f44-f2d145d44a6c",
   "metadata": {},
   "outputs": [
    {
     "data": {
      "text/plain": [
       "[10, 20, 30, 2.3, (1+2j), True, 'nit', 10]"
      ]
     },
     "execution_count": 177,
     "metadata": {},
     "output_type": "execute_result"
    }
   ],
   "source": [
    "l.append(10)\n",
    "l"
   ]
  },
  {
   "cell_type": "code",
   "execution_count": 178,
   "id": "37d98be0-e0f7-4373-983b-29f6b013f6f6",
   "metadata": {},
   "outputs": [
    {
     "data": {
      "text/plain": [
       "[20, 30, 2.3, (1+2j), True, 'nit', 10]"
      ]
     },
     "execution_count": 178,
     "metadata": {},
     "output_type": "execute_result"
    }
   ],
   "source": [
    "l.remove(10)\n",
    "l"
   ]
  },
  {
   "cell_type": "code",
   "execution_count": 179,
   "id": "51f1f8bf-050c-47b4-9c36-f442d4634270",
   "metadata": {},
   "outputs": [
    {
     "data": {
      "text/plain": [
       "[20, 30, 2.3, (1+2j), True, 'nit', 10]"
      ]
     },
     "execution_count": 179,
     "metadata": {},
     "output_type": "execute_result"
    }
   ],
   "source": [
    "l"
   ]
  },
  {
   "cell_type": "code",
   "execution_count": 180,
   "id": "0f415394-fc7c-49bd-be26-139c2164f3ee",
   "metadata": {},
   "outputs": [
    {
     "data": {
      "text/plain": [
       "[20, 30, 2.3, (1+2j), True, 'nit', 10]"
      ]
     },
     "execution_count": 180,
     "metadata": {},
     "output_type": "execute_result"
    }
   ],
   "source": [
    "l1 = l.copy()\n",
    "l1"
   ]
  },
  {
   "cell_type": "code",
   "execution_count": 181,
   "id": "a47e5f3c-241e-415e-91bb-9a3debc746c8",
   "metadata": {},
   "outputs": [
    {
     "data": {
      "text/plain": [
       "True"
      ]
     },
     "execution_count": 181,
     "metadata": {},
     "output_type": "execute_result"
    }
   ],
   "source": [
    "l == l1"
   ]
  },
  {
   "cell_type": "code",
   "execution_count": 182,
   "id": "83710325-e024-4841-9ea7-957352f7e20c",
   "metadata": {},
   "outputs": [
    {
     "data": {
      "text/plain": [
       "[20, 30, 2.3, (1+2j), True, 'nit', 10]"
      ]
     },
     "execution_count": 182,
     "metadata": {},
     "output_type": "execute_result"
    }
   ],
   "source": [
    "l"
   ]
  },
  {
   "cell_type": "code",
   "execution_count": 183,
   "id": "6e273092-0d34-4871-9c87-9bb44638bc8b",
   "metadata": {},
   "outputs": [
    {
     "data": {
      "text/plain": [
       "1"
      ]
     },
     "execution_count": 183,
     "metadata": {},
     "output_type": "execute_result"
    }
   ],
   "source": [
    "l.count(20)"
   ]
  },
  {
   "cell_type": "code",
   "execution_count": 184,
   "id": "1edcf7c7-d6d4-4e9c-a54c-6cfe6ec27393",
   "metadata": {},
   "outputs": [],
   "source": [
    "l.append(20)"
   ]
  },
  {
   "cell_type": "code",
   "execution_count": 185,
   "id": "312ef462-d924-421c-a090-0a59af4f9168",
   "metadata": {},
   "outputs": [
    {
     "data": {
      "text/plain": [
       "[20, 30, 2.3, (1+2j), True, 'nit', 10, 20]"
      ]
     },
     "execution_count": 185,
     "metadata": {},
     "output_type": "execute_result"
    }
   ],
   "source": [
    "l"
   ]
  },
  {
   "cell_type": "code",
   "execution_count": 186,
   "id": "2d43bfaf-3d81-4dfb-a20e-8867fc1b404c",
   "metadata": {},
   "outputs": [
    {
     "data": {
      "text/plain": [
       "2"
      ]
     },
     "execution_count": 186,
     "metadata": {},
     "output_type": "execute_result"
    }
   ],
   "source": [
    "l.count(20)"
   ]
  },
  {
   "cell_type": "code",
   "execution_count": 187,
   "id": "2755fd67-119c-4221-98ba-e056042ceb71",
   "metadata": {},
   "outputs": [
    {
     "data": {
      "text/plain": [
       "[20, 30, 2.3, (1+2j), True, 'nit', 10, 20]"
      ]
     },
     "execution_count": 187,
     "metadata": {},
     "output_type": "execute_result"
    }
   ],
   "source": [
    "l"
   ]
  },
  {
   "cell_type": "code",
   "execution_count": 188,
   "id": "bf839552-bfaf-46ca-a6d3-4399911ff477",
   "metadata": {},
   "outputs": [
    {
     "data": {
      "text/plain": [
       "[20, 30, 2.3, (1+2j), True, 'nit', 10]"
      ]
     },
     "execution_count": 188,
     "metadata": {},
     "output_type": "execute_result"
    }
   ],
   "source": [
    "l1"
   ]
  },
  {
   "cell_type": "code",
   "execution_count": 189,
   "id": "cbc582af-2832-4644-850a-886bd43e1342",
   "metadata": {},
   "outputs": [
    {
     "data": {
      "text/plain": [
       "False"
      ]
     },
     "execution_count": 189,
     "metadata": {},
     "output_type": "execute_result"
    }
   ],
   "source": [
    "l == l1"
   ]
  },
  {
   "cell_type": "code",
   "execution_count": 190,
   "id": "98a61958-cafc-44a7-be79-02c47329c848",
   "metadata": {},
   "outputs": [
    {
     "name": "stdout",
     "output_type": "stream",
     "text": [
      "8\n",
      "7\n"
     ]
    }
   ],
   "source": [
    "print(len(l))\n",
    "print(len(l1))"
   ]
  },
  {
   "cell_type": "code",
   "execution_count": 191,
   "id": "620299c0-344a-4401-ac85-4cb5707061ae",
   "metadata": {},
   "outputs": [
    {
     "data": {
      "text/plain": [
       "[20, 30, 2.3, (1+2j), True, 'nit', 10, 20]"
      ]
     },
     "execution_count": 191,
     "metadata": {},
     "output_type": "execute_result"
    }
   ],
   "source": [
    "l"
   ]
  },
  {
   "cell_type": "code",
   "execution_count": 192,
   "id": "e320f951-06a3-4144-a481-93d602607b99",
   "metadata": {},
   "outputs": [
    {
     "data": {
      "text/plain": [
       "[20, 30, 2.3, (1+2j), True, 'nit', 10, 20]"
      ]
     },
     "execution_count": 192,
     "metadata": {},
     "output_type": "execute_result"
    }
   ],
   "source": [
    "l[:]"
   ]
  },
  {
   "cell_type": "code",
   "execution_count": 193,
   "id": "cb2a7d84-ae5c-4f8d-a682-f0cc9f21e7ec",
   "metadata": {},
   "outputs": [
    {
     "data": {
      "text/plain": [
       "True"
      ]
     },
     "execution_count": 193,
     "metadata": {},
     "output_type": "execute_result"
    }
   ],
   "source": [
    "l[4]"
   ]
  },
  {
   "cell_type": "code",
   "execution_count": 194,
   "id": "f127032a-f687-4aba-ac52-509bbdab22b9",
   "metadata": {},
   "outputs": [
    {
     "data": {
      "text/plain": [
       "[20, 30, 2.3, (1+2j), True, 'nit', 10, 20]"
      ]
     },
     "execution_count": 194,
     "metadata": {},
     "output_type": "execute_result"
    }
   ],
   "source": [
    "l"
   ]
  },
  {
   "cell_type": "markdown",
   "id": "eac8e568-40fc-4ac6-9ede-7533d9ee5a80",
   "metadata": {},
   "source": [
    "# 28th - LIST  DATA STRUCTURE"
   ]
  },
  {
   "cell_type": "code",
   "execution_count": 195,
   "id": "5f5064ce-f67b-449d-b740-6919c12a86aa",
   "metadata": {},
   "outputs": [
    {
     "data": {
      "text/plain": [
       "[]"
      ]
     },
     "execution_count": 195,
     "metadata": {},
     "output_type": "execute_result"
    }
   ],
   "source": [
    "l2 = []\n",
    "l2"
   ]
  },
  {
   "cell_type": "code",
   "execution_count": 196,
   "id": "3a618526-51bc-411f-a49e-5364b3f29626",
   "metadata": {},
   "outputs": [],
   "source": [
    "l2.append(1)\n",
    "l2.append(2.3)\n",
    "l2.append(True)\n",
    "l2.append(1+2j)\n",
    "l2.append('nit')"
   ]
  },
  {
   "cell_type": "code",
   "execution_count": 197,
   "id": "da862f53-cee0-4a96-8d45-16dab18edbe8",
   "metadata": {},
   "outputs": [
    {
     "data": {
      "text/plain": [
       "[1, 2.3, True, (1+2j), 'nit']"
      ]
     },
     "execution_count": 197,
     "metadata": {},
     "output_type": "execute_result"
    }
   ],
   "source": [
    "l2"
   ]
  },
  {
   "cell_type": "code",
   "execution_count": 198,
   "id": "68bdf09e-1374-4da0-beb2-6d7da35e8849",
   "metadata": {},
   "outputs": [
    {
     "data": {
      "text/plain": [
       "[1, 2.3, True, (1+2j), 'nit']"
      ]
     },
     "execution_count": 198,
     "metadata": {},
     "output_type": "execute_result"
    }
   ],
   "source": [
    "l3 = l2.copy()\n",
    "l3"
   ]
  },
  {
   "cell_type": "code",
   "execution_count": 199,
   "id": "7b456764-bbe8-46f4-8399-846e7c98e4ef",
   "metadata": {},
   "outputs": [
    {
     "data": {
      "text/plain": [
       "[1, 2.3, True, (1+2j), 'nit']"
      ]
     },
     "execution_count": 199,
     "metadata": {},
     "output_type": "execute_result"
    }
   ],
   "source": [
    "l2"
   ]
  },
  {
   "cell_type": "code",
   "execution_count": 200,
   "id": "c73d7873-1cf1-4f12-8305-de9dce4e611a",
   "metadata": {},
   "outputs": [
    {
     "data": {
      "text/plain": [
       "[1, 2.3, True, (1+2j), 'nit']"
      ]
     },
     "execution_count": 200,
     "metadata": {},
     "output_type": "execute_result"
    }
   ],
   "source": [
    "l3"
   ]
  },
  {
   "cell_type": "code",
   "execution_count": 201,
   "id": "b3709a4b-bd3a-45e0-945c-8568065abbc2",
   "metadata": {},
   "outputs": [
    {
     "data": {
      "text/plain": [
       "5"
      ]
     },
     "execution_count": 201,
     "metadata": {},
     "output_type": "execute_result"
    }
   ],
   "source": [
    "len(l3)"
   ]
  },
  {
   "cell_type": "code",
   "execution_count": 202,
   "id": "b4db1eb6-339d-4dce-9b92-6bd0179375f4",
   "metadata": {},
   "outputs": [],
   "source": [
    "l3.clear()"
   ]
  },
  {
   "cell_type": "code",
   "execution_count": 203,
   "id": "a9d05bea-961e-49c7-bf2a-17f6924cfdc4",
   "metadata": {},
   "outputs": [
    {
     "data": {
      "text/plain": [
       "0"
      ]
     },
     "execution_count": 203,
     "metadata": {},
     "output_type": "execute_result"
    }
   ],
   "source": [
    "len(l3)"
   ]
  },
  {
   "cell_type": "code",
   "execution_count": 204,
   "id": "cbc9b384-d71e-4ab5-ba74-41ad8808c3bb",
   "metadata": {},
   "outputs": [],
   "source": [
    "del l3"
   ]
  },
  {
   "cell_type": "code",
   "execution_count": 205,
   "id": "32096e7d-35f0-41d7-95c1-5eb7b025d1ce",
   "metadata": {},
   "outputs": [
    {
     "data": {
      "text/plain": [
       "[1, 2.3, True, (1+2j), 'nit']"
      ]
     },
     "execution_count": 205,
     "metadata": {},
     "output_type": "execute_result"
    }
   ],
   "source": [
    "l2"
   ]
  },
  {
   "cell_type": "code",
   "execution_count": 206,
   "id": "006ff7f8-4cd9-4e63-897f-4bafd12a5395",
   "metadata": {},
   "outputs": [
    {
     "ename": "NameError",
     "evalue": "name 'l3' is not defined",
     "output_type": "error",
     "traceback": [
      "\u001b[1;31m---------------------------------------------------------------------------\u001b[0m",
      "\u001b[1;31mNameError\u001b[0m                                 Traceback (most recent call last)",
      "Cell \u001b[1;32mIn[206], line 1\u001b[0m\n\u001b[1;32m----> 1\u001b[0m l3\n",
      "\u001b[1;31mNameError\u001b[0m: name 'l3' is not defined"
     ]
    }
   ],
   "source": [
    "l3 # l3 delete for list"
   ]
  },
  {
   "cell_type": "code",
   "execution_count": 207,
   "id": "d6ecf23e-d978-40b5-994c-75d1c494be71",
   "metadata": {},
   "outputs": [
    {
     "data": {
      "text/plain": [
       "[1, 2.3, True, (1+2j), 'nit']"
      ]
     },
     "execution_count": 207,
     "metadata": {},
     "output_type": "execute_result"
    }
   ],
   "source": [
    "l2"
   ]
  },
  {
   "cell_type": "code",
   "execution_count": 208,
   "id": "d33ae9c0-97b2-43c3-a0bf-7223573d8736",
   "metadata": {},
   "outputs": [],
   "source": [
    "l2.remove(2.3)"
   ]
  },
  {
   "cell_type": "code",
   "execution_count": 209,
   "id": "8e978d41-5c8e-4d6d-a0a0-7495b0244b54",
   "metadata": {},
   "outputs": [
    {
     "data": {
      "text/plain": [
       "[1, True, (1+2j), 'nit']"
      ]
     },
     "execution_count": 209,
     "metadata": {},
     "output_type": "execute_result"
    }
   ],
   "source": [
    "l2"
   ]
  },
  {
   "cell_type": "code",
   "execution_count": 210,
   "id": "9f9414be-f97f-4e48-ab9c-3da7503f91d0",
   "metadata": {},
   "outputs": [],
   "source": [
    "l2.append(1)"
   ]
  },
  {
   "cell_type": "code",
   "execution_count": 211,
   "id": "7bdbbce2-5200-42fd-bf4d-e960781f0d3e",
   "metadata": {},
   "outputs": [
    {
     "data": {
      "text/plain": [
       "[1, True, (1+2j), 'nit', 1]"
      ]
     },
     "execution_count": 211,
     "metadata": {},
     "output_type": "execute_result"
    }
   ],
   "source": [
    "l2"
   ]
  },
  {
   "cell_type": "code",
   "execution_count": 212,
   "id": "3a4c10a0-20af-477c-8f66-39e4bf2f4332",
   "metadata": {},
   "outputs": [],
   "source": [
    "l3 = []\n",
    "l3.append(10)"
   ]
  },
  {
   "cell_type": "code",
   "execution_count": 213,
   "id": "65382508-2d38-46dc-bd57-73fde8bd8738",
   "metadata": {},
   "outputs": [
    {
     "data": {
      "text/plain": [
       "[10]"
      ]
     },
     "execution_count": 213,
     "metadata": {},
     "output_type": "execute_result"
    }
   ],
   "source": [
    "l3"
   ]
  },
  {
   "cell_type": "code",
   "execution_count": 214,
   "id": "00677201-d45f-4458-86c4-27c2720fdab1",
   "metadata": {},
   "outputs": [
    {
     "data": {
      "text/plain": [
       "[1, True, (1+2j), 'nit', 1]"
      ]
     },
     "execution_count": 214,
     "metadata": {},
     "output_type": "execute_result"
    }
   ],
   "source": [
    "l2"
   ]
  },
  {
   "cell_type": "code",
   "execution_count": 215,
   "id": "fbeb12cc-4fe4-46a8-9987-f0512b2b767d",
   "metadata": {},
   "outputs": [],
   "source": [
    "l3.extend(l2)"
   ]
  },
  {
   "cell_type": "code",
   "execution_count": 216,
   "id": "4e5f75c2-e194-4cc1-b4ff-516ec40b7623",
   "metadata": {},
   "outputs": [
    {
     "data": {
      "text/plain": [
       "[10, 1, True, (1+2j), 'nit', 1]"
      ]
     },
     "execution_count": 216,
     "metadata": {},
     "output_type": "execute_result"
    }
   ],
   "source": [
    "l3"
   ]
  },
  {
   "cell_type": "code",
   "execution_count": 217,
   "id": "416c4c4e-0b00-42ca-8e06-4064cb4e9587",
   "metadata": {},
   "outputs": [
    {
     "data": {
      "text/plain": [
       "[10, 1, True, (1+2j), 'nit', 1]"
      ]
     },
     "execution_count": 217,
     "metadata": {},
     "output_type": "execute_result"
    }
   ],
   "source": [
    "l3"
   ]
  },
  {
   "cell_type": "code",
   "execution_count": 218,
   "id": "a135c842-961f-4d2d-9fa6-7724edf6258b",
   "metadata": {},
   "outputs": [
    {
     "data": {
      "text/plain": [
       "1"
      ]
     },
     "execution_count": 218,
     "metadata": {},
     "output_type": "execute_result"
    }
   ],
   "source": [
    "l3.index(True)"
   ]
  },
  {
   "cell_type": "code",
   "execution_count": 219,
   "id": "a7ba9ee7-eff4-4658-8ffc-7d5c30d730e0",
   "metadata": {},
   "outputs": [
    {
     "data": {
      "text/plain": [
       "3"
      ]
     },
     "execution_count": 219,
     "metadata": {},
     "output_type": "execute_result"
    }
   ],
   "source": [
    "l3.index(1+2j)"
   ]
  },
  {
   "cell_type": "code",
   "execution_count": 220,
   "id": "c235a4a3-5300-489a-b332-8fda506a0c6c",
   "metadata": {},
   "outputs": [
    {
     "data": {
      "text/plain": [
       "[10, 1, True, (1+2j), 'nit', 1]"
      ]
     },
     "execution_count": 220,
     "metadata": {},
     "output_type": "execute_result"
    }
   ],
   "source": [
    "l3"
   ]
  },
  {
   "cell_type": "code",
   "execution_count": 221,
   "id": "70823f6c-8e63-4ecf-bf5a-93dd9aef417b",
   "metadata": {},
   "outputs": [
    {
     "data": {
      "text/plain": [
       "[1, True, (1+2j), 'nit', 1]"
      ]
     },
     "execution_count": 221,
     "metadata": {},
     "output_type": "execute_result"
    }
   ],
   "source": [
    "l2"
   ]
  },
  {
   "cell_type": "code",
   "execution_count": 222,
   "id": "1cb8b4be-02d6-4b0f-8976-dddaf1298de1",
   "metadata": {},
   "outputs": [
    {
     "ename": "ValueError",
     "evalue": "3 is not in list",
     "output_type": "error",
     "traceback": [
      "\u001b[1;31m---------------------------------------------------------------------------\u001b[0m",
      "\u001b[1;31mValueError\u001b[0m                                Traceback (most recent call last)",
      "Cell \u001b[1;32mIn[222], line 1\u001b[0m\n\u001b[1;32m----> 1\u001b[0m l2\u001b[38;5;241m.\u001b[39mindex(\u001b[38;5;241m3\u001b[39m)\n",
      "\u001b[1;31mValueError\u001b[0m: 3 is not in list"
     ]
    }
   ],
   "source": [
    "l2.index(3)"
   ]
  },
  {
   "cell_type": "code",
   "execution_count": 223,
   "id": "720e79be-67ff-44e3-8d49-fb5a41e4dc97",
   "metadata": {},
   "outputs": [
    {
     "data": {
      "text/plain": [
       "3"
      ]
     },
     "execution_count": 223,
     "metadata": {},
     "output_type": "execute_result"
    }
   ],
   "source": [
    "l2.index('nit')"
   ]
  },
  {
   "cell_type": "code",
   "execution_count": 224,
   "id": "ef8b20f7-8460-44d6-b0cf-ade1c5ecd870",
   "metadata": {},
   "outputs": [
    {
     "data": {
      "text/plain": [
       "[1, True, (1+2j), 'nit', 1]"
      ]
     },
     "execution_count": 224,
     "metadata": {},
     "output_type": "execute_result"
    }
   ],
   "source": [
    "l2"
   ]
  },
  {
   "cell_type": "code",
   "execution_count": 225,
   "id": "f5616fa1-d2ba-455c-98de-bfaecf31ca7b",
   "metadata": {},
   "outputs": [
    {
     "data": {
      "text/plain": [
       "[10, 1, True, (1+2j), 'nit', 1]"
      ]
     },
     "execution_count": 225,
     "metadata": {},
     "output_type": "execute_result"
    }
   ],
   "source": [
    "l3"
   ]
  },
  {
   "cell_type": "code",
   "execution_count": 226,
   "id": "97a668c8-6e83-4c5e-a6ca-a0d1d88ca033",
   "metadata": {},
   "outputs": [],
   "source": [
    "l3.insert(5, 'techonogy')"
   ]
  },
  {
   "cell_type": "code",
   "execution_count": 227,
   "id": "1ddd781a-4bfa-4340-9225-d584ff83aea7",
   "metadata": {},
   "outputs": [
    {
     "data": {
      "text/plain": [
       "[10, 1, True, (1+2j), 'nit', 'techonogy', 1]"
      ]
     },
     "execution_count": 227,
     "metadata": {},
     "output_type": "execute_result"
    }
   ],
   "source": [
    "l3"
   ]
  },
  {
   "cell_type": "code",
   "execution_count": 228,
   "id": "49e7e574-9314-49ed-84b5-d20058ef7fd2",
   "metadata": {},
   "outputs": [],
   "source": [
    "l3.insert(3, False)"
   ]
  },
  {
   "cell_type": "code",
   "execution_count": 229,
   "id": "94b16815-3dcd-4347-9191-fa79eeb4c595",
   "metadata": {},
   "outputs": [
    {
     "data": {
      "text/plain": [
       "[10, 1, True, False, (1+2j), 'nit', 'techonogy', 1]"
      ]
     },
     "execution_count": 229,
     "metadata": {},
     "output_type": "execute_result"
    }
   ],
   "source": [
    "l3"
   ]
  },
  {
   "cell_type": "code",
   "execution_count": 230,
   "id": "2625a946-76f3-4dc6-9829-a0f4dc957030",
   "metadata": {},
   "outputs": [
    {
     "data": {
      "text/plain": [
       "1"
      ]
     },
     "execution_count": 230,
     "metadata": {},
     "output_type": "execute_result"
    }
   ],
   "source": [
    "l3.pop()"
   ]
  },
  {
   "cell_type": "code",
   "execution_count": 231,
   "id": "50548958-20a3-4283-9935-bb35e6367daf",
   "metadata": {},
   "outputs": [
    {
     "data": {
      "text/plain": [
       "[10, 1, True, False, (1+2j), 'nit', 'techonogy']"
      ]
     },
     "execution_count": 231,
     "metadata": {},
     "output_type": "execute_result"
    }
   ],
   "source": [
    "l3"
   ]
  },
  {
   "cell_type": "code",
   "execution_count": 232,
   "id": "e86b0c36-d308-4df9-816c-7ff2ea2082f4",
   "metadata": {},
   "outputs": [
    {
     "data": {
      "text/plain": [
       "(1+2j)"
      ]
     },
     "execution_count": 232,
     "metadata": {},
     "output_type": "execute_result"
    }
   ],
   "source": [
    "l3.pop(4)"
   ]
  },
  {
   "cell_type": "code",
   "execution_count": 233,
   "id": "c985b1fd-eb58-4765-9527-d496f73f5fff",
   "metadata": {},
   "outputs": [
    {
     "data": {
      "text/plain": [
       "[10, 1, True, False, 'nit', 'techonogy']"
      ]
     },
     "execution_count": 233,
     "metadata": {},
     "output_type": "execute_result"
    }
   ],
   "source": [
    "l3"
   ]
  },
  {
   "cell_type": "code",
   "execution_count": 234,
   "id": "f332b5f1-0644-4cbf-8af0-bc4c0c46295c",
   "metadata": {},
   "outputs": [
    {
     "ename": "SyntaxError",
     "evalue": "invalid syntax (514505430.py, line 1)",
     "output_type": "error",
     "traceback": [
      "\u001b[1;36m  Cell \u001b[1;32mIn[234], line 1\u001b[1;36m\u001b[0m\n\u001b[1;33m    l3.pop() - by defualt delted last index\u001b[0m\n\u001b[1;37m                  ^\u001b[0m\n\u001b[1;31mSyntaxError\u001b[0m\u001b[1;31m:\u001b[0m invalid syntax\n"
     ]
    }
   ],
   "source": [
    "l3.pop() - by defualt delted last index"
   ]
  },
  {
   "cell_type": "code",
   "execution_count": 235,
   "id": "83c5b4f6-a6ec-4603-b900-24f764315e48",
   "metadata": {},
   "outputs": [
    {
     "ename": "SyntaxError",
     "evalue": "invalid syntax (4104268263.py, line 1)",
     "output_type": "error",
     "traceback": [
      "\u001b[1;36m  Cell \u001b[1;32mIn[235], line 1\u001b[1;36m\u001b[0m\n\u001b[1;33m    l3.pop() - define 1  delted index\u001b[0m\n\u001b[1;37m                      ^\u001b[0m\n\u001b[1;31mSyntaxError\u001b[0m\u001b[1;31m:\u001b[0m invalid syntax\n"
     ]
    }
   ],
   "source": [
    "l3.pop() - define 1  delted index "
   ]
  },
  {
   "cell_type": "code",
   "execution_count": 236,
   "id": "69e990d3-979e-47d6-9e36-107866bdf140",
   "metadata": {},
   "outputs": [
    {
     "data": {
      "text/plain": [
       "1"
      ]
     },
     "execution_count": 236,
     "metadata": {},
     "output_type": "execute_result"
    }
   ],
   "source": [
    "l3.pop(1)"
   ]
  },
  {
   "cell_type": "code",
   "execution_count": 237,
   "id": "e22dd6f3-937f-4d35-9f56-9843f4880313",
   "metadata": {},
   "outputs": [
    {
     "data": {
      "text/plain": [
       "[10, True, False, 'nit', 'techonogy']"
      ]
     },
     "execution_count": 237,
     "metadata": {},
     "output_type": "execute_result"
    }
   ],
   "source": [
    "l3"
   ]
  },
  {
   "cell_type": "code",
   "execution_count": 238,
   "id": "dce2b72c-c56e-42fb-ac18-977ff791a3c6",
   "metadata": {},
   "outputs": [
    {
     "data": {
      "text/plain": [
       "[10, 100, 3, 45, 76, 24]"
      ]
     },
     "execution_count": 238,
     "metadata": {},
     "output_type": "execute_result"
    }
   ],
   "source": [
    "l4 = [10, 100, 3, 45, 76, 24]\n",
    "l4"
   ]
  },
  {
   "cell_type": "code",
   "execution_count": 239,
   "id": "fa757906-8c78-4eff-8b2b-fa00a893064a",
   "metadata": {},
   "outputs": [],
   "source": [
    "l4.sort()"
   ]
  },
  {
   "cell_type": "code",
   "execution_count": 240,
   "id": "df57a011-0180-4446-94de-4770196677bc",
   "metadata": {},
   "outputs": [
    {
     "data": {
      "text/plain": [
       "[3, 10, 24, 45, 76, 100]"
      ]
     },
     "execution_count": 240,
     "metadata": {},
     "output_type": "execute_result"
    }
   ],
   "source": [
    "l4"
   ]
  },
  {
   "cell_type": "code",
   "execution_count": 241,
   "id": "0052ae14-ac40-4260-8d60-45e030c13ba4",
   "metadata": {},
   "outputs": [
    {
     "data": {
      "text/plain": [
       "[100, 76, 45, 24, 10, 3]"
      ]
     },
     "execution_count": 241,
     "metadata": {},
     "output_type": "execute_result"
    }
   ],
   "source": [
    "l4.sort(reverse=True)\n",
    "l4"
   ]
  },
  {
   "cell_type": "code",
   "execution_count": 242,
   "id": "5621d287-d63e-4930-b6d0-c486bfd82043",
   "metadata": {},
   "outputs": [
    {
     "data": {
      "text/plain": [
       "['z', 'm', 'c', 'w']"
      ]
     },
     "execution_count": 242,
     "metadata": {},
     "output_type": "execute_result"
    }
   ],
   "source": [
    "l5 = ['z', 'm', 'c', 'w']\n",
    "l5"
   ]
  },
  {
   "cell_type": "code",
   "execution_count": 243,
   "id": "78663903-66a3-4af7-b4f8-78f4bb52ad32",
   "metadata": {},
   "outputs": [],
   "source": [
    "l5.sort()"
   ]
  },
  {
   "cell_type": "code",
   "execution_count": 244,
   "id": "111f127a-7f24-4e1b-beb1-76a571160141",
   "metadata": {},
   "outputs": [
    {
     "data": {
      "text/plain": [
       "['c', 'm', 'w', 'z']"
      ]
     },
     "execution_count": 244,
     "metadata": {},
     "output_type": "execute_result"
    }
   ],
   "source": [
    "l5"
   ]
  },
  {
   "cell_type": "code",
   "execution_count": 245,
   "id": "0bed3d0d-1449-471e-a585-6ebabe90228e",
   "metadata": {},
   "outputs": [
    {
     "data": {
      "text/plain": [
       "[1, 2, 3, 'a', 'z', 'w']"
      ]
     },
     "execution_count": 245,
     "metadata": {},
     "output_type": "execute_result"
    }
   ],
   "source": [
    "l6 = [ 1, 2, 3, 'a', 'z', 'w']\n",
    "l6"
   ]
  },
  {
   "cell_type": "code",
   "execution_count": 246,
   "id": "31042873-0bcc-4618-afad-697de8fc121d",
   "metadata": {},
   "outputs": [
    {
     "ename": "TypeError",
     "evalue": "'<' not supported between instances of 'str' and 'int'",
     "output_type": "error",
     "traceback": [
      "\u001b[1;31m---------------------------------------------------------------------------\u001b[0m",
      "\u001b[1;31mTypeError\u001b[0m                                 Traceback (most recent call last)",
      "Cell \u001b[1;32mIn[246], line 1\u001b[0m\n\u001b[1;32m----> 1\u001b[0m l6\u001b[38;5;241m.\u001b[39msort()\n\u001b[0;32m      2\u001b[0m l6\n",
      "\u001b[1;31mTypeError\u001b[0m: '<' not supported between instances of 'str' and 'int'"
     ]
    }
   ],
   "source": [
    "l6.sort()\n",
    "l6"
   ]
  },
  {
   "cell_type": "code",
   "execution_count": 247,
   "id": "6bd8cd75-b6ac-4ad2-8396-8c76f4152aa6",
   "metadata": {},
   "outputs": [
    {
     "data": {
      "text/plain": [
       "[10, True, False, 'nit', 'techonogy']"
      ]
     },
     "execution_count": 247,
     "metadata": {},
     "output_type": "execute_result"
    }
   ],
   "source": [
    "l3"
   ]
  },
  {
   "cell_type": "code",
   "execution_count": 248,
   "id": "ff11e7c5-c588-4460-8148-5f40f3c7eff5",
   "metadata": {},
   "outputs": [],
   "source": [
    "l3.reverse()"
   ]
  },
  {
   "cell_type": "code",
   "execution_count": 249,
   "id": "cbb295e8-af1a-4045-8e5b-123875e516bc",
   "metadata": {},
   "outputs": [
    {
     "data": {
      "text/plain": [
       "['techonogy', 'nit', False, True, 10]"
      ]
     },
     "execution_count": 249,
     "metadata": {},
     "output_type": "execute_result"
    }
   ],
   "source": [
    "l3"
   ]
  },
  {
   "cell_type": "code",
   "execution_count": 250,
   "id": "5883572b-fc20-4887-a876-c2ebd7d59b5d",
   "metadata": {},
   "outputs": [
    {
     "data": {
      "text/plain": [
       "[1, True, (1+2j), 'nit', 1]"
      ]
     },
     "execution_count": 250,
     "metadata": {},
     "output_type": "execute_result"
    }
   ],
   "source": [
    "l2"
   ]
  },
  {
   "cell_type": "code",
   "execution_count": 251,
   "id": "3974dd6c-c07c-41a8-a52e-3cf0f6a2cfba",
   "metadata": {},
   "outputs": [
    {
     "data": {
      "text/plain": [
       "'nit'"
      ]
     },
     "execution_count": 251,
     "metadata": {},
     "output_type": "execute_result"
    }
   ],
   "source": [
    "l2[3]"
   ]
  },
  {
   "cell_type": "code",
   "execution_count": 252,
   "id": "11cee123-5127-4dba-87b1-c234194e6ae8",
   "metadata": {},
   "outputs": [
    {
     "name": "stdout",
     "output_type": "stream",
     "text": [
      "n\n",
      "i\n",
      "t\n"
     ]
    }
   ],
   "source": [
    "print(l2[3][0])\n",
    "print(l2[3][1]) # Nestle index (it is only works in string)\n",
    "print(l2[3][2])"
   ]
  },
  {
   "cell_type": "code",
   "execution_count": 253,
   "id": "5baae1e9-9463-490b-8cfd-7df3f5e8110d",
   "metadata": {},
   "outputs": [
    {
     "data": {
      "text/plain": [
       "['techonogy', 'nit', False, True, 10]"
      ]
     },
     "execution_count": 253,
     "metadata": {},
     "output_type": "execute_result"
    }
   ],
   "source": [
    "l3"
   ]
  },
  {
   "cell_type": "code",
   "execution_count": 254,
   "id": "9be3af80-53d8-4944-9591-d22b3486087c",
   "metadata": {},
   "outputs": [],
   "source": [
    "l3[2] = 0"
   ]
  },
  {
   "cell_type": "code",
   "execution_count": 255,
   "id": "5b9419d5-f3ed-498f-a161-2917c2f22df5",
   "metadata": {},
   "outputs": [
    {
     "data": {
      "text/plain": [
       "['techonogy', 'nit', 0, True, 10]"
      ]
     },
     "execution_count": 255,
     "metadata": {},
     "output_type": "execute_result"
    }
   ],
   "source": [
    "l3"
   ]
  },
  {
   "cell_type": "code",
   "execution_count": 256,
   "id": "26834e71-cca9-420f-8eb7-a828fa529dbc",
   "metadata": {},
   "outputs": [],
   "source": [
    "l3[1] = 'mit'"
   ]
  },
  {
   "cell_type": "code",
   "execution_count": 257,
   "id": "47e709e6-a1a9-4eaa-aadb-916c22409b45",
   "metadata": {},
   "outputs": [
    {
     "data": {
      "text/plain": [
       "['techonogy', 'mit', 0, True, 10]"
      ]
     },
     "execution_count": 257,
     "metadata": {},
     "output_type": "execute_result"
    }
   ],
   "source": [
    "l3"
   ]
  },
  {
   "cell_type": "code",
   "execution_count": 258,
   "id": "5c49d37a-6cc7-4da8-b1e5-8abb029e7bda",
   "metadata": {},
   "outputs": [
    {
     "name": "stdout",
     "output_type": "stream",
     "text": [
      "techonogy\n",
      "mit\n",
      "0\n",
      "True\n",
      "10\n"
     ]
    }
   ],
   "source": [
    "for i in l3:\n",
    "    print(i)"
   ]
  },
  {
   "cell_type": "code",
   "execution_count": 259,
   "id": "8b8c0821-c67b-4e95-a069-f4ce43a9494d",
   "metadata": {},
   "outputs": [],
   "source": [
    "l6 = ['sbi', 'icici']\n",
    "l7 = ['hdfc', 'kotak']"
   ]
  },
  {
   "cell_type": "code",
   "execution_count": 260,
   "id": "87d27723-7ba6-4751-874d-fd635751556c",
   "metadata": {},
   "outputs": [
    {
     "data": {
      "text/plain": [
       "['sbi', 'icici', 'hdfc', 'kotak']"
      ]
     },
     "execution_count": 260,
     "metadata": {},
     "output_type": "execute_result"
    }
   ],
   "source": [
    "family_bank = l6 + l7\n",
    "family_bank"
   ]
  },
  {
   "cell_type": "code",
   "execution_count": 261,
   "id": "88cbcd3a-04f8-4d08-be3d-e9b204dbf5a4",
   "metadata": {},
   "outputs": [
    {
     "data": {
      "text/plain": [
       "['techonogy', 'mit', 0, True, 10]"
      ]
     },
     "execution_count": 261,
     "metadata": {},
     "output_type": "execute_result"
    }
   ],
   "source": [
    "l3"
   ]
  },
  {
   "cell_type": "code",
   "execution_count": 262,
   "id": "27de2cb7-2672-4d88-b87f-5e6405d6ea6a",
   "metadata": {},
   "outputs": [
    {
     "name": "stdout",
     "output_type": "stream",
     "text": [
      "(0, 'techonogy')\n",
      "(1, 'mit')\n",
      "(2, 0)\n",
      "(3, True)\n",
      "(4, 10)\n"
     ]
    }
   ],
   "source": [
    "for i in enumerate (l3):\n",
    "    print(i)"
   ]
  },
  {
   "cell_type": "code",
   "execution_count": 263,
   "id": "1f3a17ab-12c7-4fe3-aed0-3b2c9a4bab3d",
   "metadata": {},
   "outputs": [
    {
     "data": {
      "text/plain": [
       "[20, 30, 2.3, (1+2j), True, 'nit', 10, 20]"
      ]
     },
     "execution_count": 263,
     "metadata": {},
     "output_type": "execute_result"
    }
   ],
   "source": [
    "l"
   ]
  },
  {
   "cell_type": "code",
   "execution_count": 264,
   "id": "97b2445f-7152-4dac-8b57-965031aeb20d",
   "metadata": {},
   "outputs": [
    {
     "data": {
      "text/plain": [
       "[20, 30, 2.3, (1+2j), True, 'nit', 10, 20]"
      ]
     },
     "execution_count": 264,
     "metadata": {},
     "output_type": "execute_result"
    }
   ],
   "source": [
    "l[:]"
   ]
  },
  {
   "cell_type": "code",
   "execution_count": 265,
   "id": "2d79c13d-89ea-48ee-a89e-4ecd2d0ef1d4",
   "metadata": {},
   "outputs": [
    {
     "data": {
      "text/plain": [
       "[20, 10, 'nit', True, (1+2j), 2.3, 30, 20]"
      ]
     },
     "execution_count": 265,
     "metadata": {},
     "output_type": "execute_result"
    }
   ],
   "source": [
    "l[::-1]"
   ]
  },
  {
   "cell_type": "code",
   "execution_count": 266,
   "id": "f8a0e111-12ab-4753-88a9-cd3d0400c443",
   "metadata": {},
   "outputs": [
    {
     "data": {
      "text/plain": [
       "[20, 30, 2.3, (1+2j), True, 'nit', 10, 20]"
      ]
     },
     "execution_count": 266,
     "metadata": {},
     "output_type": "execute_result"
    }
   ],
   "source": [
    "l"
   ]
  },
  {
   "cell_type": "code",
   "execution_count": 267,
   "id": "a48b5820-9646-4f4b-97fe-5ef2e9e5ba06",
   "metadata": {},
   "outputs": [
    {
     "data": {
      "text/plain": [
       "[20, 'nit', (1+2j), 30]"
      ]
     },
     "execution_count": 267,
     "metadata": {},
     "output_type": "execute_result"
    }
   ],
   "source": [
    "l[::-2]"
   ]
  },
  {
   "cell_type": "code",
   "execution_count": 268,
   "id": "70fe5a95-2e8c-464a-bebe-ea8b5f248e04",
   "metadata": {},
   "outputs": [
    {
     "data": {
      "text/plain": [
       "[20, 30, 2.3, (1+2j), True, 'nit', 10, 20]"
      ]
     },
     "execution_count": 268,
     "metadata": {},
     "output_type": "execute_result"
    }
   ],
   "source": [
    "l"
   ]
  },
  {
   "cell_type": "code",
   "execution_count": 269,
   "id": "61a313f4-2faf-43d3-95aa-b9c938732b7b",
   "metadata": {},
   "outputs": [
    {
     "ename": "IndexError",
     "evalue": "list index out of range",
     "output_type": "error",
     "traceback": [
      "\u001b[1;31m---------------------------------------------------------------------------\u001b[0m",
      "\u001b[1;31mIndexError\u001b[0m                                Traceback (most recent call last)",
      "Cell \u001b[1;32mIn[269], line 1\u001b[0m\n\u001b[1;32m----> 1\u001b[0m l[\u001b[38;5;241m17\u001b[39m]\n",
      "\u001b[1;31mIndexError\u001b[0m: list index out of range"
     ]
    }
   ],
   "source": [
    "l[17]"
   ]
  },
  {
   "cell_type": "code",
   "execution_count": 270,
   "id": "4c5b0dd9-4be2-4a63-8e9e-8d9d28583dde",
   "metadata": {},
   "outputs": [
    {
     "data": {
      "text/plain": [
       "[20, 30, 2.3, (1+2j), True, 'nit', 10, 20]"
      ]
     },
     "execution_count": 270,
     "metadata": {},
     "output_type": "execute_result"
    }
   ],
   "source": [
    "l"
   ]
  },
  {
   "cell_type": "code",
   "execution_count": 271,
   "id": "5e6002f3-0fdf-4c19-b3a7-cad6f71ed362",
   "metadata": {},
   "outputs": [
    {
     "data": {
      "text/plain": [
       "[2.3, (1+2j), True, 'nit', 10, 20]"
      ]
     },
     "execution_count": 271,
     "metadata": {},
     "output_type": "execute_result"
    }
   ],
   "source": [
    "l[2:] #print the element from 2nd index to till last"
   ]
  },
  {
   "cell_type": "code",
   "execution_count": 272,
   "id": "595a6aae-8126-4327-a5e3-4b61084b84a1",
   "metadata": {},
   "outputs": [
    {
     "data": {
      "text/plain": [
       "[20, 30, 2.3, (1+2j), True, 'nit', 10, 20]"
      ]
     },
     "execution_count": 272,
     "metadata": {},
     "output_type": "execute_result"
    }
   ],
   "source": [
    "l"
   ]
  },
  {
   "cell_type": "code",
   "execution_count": 273,
   "id": "c5d7730c-1d1b-4b22-8ace-88e93de5e552",
   "metadata": {},
   "outputs": [
    {
     "data": {
      "text/plain": [
       "[20, 30, 2.3, (1+2j), True, 'nit', 10]"
      ]
     },
     "execution_count": 273,
     "metadata": {},
     "output_type": "execute_result"
    }
   ],
   "source": [
    "l[:7]"
   ]
  },
  {
   "cell_type": "code",
   "execution_count": 274,
   "id": "9df149b8-cd48-4cf7-a16d-b63ac5c51949",
   "metadata": {},
   "outputs": [
    {
     "data": {
      "text/plain": [
       "[20, 30, 2.3, (1+2j), True, 'nit', 10, 20]"
      ]
     },
     "execution_count": 274,
     "metadata": {},
     "output_type": "execute_result"
    }
   ],
   "source": [
    "l"
   ]
  },
  {
   "cell_type": "code",
   "execution_count": 275,
   "id": "f8f721f5-a149-4c1a-961b-2a3b1b1525c7",
   "metadata": {},
   "outputs": [
    {
     "data": {
      "text/plain": [
       "[20, (1+2j), 10]"
      ]
     },
     "execution_count": 275,
     "metadata": {},
     "output_type": "execute_result"
    }
   ],
   "source": [
    "l[0:7:3]"
   ]
  },
  {
   "cell_type": "markdown",
   "id": "c7b98cdd-b298-403c-bba5-4b69f2b22207",
   "metadata": {},
   "source": [
    "# list data strucure we are completed "
   ]
  },
  {
   "cell_type": "code",
   "execution_count": 276,
   "id": "7acf41b7-2f46-43eb-aed7-adec9267a74b",
   "metadata": {},
   "outputs": [
    {
     "data": {
      "text/plain": [
       "()"
      ]
     },
     "execution_count": 276,
     "metadata": {},
     "output_type": "execute_result"
    }
   ],
   "source": [
    "t = ()\n",
    "t"
   ]
  },
  {
   "cell_type": "code",
   "execution_count": 277,
   "id": "df0454f0-c812-4446-931c-1a5a0dc2b461",
   "metadata": {},
   "outputs": [
    {
     "data": {
      "text/plain": [
       "tuple"
      ]
     },
     "execution_count": 277,
     "metadata": {},
     "output_type": "execute_result"
    }
   ],
   "source": [
    "type(t)"
   ]
  },
  {
   "cell_type": "code",
   "execution_count": 278,
   "id": "f87e2dc5-2bb3-478d-8ed1-1f1c46cc93c8",
   "metadata": {},
   "outputs": [
    {
     "data": {
      "text/plain": [
       "list"
      ]
     },
     "execution_count": 278,
     "metadata": {},
     "output_type": "execute_result"
    }
   ],
   "source": [
    "type(l)"
   ]
  },
  {
   "cell_type": "code",
   "execution_count": 279,
   "id": "cb82e6cd-56e7-4e7f-abb1-73afffb65e73",
   "metadata": {},
   "outputs": [
    {
     "data": {
      "text/plain": [
       "tuple"
      ]
     },
     "execution_count": 279,
     "metadata": {},
     "output_type": "execute_result"
    }
   ],
   "source": [
    "t1 = tuple()\n",
    "type(t1)"
   ]
  },
  {
   "cell_type": "code",
   "execution_count": 280,
   "id": "c73c632c-b263-417b-adf5-b145f3527da2",
   "metadata": {},
   "outputs": [],
   "source": [
    "t = (10, 10, 20, 30,)"
   ]
  },
  {
   "cell_type": "code",
   "execution_count": 281,
   "id": "ad0cc621-2efb-4859-ac86-9986d1f35903",
   "metadata": {},
   "outputs": [
    {
     "data": {
      "text/plain": [
       "(10, 10, 20, 30)"
      ]
     },
     "execution_count": 281,
     "metadata": {},
     "output_type": "execute_result"
    }
   ],
   "source": [
    "t"
   ]
  },
  {
   "cell_type": "code",
   "execution_count": 282,
   "id": "fe490b4b-0bb8-4b3b-a4a2-dedfa1b3ff4b",
   "metadata": {},
   "outputs": [
    {
     "data": {
      "text/plain": [
       "(10, 10, 20, 30)"
      ]
     },
     "execution_count": 282,
     "metadata": {},
     "output_type": "execute_result"
    }
   ],
   "source": [
    "t"
   ]
  },
  {
   "cell_type": "code",
   "execution_count": 283,
   "id": "319d0e31-cc80-4c52-9842-860ca0922868",
   "metadata": {},
   "outputs": [
    {
     "data": {
      "text/plain": [
       "10"
      ]
     },
     "execution_count": 283,
     "metadata": {},
     "output_type": "execute_result"
    }
   ],
   "source": [
    "t[0]"
   ]
  },
  {
   "cell_type": "code",
   "execution_count": 284,
   "id": "eda0bc4b-03c5-445e-a239-4263107c4d5e",
   "metadata": {},
   "outputs": [
    {
     "ename": "TypeError",
     "evalue": "'tuple' object does not support item assignment",
     "output_type": "error",
     "traceback": [
      "\u001b[1;31m---------------------------------------------------------------------------\u001b[0m",
      "\u001b[1;31mTypeError\u001b[0m                                 Traceback (most recent call last)",
      "Cell \u001b[1;32mIn[284], line 1\u001b[0m\n\u001b[1;32m----> 1\u001b[0m t[\u001b[38;5;241m0\u001b[39m] \u001b[38;5;241m=\u001b[39m \u001b[38;5;241m100\u001b[39m\n",
      "\u001b[1;31mTypeError\u001b[0m: 'tuple' object does not support item assignment"
     ]
    }
   ],
   "source": [
    "t[0] = 100"
   ]
  },
  {
   "cell_type": "code",
   "execution_count": 285,
   "id": "5b13c845-8e3a-4fbf-b36e-827c3ebc62a1",
   "metadata": {},
   "outputs": [
    {
     "data": {
      "text/plain": [
       "(10, 2.3, 'nit', (1+2j), True)"
      ]
     },
     "execution_count": 285,
     "metadata": {},
     "output_type": "execute_result"
    }
   ],
   "source": [
    "t1 = (10, 2.3, 'nit', (1+2j), True)\n",
    "t1"
   ]
  },
  {
   "cell_type": "code",
   "execution_count": 286,
   "id": "47e796b2-3898-4904-bb32-6cf0a39c39c4",
   "metadata": {},
   "outputs": [
    {
     "data": {
      "text/plain": [
       "1"
      ]
     },
     "execution_count": 286,
     "metadata": {},
     "output_type": "execute_result"
    }
   ],
   "source": [
    "t1.count(10)"
   ]
  },
  {
   "cell_type": "code",
   "execution_count": 287,
   "id": "39bae13c-e7dc-42cf-bdfb-5c0d40de6adb",
   "metadata": {},
   "outputs": [
    {
     "data": {
      "text/plain": [
       "2"
      ]
     },
     "execution_count": 287,
     "metadata": {},
     "output_type": "execute_result"
    }
   ],
   "source": [
    "t1.index('nit')"
   ]
  },
  {
   "cell_type": "code",
   "execution_count": 288,
   "id": "e493dff7-b8e9-4f1e-a7a9-2e2083abf8f7",
   "metadata": {},
   "outputs": [
    {
     "data": {
      "text/plain": [
       "(10, 2.3, 'nit', (1+2j), True)"
      ]
     },
     "execution_count": 288,
     "metadata": {},
     "output_type": "execute_result"
    }
   ],
   "source": [
    "t1"
   ]
  },
  {
   "cell_type": "code",
   "execution_count": 289,
   "id": "52a6acec-4f2c-47b0-ab80-90e526d4536d",
   "metadata": {},
   "outputs": [
    {
     "name": "stdout",
     "output_type": "stream",
     "text": [
      "10\n",
      "2.3\n",
      "nit\n",
      "(1+2j)\n",
      "True\n"
     ]
    }
   ],
   "source": [
    "for i in t1:\n",
    "    print(i)"
   ]
  },
  {
   "cell_type": "code",
   "execution_count": 290,
   "id": "0296fef7-c3d0-441e-89fe-94bae65fe6d6",
   "metadata": {},
   "outputs": [
    {
     "name": "stdout",
     "output_type": "stream",
     "text": [
      "(0, 10)\n",
      "(1, 2.3)\n",
      "(2, 'nit')\n",
      "(3, (1+2j))\n",
      "(4, True)\n"
     ]
    }
   ],
   "source": [
    "for i in enumerate(t1):\n",
    "    print(i)"
   ]
  },
  {
   "cell_type": "code",
   "execution_count": 291,
   "id": "ae90f249-e133-4f12-9b99-097dfcea0a42",
   "metadata": {},
   "outputs": [
    {
     "data": {
      "text/plain": [
       "(10, 10, 20, 30)"
      ]
     },
     "execution_count": 291,
     "metadata": {},
     "output_type": "execute_result"
    }
   ],
   "source": [
    "t[:]"
   ]
  },
  {
   "cell_type": "code",
   "execution_count": 292,
   "id": "7b05673d-9d02-4ebe-87a7-afb7ae68764a",
   "metadata": {},
   "outputs": [
    {
     "data": {
      "text/plain": [
       "(10, 10, 20, 30, 10, 10, 20, 30, 10, 10, 20, 30, 10, 10, 20, 30)"
      ]
     },
     "execution_count": 292,
     "metadata": {},
     "output_type": "execute_result"
    }
   ],
   "source": [
    "t4 = t * 4  #repeating elements four times\n",
    "t4"
   ]
  },
  {
   "cell_type": "markdown",
   "id": "cdac1f93-0136-4d13-971b-3333b8344409",
   "metadata": {},
   "source": [
    "# tuple completed"
   ]
  },
  {
   "cell_type": "markdown",
   "id": "6fef9d16-2df9-4408-aeee-225e479d2492",
   "metadata": {},
   "source": [
    "# set"
   ]
  },
  {
   "cell_type": "code",
   "execution_count": 293,
   "id": "e7bb705d-ebc6-410a-97a4-f8579acc530a",
   "metadata": {},
   "outputs": [
    {
     "data": {
      "text/plain": [
       "{}"
      ]
     },
     "execution_count": 293,
     "metadata": {},
     "output_type": "execute_result"
    }
   ],
   "source": [
    "s = {}\n",
    "s"
   ]
  },
  {
   "cell_type": "code",
   "execution_count": 294,
   "id": "1f14799e-a5e3-49ba-9948-c5164a30bf72",
   "metadata": {},
   "outputs": [
    {
     "data": {
      "text/plain": [
       "dict"
      ]
     },
     "execution_count": 294,
     "metadata": {},
     "output_type": "execute_result"
    }
   ],
   "source": [
    "type(s)"
   ]
  },
  {
   "cell_type": "code",
   "execution_count": 295,
   "id": "776fdc7c-39ea-408d-a6d2-e02d26852c44",
   "metadata": {},
   "outputs": [
    {
     "data": {
      "text/plain": [
       "set"
      ]
     },
     "execution_count": 295,
     "metadata": {},
     "output_type": "execute_result"
    }
   ],
   "source": [
    "s1 = set()\n",
    "type(s1)"
   ]
  },
  {
   "cell_type": "code",
   "execution_count": 296,
   "id": "4a89494e-6915-4254-8cae-1880188aff74",
   "metadata": {},
   "outputs": [
    {
     "data": {
      "text/plain": [
       "{3, 15, 20, 47, 100}"
      ]
     },
     "execution_count": 296,
     "metadata": {},
     "output_type": "execute_result"
    }
   ],
   "source": [
    "s1={100,20,3,15,47}\n",
    "s1"
   ]
  },
  {
   "cell_type": "code",
   "execution_count": 297,
   "id": "5ccc076b-cfc4-4968-8b15-f6a67711f9fa",
   "metadata": {},
   "outputs": [
    {
     "data": {
      "text/plain": [
       "{1.3, 2.3, 4.5}"
      ]
     },
     "execution_count": 297,
     "metadata": {},
     "output_type": "execute_result"
    }
   ],
   "source": [
    "s2={2.3,4.5,1.3}\n",
    "s2"
   ]
  },
  {
   "cell_type": "code",
   "execution_count": 298,
   "id": "562e34ac-27ac-4508-926e-c49035e4ae32",
   "metadata": {},
   "outputs": [
    {
     "data": {
      "text/plain": [
       "{'a', 'm', 'x', 'z'}"
      ]
     },
     "execution_count": 298,
     "metadata": {},
     "output_type": "execute_result"
    }
   ],
   "source": [
    "s3={'z','m','a','x'}\n",
    "s3"
   ]
  },
  {
   "cell_type": "code",
   "execution_count": 299,
   "id": "919f35b6-c742-4fb4-aa86-34adf1f6544d",
   "metadata": {},
   "outputs": [
    {
     "data": {
      "text/plain": [
       "{10, 2.3, 5, 6.7, 'a'}"
      ]
     },
     "execution_count": 299,
     "metadata": {},
     "output_type": "execute_result"
    }
   ],
   "source": [
    "s4 = {10, 2.3, 'a', 5, 6.7}\n",
    "s4"
   ]
  },
  {
   "cell_type": "code",
   "execution_count": 300,
   "id": "47d8d799-e0e3-42a6-bdc4-5c451f5f432f",
   "metadata": {},
   "outputs": [
    {
     "name": "stdout",
     "output_type": "stream",
     "text": [
      "{3, 100, 20, 47, 15}\n",
      "{1.3, 2.3, 4.5}\n",
      "{'x', 'a', 'z', 'm'}\n",
      "{2.3, 'a', 5, 6.7, 10}\n"
     ]
    }
   ],
   "source": [
    "print(s1)\n",
    "print(s2)\n",
    "print(s3)\n",
    "print(s4)"
   ]
  },
  {
   "cell_type": "code",
   "execution_count": 301,
   "id": "e0b72318-0fe7-4ef1-8cdb-00dad2f2c9ff",
   "metadata": {},
   "outputs": [
    {
     "name": "stdout",
     "output_type": "stream",
     "text": [
      "3\n",
      "100\n",
      "20\n",
      "47\n",
      "15\n"
     ]
    }
   ],
   "source": [
    "for i in s1:\n",
    "    print(i)"
   ]
  },
  {
   "cell_type": "code",
   "execution_count": 302,
   "id": "51188242-41d7-416b-9e39-2d231ab1b85c",
   "metadata": {},
   "outputs": [
    {
     "name": "stdout",
     "output_type": "stream",
     "text": [
      "(0, 3)\n",
      "(1, 100)\n",
      "(2, 20)\n",
      "(3, 47)\n",
      "(4, 15)\n"
     ]
    }
   ],
   "source": [
    "for i in enumerate(s1):\n",
    "    print(i)"
   ]
  },
  {
   "cell_type": "code",
   "execution_count": 303,
   "id": "213acf10-77ad-4a27-8f8f-d3d455ddde50",
   "metadata": {},
   "outputs": [
    {
     "data": {
      "text/plain": [
       "{10, 2.3, 5, 6.7, 'a'}"
      ]
     },
     "execution_count": 303,
     "metadata": {},
     "output_type": "execute_result"
    }
   ],
   "source": [
    "s4"
   ]
  },
  {
   "cell_type": "code",
   "execution_count": 304,
   "id": "f2d813f7-2d41-4247-afac-6bd0b8704aab",
   "metadata": {},
   "outputs": [
    {
     "ename": "TypeError",
     "evalue": "set.add() takes exactly one argument (2 given)",
     "output_type": "error",
     "traceback": [
      "\u001b[1;31m---------------------------------------------------------------------------\u001b[0m",
      "\u001b[1;31mTypeError\u001b[0m                                 Traceback (most recent call last)",
      "Cell \u001b[1;32mIn[304], line 1\u001b[0m\n\u001b[1;32m----> 1\u001b[0m s4\u001b[38;5;241m.\u001b[39madd(\u001b[38;5;241m10\u001b[39m, \u001b[38;5;241m2.3\u001b[39m,)\n",
      "\u001b[1;31mTypeError\u001b[0m: set.add() takes exactly one argument (2 given)"
     ]
    }
   ],
   "source": [
    "s4.add(10, 2.3,)"
   ]
  },
  {
   "cell_type": "code",
   "execution_count": 305,
   "id": "f45d8836-9dee-4149-867c-1b5cbad6c5e5",
   "metadata": {},
   "outputs": [
    {
     "data": {
      "text/plain": [
       "{10, 2.3, 5, 6.7, 'a'}"
      ]
     },
     "execution_count": 305,
     "metadata": {},
     "output_type": "execute_result"
    }
   ],
   "source": [
    "s4"
   ]
  },
  {
   "cell_type": "code",
   "execution_count": 306,
   "id": "101d0f2b-8be4-4d89-af93-de20d9bdc5c3",
   "metadata": {},
   "outputs": [],
   "source": [
    "s4.add(10)\n",
    "s4.add(20)\n",
    "s4.add(2.3)"
   ]
  },
  {
   "cell_type": "code",
   "execution_count": 307,
   "id": "7c7f06ce-f459-4f00-910d-b8f1d41376f9",
   "metadata": {},
   "outputs": [
    {
     "data": {
      "text/plain": [
       "{10, 2.3, 20, 5, 6.7, 'a'}"
      ]
     },
     "execution_count": 307,
     "metadata": {},
     "output_type": "execute_result"
    }
   ],
   "source": [
    "s4"
   ]
  },
  {
   "cell_type": "code",
   "execution_count": 308,
   "id": "c12cb123-a8f3-48e3-b553-85a7cfcc75ff",
   "metadata": {},
   "outputs": [
    {
     "data": {
      "text/plain": [
       "{3, 15, 20, 47, 100}"
      ]
     },
     "execution_count": 308,
     "metadata": {},
     "output_type": "execute_result"
    }
   ],
   "source": [
    "s1"
   ]
  },
  {
   "cell_type": "code",
   "execution_count": 309,
   "id": "5db513b2-57f5-4de0-b3eb-5c8ee7f718f0",
   "metadata": {},
   "outputs": [
    {
     "data": {
      "text/plain": [
       "{3, 4, 15, 20, 47, 100}"
      ]
     },
     "execution_count": 309,
     "metadata": {},
     "output_type": "execute_result"
    }
   ],
   "source": [
    "s1.add(4)\n",
    "s1"
   ]
  },
  {
   "cell_type": "code",
   "execution_count": 310,
   "id": "219a1e38-5eaf-49d6-9c4a-ed7caf4b89e6",
   "metadata": {},
   "outputs": [
    {
     "data": {
      "text/plain": [
       "{10, 2.3, 20, 5, 6.7, 'a'}"
      ]
     },
     "execution_count": 310,
     "metadata": {},
     "output_type": "execute_result"
    }
   ],
   "source": [
    "s4"
   ]
  },
  {
   "cell_type": "code",
   "execution_count": 311,
   "id": "24eb7917-4ab9-4ed5-9784-7adeab876b41",
   "metadata": {},
   "outputs": [
    {
     "data": {
      "text/plain": [
       "6"
      ]
     },
     "execution_count": 311,
     "metadata": {},
     "output_type": "execute_result"
    }
   ],
   "source": [
    "len(s4)"
   ]
  },
  {
   "cell_type": "code",
   "execution_count": 312,
   "id": "9def21e0-3f9b-4ce6-a470-5952642f39a5",
   "metadata": {},
   "outputs": [],
   "source": [
    "s4.clear()"
   ]
  },
  {
   "cell_type": "code",
   "execution_count": 313,
   "id": "64f28ab9-815d-49f2-aa1e-b1925c4077f6",
   "metadata": {},
   "outputs": [
    {
     "data": {
      "text/plain": [
       "set()"
      ]
     },
     "execution_count": 313,
     "metadata": {},
     "output_type": "execute_result"
    }
   ],
   "source": [
    "s4"
   ]
  },
  {
   "cell_type": "code",
   "execution_count": 314,
   "id": "e82868fc-2ad8-49be-b666-450d960e6cac",
   "metadata": {},
   "outputs": [
    {
     "data": {
      "text/plain": [
       "0"
      ]
     },
     "execution_count": 314,
     "metadata": {},
     "output_type": "execute_result"
    }
   ],
   "source": [
    "len(s4)"
   ]
  },
  {
   "cell_type": "code",
   "execution_count": 315,
   "id": "df2a1e91-dc48-44a1-b255-8bf0098bfaec",
   "metadata": {},
   "outputs": [],
   "source": [
    "del s4"
   ]
  },
  {
   "cell_type": "code",
   "execution_count": 316,
   "id": "089350da-bb42-4965-92d5-3331691416e4",
   "metadata": {},
   "outputs": [
    {
     "ename": "NameError",
     "evalue": "name 's4' is not defined",
     "output_type": "error",
     "traceback": [
      "\u001b[1;31m---------------------------------------------------------------------------\u001b[0m",
      "\u001b[1;31mNameError\u001b[0m                                 Traceback (most recent call last)",
      "Cell \u001b[1;32mIn[316], line 1\u001b[0m\n\u001b[1;32m----> 1\u001b[0m s4\n",
      "\u001b[1;31mNameError\u001b[0m: name 's4' is not defined"
     ]
    }
   ],
   "source": [
    "s4"
   ]
  },
  {
   "cell_type": "code",
   "execution_count": 317,
   "id": "adbbd191-83f6-46cc-b478-cdaa2e3c7bf8",
   "metadata": {},
   "outputs": [
    {
     "data": {
      "text/plain": [
       "{3, 4, 15, 20, 47, 100}"
      ]
     },
     "execution_count": 317,
     "metadata": {},
     "output_type": "execute_result"
    }
   ],
   "source": [
    "s1"
   ]
  },
  {
   "cell_type": "code",
   "execution_count": 318,
   "id": "0a80be92-c24a-4b6b-8bf8-b6cfe983b50e",
   "metadata": {},
   "outputs": [
    {
     "data": {
      "text/plain": [
       "{3, 4, 15, 20, 47, 100}"
      ]
     },
     "execution_count": 318,
     "metadata": {},
     "output_type": "execute_result"
    }
   ],
   "source": [
    "s4 = s1.copy()\n",
    "s4"
   ]
  },
  {
   "cell_type": "code",
   "execution_count": 319,
   "id": "d91d73f0-8649-4d0c-9cab-776211290aa0",
   "metadata": {},
   "outputs": [
    {
     "data": {
      "text/plain": [
       "True"
      ]
     },
     "execution_count": 319,
     "metadata": {},
     "output_type": "execute_result"
    }
   ],
   "source": [
    "s1 == s4"
   ]
  },
  {
   "cell_type": "code",
   "execution_count": 320,
   "id": "bd550823-0e4d-48b7-b076-4c48e0a849c9",
   "metadata": {},
   "outputs": [
    {
     "data": {
      "text/plain": [
       "{3, 4, 15, 20, 47, 100}"
      ]
     },
     "execution_count": 320,
     "metadata": {},
     "output_type": "execute_result"
    }
   ],
   "source": [
    "s1"
   ]
  },
  {
   "cell_type": "code",
   "execution_count": 321,
   "id": "ed6fa8db-9be2-460a-9314-7753b70257a3",
   "metadata": {},
   "outputs": [],
   "source": [
    "s1.remove(100)"
   ]
  },
  {
   "cell_type": "code",
   "execution_count": 322,
   "id": "c7836980-e30b-43f4-81e6-d543c15683a7",
   "metadata": {},
   "outputs": [
    {
     "data": {
      "text/plain": [
       "{3, 4, 15, 20, 47}"
      ]
     },
     "execution_count": 322,
     "metadata": {},
     "output_type": "execute_result"
    }
   ],
   "source": [
    "s1"
   ]
  },
  {
   "cell_type": "code",
   "execution_count": 323,
   "id": "71c54006-6f27-44f7-822b-19812f055790",
   "metadata": {},
   "outputs": [
    {
     "data": {
      "text/plain": [
       "{'a', 'm', 'x', 'z'}"
      ]
     },
     "execution_count": 323,
     "metadata": {},
     "output_type": "execute_result"
    }
   ],
   "source": [
    "s3"
   ]
  },
  {
   "cell_type": "code",
   "execution_count": 324,
   "id": "2fd1a27c-6beb-4c1d-a64c-471998933980",
   "metadata": {},
   "outputs": [
    {
     "data": {
      "text/plain": [
       "'x'"
      ]
     },
     "execution_count": 324,
     "metadata": {},
     "output_type": "execute_result"
    }
   ],
   "source": [
    "s3.pop()"
   ]
  },
  {
   "cell_type": "code",
   "execution_count": 325,
   "id": "90ed9a8a-5456-4aec-86c1-3cbbe70f7bcc",
   "metadata": {},
   "outputs": [
    {
     "data": {
      "text/plain": [
       "{1.3, 2.3, 4.5}"
      ]
     },
     "execution_count": 325,
     "metadata": {},
     "output_type": "execute_result"
    }
   ],
   "source": [
    " s2"
   ]
  },
  {
   "cell_type": "code",
   "execution_count": 326,
   "id": "7fc19c62-7fa0-4ede-a846-df14aefefb5c",
   "metadata": {},
   "outputs": [
    {
     "data": {
      "text/plain": [
       "1.3"
      ]
     },
     "execution_count": 326,
     "metadata": {},
     "output_type": "execute_result"
    }
   ],
   "source": [
    "s2.pop()"
   ]
  },
  {
   "cell_type": "code",
   "execution_count": 327,
   "id": "14ebe5ea-53a4-4cd1-a9b0-207053f84f72",
   "metadata": {},
   "outputs": [
    {
     "data": {
      "text/plain": [
       "{3, 4, 15, 20, 47, 100}"
      ]
     },
     "execution_count": 327,
     "metadata": {},
     "output_type": "execute_result"
    }
   ],
   "source": [
    "s4"
   ]
  },
  {
   "cell_type": "code",
   "execution_count": 328,
   "id": "a9a1c0b2-0201-44d2-9daf-51353a5c1e82",
   "metadata": {},
   "outputs": [
    {
     "ename": "TypeError",
     "evalue": "set.pop() takes no arguments (1 given)",
     "output_type": "error",
     "traceback": [
      "\u001b[1;31m---------------------------------------------------------------------------\u001b[0m",
      "\u001b[1;31mTypeError\u001b[0m                                 Traceback (most recent call last)",
      "Cell \u001b[1;32mIn[328], line 1\u001b[0m\n\u001b[1;32m----> 1\u001b[0m s4\u001b[38;5;241m.\u001b[39mpop(\u001b[38;5;241m3\u001b[39m)\n",
      "\u001b[1;31mTypeError\u001b[0m: set.pop() takes no arguments (1 given)"
     ]
    }
   ],
   "source": [
    "s4.pop(3)"
   ]
  },
  {
   "cell_type": "code",
   "execution_count": 329,
   "id": "de08e2c6-1003-4f88-9096-cbd9c7713f76",
   "metadata": {},
   "outputs": [
    {
     "ename": "TypeError",
     "evalue": "'set' object is not subscriptable",
     "output_type": "error",
     "traceback": [
      "\u001b[1;31m---------------------------------------------------------------------------\u001b[0m",
      "\u001b[1;31mTypeError\u001b[0m                                 Traceback (most recent call last)",
      "Cell \u001b[1;32mIn[329], line 1\u001b[0m\n\u001b[1;32m----> 1\u001b[0m s4[\u001b[38;5;241m4\u001b[39m]\n",
      "\u001b[1;31mTypeError\u001b[0m: 'set' object is not subscriptable"
     ]
    }
   ],
   "source": [
    "s4[4]"
   ]
  },
  {
   "cell_type": "code",
   "execution_count": 330,
   "id": "2481bd90-55a5-4500-8a78-05a1ff088f23",
   "metadata": {},
   "outputs": [
    {
     "data": {
      "text/plain": [
       "{'a', 'm', 'z'}"
      ]
     },
     "execution_count": 330,
     "metadata": {},
     "output_type": "execute_result"
    }
   ],
   "source": [
    "s3"
   ]
  },
  {
   "cell_type": "code",
   "execution_count": 331,
   "id": "985df963-9a5c-403f-a7e8-645343546dc9",
   "metadata": {},
   "outputs": [],
   "source": [
    "s3.add('z')"
   ]
  },
  {
   "cell_type": "code",
   "execution_count": 332,
   "id": "393eed35-c441-4408-baa3-e669fc76e452",
   "metadata": {},
   "outputs": [
    {
     "data": {
      "text/plain": [
       "{'a', 'm', 'z'}"
      ]
     },
     "execution_count": 332,
     "metadata": {},
     "output_type": "execute_result"
    }
   ],
   "source": [
    "s3"
   ]
  },
  {
   "cell_type": "code",
   "execution_count": 333,
   "id": "7b509e4c-4c7b-4897-b8ed-698ed1212056",
   "metadata": {},
   "outputs": [
    {
     "data": {
      "text/plain": [
       "{'a', 'm', 'z'}"
      ]
     },
     "execution_count": 333,
     "metadata": {},
     "output_type": "execute_result"
    }
   ],
   "source": [
    "s3"
   ]
  },
  {
   "cell_type": "code",
   "execution_count": 334,
   "id": "c00db4fc-1609-4b99-9008-8577062fd419",
   "metadata": {},
   "outputs": [],
   "source": [
    "a = {1,2,3,4,5}\n",
    "b = {4,5,6,7,8}\n",
    "c = {8,9,10}"
   ]
  },
  {
   "cell_type": "code",
   "execution_count": 335,
   "id": "138dc11e-4228-4181-a9d9-4a4e439bd147",
   "metadata": {},
   "outputs": [
    {
     "data": {
      "text/plain": [
       "set"
      ]
     },
     "execution_count": 335,
     "metadata": {},
     "output_type": "execute_result"
    }
   ],
   "source": [
    "type(c)"
   ]
  },
  {
   "cell_type": "code",
   "execution_count": 336,
   "id": "58ed39f2-a2f1-4b02-95e3-cd233c9626c2",
   "metadata": {},
   "outputs": [
    {
     "data": {
      "text/plain": [
       "{1, 2, 3, 4, 5, 6, 7, 8}"
      ]
     },
     "execution_count": 336,
     "metadata": {},
     "output_type": "execute_result"
    }
   ],
   "source": [
    "a.union(b) "
   ]
  },
  {
   "cell_type": "code",
   "execution_count": 337,
   "id": "3d636e47-4fd0-48bf-a816-4863396e6efb",
   "metadata": {},
   "outputs": [
    {
     "name": "stdout",
     "output_type": "stream",
     "text": [
      "{1, 2, 3, 4, 5}\n",
      "{4, 5, 6, 7, 8}\n",
      "{8, 9, 10}\n"
     ]
    }
   ],
   "source": [
    "print(a)\n",
    "print(b)\n",
    "print(c)"
   ]
  },
  {
   "cell_type": "code",
   "execution_count": 338,
   "id": "77e19479-1bb2-4c8d-9897-41dc3d99af87",
   "metadata": {},
   "outputs": [
    {
     "data": {
      "text/plain": [
       "{1, 2, 3, 4, 5, 6, 7, 8}"
      ]
     },
     "execution_count": 338,
     "metadata": {},
     "output_type": "execute_result"
    }
   ],
   "source": [
    "d_union = a.union(b)\n",
    "d_union"
   ]
  },
  {
   "cell_type": "code",
   "execution_count": 339,
   "id": "1f7c8ac9-8147-451d-b462-c6aed16917e1",
   "metadata": {},
   "outputs": [
    {
     "name": "stdout",
     "output_type": "stream",
     "text": [
      "{1, 2, 3, 4, 5}\n",
      "{4, 5, 6, 7, 8}\n",
      "{8, 9, 10}\n",
      "{1, 2, 3, 4, 5, 6, 7, 8}\n"
     ]
    }
   ],
   "source": [
    "print(a)\n",
    "print(b)\n",
    "print(c)\n",
    "print(d_union)"
   ]
  },
  {
   "cell_type": "code",
   "execution_count": 340,
   "id": "ed933d9e-2732-4e56-8952-2b6ad396346c",
   "metadata": {},
   "outputs": [
    {
     "data": {
      "text/plain": [
       "{1, 2, 3, 4, 5, 6, 7, 8, 9, 10}"
      ]
     },
     "execution_count": 340,
     "metadata": {},
     "output_type": "execute_result"
    }
   ],
   "source": [
    "b.union(a,c)"
   ]
  },
  {
   "cell_type": "code",
   "execution_count": 341,
   "id": "225bb148-3bcc-40e8-b6a8-8e2452fe1042",
   "metadata": {},
   "outputs": [
    {
     "data": {
      "text/plain": [
       "{1, 2, 3, 4, 5, 6, 7, 8}"
      ]
     },
     "execution_count": 341,
     "metadata": {},
     "output_type": "execute_result"
    }
   ],
   "source": [
    "a |b"
   ]
  },
  {
   "cell_type": "code",
   "execution_count": 342,
   "id": "a79ccdf7-0bd4-4a9d-aca7-969a5d083fef",
   "metadata": {},
   "outputs": [
    {
     "data": {
      "text/plain": [
       "{1, 2, 3, 4, 5, 6, 7, 8, 9, 10}"
      ]
     },
     "execution_count": 342,
     "metadata": {},
     "output_type": "execute_result"
    }
   ],
   "source": [
    "a | b | c"
   ]
  },
  {
   "cell_type": "code",
   "execution_count": 343,
   "id": "02988af8-e253-48a8-badd-87f8fcc6ccec",
   "metadata": {},
   "outputs": [
    {
     "name": "stdout",
     "output_type": "stream",
     "text": [
      "{1, 2, 3, 4, 5}\n",
      "{4, 5, 6, 7, 8}\n",
      "{8, 9, 10}\n",
      "{1, 2, 3, 4, 5, 6, 7, 8}\n"
     ]
    }
   ],
   "source": [
    "print(a)\n",
    "print(b)\n",
    "print(c)\n",
    "print(d_union)"
   ]
  },
  {
   "cell_type": "code",
   "execution_count": 344,
   "id": "a087cb2e-fd91-4ca2-a160-1f32b0b5309e",
   "metadata": {},
   "outputs": [],
   "source": [
    "a.update(b)"
   ]
  },
  {
   "cell_type": "code",
   "execution_count": 345,
   "id": "f94f024a-1c2c-4d92-91c4-8021a8504431",
   "metadata": {},
   "outputs": [
    {
     "name": "stdout",
     "output_type": "stream",
     "text": [
      "{1, 2, 3, 4, 5, 6, 7, 8}\n",
      "{4, 5, 6, 7, 8}\n",
      "{8, 9, 10}\n",
      "{1, 2, 3, 4, 5, 6, 7, 8}\n"
     ]
    }
   ],
   "source": [
    "print(a)\n",
    "print(b)\n",
    "print(c)\n",
    "print(d_union)"
   ]
  },
  {
   "cell_type": "code",
   "execution_count": 346,
   "id": "8fcb7aa9-ed76-4ef6-80ff-8091f5d5ee0d",
   "metadata": {},
   "outputs": [],
   "source": [
    "c.update(b)"
   ]
  },
  {
   "cell_type": "code",
   "execution_count": 347,
   "id": "497fea4a-d17c-4870-8d57-670a60c3bafb",
   "metadata": {},
   "outputs": [
    {
     "name": "stdout",
     "output_type": "stream",
     "text": [
      "{1, 2, 3, 4, 5, 6, 7, 8}\n",
      "{4, 5, 6, 7, 8}\n",
      "{4, 5, 6, 7, 8, 9, 10}\n",
      "{1, 2, 3, 4, 5, 6, 7, 8}\n"
     ]
    }
   ],
   "source": [
    "print(a)\n",
    "print(b)\n",
    "print(c)\n",
    "print(d_union)"
   ]
  },
  {
   "cell_type": "code",
   "execution_count": 348,
   "id": "6cc54a42-65e2-4d30-ade0-dcde3479b2a0",
   "metadata": {},
   "outputs": [
    {
     "name": "stdout",
     "output_type": "stream",
     "text": [
      "{4, 5, 6, 7, 8, 9, 10}\n"
     ]
    }
   ],
   "source": [
    "print(c)"
   ]
  },
  {
   "cell_type": "code",
   "execution_count": 349,
   "id": "fde67088-63cf-4f76-ae0b-34a8c32ca3f7",
   "metadata": {},
   "outputs": [
    {
     "ename": "TypeError",
     "evalue": "'int' object is not iterable",
     "output_type": "error",
     "traceback": [
      "\u001b[1;31m---------------------------------------------------------------------------\u001b[0m",
      "\u001b[1;31mTypeError\u001b[0m                                 Traceback (most recent call last)",
      "Cell \u001b[1;32mIn[349], line 1\u001b[0m\n\u001b[1;32m----> 1\u001b[0m c\u001b[38;5;241m.\u001b[39mupdate(\u001b[38;5;241m4\u001b[39m)\n",
      "\u001b[1;31mTypeError\u001b[0m: 'int' object is not iterable"
     ]
    }
   ],
   "source": [
    "c.update(4)"
   ]
  },
  {
   "cell_type": "code",
   "execution_count": 350,
   "id": "c3261a66-a91b-48c8-92fd-b4eb8dd8f2af",
   "metadata": {},
   "outputs": [],
   "source": [
    "a = {1,2,3,4,5}\n",
    "b = {4,5,6,7,8}\n",
    "c = {8,9,10}"
   ]
  },
  {
   "cell_type": "code",
   "execution_count": 351,
   "id": "11357228-95f9-4bb7-a134-5145a546f118",
   "metadata": {},
   "outputs": [
    {
     "data": {
      "text/plain": [
       "{4, 5}"
      ]
     },
     "execution_count": 351,
     "metadata": {},
     "output_type": "execute_result"
    }
   ],
   "source": [
    "a.intersection(b)"
   ]
  },
  {
   "cell_type": "code",
   "execution_count": 352,
   "id": "5fddad53-ad40-4b53-b3ba-05d3b1bf20ef",
   "metadata": {},
   "outputs": [
    {
     "data": {
      "text/plain": [
       "{8}"
      ]
     },
     "execution_count": 352,
     "metadata": {},
     "output_type": "execute_result"
    }
   ],
   "source": [
    "b & c"
   ]
  },
  {
   "cell_type": "code",
   "execution_count": 353,
   "id": "f991248a-f6ba-4f58-9789-f6c1206d627b",
   "metadata": {},
   "outputs": [],
   "source": [
    "a2 = {1,2,3,4,5}\n",
    "b2 = {4,5,6,7,8}\n",
    "c2 = {8,9,10}"
   ]
  },
  {
   "cell_type": "code",
   "execution_count": 354,
   "id": "b3df0582-f332-4b3e-9417-0c5425c7bcee",
   "metadata": {},
   "outputs": [
    {
     "data": {
      "text/plain": [
       "{1, 2, 3}"
      ]
     },
     "execution_count": 354,
     "metadata": {},
     "output_type": "execute_result"
    }
   ],
   "source": [
    "a2-b2"
   ]
  },
  {
   "cell_type": "code",
   "execution_count": 355,
   "id": "b0771ea7-5ecf-450c-9646-8b81bc8637bd",
   "metadata": {},
   "outputs": [
    {
     "data": {
      "text/plain": [
       "{6, 7, 8}"
      ]
     },
     "execution_count": 355,
     "metadata": {},
     "output_type": "execute_result"
    }
   ],
   "source": [
    "b2 - a2"
   ]
  },
  {
   "cell_type": "code",
   "execution_count": 356,
   "id": "95ccae63-6e9a-41e4-8f74-bae43a64bfa4",
   "metadata": {},
   "outputs": [
    {
     "data": {
      "text/plain": [
       "{1, 2, 3, 4, 5}"
      ]
     },
     "execution_count": 356,
     "metadata": {},
     "output_type": "execute_result"
    }
   ],
   "source": [
    "a2 - c2"
   ]
  },
  {
   "cell_type": "code",
   "execution_count": 357,
   "id": "cfc30e31-ef4a-4379-a320-41e2846f541d",
   "metadata": {},
   "outputs": [],
   "source": [
    "a2 = {1,2,3,4,5}\n",
    "b2 = {4,5,6,7,8}\n",
    "c2 = {8,9,10}"
   ]
  },
  {
   "cell_type": "code",
   "execution_count": 358,
   "id": "dc5615eb-eead-412e-8794-88815acb2045",
   "metadata": {},
   "outputs": [
    {
     "data": {
      "text/plain": [
       "{4, 5, 6, 7}"
      ]
     },
     "execution_count": 358,
     "metadata": {},
     "output_type": "execute_result"
    }
   ],
   "source": [
    "b2.difference(c2)"
   ]
  },
  {
   "cell_type": "code",
   "execution_count": 359,
   "id": "022984d4-f88d-4a6f-9286-7abe0b45511d",
   "metadata": {},
   "outputs": [
    {
     "data": {
      "text/plain": [
       "{1, 2, 3, 6, 7, 8}"
      ]
     },
     "execution_count": 359,
     "metadata": {},
     "output_type": "execute_result"
    }
   ],
   "source": [
    "a2.symmetric_difference(b2)"
   ]
  },
  {
   "cell_type": "code",
   "execution_count": 360,
   "id": "eaa78e50-820e-4803-97d8-db0a5aec83f7",
   "metadata": {},
   "outputs": [
    {
     "data": {
      "text/plain": [
       "{4, 5, 6, 7, 9, 10}"
      ]
     },
     "execution_count": 360,
     "metadata": {},
     "output_type": "execute_result"
    }
   ],
   "source": [
    "b2.symmetric_difference(c2)"
   ]
  },
  {
   "cell_type": "code",
   "execution_count": 361,
   "id": "619b70f6-7859-4c36-a076-ac62d8fca227",
   "metadata": {},
   "outputs": [
    {
     "name": "stdout",
     "output_type": "stream",
     "text": [
      "1\n",
      "2\n",
      "3\n",
      "4\n",
      "5\n"
     ]
    }
   ],
   "source": [
    "for i in a:\n",
    "    print(i)"
   ]
  },
  {
   "cell_type": "code",
   "execution_count": 362,
   "id": "56cbcbab-5331-4ddc-93c6-95add5a927c3",
   "metadata": {},
   "outputs": [
    {
     "name": "stdout",
     "output_type": "stream",
     "text": [
      "(0, 1)\n",
      "(1, 2)\n",
      "(2, 3)\n",
      "(3, 4)\n",
      "(4, 5)\n"
     ]
    }
   ],
   "source": [
    "for i in enumerate(a):\n",
    "    print(i)"
   ]
  },
  {
   "cell_type": "code",
   "execution_count": 363,
   "id": "52decc5a-2384-451e-8c72-0e027c9cf723",
   "metadata": {},
   "outputs": [],
   "source": [
    "a5 = {1,2,3,4,5,6,7,8,9}\n",
    "b5 = {3,4,5,6,7,8,9}\n",
    "c5 = {10,20,30,40}"
   ]
  },
  {
   "cell_type": "code",
   "execution_count": 364,
   "id": "c0b35549-b458-40c6-bc58-d7d4e562f956",
   "metadata": {},
   "outputs": [
    {
     "data": {
      "text/plain": [
       "True"
      ]
     },
     "execution_count": 364,
     "metadata": {},
     "output_type": "execute_result"
    }
   ],
   "source": [
    "a5.issuperset(b5)"
   ]
  },
  {
   "cell_type": "code",
   "execution_count": 365,
   "id": "dd7b78c7-349b-4379-aa57-3d70945c4dd3",
   "metadata": {},
   "outputs": [
    {
     "data": {
      "text/plain": [
       "False"
      ]
     },
     "execution_count": 365,
     "metadata": {},
     "output_type": "execute_result"
    }
   ],
   "source": [
    "a5.issubset(b5)"
   ]
  },
  {
   "cell_type": "code",
   "execution_count": 366,
   "id": "99c76106-8c23-4765-9873-b237cc5370ec",
   "metadata": {},
   "outputs": [
    {
     "data": {
      "text/plain": [
       "True"
      ]
     },
     "execution_count": 366,
     "metadata": {},
     "output_type": "execute_result"
    }
   ],
   "source": [
    "a5.isdisjoint(c5)"
   ]
  },
  {
   "cell_type": "code",
   "execution_count": 367,
   "id": "ddb8e9f7-8d91-4bff-9256-aaf7df79ba61",
   "metadata": {},
   "outputs": [],
   "source": [
    "a6 = {1,2,3,4}\n",
    "b6 = {5,6,7,8}\n",
    "c6 = {10,20,30,40}"
   ]
  },
  {
   "cell_type": "code",
   "execution_count": 368,
   "id": "73a2c27f-b7f8-44a9-9abd-3ecf7307d168",
   "metadata": {},
   "outputs": [
    {
     "data": {
      "text/plain": [
       "False"
      ]
     },
     "execution_count": 368,
     "metadata": {},
     "output_type": "execute_result"
    }
   ],
   "source": [
    "a6.issuperset(b6)"
   ]
  },
  {
   "cell_type": "code",
   "execution_count": 369,
   "id": "ab85fb8a-46d2-4fa3-9e1c-e33950632f0c",
   "metadata": {},
   "outputs": [
    {
     "data": {
      "text/plain": [
       "False"
      ]
     },
     "execution_count": 369,
     "metadata": {},
     "output_type": "execute_result"
    }
   ],
   "source": [
    "b6.issubset(c5)"
   ]
  },
  {
   "cell_type": "code",
   "execution_count": 370,
   "id": "fa57e505-7eda-4052-b689-cceebd17ca5c",
   "metadata": {},
   "outputs": [
    {
     "data": {
      "text/plain": [
       "{1, 2, 3, 4, 5}"
      ]
     },
     "execution_count": 370,
     "metadata": {},
     "output_type": "execute_result"
    }
   ],
   "source": [
    "a"
   ]
  },
  {
   "cell_type": "code",
   "execution_count": 371,
   "id": "77944d4d-a9dd-4997-bb70-5b6edb1bfd53",
   "metadata": {},
   "outputs": [
    {
     "data": {
      "text/plain": [
       "15"
      ]
     },
     "execution_count": 371,
     "metadata": {},
     "output_type": "execute_result"
    }
   ],
   "source": [
    "sum(a)"
   ]
  },
  {
   "cell_type": "code",
   "execution_count": 372,
   "id": "7d7536c4-253e-4970-822d-13f3439e88fe",
   "metadata": {},
   "outputs": [
    {
     "data": {
      "text/plain": [
       "5"
      ]
     },
     "execution_count": 372,
     "metadata": {},
     "output_type": "execute_result"
    }
   ],
   "source": [
    "max(a)"
   ]
  },
  {
   "cell_type": "code",
   "execution_count": 373,
   "id": "0ae7ede9-61b9-45d6-8c38-49ad7328c69a",
   "metadata": {},
   "outputs": [
    {
     "data": {
      "text/plain": [
       "1"
      ]
     },
     "execution_count": 373,
     "metadata": {},
     "output_type": "execute_result"
    }
   ],
   "source": [
    "min(a)"
   ]
  },
  {
   "cell_type": "code",
   "execution_count": 374,
   "id": "a9e34c63-cccd-4ff5-b2d3-a842c1777921",
   "metadata": {},
   "outputs": [
    {
     "data": {
      "text/plain": [
       "5"
      ]
     },
     "execution_count": 374,
     "metadata": {},
     "output_type": "execute_result"
    }
   ],
   "source": [
    "len(a)"
   ]
  },
  {
   "cell_type": "code",
   "execution_count": 375,
   "id": "f165b086-4f33-4a05-b61e-ef00452a36a9",
   "metadata": {},
   "outputs": [
    {
     "data": {
      "text/plain": [
       "[(0, 1), (1, 2), (2, 3), (3, 4), (4, 5)]"
      ]
     },
     "execution_count": 375,
     "metadata": {},
     "output_type": "execute_result"
    }
   ],
   "source": [
    "list(enumerate(a))"
   ]
  },
  {
   "cell_type": "markdown",
   "id": "442d8786-124b-4056-a573-d073708a7020",
   "metadata": {},
   "source": [
    "# set data strucute completed"
   ]
  },
  {
   "cell_type": "markdown",
   "id": "d19c631b-5037-4139-816e-726dd0f880a8",
   "metadata": {},
   "source": [
    "# dictionary dict"
   ]
  },
  {
   "cell_type": "code",
   "execution_count": 376,
   "id": "4dbfd1bb-ace1-414e-abf0-7ecb20586b92",
   "metadata": {},
   "outputs": [
    {
     "data": {
      "text/plain": [
       "dict"
      ]
     },
     "execution_count": 376,
     "metadata": {},
     "output_type": "execute_result"
    }
   ],
   "source": [
    "d = {}\n",
    "type(d)"
   ]
  },
  {
   "cell_type": "code",
   "execution_count": 377,
   "id": "cb5353b5-8036-4670-8f89-ed96bdaf5e9e",
   "metadata": {},
   "outputs": [
    {
     "data": {
      "text/plain": [
       "{1: 'one', 2: 'two', 3: 'three', 4: 'four', 5: 'five'}"
      ]
     },
     "execution_count": 377,
     "metadata": {},
     "output_type": "execute_result"
    }
   ],
   "source": [
    "d = {1: 'one', 2: 'two', 3: 'three', 4: 'four', 5:'five'}\n",
    "d"
   ]
  },
  {
   "cell_type": "code",
   "execution_count": 378,
   "id": "258361d3-f498-4d1f-86f0-dee5a03e4109",
   "metadata": {},
   "outputs": [
    {
     "data": {
      "text/plain": [
       "{'six': 6, 'seven': 7, 'eight': 8, 'nine': 9, 'ten': 10}"
      ]
     },
     "execution_count": 378,
     "metadata": {},
     "output_type": "execute_result"
    }
   ],
   "source": [
    "d1 = { 'six' :6, 'seven' :7, 'eight' :8, 'nine' : 9, 'ten' :10}\n",
    "d1"
   ]
  },
  {
   "cell_type": "code",
   "execution_count": 379,
   "id": "5b83c362-adb9-43a5-95b6-0378de0f1bcb",
   "metadata": {},
   "outputs": [
    {
     "name": "stdout",
     "output_type": "stream",
     "text": [
      "5\n",
      "5\n"
     ]
    }
   ],
   "source": [
    "print(len(d))\n",
    "print(len(d1))"
   ]
  },
  {
   "cell_type": "code",
   "execution_count": 380,
   "id": "090a8e2f-c3c6-4bbb-bba2-c80f08bb8982",
   "metadata": {},
   "outputs": [
    {
     "data": {
      "text/plain": [
       "{1: 'one', 2: 'two', 3: 'three', 4: 'four', 5: 'five'}"
      ]
     },
     "execution_count": 380,
     "metadata": {},
     "output_type": "execute_result"
    }
   ],
   "source": [
    "d"
   ]
  },
  {
   "cell_type": "code",
   "execution_count": 381,
   "id": "35728a43-307d-40b7-96c1-603c793cf828",
   "metadata": {},
   "outputs": [
    {
     "ename": "KeyError",
     "evalue": "0",
     "output_type": "error",
     "traceback": [
      "\u001b[1;31m---------------------------------------------------------------------------\u001b[0m",
      "\u001b[1;31mKeyError\u001b[0m                                  Traceback (most recent call last)",
      "Cell \u001b[1;32mIn[381], line 1\u001b[0m\n\u001b[1;32m----> 1\u001b[0m d[\u001b[38;5;241m0\u001b[39m]\n",
      "\u001b[1;31mKeyError\u001b[0m: 0"
     ]
    }
   ],
   "source": [
    "d[0]"
   ]
  },
  {
   "cell_type": "code",
   "execution_count": 382,
   "id": "0b07d08e-7de8-49be-8f28-8363c042fc08",
   "metadata": {},
   "outputs": [
    {
     "ename": "KeyError",
     "evalue": "slice(None, None, None)",
     "output_type": "error",
     "traceback": [
      "\u001b[1;31m---------------------------------------------------------------------------\u001b[0m",
      "\u001b[1;31mKeyError\u001b[0m                                  Traceback (most recent call last)",
      "Cell \u001b[1;32mIn[382], line 1\u001b[0m\n\u001b[1;32m----> 1\u001b[0m d[:]\n",
      "\u001b[1;31mKeyError\u001b[0m: slice(None, None, None)"
     ]
    }
   ],
   "source": [
    "d[:]"
   ]
  },
  {
   "cell_type": "code",
   "execution_count": 383,
   "id": "e19e6501-8e48-4306-9d9e-94bca906e811",
   "metadata": {},
   "outputs": [
    {
     "data": {
      "text/plain": [
       "'one'"
      ]
     },
     "execution_count": 383,
     "metadata": {},
     "output_type": "execute_result"
    }
   ],
   "source": [
    "d[1]"
   ]
  },
  {
   "cell_type": "code",
   "execution_count": 384,
   "id": "d8428362-d095-4071-8f45-cf1ef5e623f8",
   "metadata": {},
   "outputs": [
    {
     "data": {
      "text/plain": [
       "6"
      ]
     },
     "execution_count": 384,
     "metadata": {},
     "output_type": "execute_result"
    }
   ],
   "source": [
    "d1['six']"
   ]
  },
  {
   "cell_type": "code",
   "execution_count": 385,
   "id": "08d6f228-c31d-4cd1-b55d-9e95be3dacff",
   "metadata": {},
   "outputs": [
    {
     "data": {
      "text/plain": [
       "dict_keys([1, 2, 3, 4, 5])"
      ]
     },
     "execution_count": 385,
     "metadata": {},
     "output_type": "execute_result"
    }
   ],
   "source": [
    "d.keys()"
   ]
  },
  {
   "cell_type": "code",
   "execution_count": 386,
   "id": "5597d38e-e61f-4856-84f2-de22df4a828e",
   "metadata": {},
   "outputs": [
    {
     "data": {
      "text/plain": [
       "dict_values(['one', 'two', 'three', 'four', 'five'])"
      ]
     },
     "execution_count": 386,
     "metadata": {},
     "output_type": "execute_result"
    }
   ],
   "source": [
    "d.values()"
   ]
  },
  {
   "cell_type": "code",
   "execution_count": 387,
   "id": "c8870489-2075-4d33-9353-ddefa1739f42",
   "metadata": {},
   "outputs": [
    {
     "data": {
      "text/plain": [
       "dict_keys(['six', 'seven', 'eight', 'nine', 'ten'])"
      ]
     },
     "execution_count": 387,
     "metadata": {},
     "output_type": "execute_result"
    }
   ],
   "source": [
    "d1.keys()"
   ]
  },
  {
   "cell_type": "code",
   "execution_count": 388,
   "id": "40143f4d-9e2c-4f4e-999b-e5b5db960e98",
   "metadata": {},
   "outputs": [
    {
     "data": {
      "text/plain": [
       "dict_values([6, 7, 8, 9, 10])"
      ]
     },
     "execution_count": 388,
     "metadata": {},
     "output_type": "execute_result"
    }
   ],
   "source": [
    "d1.values()"
   ]
  },
  {
   "cell_type": "code",
   "execution_count": 389,
   "id": "8bc47b04-094c-49c4-a12a-f90f9e196476",
   "metadata": {},
   "outputs": [],
   "source": [
    "d2 = {1:2, 2.3:4.8, 'niit':'nit', True : False, 1+2j:4+5j}"
   ]
  },
  {
   "cell_type": "code",
   "execution_count": 390,
   "id": "b814f086-f0ed-480f-bccc-4c4809600cb4",
   "metadata": {},
   "outputs": [
    {
     "data": {
      "text/plain": [
       "{1: False, 2.3: 4.8, 'niit': 'nit', (1+2j): (4+5j)}"
      ]
     },
     "execution_count": 390,
     "metadata": {},
     "output_type": "execute_result"
    }
   ],
   "source": [
    "d2"
   ]
  },
  {
   "cell_type": "code",
   "execution_count": 391,
   "id": "92d76b2c-bf72-4a00-bf63-caae22b7637b",
   "metadata": {},
   "outputs": [
    {
     "data": {
      "text/plain": [
       "{10: 'ten', 9.0: 'nine'}"
      ]
     },
     "execution_count": 391,
     "metadata": {},
     "output_type": "execute_result"
    }
   ],
   "source": [
    "d3 = {10 : 'ten' , 9.0 : 'nine'}\n",
    "d3"
   ]
  },
  {
   "cell_type": "code",
   "execution_count": 392,
   "id": "4f6db348-d213-4cd2-a2ff-a8b7e6a68063",
   "metadata": {},
   "outputs": [
    {
     "data": {
      "text/plain": [
       "dict_items([(1, 'one'), (2, 'two'), (3, 'three'), (4, 'four'), (5, 'five')])"
      ]
     },
     "execution_count": 392,
     "metadata": {},
     "output_type": "execute_result"
    }
   ],
   "source": [
    "d.items()"
   ]
  },
  {
   "cell_type": "code",
   "execution_count": 393,
   "id": "0c214254-5821-4920-ba74-9a2f410bf8d9",
   "metadata": {},
   "outputs": [
    {
     "data": {
      "text/plain": [
       "5"
      ]
     },
     "execution_count": 393,
     "metadata": {},
     "output_type": "execute_result"
    }
   ],
   "source": [
    "len(d.items())"
   ]
  },
  {
   "cell_type": "code",
   "execution_count": 394,
   "id": "9c44efa4-88c6-4778-8116-5f685890f233",
   "metadata": {},
   "outputs": [
    {
     "data": {
      "text/plain": [
       "2187996210048"
      ]
     },
     "execution_count": 394,
     "metadata": {},
     "output_type": "execute_result"
    }
   ],
   "source": [
    "id(d)"
   ]
  },
  {
   "cell_type": "code",
   "execution_count": 395,
   "id": "0c9f6287-6bf1-4f34-b997-c41a18ad678b",
   "metadata": {},
   "outputs": [
    {
     "data": {
      "text/plain": [
       "{1: 'one', 2: 'two', 3: 'three', 4: 'four', 5: 'five'}"
      ]
     },
     "execution_count": 395,
     "metadata": {},
     "output_type": "execute_result"
    }
   ],
   "source": [
    "d"
   ]
  },
  {
   "cell_type": "code",
   "execution_count": 396,
   "id": "ce4ea6f5-0e19-432a-b4a8-560223abe2f8",
   "metadata": {},
   "outputs": [
    {
     "data": {
      "text/plain": [
       "'one'"
      ]
     },
     "execution_count": 396,
     "metadata": {},
     "output_type": "execute_result"
    }
   ],
   "source": [
    "d.pop(1)"
   ]
  },
  {
   "cell_type": "code",
   "execution_count": 397,
   "id": "439270ba-f24a-4b65-917e-af4bccc761a3",
   "metadata": {},
   "outputs": [
    {
     "data": {
      "text/plain": [
       "{2: 'two', 3: 'three', 4: 'four', 5: 'five'}"
      ]
     },
     "execution_count": 397,
     "metadata": {},
     "output_type": "execute_result"
    }
   ],
   "source": [
    "d"
   ]
  },
  {
   "cell_type": "code",
   "execution_count": 398,
   "id": "37937df9-f5e5-4a56-b63c-f9488a341b7f",
   "metadata": {},
   "outputs": [],
   "source": [
    "d[1] = 'one'"
   ]
  },
  {
   "cell_type": "code",
   "execution_count": 399,
   "id": "e5e14111-f3ca-466f-8a79-463b98923642",
   "metadata": {},
   "outputs": [
    {
     "data": {
      "text/plain": [
       "{2: 'two', 3: 'three', 4: 'four', 5: 'five', 1: 'one'}"
      ]
     },
     "execution_count": 399,
     "metadata": {},
     "output_type": "execute_result"
    }
   ],
   "source": [
    "d"
   ]
  },
  {
   "cell_type": "code",
   "execution_count": 400,
   "id": "1cabf6ef-b4cf-4640-9409-54956dc5ad5f",
   "metadata": {},
   "outputs": [
    {
     "data": {
      "text/plain": [
       "{2: 'two', 3: 'three', 4: 'four', 5: 'five', 1: 'one'}"
      ]
     },
     "execution_count": 400,
     "metadata": {},
     "output_type": "execute_result"
    }
   ],
   "source": [
    "d"
   ]
  },
  {
   "cell_type": "code",
   "execution_count": 401,
   "id": "1fb19ed4-016f-4c8e-8fdd-c21b5de613e5",
   "metadata": {},
   "outputs": [
    {
     "data": {
      "text/plain": [
       "(1, 'one')"
      ]
     },
     "execution_count": 401,
     "metadata": {},
     "output_type": "execute_result"
    }
   ],
   "source": [
    "d.popitem()"
   ]
  },
  {
   "cell_type": "code",
   "execution_count": 402,
   "id": "93d79067-292a-443d-acde-803ae48f867f",
   "metadata": {},
   "outputs": [
    {
     "data": {
      "text/plain": [
       "{2: 'two', 3: 'three', 4: 'four', 5: 'five'}"
      ]
     },
     "execution_count": 402,
     "metadata": {},
     "output_type": "execute_result"
    }
   ],
   "source": [
    "d"
   ]
  },
  {
   "cell_type": "code",
   "execution_count": 403,
   "id": "faece04f-37e0-4929-8509-4f589b2d52b8",
   "metadata": {},
   "outputs": [
    {
     "name": "stdout",
     "output_type": "stream",
     "text": [
      "2\n",
      "3\n",
      "4\n",
      "5\n"
     ]
    }
   ],
   "source": [
    "for i in d:\n",
    "    print(i)"
   ]
  },
  {
   "cell_type": "code",
   "execution_count": 404,
   "id": "a1df06d1-db09-46c6-8195-af3105f66a75",
   "metadata": {},
   "outputs": [
    {
     "name": "stdout",
     "output_type": "stream",
     "text": [
      "2 : two\n",
      "3 : three\n",
      "4 : four\n",
      "5 : five\n"
     ]
    }
   ],
   "source": [
    "for i in d:\n",
    "    print(i, ':', d[i])"
   ]
  },
  {
   "cell_type": "markdown",
   "id": "1a1bd601-979e-4cdf-9f7d-1ab57b3759ef",
   "metadata": {},
   "source": [
    "# data strucure we are completed"
   ]
  },
  {
   "cell_type": "code",
   "execution_count": 405,
   "id": "e393669f-d9f1-4620-a95a-8bd91cb639bf",
   "metadata": {},
   "outputs": [
    {
     "data": {
      "text/plain": [
       "range(0, 5)"
      ]
     },
     "execution_count": 405,
     "metadata": {},
     "output_type": "execute_result"
    }
   ],
   "source": [
    "range(5)"
   ]
  },
  {
   "cell_type": "code",
   "execution_count": 406,
   "id": "bf1d919d-99d0-44ce-af7b-053ce6294ad9",
   "metadata": {},
   "outputs": [
    {
     "data": {
      "text/plain": [
       "range(5, 10)"
      ]
     },
     "execution_count": 406,
     "metadata": {},
     "output_type": "execute_result"
    }
   ],
   "source": [
    "r = range(5,10)\n",
    "r"
   ]
  },
  {
   "cell_type": "code",
   "execution_count": 407,
   "id": "8b46b2dd-cb7a-4255-bc61-fcffe8467621",
   "metadata": {},
   "outputs": [
    {
     "name": "stdout",
     "output_type": "stream",
     "text": [
      "5\n",
      "6\n",
      "7\n",
      "8\n",
      "9\n"
     ]
    }
   ],
   "source": [
    "for i in r:\n",
    "    print(i)"
   ]
  },
  {
   "cell_type": "code",
   "execution_count": 408,
   "id": "bffdcbc8-612e-4945-8907-d1cbd6521e55",
   "metadata": {},
   "outputs": [
    {
     "data": {
      "text/plain": [
       "[5, 6, 7, 8, 9]"
      ]
     },
     "execution_count": 408,
     "metadata": {},
     "output_type": "execute_result"
    }
   ],
   "source": [
    "list(r)"
   ]
  },
  {
   "cell_type": "code",
   "execution_count": 409,
   "id": "53cd2811-1107-482a-bdbe-e20953e7608b",
   "metadata": {},
   "outputs": [
    {
     "data": {
      "text/plain": [
       "range(0, 11, 2)"
      ]
     },
     "execution_count": 409,
     "metadata": {},
     "output_type": "execute_result"
    }
   ],
   "source": [
    "r1 = range(0, 11, 2)\n",
    "r1"
   ]
  },
  {
   "cell_type": "code",
   "execution_count": 410,
   "id": "a45efe0f-3579-4b61-9890-eb999dc0d744",
   "metadata": {},
   "outputs": [
    {
     "name": "stdout",
     "output_type": "stream",
     "text": [
      "0\n",
      "2\n",
      "4\n",
      "6\n",
      "8\n",
      "10\n"
     ]
    }
   ],
   "source": [
    "for i in r1:\n",
    "    print(i)"
   ]
  },
  {
   "cell_type": "code",
   "execution_count": 411,
   "id": "7b645200-54ff-437e-b811-69ce6427cf46",
   "metadata": {},
   "outputs": [
    {
     "data": {
      "text/plain": [
       "[0, 2, 4, 6, 8, 10]"
      ]
     },
     "execution_count": 411,
     "metadata": {},
     "output_type": "execute_result"
    }
   ],
   "source": [
    "list(r1)"
   ]
  },
  {
   "cell_type": "markdown",
   "id": "a022017f-eda8-42d0-9c02-6e86514323b6",
   "metadata": {},
   "source": [
    "# string"
   ]
  },
  {
   "cell_type": "code",
   "execution_count": 412,
   "id": "29dfa1ed-772d-4c88-bf43-15f4953b46e6",
   "metadata": {},
   "outputs": [
    {
     "data": {
      "text/plain": [
       "'nit nit'"
      ]
     },
     "execution_count": 412,
     "metadata": {},
     "output_type": "execute_result"
    }
   ],
   "source": [
    "'nit' + ' nit' #addition operater"
   ]
  },
  {
   "cell_type": "code",
   "execution_count": 413,
   "id": "a14126a0-f573-4765-a30a-4f203d7d42c1",
   "metadata": {},
   "outputs": [
    {
     "data": {
      "text/plain": [
       "'nit nit'"
      ]
     },
     "execution_count": 413,
     "metadata": {},
     "output_type": "execute_result"
    }
   ],
   "source": [
    "'nit' ' nit'"
   ]
  },
  {
   "cell_type": "code",
   "execution_count": 414,
   "id": "2b87c82c-12c5-410b-a5c7-613b5e9ccdd2",
   "metadata": {},
   "outputs": [
    {
     "data": {
      "text/plain": [
       "'nitnitnitnitnit'"
      ]
     },
     "execution_count": 414,
     "metadata": {},
     "output_type": "execute_result"
    }
   ],
   "source": [
    "5 * 'nit'"
   ]
  },
  {
   "cell_type": "code",
   "execution_count": 415,
   "id": "dce91aa5-3e93-456c-89ff-0fbb4de32f86",
   "metadata": {},
   "outputs": [
    {
     "data": {
      "text/plain": [
       "' nit nit nit nit nit'"
      ]
     },
     "execution_count": 415,
     "metadata": {},
     "output_type": "execute_result"
    }
   ],
   "source": [
    "5 * ' nit'"
   ]
  },
  {
   "cell_type": "code",
   "execution_count": 416,
   "id": "f0564a69-e3aa-4b6f-9965-46ad9369d86d",
   "metadata": {},
   "outputs": [
    {
     "name": "stdout",
     "output_type": "stream",
     "text": [
      "c:\n",
      "it\n"
     ]
    }
   ],
   "source": [
    "print('c:\\nit') #\\n -- new line"
   ]
  },
  {
   "cell_type": "code",
   "execution_count": 417,
   "id": "8e51682b-82e3-4438-93c6-55c74ff85b41",
   "metadata": {},
   "outputs": [
    {
     "name": "stdout",
     "output_type": "stream",
     "text": [
      "c:\\nit\n"
     ]
    }
   ],
   "source": [
    "print(r'c:\\nit') #raw string"
   ]
  },
  {
   "cell_type": "code",
   "execution_count": 418,
   "id": "ec668d04-6231-4ee3-8964-d69a8f5b997c",
   "metadata": {},
   "outputs": [],
   "source": [
    "x = 3"
   ]
  },
  {
   "cell_type": "code",
   "execution_count": 419,
   "id": "d2158768-e130-4ead-9918-84a00dabb075",
   "metadata": {},
   "outputs": [],
   "source": [
    "y = 5"
   ]
  },
  {
   "cell_type": "code",
   "execution_count": 420,
   "id": "98797487-87f6-4c70-b7ea-14669b56a9d3",
   "metadata": {},
   "outputs": [
    {
     "data": {
      "text/plain": [
       "8"
      ]
     },
     "execution_count": 420,
     "metadata": {},
     "output_type": "execute_result"
    }
   ],
   "source": [
    "x + y"
   ]
  },
  {
   "cell_type": "code",
   "execution_count": 421,
   "id": "e3268479-f134-42d8-a91f-b01cbafbd8f0",
   "metadata": {},
   "outputs": [
    {
     "data": {
      "text/plain": [
       "9"
      ]
     },
     "execution_count": 421,
     "metadata": {},
     "output_type": "execute_result"
    }
   ],
   "source": [
    "x = 9\n",
    "x"
   ]
  },
  {
   "cell_type": "code",
   "execution_count": 422,
   "id": "3e44db2a-96b5-4684-a405-ddc03d0f8c84",
   "metadata": {},
   "outputs": [
    {
     "data": {
      "text/plain": [
       "14"
      ]
     },
     "execution_count": 422,
     "metadata": {},
     "output_type": "execute_result"
    }
   ],
   "source": [
    "x + y "
   ]
  },
  {
   "cell_type": "code",
   "execution_count": 423,
   "id": "ceab7577-758e-408c-ae06-4b9bf85d492c",
   "metadata": {},
   "outputs": [
    {
     "data": {
      "text/plain": [
       "19"
      ]
     },
     "execution_count": 423,
     "metadata": {},
     "output_type": "execute_result"
    }
   ],
   "source": [
    "x + 10"
   ]
  },
  {
   "cell_type": "code",
   "execution_count": 424,
   "id": "d673ddad-fad1-4567-a6ec-11cb18513e04",
   "metadata": {},
   "outputs": [
    {
     "data": {
      "text/plain": [
       "24"
      ]
     },
     "execution_count": 424,
     "metadata": {},
     "output_type": "execute_result"
    }
   ],
   "source": [
    "_ + y"
   ]
  },
  {
   "cell_type": "code",
   "execution_count": 425,
   "id": "96c7e69c-20bd-47ba-acbb-4c6300b8c0d6",
   "metadata": {},
   "outputs": [
    {
     "data": {
      "text/plain": [
       "29"
      ]
     },
     "execution_count": 425,
     "metadata": {},
     "output_type": "execute_result"
    }
   ],
   "source": [
    "_ + y"
   ]
  },
  {
   "cell_type": "code",
   "execution_count": 426,
   "id": "ce4b2b52-9753-48bc-a526-d77b340f3762",
   "metadata": {},
   "outputs": [
    {
     "data": {
      "text/plain": [
       "5"
      ]
     },
     "execution_count": 426,
     "metadata": {},
     "output_type": "execute_result"
    }
   ],
   "source": [
    "y"
   ]
  },
  {
   "cell_type": "code",
   "execution_count": 427,
   "id": "bda78543-cf08-4581-a3e1-f504c0f7c53d",
   "metadata": {},
   "outputs": [
    {
     "data": {
      "text/plain": [
       "10"
      ]
     },
     "execution_count": 427,
     "metadata": {},
     "output_type": "execute_result"
    }
   ],
   "source": [
    "_ + y "
   ]
  },
  {
   "cell_type": "code",
   "execution_count": 428,
   "id": "b8d167a5-e979-49e3-88ce-589d3e7e68c1",
   "metadata": {},
   "outputs": [
    {
     "data": {
      "text/plain": [
       "15"
      ]
     },
     "execution_count": 428,
     "metadata": {},
     "output_type": "execute_result"
    }
   ],
   "source": [
    "_ + y"
   ]
  },
  {
   "cell_type": "code",
   "execution_count": 429,
   "id": "07a8d441-d61d-44d3-80a7-b6cb31cec908",
   "metadata": {},
   "outputs": [
    {
     "data": {
      "text/plain": [
       "20"
      ]
     },
     "execution_count": 429,
     "metadata": {},
     "output_type": "execute_result"
    }
   ],
   "source": [
    "_ + y"
   ]
  },
  {
   "cell_type": "code",
   "execution_count": 430,
   "id": "27471c7c-5f76-42ee-a800-ccdef907a2ef",
   "metadata": {},
   "outputs": [],
   "source": [
    "name = 'mit'"
   ]
  },
  {
   "cell_type": "code",
   "execution_count": 431,
   "id": "d466cda3-552d-4ec5-af36-0340534b776b",
   "metadata": {},
   "outputs": [
    {
     "data": {
      "text/plain": [
       "'mit'"
      ]
     },
     "execution_count": 431,
     "metadata": {},
     "output_type": "execute_result"
    }
   ],
   "source": [
    "name"
   ]
  },
  {
   "cell_type": "code",
   "execution_count": 432,
   "id": "67ef3174-08c6-4f07-a815-d008f1e5c69a",
   "metadata": {},
   "outputs": [
    {
     "data": {
      "text/plain": [
       "'mittechology'"
      ]
     },
     "execution_count": 432,
     "metadata": {},
     "output_type": "execute_result"
    }
   ],
   "source": [
    "name + 'techology'"
   ]
  },
  {
   "cell_type": "code",
   "execution_count": 433,
   "id": "934e03c9-f32e-405a-a6f7-1d44d3c391f5",
   "metadata": {},
   "outputs": [
    {
     "ename": "SyntaxError",
     "evalue": "invalid syntax (4033079084.py, line 1)",
     "output_type": "error",
     "traceback": [
      "\u001b[1;36m  Cell \u001b[1;32mIn[433], line 1\u001b[1;36m\u001b[0m\n\u001b[1;33m    name 'techology'\u001b[0m\n\u001b[1;37m         ^\u001b[0m\n\u001b[1;31mSyntaxError\u001b[0m\u001b[1;31m:\u001b[0m invalid syntax\n"
     ]
    }
   ],
   "source": [
    "name 'techology'"
   ]
  },
  {
   "cell_type": "code",
   "execution_count": 434,
   "id": "6ea9e2d7-5f9e-43cf-9db8-0b012eaa7844",
   "metadata": {},
   "outputs": [
    {
     "data": {
      "text/plain": [
       "'mit'"
      ]
     },
     "execution_count": 434,
     "metadata": {},
     "output_type": "execute_result"
    }
   ],
   "source": [
    "name"
   ]
  },
  {
   "cell_type": "code",
   "execution_count": 435,
   "id": "8bac324a-cdbc-41e5-8004-3a9069fbf309",
   "metadata": {},
   "outputs": [
    {
     "data": {
      "text/plain": [
       "3"
      ]
     },
     "execution_count": 435,
     "metadata": {},
     "output_type": "execute_result"
    }
   ],
   "source": [
    "len(name)"
   ]
  },
  {
   "cell_type": "code",
   "execution_count": 436,
   "id": "88cd1dfd-ca0e-42df-b3dd-455fb680a200",
   "metadata": {},
   "outputs": [
    {
     "data": {
      "text/plain": [
       "'fine'"
      ]
     },
     "execution_count": 436,
     "metadata": {},
     "output_type": "execute_result"
    }
   ],
   "source": [
    "name1 = 'fine'\n",
    "name1"
   ]
  },
  {
   "cell_type": "code",
   "execution_count": 437,
   "id": "9027865d-42e7-47f3-8e44-ddcaf0109b2d",
   "metadata": {},
   "outputs": [
    {
     "data": {
      "text/plain": [
       "'f'"
      ]
     },
     "execution_count": 437,
     "metadata": {},
     "output_type": "execute_result"
    }
   ],
   "source": [
    "name1[0:1]"
   ]
  },
  {
   "cell_type": "code",
   "execution_count": 438,
   "id": "4e2568f3-3d48-41fd-9535-e9e9aae107ff",
   "metadata": {},
   "outputs": [
    {
     "ename": "TypeError",
     "evalue": "'str' object does not support item assignment",
     "output_type": "error",
     "traceback": [
      "\u001b[1;31m---------------------------------------------------------------------------\u001b[0m",
      "\u001b[1;31mTypeError\u001b[0m                                 Traceback (most recent call last)",
      "Cell \u001b[1;32mIn[438], line 1\u001b[0m\n\u001b[1;32m----> 1\u001b[0m name1[\u001b[38;5;241m0\u001b[39m:\u001b[38;5;241m1\u001b[39m] \u001b[38;5;241m=\u001b[39m \u001b[38;5;124m'\u001b[39m\u001b[38;5;124md\u001b[39m\u001b[38;5;124m'\u001b[39m\n",
      "\u001b[1;31mTypeError\u001b[0m: 'str' object does not support item assignment"
     ]
    }
   ],
   "source": [
    "name1[0:1] = 'd'"
   ]
  },
  {
   "cell_type": "code",
   "execution_count": 439,
   "id": "406e89e4-17cc-4554-b32e-622152e5e2c7",
   "metadata": {},
   "outputs": [
    {
     "ename": "TypeError",
     "evalue": "'str' object does not support item assignment",
     "output_type": "error",
     "traceback": [
      "\u001b[1;31m---------------------------------------------------------------------------\u001b[0m",
      "\u001b[1;31mTypeError\u001b[0m                                 Traceback (most recent call last)",
      "Cell \u001b[1;32mIn[439], line 1\u001b[0m\n\u001b[1;32m----> 1\u001b[0m name1[\u001b[38;5;241m0\u001b[39m] \u001b[38;5;241m=\u001b[39m \u001b[38;5;124m'\u001b[39m\u001b[38;5;124md\u001b[39m\u001b[38;5;124m'\u001b[39m\n",
      "\u001b[1;31mTypeError\u001b[0m: 'str' object does not support item assignment"
     ]
    }
   ],
   "source": [
    "name1[0] = 'd'"
   ]
  },
  {
   "cell_type": "code",
   "execution_count": 440,
   "id": "f89110ad-0d75-40bb-825d-38ee9f2edc80",
   "metadata": {},
   "outputs": [
    {
     "data": {
      "text/plain": [
       "'fine'"
      ]
     },
     "execution_count": 440,
     "metadata": {},
     "output_type": "execute_result"
    }
   ],
   "source": [
    "name1"
   ]
  },
  {
   "cell_type": "code",
   "execution_count": 441,
   "id": "cdf04f3b-ec19-4c40-aad3-9b84d99b1687",
   "metadata": {},
   "outputs": [
    {
     "data": {
      "text/plain": [
       "'it'"
      ]
     },
     "execution_count": 441,
     "metadata": {},
     "output_type": "execute_result"
    }
   ],
   "source": [
    "name[1:]"
   ]
  },
  {
   "cell_type": "code",
   "execution_count": 442,
   "id": "27946765-72dc-4792-9ca6-14136ed383d2",
   "metadata": {},
   "outputs": [
    {
     "data": {
      "text/plain": [
       "'dine'"
      ]
     },
     "execution_count": 442,
     "metadata": {},
     "output_type": "execute_result"
    }
   ],
   "source": [
    "'d' + name1[1:]"
   ]
  },
  {
   "cell_type": "code",
   "execution_count": 443,
   "id": "3d129ffc-fa01-4ebb-bbbb-1330828501dc",
   "metadata": {},
   "outputs": [
    {
     "data": {
      "text/plain": [
       "4"
      ]
     },
     "execution_count": 443,
     "metadata": {},
     "output_type": "execute_result"
    }
   ],
   "source": [
    "len(name1)"
   ]
  },
  {
   "cell_type": "markdown",
   "id": "03815c58-ec22-4cc7-8823-7e4c25f42621",
   "metadata": {},
   "source": [
    "# arithmetic operator"
   ]
  },
  {
   "cell_type": "code",
   "execution_count": 444,
   "id": "9146135d-1227-484f-82e3-b10ca1907a23",
   "metadata": {},
   "outputs": [],
   "source": [
    "x1, y1 = 10, 5"
   ]
  },
  {
   "cell_type": "code",
   "execution_count": 445,
   "id": "71edced6-5317-48ad-b9a4-f7d58c24c71e",
   "metadata": {},
   "outputs": [
    {
     "data": {
      "text/plain": [
       "15"
      ]
     },
     "execution_count": 445,
     "metadata": {},
     "output_type": "execute_result"
    }
   ],
   "source": [
    "x1 + y1"
   ]
  },
  {
   "cell_type": "code",
   "execution_count": 446,
   "id": "4b999764-38fb-42db-b214-199a38559ef4",
   "metadata": {},
   "outputs": [
    {
     "data": {
      "text/plain": [
       "5"
      ]
     },
     "execution_count": 446,
     "metadata": {},
     "output_type": "execute_result"
    }
   ],
   "source": [
    "x1 - y1 "
   ]
  },
  {
   "cell_type": "code",
   "execution_count": 447,
   "id": "6721f5f0-124c-47c9-9804-a2b9dfb64f89",
   "metadata": {},
   "outputs": [
    {
     "data": {
      "text/plain": [
       "50"
      ]
     },
     "execution_count": 447,
     "metadata": {},
     "output_type": "execute_result"
    }
   ],
   "source": [
    "x1 * y1"
   ]
  },
  {
   "cell_type": "code",
   "execution_count": 448,
   "id": "ad5ea2ed-5754-4e1b-adf6-be28ec8a9b42",
   "metadata": {},
   "outputs": [
    {
     "data": {
      "text/plain": [
       "2.0"
      ]
     },
     "execution_count": 448,
     "metadata": {},
     "output_type": "execute_result"
    }
   ],
   "source": [
    "x1 / y1"
   ]
  },
  {
   "cell_type": "code",
   "execution_count": 449,
   "id": "a24725af-9b38-4f94-8029-4c27924be1d3",
   "metadata": {},
   "outputs": [
    {
     "data": {
      "text/plain": [
       "2"
      ]
     },
     "execution_count": 449,
     "metadata": {},
     "output_type": "execute_result"
    }
   ],
   "source": [
    "x1 // y1"
   ]
  },
  {
   "cell_type": "code",
   "execution_count": 450,
   "id": "774fe155-bc5e-4154-8a09-d981f69bc717",
   "metadata": {},
   "outputs": [
    {
     "data": {
      "text/plain": [
       "0"
      ]
     },
     "execution_count": 450,
     "metadata": {},
     "output_type": "execute_result"
    }
   ],
   "source": [
    "x1 % y1 "
   ]
  },
  {
   "cell_type": "code",
   "execution_count": 451,
   "id": "b0c1ea9b-6d74-46e1-a317-841ff6d9d23c",
   "metadata": {},
   "outputs": [
    {
     "data": {
      "text/plain": [
       "100000"
      ]
     },
     "execution_count": 451,
     "metadata": {},
     "output_type": "execute_result"
    }
   ],
   "source": [
    "x1 ** y1"
   ]
  },
  {
   "cell_type": "code",
   "execution_count": 452,
   "id": "27b78436-5b7e-4921-90a8-1900f8060c47",
   "metadata": {},
   "outputs": [
    {
     "data": {
      "text/plain": [
       "9"
      ]
     },
     "execution_count": 452,
     "metadata": {},
     "output_type": "execute_result"
    }
   ],
   "source": [
    "x2 = 3\n",
    "y2 = 2\n",
    "x2 ** y2"
   ]
  },
  {
   "cell_type": "markdown",
   "id": "21a6ce16-c48b-4577-974a-4d1ed82cdcea",
   "metadata": {},
   "source": [
    "# assisgnment operater"
   ]
  },
  {
   "cell_type": "code",
   "execution_count": 453,
   "id": "415b6e3c-140a-4ce5-a52c-626fb2047029",
   "metadata": {},
   "outputs": [],
   "source": [
    "x = 2"
   ]
  },
  {
   "cell_type": "code",
   "execution_count": 454,
   "id": "c0867aef-842f-47a9-800d-e1973a7e637f",
   "metadata": {},
   "outputs": [],
   "source": [
    "x = x + 2"
   ]
  },
  {
   "cell_type": "code",
   "execution_count": 455,
   "id": "0ce998a5-9e2e-4d70-8b2d-c0a70f279b12",
   "metadata": {},
   "outputs": [
    {
     "data": {
      "text/plain": [
       "4"
      ]
     },
     "execution_count": 455,
     "metadata": {},
     "output_type": "execute_result"
    }
   ],
   "source": [
    "x"
   ]
  },
  {
   "cell_type": "code",
   "execution_count": 456,
   "id": "06cad7eb-b711-42d0-8751-75eb504a849c",
   "metadata": {},
   "outputs": [
    {
     "data": {
      "text/plain": [
       "6"
      ]
     },
     "execution_count": 456,
     "metadata": {},
     "output_type": "execute_result"
    }
   ],
   "source": [
    "x += 2\n",
    "x"
   ]
  },
  {
   "cell_type": "code",
   "execution_count": 457,
   "id": "c0fc3bea-a348-44ef-9995-78db2072131a",
   "metadata": {},
   "outputs": [
    {
     "data": {
      "text/plain": [
       "8"
      ]
     },
     "execution_count": 457,
     "metadata": {},
     "output_type": "execute_result"
    }
   ],
   "source": [
    "x += 2\n",
    "x"
   ]
  },
  {
   "cell_type": "code",
   "execution_count": 458,
   "id": "3f4de9b4-3d4b-4dbd-93a8-37074ccbd689",
   "metadata": {},
   "outputs": [],
   "source": [
    "x *= 2"
   ]
  },
  {
   "cell_type": "code",
   "execution_count": 459,
   "id": "3e8c5352-4256-4351-bb6b-8e1bdf6e3e7d",
   "metadata": {},
   "outputs": [
    {
     "data": {
      "text/plain": [
       "16"
      ]
     },
     "execution_count": 459,
     "metadata": {},
     "output_type": "execute_result"
    }
   ],
   "source": [
    "x"
   ]
  },
  {
   "cell_type": "code",
   "execution_count": 460,
   "id": "b8b5bdad-1565-46e9-b043-b016e919d820",
   "metadata": {},
   "outputs": [],
   "source": [
    "x -= 2 "
   ]
  },
  {
   "cell_type": "code",
   "execution_count": 461,
   "id": "11e9563c-4f39-499e-8083-f2db1e8aafda",
   "metadata": {},
   "outputs": [
    {
     "data": {
      "text/plain": [
       "14"
      ]
     },
     "execution_count": 461,
     "metadata": {},
     "output_type": "execute_result"
    }
   ],
   "source": [
    "x"
   ]
  },
  {
   "cell_type": "code",
   "execution_count": 462,
   "id": "8f6a9d1d-957a-46c9-b805-8626e3250ccd",
   "metadata": {},
   "outputs": [
    {
     "data": {
      "text/plain": [
       "7.0"
      ]
     },
     "execution_count": 462,
     "metadata": {},
     "output_type": "execute_result"
    }
   ],
   "source": [
    "x /= 2 # only single divide will allow\n",
    "x"
   ]
  },
  {
   "cell_type": "markdown",
   "id": "e868a53e-f201-479a-9b01-e30f406fb6dc",
   "metadata": {},
   "source": [
    "# unary operater\n",
    "\n",
    ". unary means 1 || binary means 2\n",
    ". here we are applying unary minus operator(-) on the operand n;the value of m becomes -7,which indicates it as a negative value."
   ]
  },
  {
   "cell_type": "code",
   "execution_count": 463,
   "id": "244bfb53-bcae-4576-8083-488c0fe91650",
   "metadata": {},
   "outputs": [
    {
     "data": {
      "text/plain": [
       "7"
      ]
     },
     "execution_count": 463,
     "metadata": {},
     "output_type": "execute_result"
    }
   ],
   "source": [
    "n = 7 #negation\n",
    "n"
   ]
  },
  {
   "cell_type": "code",
   "execution_count": 464,
   "id": "fe4bf45d-1f6d-452b-814b-45cd7161759d",
   "metadata": {},
   "outputs": [
    {
     "data": {
      "text/plain": [
       "-7"
      ]
     },
     "execution_count": 464,
     "metadata": {},
     "output_type": "execute_result"
    }
   ],
   "source": [
    "m = -(n)\n",
    "m"
   ]
  },
  {
   "cell_type": "code",
   "execution_count": 465,
   "id": "b4479bbc-387d-466c-9333-c888d435e083",
   "metadata": {},
   "outputs": [
    {
     "data": {
      "text/plain": [
       "7"
      ]
     },
     "execution_count": 465,
     "metadata": {},
     "output_type": "execute_result"
    }
   ],
   "source": [
    "n"
   ]
  },
  {
   "cell_type": "code",
   "execution_count": 466,
   "id": "c3abf0bc-748d-4209-9d40-bbfa51377d9f",
   "metadata": {},
   "outputs": [
    {
     "data": {
      "text/plain": [
       "-7"
      ]
     },
     "execution_count": 466,
     "metadata": {},
     "output_type": "execute_result"
    }
   ],
   "source": [
    "-n"
   ]
  },
  {
   "cell_type": "markdown",
   "id": "10740495-e8eb-45b2-be11-65230cd0ca17",
   "metadata": {},
   "source": [
    "# relational opertor \n",
    "we are using this operator for comparing"
   ]
  },
  {
   "cell_type": "code",
   "execution_count": 467,
   "id": "2878eee6-b0dc-4211-9a47-bb977e3da669",
   "metadata": {},
   "outputs": [],
   "source": [
    "a = 5 \n",
    "b = 6"
   ]
  },
  {
   "cell_type": "code",
   "execution_count": 468,
   "id": "3ceb10c4-c719-43ae-b003-43b74c37f8bb",
   "metadata": {},
   "outputs": [
    {
     "data": {
      "text/plain": [
       "True"
      ]
     },
     "execution_count": 468,
     "metadata": {},
     "output_type": "execute_result"
    }
   ],
   "source": [
    "a<b"
   ]
  },
  {
   "cell_type": "code",
   "execution_count": 469,
   "id": "f1ea741e-5a5f-4621-ac12-54041ddf52b4",
   "metadata": {},
   "outputs": [
    {
     "data": {
      "text/plain": [
       "False"
      ]
     },
     "execution_count": 469,
     "metadata": {},
     "output_type": "execute_result"
    }
   ],
   "source": [
    "a>b"
   ]
  },
  {
   "cell_type": "code",
   "execution_count": 470,
   "id": "d08629cb-fb9c-49be-a3c3-ba64855a9993",
   "metadata": {},
   "outputs": [
    {
     "data": {
      "text/plain": [
       "False"
      ]
     },
     "execution_count": 470,
     "metadata": {},
     "output_type": "execute_result"
    }
   ],
   "source": [
    "a == b"
   ]
  },
  {
   "cell_type": "code",
   "execution_count": 471,
   "id": "ab9e902c-e403-4c69-9f39-9ef9c174f5d6",
   "metadata": {},
   "outputs": [
    {
     "data": {
      "text/plain": [
       "True"
      ]
     },
     "execution_count": 471,
     "metadata": {},
     "output_type": "execute_result"
    }
   ],
   "source": [
    "a != b"
   ]
  },
  {
   "cell_type": "code",
   "execution_count": 472,
   "id": "a8c2967e-77fe-430c-b32e-1ec75aee7982",
   "metadata": {},
   "outputs": [],
   "source": [
    "# if i change b = 6\n",
    "b = 5"
   ]
  },
  {
   "cell_type": "code",
   "execution_count": 473,
   "id": "b91ddaa7-4406-444e-a974-74f4468c0629",
   "metadata": {},
   "outputs": [
    {
     "data": {
      "text/plain": [
       "True"
      ]
     },
     "execution_count": 473,
     "metadata": {},
     "output_type": "execute_result"
    }
   ],
   "source": [
    "a == b "
   ]
  },
  {
   "cell_type": "code",
   "execution_count": 474,
   "id": "2993822c-ad99-4720-93fb-7d150293ea2a",
   "metadata": {},
   "outputs": [
    {
     "data": {
      "text/plain": [
       "5"
      ]
     },
     "execution_count": 474,
     "metadata": {},
     "output_type": "execute_result"
    }
   ],
   "source": [
    "b"
   ]
  },
  {
   "cell_type": "code",
   "execution_count": 475,
   "id": "979f2a45-8a02-4e3f-a337-2890ef610eee",
   "metadata": {},
   "outputs": [
    {
     "data": {
      "text/plain": [
       "True"
      ]
     },
     "execution_count": 475,
     "metadata": {},
     "output_type": "execute_result"
    }
   ],
   "source": [
    "a >= b"
   ]
  },
  {
   "cell_type": "code",
   "execution_count": 476,
   "id": "e875dee8-1c21-4a77-b0d4-9b02ae3cf434",
   "metadata": {},
   "outputs": [
    {
     "data": {
      "text/plain": [
       "True"
      ]
     },
     "execution_count": 476,
     "metadata": {},
     "output_type": "execute_result"
    }
   ],
   "source": [
    "a <= b"
   ]
  },
  {
   "cell_type": "code",
   "execution_count": 477,
   "id": "fafea006-ddd4-49e6-9d0e-6473636ee702",
   "metadata": {},
   "outputs": [
    {
     "data": {
      "text/plain": [
       "False"
      ]
     },
     "execution_count": 477,
     "metadata": {},
     "output_type": "execute_result"
    }
   ],
   "source": [
    "a < b"
   ]
  },
  {
   "cell_type": "code",
   "execution_count": 478,
   "id": "484889cd-bc75-425e-8b28-4ea97354312c",
   "metadata": {},
   "outputs": [
    {
     "data": {
      "text/plain": [
       "False"
      ]
     },
     "execution_count": 478,
     "metadata": {},
     "output_type": "execute_result"
    }
   ],
   "source": [
    "a > b"
   ]
  },
  {
   "cell_type": "code",
   "execution_count": 479,
   "id": "267cdb12-8133-4b42-94a7-29acf30e1147",
   "metadata": {},
   "outputs": [],
   "source": [
    "b = 7"
   ]
  },
  {
   "cell_type": "code",
   "execution_count": 480,
   "id": "b4fdcafa-3064-40e3-8ac3-57fc767ee908",
   "metadata": {},
   "outputs": [
    {
     "data": {
      "text/plain": [
       "True"
      ]
     },
     "execution_count": 480,
     "metadata": {},
     "output_type": "execute_result"
    }
   ],
   "source": [
    "a != b"
   ]
  },
  {
   "cell_type": "markdown",
   "id": "b8e4d297-7e57-4fc5-b7e6-65b832afaac7",
   "metadata": {},
   "source": [
    "# logical  operator "
   ]
  },
  {
   "cell_type": "code",
   "execution_count": 481,
   "id": "4c3df2ba-03ad-4bcf-b69d-041986ee5c17",
   "metadata": {},
   "outputs": [],
   "source": [
    "a = 5 \n",
    "b = 4 "
   ]
  },
  {
   "cell_type": "code",
   "execution_count": 482,
   "id": "38519369-480b-495f-8c12-8928f0d834be",
   "metadata": {},
   "outputs": [
    {
     "data": {
      "text/plain": [
       "True"
      ]
     },
     "execution_count": 482,
     "metadata": {},
     "output_type": "execute_result"
    }
   ],
   "source": [
    "a < 8 and b < 5"
   ]
  },
  {
   "cell_type": "code",
   "execution_count": 483,
   "id": "7874912d-2936-4900-9c86-03da3fa0ee07",
   "metadata": {},
   "outputs": [
    {
     "data": {
      "text/plain": [
       "False"
      ]
     },
     "execution_count": 483,
     "metadata": {},
     "output_type": "execute_result"
    }
   ],
   "source": [
    "a < 8 and b <  2"
   ]
  },
  {
   "cell_type": "code",
   "execution_count": 484,
   "id": "d7df1586-e2e0-465a-bbc2-1c959708c5a6",
   "metadata": {},
   "outputs": [
    {
     "data": {
      "text/plain": [
       "True"
      ]
     },
     "execution_count": 484,
     "metadata": {},
     "output_type": "execute_result"
    }
   ],
   "source": [
    "a < 8 or b < 2 "
   ]
  },
  {
   "cell_type": "code",
   "execution_count": 485,
   "id": "b69749e1-4957-40dc-822f-4d9c08af27df",
   "metadata": {},
   "outputs": [
    {
     "data": {
      "text/plain": [
       "False"
      ]
     },
     "execution_count": 485,
     "metadata": {},
     "output_type": "execute_result"
    }
   ],
   "source": [
    "a>8 or b<2"
   ]
  },
  {
   "cell_type": "code",
   "execution_count": 486,
   "id": "22571f22-b645-436b-b595-4ab144cac08b",
   "metadata": {},
   "outputs": [
    {
     "data": {
      "text/plain": [
       "False"
      ]
     },
     "execution_count": 486,
     "metadata": {},
     "output_type": "execute_result"
    }
   ],
   "source": [
    "x = False \n",
    "x"
   ]
  },
  {
   "cell_type": "code",
   "execution_count": 487,
   "id": "15bc28f4-2601-4b70-931b-983439514d0d",
   "metadata": {},
   "outputs": [
    {
     "data": {
      "text/plain": [
       "True"
      ]
     },
     "execution_count": 487,
     "metadata": {},
     "output_type": "execute_result"
    }
   ],
   "source": [
    "not x # you can reverse the operation"
   ]
  },
  {
   "cell_type": "code",
   "execution_count": 488,
   "id": "67505213-fa08-4d17-829c-1c5a67fd709b",
   "metadata": {},
   "outputs": [
    {
     "data": {
      "text/plain": [
       "True"
      ]
     },
     "execution_count": 488,
     "metadata": {},
     "output_type": "execute_result"
    }
   ],
   "source": [
    "x = not x \n",
    "x"
   ]
  },
  {
   "cell_type": "code",
   "execution_count": 489,
   "id": "ea526c0c-b99f-44db-b1b8-ec87a526efc2",
   "metadata": {},
   "outputs": [
    {
     "data": {
      "text/plain": [
       "True"
      ]
     },
     "execution_count": 489,
     "metadata": {},
     "output_type": "execute_result"
    }
   ],
   "source": [
    "x"
   ]
  },
  {
   "cell_type": "code",
   "execution_count": 490,
   "id": "386507f1-3a49-43a0-b50d-7274faa659cd",
   "metadata": {},
   "outputs": [
    {
     "data": {
      "text/plain": [
       "False"
      ]
     },
     "execution_count": 490,
     "metadata": {},
     "output_type": "execute_result"
    }
   ],
   "source": [
    "not x"
   ]
  },
  {
   "cell_type": "markdown",
   "id": "e1312695-cd3a-46e3-a056-a943accdb110",
   "metadata": {},
   "source": [
    " # we are completed basic operator"
   ]
  },
  {
   "cell_type": "markdown",
   "id": "318aa8ab-d3f8-4276-a6ba-2cd6feae1d12",
   "metadata": {},
   "source": [
    "# swap 2 - variable in python \n",
    "(a,b = 5,6)after swap we should get ==>(a,b = 6,5)"
   ]
  },
  {
   "cell_type": "code",
   "execution_count": 491,
   "id": "458d9eef-b0c1-4438-a4a5-2daeb32338b5",
   "metadata": {},
   "outputs": [],
   "source": [
    "a = 5\n",
    "b = 6"
   ]
  },
  {
   "cell_type": "code",
   "execution_count": 492,
   "id": "805e6e22-1bfc-49eb-bbeb-39e7eaaf75d2",
   "metadata": {},
   "outputs": [],
   "source": [
    "a = b \n",
    "b = a"
   ]
  },
  {
   "cell_type": "code",
   "execution_count": 493,
   "id": "f2dac369-4c12-4f34-9527-814bb6239286",
   "metadata": {},
   "outputs": [
    {
     "name": "stdout",
     "output_type": "stream",
     "text": [
      "6\n",
      "6\n"
     ]
    }
   ],
   "source": [
    "print(a)\n",
    "print(b) #incorrect "
   ]
  },
  {
   "cell_type": "code",
   "execution_count": 494,
   "id": "18f67cc0-bbbe-459d-89a1-ce0dbbb187a6",
   "metadata": {},
   "outputs": [],
   "source": [
    "a1 = 7 \n",
    "b1 = 8"
   ]
  },
  {
   "cell_type": "code",
   "execution_count": 495,
   "id": "7de225cb-4f66-4d7e-a5bd-cd0a6c4fbb4f",
   "metadata": {},
   "outputs": [],
   "source": [
    "temp = a1\n",
    "a1 = b1 \n",
    "b1 = temp"
   ]
  },
  {
   "cell_type": "code",
   "execution_count": 496,
   "id": "ab0930d7-47d6-42d8-b041-9c2430748099",
   "metadata": {},
   "outputs": [
    {
     "name": "stdout",
     "output_type": "stream",
     "text": [
      "8\n",
      "7\n"
     ]
    }
   ],
   "source": [
    "print(a1)\n",
    "print(b1)"
   ]
  },
  {
   "cell_type": "code",
   "execution_count": 497,
   "id": "76b46133-542f-4ed8-a8a3-5bc3b2ca11a5",
   "metadata": {},
   "outputs": [],
   "source": [
    "a2 = 5\n",
    "b2 = 6"
   ]
  },
  {
   "cell_type": "code",
   "execution_count": 498,
   "id": "5a0f8cc8-ce9c-41ef-b5fe-06188abb0558",
   "metadata": {},
   "outputs": [],
   "source": [
    "# swap variable formulas without using 3rd format \n",
    "a2 = a2 + b2 #5+6 = 11\n",
    "b2 = a2 - b2 #11-6 = 5\n",
    "a2 = a2 - b2 #11-5 = 6"
   ]
  },
  {
   "cell_type": "code",
   "execution_count": 499,
   "id": "d9cb13a1-47a2-4942-b961-0e98ef0bcbb4",
   "metadata": {},
   "outputs": [
    {
     "name": "stdout",
     "output_type": "stream",
     "text": [
      "6\n",
      "5\n"
     ]
    }
   ],
   "source": [
    "print(a2)\n",
    "print(b2)"
   ]
  },
  {
   "cell_type": "code",
   "execution_count": 500,
   "id": "e5e66162-3e72-4ba2-9e34-02e654e5d5ba",
   "metadata": {},
   "outputs": [
    {
     "data": {
      "text/plain": [
       "(6, 5)"
      ]
     },
     "execution_count": 500,
     "metadata": {},
     "output_type": "execute_result"
    }
   ],
   "source": [
    "a2, b2"
   ]
  },
  {
   "cell_type": "code",
   "execution_count": 501,
   "id": "ff18dd97-ec6a-4653-9dc1-bf50279e346f",
   "metadata": {},
   "outputs": [],
   "source": [
    "a2, b2 = b2, a2"
   ]
  },
  {
   "cell_type": "code",
   "execution_count": 502,
   "id": "9c9c68f1-c734-4e5c-b86b-5eafd9cf6f57",
   "metadata": {},
   "outputs": [
    {
     "name": "stdout",
     "output_type": "stream",
     "text": [
      "5\n",
      "6\n"
     ]
    }
   ],
   "source": [
    "print(a2)\n",
    "print(b2)"
   ]
  },
  {
   "cell_type": "markdown",
   "id": "31ae4c27-28a4-4020-a584-ea45fe349af7",
   "metadata": {},
   "source": [
    "# bitwiswe operator"
   ]
  },
  {
   "cell_type": "code",
   "execution_count": 503,
   "id": "c1074416-39f9-43f8-89c6-1c9d361ef296",
   "metadata": {},
   "outputs": [
    {
     "name": "stdout",
     "output_type": "stream",
     "text": [
      "0b1100\n",
      "0b1101\n"
     ]
    }
   ],
   "source": [
    "print(bin(12))\n",
    "print(bin(13))"
   ]
  },
  {
   "cell_type": "code",
   "execution_count": 504,
   "id": "6f4f9061-848c-424e-b270-565162d12981",
   "metadata": {},
   "outputs": [
    {
     "data": {
      "text/plain": [
       "13"
      ]
     },
     "execution_count": 504,
     "metadata": {},
     "output_type": "execute_result"
    }
   ],
   "source": [
    "0b1101"
   ]
  },
  {
   "cell_type": "code",
   "execution_count": 505,
   "id": "75729698-32a2-44c2-9826-f3e6130488f1",
   "metadata": {},
   "outputs": [
    {
     "data": {
      "text/plain": [
       "12"
      ]
     },
     "execution_count": 505,
     "metadata": {},
     "output_type": "execute_result"
    }
   ],
   "source": [
    "0b1100"
   ]
  },
  {
   "cell_type": "code",
   "execution_count": 506,
   "id": "77d07b78-f357-4379-a578-be3253e041d2",
   "metadata": {},
   "outputs": [
    {
     "data": {
      "text/plain": [
       "-13"
      ]
     },
     "execution_count": 506,
     "metadata": {},
     "output_type": "execute_result"
    }
   ],
   "source": [
    "~12"
   ]
  },
  {
   "cell_type": "code",
   "execution_count": 507,
   "id": "512d55ff-c7c6-43cc-b1fa-c1821ccc1ac9",
   "metadata": {},
   "outputs": [
    {
     "data": {
      "text/plain": [
       "-47"
      ]
     },
     "execution_count": 507,
     "metadata": {},
     "output_type": "execute_result"
    }
   ],
   "source": [
    "~46"
   ]
  },
  {
   "cell_type": "code",
   "execution_count": 508,
   "id": "d6b9c9f8-efa1-4927-b317-6e028c0f485e",
   "metadata": {},
   "outputs": [
    {
     "data": {
      "text/plain": [
       "-55"
      ]
     },
     "execution_count": 508,
     "metadata": {},
     "output_type": "execute_result"
    }
   ],
   "source": [
    "~54"
   ]
  },
  {
   "cell_type": "code",
   "execution_count": 509,
   "id": "4de3a901-a6ae-4916-b611-6034878f2ed6",
   "metadata": {},
   "outputs": [
    {
     "data": {
      "text/plain": [
       "12"
      ]
     },
     "execution_count": 509,
     "metadata": {},
     "output_type": "execute_result"
    }
   ],
   "source": [
    "12 & 13"
   ]
  },
  {
   "cell_type": "code",
   "execution_count": 510,
   "id": "20223620-13fb-4410-823b-ec2ce306b636",
   "metadata": {},
   "outputs": [
    {
     "data": {
      "text/plain": [
       "13"
      ]
     },
     "execution_count": 510,
     "metadata": {},
     "output_type": "execute_result"
    }
   ],
   "source": [
    "12 | 13"
   ]
  },
  {
   "cell_type": "code",
   "execution_count": 511,
   "id": "94717dc3-dcad-4e4a-ba71-4ecca53781aa",
   "metadata": {},
   "outputs": [
    {
     "data": {
      "text/plain": [
       "0"
      ]
     },
     "execution_count": 511,
     "metadata": {},
     "output_type": "execute_result"
    }
   ],
   "source": [
    "1 & 0"
   ]
  },
  {
   "cell_type": "code",
   "execution_count": 512,
   "id": "ee7555fd-0452-455a-a642-bc88d9618b16",
   "metadata": {},
   "outputs": [
    {
     "data": {
      "text/plain": [
       "1"
      ]
     },
     "execution_count": 512,
     "metadata": {},
     "output_type": "execute_result"
    }
   ],
   "source": [
    "1 | 0"
   ]
  },
  {
   "cell_type": "code",
   "execution_count": 513,
   "id": "8baec1fe-2bc2-410c-b15b-c6b630ef1006",
   "metadata": {},
   "outputs": [
    {
     "data": {
      "text/plain": [
       "'0b1101'"
      ]
     },
     "execution_count": 513,
     "metadata": {},
     "output_type": "execute_result"
    }
   ],
   "source": [
    "bin(13)"
   ]
  },
  {
   "cell_type": "code",
   "execution_count": 514,
   "id": "029a30fb-f925-48a2-b4bb-04c209544e64",
   "metadata": {},
   "outputs": [
    {
     "name": "stdout",
     "output_type": "stream",
     "text": [
      "0b100011\n",
      "0b101000\n"
     ]
    }
   ],
   "source": [
    "print(bin(35))\n",
    "print(bin(40))"
   ]
  },
  {
   "cell_type": "code",
   "execution_count": 515,
   "id": "44ade0ed-2a1a-4727-9166-327ea22182c0",
   "metadata": {},
   "outputs": [
    {
     "data": {
      "text/plain": [
       "32"
      ]
     },
     "execution_count": 515,
     "metadata": {},
     "output_type": "execute_result"
    }
   ],
   "source": [
    "35 & 40"
   ]
  },
  {
   "cell_type": "code",
   "execution_count": 516,
   "id": "a2038c93-e9ae-437b-9db7-24800e3c05ec",
   "metadata": {},
   "outputs": [
    {
     "data": {
      "text/plain": [
       "43"
      ]
     },
     "execution_count": 516,
     "metadata": {},
     "output_type": "execute_result"
    }
   ],
   "source": [
    "35 | 40"
   ]
  },
  {
   "cell_type": "code",
   "execution_count": 517,
   "id": "d7da9b2d-86c9-43c1-93cc-44d0aa5248c9",
   "metadata": {},
   "outputs": [
    {
     "data": {
      "text/plain": [
       "1"
      ]
     },
     "execution_count": 517,
     "metadata": {},
     "output_type": "execute_result"
    }
   ],
   "source": [
    "12 ^ 13"
   ]
  },
  {
   "cell_type": "code",
   "execution_count": 518,
   "id": "a554ffbb-c034-4382-b7d8-20bf1ebf90a0",
   "metadata": {},
   "outputs": [
    {
     "data": {
      "text/plain": [
       "7"
      ]
     },
     "execution_count": 518,
     "metadata": {},
     "output_type": "execute_result"
    }
   ],
   "source": [
    "25 ^ 30"
   ]
  },
  {
   "cell_type": "code",
   "execution_count": 519,
   "id": "8c1e28e1-4679-4c77-93bc-f3040f5d8e6b",
   "metadata": {},
   "outputs": [
    {
     "data": {
      "text/plain": [
       "'0b111'"
      ]
     },
     "execution_count": 519,
     "metadata": {},
     "output_type": "execute_result"
    }
   ],
   "source": [
    "bin(7)"
   ]
  },
  {
   "cell_type": "code",
   "execution_count": 520,
   "id": "9aa62c20-8f3e-45a8-8829-df60252de45e",
   "metadata": {},
   "outputs": [
    {
     "name": "stdout",
     "output_type": "stream",
     "text": [
      "0b11001\n",
      "0b11110\n"
     ]
    }
   ],
   "source": [
    "print(bin(25))\n",
    "print(bin(30))"
   ]
  },
  {
   "cell_type": "code",
   "execution_count": 521,
   "id": "89786711-0c83-453d-8b6c-d19510e8471b",
   "metadata": {},
   "outputs": [
    {
     "data": {
      "text/plain": [
       "'0b11001'"
      ]
     },
     "execution_count": 521,
     "metadata": {},
     "output_type": "execute_result"
    }
   ],
   "source": [
    "bin(25)"
   ]
  },
  {
   "cell_type": "code",
   "execution_count": 522,
   "id": "e0314ee2-582d-4571-bfa2-33be61dc35a3",
   "metadata": {},
   "outputs": [
    {
     "data": {
      "text/plain": [
       "'0b11110'"
      ]
     },
     "execution_count": 522,
     "metadata": {},
     "output_type": "execute_result"
    }
   ],
   "source": [
    "bin(30)"
   ]
  },
  {
   "cell_type": "code",
   "execution_count": 523,
   "id": "9ea05014-cc09-4eba-bc5c-195fd0fa501c",
   "metadata": {},
   "outputs": [
    {
     "data": {
      "text/plain": [
       "'0b1010'"
      ]
     },
     "execution_count": 523,
     "metadata": {},
     "output_type": "execute_result"
    }
   ],
   "source": [
    "bin(10)"
   ]
  },
  {
   "cell_type": "code",
   "execution_count": 524,
   "id": "5586b9a7-81be-4e33-a982-948ecc0d46cf",
   "metadata": {},
   "outputs": [
    {
     "data": {
      "text/plain": [
       "20"
      ]
     },
     "execution_count": 524,
     "metadata": {},
     "output_type": "execute_result"
    }
   ],
   "source": [
    "10<<1"
   ]
  },
  {
   "cell_type": "code",
   "execution_count": 525,
   "id": "a0619395-c7b0-4d6c-a790-09596e224e43",
   "metadata": {},
   "outputs": [
    {
     "data": {
      "text/plain": [
       "40"
      ]
     },
     "execution_count": 525,
     "metadata": {},
     "output_type": "execute_result"
    }
   ],
   "source": [
    "10<<2"
   ]
  },
  {
   "cell_type": "code",
   "execution_count": 526,
   "id": "c6013d74-6c94-41b4-aa14-844970327938",
   "metadata": {},
   "outputs": [
    {
     "data": {
      "text/plain": [
       "'0b1010'"
      ]
     },
     "execution_count": 526,
     "metadata": {},
     "output_type": "execute_result"
    }
   ],
   "source": [
    "bin(10)"
   ]
  },
  {
   "cell_type": "code",
   "execution_count": 527,
   "id": "0e9309bf-556d-433d-9386-18760bb50ac8",
   "metadata": {},
   "outputs": [
    {
     "data": {
      "text/plain": [
       "5"
      ]
     },
     "execution_count": 527,
     "metadata": {},
     "output_type": "execute_result"
    }
   ],
   "source": [
    "10>>1"
   ]
  },
  {
   "cell_type": "code",
   "execution_count": 528,
   "id": "25577d12-220e-4c8e-9172-4ed5f147af3c",
   "metadata": {},
   "outputs": [
    {
     "data": {
      "text/plain": [
       "2"
      ]
     },
     "execution_count": 528,
     "metadata": {},
     "output_type": "execute_result"
    }
   ],
   "source": [
    "10>>2"
   ]
  },
  {
   "cell_type": "code",
   "execution_count": 529,
   "id": "d8bfa3ec-0cab-472d-b8cd-99fcf6644d0e",
   "metadata": {},
   "outputs": [
    {
     "data": {
      "text/plain": [
       "1"
      ]
     },
     "execution_count": 529,
     "metadata": {},
     "output_type": "execute_result"
    }
   ],
   "source": [
    "10>>3"
   ]
  },
  {
   "cell_type": "code",
   "execution_count": 530,
   "id": "4258da6e-ee49-4365-b40e-99ba1ab1c461",
   "metadata": {},
   "outputs": [
    {
     "data": {
      "text/plain": [
       "'0b10100'"
      ]
     },
     "execution_count": 530,
     "metadata": {},
     "output_type": "execute_result"
    }
   ],
   "source": [
    "bin(20)"
   ]
  },
  {
   "cell_type": "code",
   "execution_count": 531,
   "id": "4deb47e5-7431-4554-9cd0-5dd234eb39b2",
   "metadata": {},
   "outputs": [
    {
     "data": {
      "text/plain": [
       "1"
      ]
     },
     "execution_count": 531,
     "metadata": {},
     "output_type": "execute_result"
    }
   ],
   "source": [
    "20>>4"
   ]
  },
  {
   "cell_type": "markdown",
   "id": "fbb93759-82e1-440b-a32a-4ca1cc45eb3d",
   "metadata": {},
   "source": [
    "#helpmath"
   ]
  },
  {
   "cell_type": "code",
   "execution_count": 532,
   "id": "ccc39f45-a26c-4d00-b18f-0745f41f1bdb",
   "metadata": {},
   "outputs": [],
   "source": [
    "import math \n",
    "#help(math)"
   ]
  },
  {
   "cell_type": "code",
   "execution_count": 533,
   "id": "aee4f4e0-999b-4e19-a133-b35bdc2319e2",
   "metadata": {},
   "outputs": [
    {
     "ename": "NameError",
     "evalue": "name 'sqrt' is not defined",
     "output_type": "error",
     "traceback": [
      "\u001b[1;31m---------------------------------------------------------------------------\u001b[0m",
      "\u001b[1;31mNameError\u001b[0m                                 Traceback (most recent call last)",
      "Cell \u001b[1;32mIn[533], line 1\u001b[0m\n\u001b[1;32m----> 1\u001b[0m x \u001b[38;5;241m=\u001b[39m sqrt(\u001b[38;5;241m25\u001b[39m)\n",
      "\u001b[1;31mNameError\u001b[0m: name 'sqrt' is not defined"
     ]
    }
   ],
   "source": [
    "x = sqrt(25)"
   ]
  },
  {
   "cell_type": "code",
   "execution_count": 534,
   "id": "50f3f7e8-6d6b-42ce-afb2-d6639aa006d0",
   "metadata": {},
   "outputs": [
    {
     "data": {
      "text/plain": [
       "5.0"
      ]
     },
     "execution_count": 534,
     "metadata": {},
     "output_type": "execute_result"
    }
   ],
   "source": [
    "x = math.sqrt(25)\n",
    "x"
   ]
  },
  {
   "cell_type": "code",
   "execution_count": 535,
   "id": "bb51ba27-6cc3-492f-8159-f228c3544e83",
   "metadata": {},
   "outputs": [
    {
     "data": {
      "text/plain": [
       "3.872983346207417"
      ]
     },
     "execution_count": 535,
     "metadata": {},
     "output_type": "execute_result"
    }
   ],
   "source": [
    "x1 = math.sqrt(15)\n",
    "x1"
   ]
  },
  {
   "cell_type": "code",
   "execution_count": 536,
   "id": "dd601455-e0a6-4bc6-a3a3-08e7d35a69ec",
   "metadata": {},
   "outputs": [
    {
     "name": "stdout",
     "output_type": "stream",
     "text": [
      "3\n"
     ]
    }
   ],
   "source": [
    "print(math.floor(3.87)) #floor- minimum or least value"
   ]
  },
  {
   "cell_type": "code",
   "execution_count": 537,
   "id": "371aca1d-2c02-445f-ba58-4270979b52af",
   "metadata": {},
   "outputs": [
    {
     "name": "stdout",
     "output_type": "stream",
     "text": [
      "4\n"
     ]
    }
   ],
   "source": [
    "print(math.ceil(3.87)) #ceil- maximum or highest value"
   ]
  },
  {
   "cell_type": "code",
   "execution_count": 538,
   "id": "7ccaa217-6180-4179-9b49-b9960e7e7287",
   "metadata": {},
   "outputs": [
    {
     "name": "stdout",
     "output_type": "stream",
     "text": [
      "9.0\n"
     ]
    }
   ],
   "source": [
    "print(math.pow(3,2))"
   ]
  },
  {
   "cell_type": "code",
   "execution_count": 539,
   "id": "a1eefb37-15a7-4788-b9fd-748f01adebe0",
   "metadata": {},
   "outputs": [
    {
     "name": "stdout",
     "output_type": "stream",
     "text": [
      "3.141592653589793\n"
     ]
    }
   ],
   "source": [
    "print(math.pi) #these are contant"
   ]
  },
  {
   "cell_type": "code",
   "execution_count": 540,
   "id": "6d3bdde0-6ec0-4119-8413-9416b9019296",
   "metadata": {},
   "outputs": [
    {
     "name": "stdout",
     "output_type": "stream",
     "text": [
      "2.718281828459045\n"
     ]
    }
   ],
   "source": [
    "print(math.e) # e - epsilon values"
   ]
  },
  {
   "cell_type": "code",
   "execution_count": 541,
   "id": "b51dabf1-6397-4b0e-b20a-fae29bd63c3b",
   "metadata": {},
   "outputs": [
    {
     "ename": "AttributeError",
     "evalue": "'int' object has no attribute 'sqrt'",
     "output_type": "error",
     "traceback": [
      "\u001b[1;31m---------------------------------------------------------------------------\u001b[0m",
      "\u001b[1;31mAttributeError\u001b[0m                            Traceback (most recent call last)",
      "Cell \u001b[1;32mIn[541], line 1\u001b[0m\n\u001b[1;32m----> 1\u001b[0m m\u001b[38;5;241m.\u001b[39msqrt(\u001b[38;5;241m25\u001b[39m)\n",
      "\u001b[1;31mAttributeError\u001b[0m: 'int' object has no attribute 'sqrt'"
     ]
    }
   ],
   "source": [
    "m.sqrt(25)"
   ]
  },
  {
   "cell_type": "markdown",
   "id": "3e454357-c46c-4b4e-90f0-447bdb967a9d",
   "metadata": {},
   "source": [
    "# input function"
   ]
  },
  {
   "cell_type": "code",
   "execution_count": 542,
   "id": "9b7f6aef-f735-4781-b628-b98742e692ab",
   "metadata": {},
   "outputs": [
    {
     "name": "stdin",
     "output_type": "stream",
     "text": [
      " hello\n"
     ]
    },
    {
     "data": {
      "text/plain": [
       "'hello'"
      ]
     },
     "execution_count": 542,
     "metadata": {},
     "output_type": "execute_result"
    }
   ],
   "source": [
    "x = input()\n",
    "x"
   ]
  },
  {
   "cell_type": "code",
   "execution_count": 543,
   "id": "6448f808-a80d-4ee2-9da9-6e0ffe612dd9",
   "metadata": {},
   "outputs": [
    {
     "data": {
      "text/plain": [
       "str"
      ]
     },
     "execution_count": 543,
     "metadata": {},
     "output_type": "execute_result"
    }
   ],
   "source": [
    "type(x)"
   ]
  },
  {
   "cell_type": "code",
   "execution_count": 544,
   "id": "21b219b0-4e0b-4d24-91bc-58f839cb6149",
   "metadata": {},
   "outputs": [
    {
     "name": "stdin",
     "output_type": "stream",
     "text": [
      " 5\n",
      " 6\n"
     ]
    },
    {
     "name": "stdout",
     "output_type": "stream",
     "text": [
      "56\n"
     ]
    }
   ],
   "source": [
    "x = input()\n",
    "y = input()\n",
    "z = x + y \n",
    "print(z) # console is waiting for user to enter input\n",
    "# also if you work in idl"
   ]
  },
  {
   "cell_type": "code",
   "execution_count": null,
   "id": "9817921a-b013-4d79-9bc1-c4445c5ea066",
   "metadata": {},
   "outputs": [],
   "source": [
    "type(z)"
   ]
  },
  {
   "cell_type": "code",
   "execution_count": 545,
   "id": "878ea883-87cb-46ec-871c-6bbad7eb7257",
   "metadata": {},
   "outputs": [
    {
     "name": "stdin",
     "output_type": "stream",
     "text": [
      "enter the 1st number 5\n",
      "enter the 2nd number 6\n"
     ]
    },
    {
     "name": "stdout",
     "output_type": "stream",
     "text": [
      "56\n"
     ]
    }
   ],
   "source": [
    "x1 = input('enter the 1st number') #whenevery you works in input fuction it always give you string\n",
    "y1 = input('enter the 2nd number') #it wont understand as arithmetic operator\n",
    "z1 = x1 + y1\n",
    "print(z1)"
   ]
  },
  {
   "cell_type": "code",
   "execution_count": 546,
   "id": "06470ba3-5e4e-4a64-a100-e51a1b7fe69b",
   "metadata": {},
   "outputs": [
    {
     "name": "stdout",
     "output_type": "stream",
     "text": [
      "<class 'str'>\n",
      "<class 'str'>\n"
     ]
    }
   ],
   "source": [
    "print(type(x1))\n",
    "print(type(y1))"
   ]
  },
  {
   "cell_type": "code",
   "execution_count": 547,
   "id": "cc9dcaeb-7be4-4575-b159-58485914262c",
   "metadata": {},
   "outputs": [
    {
     "name": "stdin",
     "output_type": "stream",
     "text": [
      "enter the 1st number 5\n",
      "enter the 2nd number 6\n"
     ]
    },
    {
     "name": "stdout",
     "output_type": "stream",
     "text": [
      "11\n"
     ]
    }
   ],
   "source": [
    "x1 = input('enter the 1st number') #whenevery you works in input function it always give you string \n",
    "a1 = int(x1)\n",
    "y1 = input('enter the 2nd number') #it want understand as arithmetic operator\n",
    "b1 = int(y1)\n",
    "z1 = a1 + b1\n",
    "print(z1)"
   ]
  },
  {
   "cell_type": "markdown",
   "id": "d4ee1926-02ea-477d-aef1-669769febf10",
   "metadata": {},
   "source": [
    "for the above code notice we are using many lines because for that wasting some memory spaces as well"
   ]
  },
  {
   "cell_type": "code",
   "execution_count": 548,
   "id": "3f111ab8-a286-4012-9731-b3173636bc1f",
   "metadata": {},
   "outputs": [
    {
     "name": "stdin",
     "output_type": "stream",
     "text": [
      "enter the 1st number 2\n",
      "enter the 2nd number 3\n"
     ]
    },
    {
     "data": {
      "text/plain": [
       "5"
      ]
     },
     "execution_count": 548,
     "metadata": {},
     "output_type": "execute_result"
    }
   ],
   "source": [
    "x2 = int(input('enter the 1st number'))\n",
    "y2 = int(input('enter the 2nd number'))\n",
    "z2 = x2 + y2\n",
    "z2"
   ]
  },
  {
   "cell_type": "markdown",
   "id": "8ba8a959-26f7-41b4-b817-42953c61dae0",
   "metadata": {},
   "source": [
    "lets the input from the user in char format,but we dont have char format in python"
   ]
  },
  {
   "cell_type": "code",
   "execution_count": 549,
   "id": "0a2d8b1a-e742-4cbb-b7ea-d445002e305b",
   "metadata": {},
   "outputs": [
    {
     "name": "stdin",
     "output_type": "stream",
     "text": [
      "enter a char hello\n"
     ]
    },
    {
     "name": "stdout",
     "output_type": "stream",
     "text": [
      "hello\n"
     ]
    }
   ],
   "source": [
    "ch= input('enter a char')\n",
    "print(ch)\n",
    "#print(type(ch)"
   ]
  },
  {
   "cell_type": "code",
   "execution_count": 550,
   "id": "9c91fc0a-e584-4887-95f4-3e5f5210c596",
   "metadata": {},
   "outputs": [
    {
     "name": "stdout",
     "output_type": "stream",
     "text": [
      "h\n"
     ]
    }
   ],
   "source": [
    "print(ch[0])"
   ]
  },
  {
   "cell_type": "code",
   "execution_count": 551,
   "id": "61948ab3-fb7a-44aa-bea3-563a606e4f04",
   "metadata": {},
   "outputs": [
    {
     "name": "stdout",
     "output_type": "stream",
     "text": [
      "he\n"
     ]
    }
   ],
   "source": [
    "print(ch[0:2])"
   ]
  },
  {
   "cell_type": "code",
   "execution_count": 552,
   "id": "1e7487ae-5a6a-428f-86e4-0402fa3365e3",
   "metadata": {},
   "outputs": [
    {
     "name": "stdout",
     "output_type": "stream",
     "text": [
      "e\n"
     ]
    }
   ],
   "source": [
    "print(ch[1])"
   ]
  },
  {
   "cell_type": "code",
   "execution_count": 553,
   "id": "ebc255c3-c06d-4c65-a732-143690367386",
   "metadata": {},
   "outputs": [
    {
     "name": "stdout",
     "output_type": "stream",
     "text": [
      "o\n"
     ]
    }
   ],
   "source": [
    "print(ch[-1])"
   ]
  },
  {
   "cell_type": "code",
   "execution_count": 554,
   "id": "5bc05b35-7057-40ff-aefb-540dceb07dba",
   "metadata": {},
   "outputs": [
    {
     "name": "stdin",
     "output_type": "stream",
     "text": [
      "enter a char hello\n"
     ]
    },
    {
     "name": "stdout",
     "output_type": "stream",
     "text": [
      "h\n"
     ]
    }
   ],
   "source": [
    "ch = input('enter a char')[0]\n",
    "print(ch)"
   ]
  },
  {
   "cell_type": "code",
   "execution_count": 555,
   "id": "49a16224-9de6-4370-b2d4-c53ee6447b36",
   "metadata": {},
   "outputs": [
    {
     "name": "stdin",
     "output_type": "stream",
     "text": [
      "enter a char hello\n"
     ]
    },
    {
     "name": "stdout",
     "output_type": "stream",
     "text": [
      "e\n"
     ]
    }
   ],
   "source": [
    "ch = input('enter a char')[1]\n",
    "print(ch)"
   ]
  },
  {
   "cell_type": "code",
   "execution_count": 556,
   "id": "7281b3f1-ea77-497f-b4ef-419717938bcd",
   "metadata": {},
   "outputs": [
    {
     "name": "stdin",
     "output_type": "stream",
     "text": [
      "enter a char hello\n"
     ]
    },
    {
     "name": "stdout",
     "output_type": "stream",
     "text": [
      "el\n"
     ]
    }
   ],
   "source": [
    "ch = input('enter a char')[1:3]\n",
    "print(ch)"
   ]
  },
  {
   "cell_type": "code",
   "execution_count": 557,
   "id": "1ee39251-a98b-4d05-8684-ff04f4439170",
   "metadata": {},
   "outputs": [
    {
     "name": "stdin",
     "output_type": "stream",
     "text": [
      "enter a char 2+3-4+10\n"
     ]
    },
    {
     "name": "stdout",
     "output_type": "stream",
     "text": [
      "2+3-4+10\n"
     ]
    }
   ],
   "source": [
    "ch = input('enter a char')\n",
    "print(ch) #if you enter as 2 + 6 -1 we get output as 2 + 6 -1 only cuz 2+6-1 as expression "
   ]
  },
  {
   "cell_type": "code",
   "execution_count": 558,
   "id": "ea305537-51f5-4bfc-b433-c8aa40eb823a",
   "metadata": {},
   "outputs": [
    {
     "name": "stdin",
     "output_type": "stream",
     "text": [
      "enter an expr 2+3-4+10\n"
     ]
    },
    {
     "name": "stdout",
     "output_type": "stream",
     "text": [
      "2+3-4+10\n"
     ]
    }
   ],
   "source": [
    "result = input('enter an expr')\n",
    "print(result)"
   ]
  },
  {
   "cell_type": "markdown",
   "id": "41abfd9e-b797-40ce-81a9-c74cea6c9816",
   "metadata": {},
   "source": [
    "EVAL fuction using input "
   ]
  },
  {
   "cell_type": "code",
   "execution_count": 559,
   "id": "82ef5cdf-1926-4733-8867-2cc5481f2285",
   "metadata": {},
   "outputs": [
    {
     "name": "stdin",
     "output_type": "stream",
     "text": [
      "enter an expr 2+3-4+10\n"
     ]
    },
    {
     "name": "stdout",
     "output_type": "stream",
     "text": [
      "11\n"
     ]
    }
   ],
   "source": [
    "result = eval(input('enter an expr'))\n",
    "print(result)"
   ]
  },
  {
   "cell_type": "markdown",
   "id": "404ca2ec-70a2-47c3-ba48-200b0103fd5f",
   "metadata": {},
   "source": [
    "# - if\n",
    "# - if else \n",
    "# - if elif else \n",
    "# - nested if"
   ]
  },
  {
   "cell_type": "code",
   "execution_count": 560,
   "id": "be91281a-858a-460f-88be-0315fa087aea",
   "metadata": {},
   "outputs": [
    {
     "name": "stdout",
     "output_type": "stream",
     "text": [
      "Data Science\n"
     ]
    }
   ],
   "source": [
    "if True:\n",
    "    print('Data Science')"
   ]
  },
  {
   "cell_type": "code",
   "execution_count": 563,
   "id": "d332e980-0195-4e45-aa2e-e165d77d55a2",
   "metadata": {},
   "outputs": [
    {
     "name": "stdout",
     "output_type": "stream",
     "text": [
      "bye for now\n"
     ]
    }
   ],
   "source": [
    "if False:\n",
    "    print('Data Science')\n",
    "print('bye for now')"
   ]
  },
  {
   "cell_type": "code",
   "execution_count": 564,
   "id": "06ac25fe-05f5-4c18-aa9e-d0c69dbf08d0",
   "metadata": {},
   "outputs": [
    {
     "name": "stdout",
     "output_type": "stream",
     "text": [
      "Data Science\n",
      "bye for now\n"
     ]
    }
   ],
   "source": [
    "if True:\n",
    "    print('Data Science')\n",
    "print('bye for now')    "
   ]
  },
  {
   "cell_type": "markdown",
   "id": "11261613-7b40-43b1-ba07-042d1fa4cfc0",
   "metadata": {},
   "source": [
    "lets do one program as if number is divide by 2 then reminder is 0 then it is even number if reminder is not 0 then it is odd number"
   ]
  },
  {
   "cell_type": "code",
   "execution_count": 565,
   "id": "6a0aa396-e864-4e01-b7d1-10dc091192f1",
   "metadata": {},
   "outputs": [
    {
     "name": "stdout",
     "output_type": "stream",
     "text": [
      "Even Number\n"
     ]
    }
   ],
   "source": [
    "x = 14\n",
    "r = x % 2\n",
    "\n",
    "if r == 0:\n",
    "    print('Even Number')\n",
    "\n",
    "if r == 1:\n",
    "    print('Odd Number')"
   ]
  },
  {
   "cell_type": "code",
   "execution_count": 566,
   "id": "be1d6259-5648-4f28-9b4a-4cf7195abddb",
   "metadata": {},
   "outputs": [
    {
     "name": "stdout",
     "output_type": "stream",
     "text": [
      "Even Number\n"
     ]
    }
   ],
   "source": [
    "x = 14\n",
    "r = x % 2\n",
    "\n",
    "if r == 0:\n",
    "    print('Even Number')\n",
    "else:\n",
    "    print('Odd Number')"
   ]
  },
  {
   "cell_type": "code",
   "execution_count": 569,
   "id": "41d48ad5-f42f-4e7b-83db-65f4873d2019",
   "metadata": {},
   "outputs": [],
   "source": [
    "x = 11\n",
    "r = x % 2\n",
    "\n",
    "if r == 0:\n",
    "    print('Even Number')"
   ]
  },
  {
   "cell_type": "code",
   "execution_count": 570,
   "id": "8779c228-64a7-4e9a-adb2-0231d9180e90",
   "metadata": {},
   "outputs": [
    {
     "name": "stdout",
     "output_type": "stream",
     "text": [
      "Odd Number\n"
     ]
    }
   ],
   "source": [
    "x = 5\n",
    "r = x % 2\n",
    "\n",
    "if r == 0:\n",
    "    print('Even Number')\n",
    "print('Odd Number')    "
   ]
  },
  {
   "cell_type": "code",
   "execution_count": 571,
   "id": "24fd6f3f-9b75-497a-badd-402216ccfbdb",
   "metadata": {},
   "outputs": [
    {
     "name": "stdout",
     "output_type": "stream",
     "text": [
      "Even Number\n",
      "Odd Number\n"
     ]
    }
   ],
   "source": [
    "x = 8\n",
    "r = x % 2\n",
    "\n",
    "if r == 0:\n",
    "    print('Even Number')\n",
    "print('Odd Number')    "
   ]
  },
  {
   "cell_type": "code",
   "execution_count": 572,
   "id": "1ce555bb-051d-462d-8be3-cb4a7b8d97cf",
   "metadata": {},
   "outputs": [
    {
     "name": "stdout",
     "output_type": "stream",
     "text": [
      "Even Number\n"
     ]
    }
   ],
   "source": [
    "x = 8\n",
    "r = x % 2\n",
    "\n",
    "if r == 0:\n",
    "    print('Even Number')\n",
    "if r == 1:\n",
    "    print('Odd Number')"
   ]
  },
  {
   "cell_type": "code",
   "execution_count": 573,
   "id": "d9723c2c-d09a-4ce2-b298-01205622ad14",
   "metadata": {},
   "outputs": [
    {
     "name": "stdout",
     "output_type": "stream",
     "text": [
      "Odd Number\n"
     ]
    }
   ],
   "source": [
    "x = 7\n",
    "r = x % 2\n",
    "\n",
    "if r == 0:\n",
    "    print('Even Number')\n",
    "if r == 1:\n",
    "    print('Odd Number')"
   ]
  },
  {
   "cell_type": "code",
   "execution_count": 574,
   "id": "0a0ad4fb-7bce-421f-bc97-953cfcb404ad",
   "metadata": {},
   "outputs": [
    {
     "name": "stdout",
     "output_type": "stream",
     "text": [
      "Odd Number\n"
     ]
    }
   ],
   "source": [
    "x = 13\n",
    "r = x % 2\n",
    "\n",
    "if r == 0:\n",
    "    print('Even Number')\n",
    "if r == 1:\n",
    "    print('Odd Number')"
   ]
  },
  {
   "cell_type": "markdown",
   "id": "8dd741e9-f5c5-47a3-bfdb-df00c57c598e",
   "metadata": {},
   "source": [
    "if we observe the code its too many line because many of the coder always they wanted to reduce the code length which is very good pratise. instead of 2 if we can use if--else"
   ]
  },
  {
   "cell_type": "code",
   "execution_count": 575,
   "id": "4b96f800-d458-453e-8466-49bed5ec8e2a",
   "metadata": {},
   "outputs": [
    {
     "name": "stdout",
     "output_type": "stream",
     "text": [
      "Even Number\n"
     ]
    }
   ],
   "source": [
    "x = 2\n",
    "r = x % 2\n",
    "\n",
    "if r == 0:\n",
    "    print('Even Number')\n",
    "else:\n",
    "    print('Odd Number')"
   ]
  },
  {
   "cell_type": "code",
   "execution_count": 576,
   "id": "f443a2f0-0202-4840-ba5e-f4f77c79d41e",
   "metadata": {},
   "outputs": [
    {
     "name": "stdout",
     "output_type": "stream",
     "text": [
      "Odd Number\n"
     ]
    }
   ],
   "source": [
    "x = 3\n",
    "r = x % 2\n",
    "\n",
    "if r == 0:\n",
    "    print('Even Number')\n",
    "    if x>5:\n",
    "        print('greater number')\n",
    "else:\n",
    "    print('Odd Number')"
   ]
  },
  {
   "cell_type": "code",
   "execution_count": 577,
   "id": "95ac80da-3e2e-4aaf-93d3-a72c140d76d4",
   "metadata": {},
   "outputs": [
    {
     "name": "stdout",
     "output_type": "stream",
     "text": [
      "Even Number\n"
     ]
    }
   ],
   "source": [
    "x = 4\n",
    "r = x % 2\n",
    "\n",
    "if r == 0:\n",
    "    print('Even Number')\n",
    "    if x>5:\n",
    "        print('greater number')\n",
    "else:\n",
    "    print('Odd Number')"
   ]
  },
  {
   "cell_type": "markdown",
   "id": "6a7d7f45-1935-4ab6-80aa-32e889f7c2eb",
   "metadata": {},
   "source": [
    "NESTED IF (if we have 2 condition so we need to implement wit nested if)"
   ]
  },
  {
   "cell_type": "code",
   "execution_count": 579,
   "id": "1d11c875-463a-4589-ac65-ae73f211a5c6",
   "metadata": {},
   "outputs": [
    {
     "name": "stdout",
     "output_type": "stream",
     "text": [
      "Even Number\n",
      "greater number\n"
     ]
    }
   ],
   "source": [
    "x = 6\n",
    "r = x % 2\n",
    "if r == 0:\n",
    "    print('Even Number')\n",
    "    if x>5:\n",
    "        print('greater number')\n",
    "    else:\n",
    "        print('not greater')\n",
    "else:\n",
    "    print('Odd Number')"
   ]
  },
  {
   "cell_type": "code",
   "execution_count": 580,
   "id": "e4d3eb13-367a-43db-bfa0-87f182db83dc",
   "metadata": {},
   "outputs": [
    {
     "name": "stdout",
     "output_type": "stream",
     "text": [
      "Even Number\n",
      "not greater\n"
     ]
    }
   ],
   "source": [
    "x = 2\n",
    "r = x % 2\n",
    "if r == 0:\n",
    "    print('Even Number')\n",
    "    if x>5:\n",
    "        print('greater number')\n",
    "    else:\n",
    "        print('not greater')\n",
    "else:\n",
    "    print('Odd Number')"
   ]
  },
  {
   "cell_type": "markdown",
   "id": "b7ad2630-4669-418f-b7c7-1ca5af0cf3fc",
   "metadata": {},
   "source": [
    "we do have concept of (IF - ELIF - ELSE) e.g i want to print (1-->one, 2-->two, 3-->three, 4-->four, 5-->five)"
   ]
  },
  {
   "cell_type": "code",
   "execution_count": 581,
   "id": "13614210-c04b-4450-9c04-db9b000c0a4d",
   "metadata": {},
   "outputs": [
    {
     "name": "stdout",
     "output_type": "stream",
     "text": [
      "one\n"
     ]
    }
   ],
   "source": [
    "x = 1\n",
    "\n",
    "if(x == 1):\n",
    "    print('one')\n",
    "if(x == 2):\n",
    "    print('Two')\n",
    "if(x == 3):\n",
    "    print('Three')\n",
    "if(x == 4):\n",
    "    print('Four')\n",
    "        "
   ]
  },
  {
   "cell_type": "code",
   "execution_count": 584,
   "id": "df6ce42f-1dab-4439-b3d9-29628e9a5594",
   "metadata": {},
   "outputs": [
    {
     "name": "stdout",
     "output_type": "stream",
     "text": [
      "Two\n"
     ]
    }
   ],
   "source": [
    "x = 2\n",
    "\n",
    "if(x == 1):\n",
    "    print('one')\n",
    "elif(x == 2):\n",
    "    print('Two')\n",
    "elif(x == 3):\n",
    "    print('Three')\n",
    "elif(x == 4):\n",
    "    print('Four')\n",
    "    "
   ]
  },
  {
   "cell_type": "code",
   "execution_count": 585,
   "id": "d91ff943-1e06-48c2-a879-fa1eefe8ffe3",
   "metadata": {},
   "outputs": [],
   "source": [
    "x = 5\n",
    "\n",
    "if(x == 1):\n",
    "    print('one')\n",
    "elif(x == 2):\n",
    "    print('Two')\n",
    "elif(x == 3):\n",
    "    print('Three')\n",
    "elif(x == 4):\n",
    "    print('Four')"
   ]
  },
  {
   "cell_type": "code",
   "execution_count": 586,
   "id": "c200460e-f472-4e31-8a1a-000f0b5665f4",
   "metadata": {},
   "outputs": [
    {
     "name": "stdout",
     "output_type": "stream",
     "text": [
      "wrong output\n"
     ]
    }
   ],
   "source": [
    "x = 5\n",
    "\n",
    "if(x == 1):\n",
    "    print('one')\n",
    "elif(x == 2):\n",
    "    print('Two')\n",
    "elif(x == 3):\n",
    "    print('Three')\n",
    "elif(x == 4):\n",
    "    print('Four')\n",
    "else:\n",
    "    print('wrong output')"
   ]
  },
  {
   "cell_type": "code",
   "execution_count": 587,
   "id": "1ea99066-e8d1-404a-ace4-af4e7ab54724",
   "metadata": {},
   "outputs": [
    {
     "name": "stdout",
     "output_type": "stream",
     "text": [
      "wrong output\n"
     ]
    }
   ],
   "source": [
    "x = 15\n",
    "\n",
    "if(x == 1):\n",
    "    print('one')\n",
    "elif(x == 2):\n",
    "    print('Two')\n",
    "elif(x == 3):\n",
    "    print('Three')\n",
    "elif(x == 4):\n",
    "    print('Four')\n",
    "    \n",
    "else:\n",
    "    print('wrong output')"
   ]
  },
  {
   "cell_type": "code",
   "execution_count": 588,
   "id": "c70b7e9f-ac03-44da-8431-c13118eb547b",
   "metadata": {},
   "outputs": [
    {
     "name": "stdout",
     "output_type": "stream",
     "text": [
      "data science\n"
     ]
    }
   ],
   "source": [
    "print('data science')"
   ]
  },
  {
   "cell_type": "code",
   "execution_count": 589,
   "id": "bbc38fd8-71e0-4380-8ae9-6487f02b2085",
   "metadata": {},
   "outputs": [
    {
     "name": "stdout",
     "output_type": "stream",
     "text": [
      "data science\n",
      "data science\n"
     ]
    }
   ],
   "source": [
    "print('data science')\n",
    "print('data science')"
   ]
  },
  {
   "cell_type": "markdown",
   "id": "4b4e5d92-4b8b-4921-855c-166c4550c4d3",
   "metadata": {},
   "source": [
    "LOOPS -- in programing world some time we keep on repeating , may be you want to repeat 5 statement so one way is copy & paste multiple times or other way is. if you want to print the datascience 10 times then what you will you cant copy for 10 times , if you want to print 1000 times then you cant do manualy . \n",
    "that is the reason why we need to apply loop ->\n",
    "2 type of loops --  While loop & For loop"
   ]
  },
  {
   "cell_type": "code",
   "execution_count": 590,
   "id": "a5e939c7-747d-49b1-b204-ecb7c787c361",
   "metadata": {},
   "outputs": [
    {
     "name": "stdout",
     "output_type": "stream",
     "text": [
      "data science\n",
      "data science\n",
      "data science\n",
      "data science\n",
      "data science\n"
     ]
    }
   ],
   "source": [
    "i = 1 \n",
    "while i<=5:\n",
    "    print('data science')\n",
    "    i = i +1"
   ]
  },
  {
   "cell_type": "code",
   "execution_count": 591,
   "id": "be3c31d7-8396-4838-8f6c-bb29a8536c53",
   "metadata": {},
   "outputs": [
    {
     "name": "stdout",
     "output_type": "stream",
     "text": [
      "data science\n",
      "data science\n",
      "data science\n",
      "data science\n",
      "data science\n"
     ]
    }
   ],
   "source": [
    "i = 5\n",
    "while i>=1:\n",
    "    print('data science')\n",
    "    i = i - 1"
   ]
  },
  {
   "cell_type": "code",
   "execution_count": 592,
   "id": "8cc873e0-1d1f-434d-bb0a-0a35fc430f06",
   "metadata": {},
   "outputs": [
    {
     "name": "stdout",
     "output_type": "stream",
     "text": [
      "data science: 1\n",
      "data science: 2\n",
      "data science: 3\n",
      "data science: 4\n",
      "data science: 5\n"
     ]
    }
   ],
   "source": [
    "i = 1\n",
    "while i<=5:\n",
    "    print('data science'':',i)\n",
    "    i = i + 1"
   ]
  },
  {
   "cell_type": "code",
   "execution_count": 594,
   "id": "023f686d-84fd-4bf0-90d1-b470e7ec32d1",
   "metadata": {},
   "outputs": [
    {
     "name": "stdout",
     "output_type": "stream",
     "text": [
      "data science : 5\n",
      "data science : 4\n",
      "data science : 3\n",
      "data science : 2\n",
      "data science : 1\n"
     ]
    }
   ],
   "source": [
    "i = 5\n",
    "while i>=1:\n",
    "    print('data science',':',i)\n",
    "    i = i - 1"
   ]
  },
  {
   "cell_type": "markdown",
   "id": "aeb261f2-e29d-466b-96ba-9ffb381a3624",
   "metadata": {},
   "source": [
    "can we use multiple while loop || nested while loop \n",
    "to understand nested whild indepth understand you can use pycharm debug with f8 option"
   ]
  },
  {
   "cell_type": "code",
   "execution_count": 5,
   "id": "fbc05bfd-99d3-481f-b140-04ddc22d28e9",
   "metadata": {},
   "outputs": [
    {
     "name": "stdout",
     "output_type": "stream",
     "text": [
      " data science\n",
      " technology\n",
      " technology\n",
      " technology\n",
      " technology\n",
      "\n",
      " data science\n",
      " technology\n",
      " technology\n",
      " technology\n",
      " technology\n",
      "\n",
      " data science\n",
      " technology\n",
      " technology\n",
      " technology\n",
      " technology\n",
      "\n",
      " data science\n",
      " technology\n",
      " technology\n",
      " technology\n",
      " technology\n",
      "\n",
      " data science\n",
      " technology\n",
      " technology\n",
      " technology\n",
      " technology\n",
      "\n"
     ]
    }
   ],
   "source": [
    "i = 1\n",
    "\n",
    "while i<=5:\n",
    "    print(' data science') \n",
    "    j = 1\n",
    "    while j<=4:\n",
    "        print(' technology')\n",
    "        j = j + 1\n",
    "        \n",
    "    i = i + 1\n",
    "    print()"
   ]
  },
  {
   "cell_type": "code",
   "execution_count": 6,
   "id": "d97f2818-b359-4ff7-ad9e-16219968f45c",
   "metadata": {},
   "outputs": [
    {
     "name": "stdout",
     "output_type": "stream",
     "text": [
      " data science technology technology technology technology\n",
      " data science technology technology technology technology\n",
      " data science technology technology technology technology\n",
      " data science technology technology technology technology\n",
      " data science technology technology technology technology\n"
     ]
    }
   ],
   "source": [
    "i = 1\n",
    "while i<=5:\n",
    "    print(' data science', end = \"\") # when we mention end then new line will not create\n",
    "    j = 1\n",
    "    while j<=4:\n",
    "        print(' technology', end=\"\")\n",
    "        j = j + 1\n",
    "        \n",
    "    i = i + 1\n",
    "    print()"
   ]
  },
  {
   "cell_type": "code",
   "execution_count": 7,
   "id": "fe174d25-c437-43c4-897b-a10269b84985",
   "metadata": {},
   "outputs": [
    {
     "name": "stdout",
     "output_type": "stream",
     "text": [
      " data science  * technology  * technology  * technology  * technology  *\n",
      " data science  * technology  * technology  * technology  * technology  *\n",
      " data science  * technology  * technology  * technology  * technology  *\n",
      " data science  * technology  * technology  * technology  * technology  *\n",
      " data science  * technology  * technology  * technology  * technology  *\n"
     ]
    }
   ],
   "source": [
    "i = 1\n",
    "while i<=5:\n",
    "    print(' data science', end = \"  *\") # when we mention end then new line will not create\n",
    "    j = 1\n",
    "    while j<=4:\n",
    "        print(' technology', end=\"  *\")\n",
    "        j = j + 1\n",
    "        \n",
    "    i = i + 1\n",
    "    print()"
   ]
  },
  {
   "cell_type": "code",
   "execution_count": 8,
   "id": "5ed71a75-19ba-4546-baf7-23236e5890d8",
   "metadata": {},
   "outputs": [
    {
     "name": "stdout",
     "output_type": "stream",
     "text": [
      "0 1 2 3 \n",
      "0 2 4 6 \n",
      "0 3 6 9 \n",
      "0 4 8 12 \n"
     ]
    }
   ],
   "source": [
    "i = 1\n",
    "while i <= 4 :\n",
    "    j = 0\n",
    "    while  j <= 3 :\n",
    "        print(i*j, end=\" \")\n",
    "        j += 1\n",
    "    print()\n",
    "    i += 1"
   ]
  },
  {
   "cell_type": "markdown",
   "id": "9acf3514-148a-4dcc-afd8-0203d5dd5821",
   "metadata": {},
   "source": [
    "FOR LOOP  -\n",
    "normally while loop it work with condition but for loop it will work with sequence (list, string,int)"
   ]
  },
  {
   "cell_type": "code",
   "execution_count": 9,
   "id": "eff6ebef-fd90-4b1f-9dc1-b974b7e9cf33",
   "metadata": {},
   "outputs": [
    {
     "name": "stdout",
     "output_type": "stream",
     "text": [
      "n\n",
      "i\n",
      "t\n"
     ]
    }
   ],
   "source": [
    "name = 'nit'\n",
    "for i in name:\n",
    "    print(i)"
   ]
  },
  {
   "cell_type": "code",
   "execution_count": 11,
   "id": "8404c968-13fb-4466-9ac0-77c3768e45b8",
   "metadata": {},
   "outputs": [
    {
     "name": "stdout",
     "output_type": "stream",
     "text": [
      "1\n",
      "3\n",
      "5\n",
      "hallo\n"
     ]
    }
   ],
   "source": [
    "name1 = [1,3,5,'hallo']\n",
    "\n",
    "for i in name1:\n",
    "    print(i)"
   ]
  },
  {
   "cell_type": "code",
   "execution_count": 12,
   "id": "6bcecba6-9130-44ed-9f8d-aff511e5b673",
   "metadata": {},
   "outputs": [
    {
     "name": "stdout",
     "output_type": "stream",
     "text": [
      "2\n",
      "3\n",
      "7.8\n",
      "hi\n"
     ]
    }
   ],
   "source": [
    "for i in [2, 3, 7.8, 'hi']:\n",
    "    print(i)"
   ]
  },
  {
   "cell_type": "code",
   "execution_count": 13,
   "id": "3372accf-6ec6-4102-bf83-f14f7b0cb61b",
   "metadata": {},
   "outputs": [
    {
     "name": "stdout",
     "output_type": "stream",
     "text": [
      "0\n",
      "1\n",
      "2\n",
      "3\n",
      "4\n"
     ]
    }
   ],
   "source": [
    "for i in range(5):\n",
    "    print(i)"
   ]
  },
  {
   "cell_type": "code",
   "execution_count": 14,
   "id": "4644f7df-5add-45f8-b6b9-0b29d8a6b040",
   "metadata": {},
   "outputs": [
    {
     "name": "stdout",
     "output_type": "stream",
     "text": [
      "1\n",
      "2\n",
      "3\n",
      "4\n"
     ]
    }
   ],
   "source": [
    "for i in range(1,5):\n",
    "    print(i)"
   ]
  },
  {
   "cell_type": "code",
   "execution_count": 15,
   "id": "13e7dbe8-c11e-422f-9412-0bc69c29bb47",
   "metadata": {},
   "outputs": [
    {
     "name": "stdout",
     "output_type": "stream",
     "text": [
      "1\n",
      "4\n",
      "7\n"
     ]
    }
   ],
   "source": [
    "for i in range(1,10,3):\n",
    "    print(i)"
   ]
  },
  {
   "cell_type": "code",
   "execution_count": 16,
   "id": "ad0f4d98-11f8-4299-b2fc-533f77c5af43",
   "metadata": {},
   "outputs": [
    {
     "name": "stdout",
     "output_type": "stream",
     "text": [
      "1\n",
      "2\n",
      "3\n",
      "4\n",
      "6\n",
      "7\n",
      "8\n",
      "9\n"
     ]
    }
   ],
   "source": [
    "for i in range(1,11):\n",
    "\n",
    "    if i%5 !=0 :\n",
    "        print(i)"
   ]
  },
  {
   "cell_type": "code",
   "execution_count": 17,
   "id": "5abad962-778e-467f-a74b-f766c82ad1ac",
   "metadata": {},
   "outputs": [
    {
     "name": "stdout",
     "output_type": "stream",
     "text": [
      "5\n",
      "10\n",
      "15\n",
      "20\n",
      "25\n",
      "30\n",
      "35\n",
      "40\n",
      "45\n",
      "50\n"
     ]
    }
   ],
   "source": [
    "for i in range(1,51):\n",
    "\n",
    "    if i%5 == 0:\n",
    "        print(i)"
   ]
  },
  {
   "cell_type": "markdown",
   "id": "6fd0b6eb-73b4-4d83-b430-94ee147486f4",
   "metadata": {},
   "source": [
    "# LETS DISCUSS ABOUT 3 KEYWORDS -- BREAK || CONTINUE || PASS\n",
    "BREAK STATEMENT - if you apply break statment in a loop then it will end the loop\n",
    "# Pass = skips block of code( function, class etc)\n",
    "# Continue= skips 1 step/iteration during loop \n",
    "# Break= jumps out of the function/loop"
   ]
  },
  {
   "cell_type": "code",
   "execution_count": 18,
   "id": "2c410574-22e8-4459-a009-3d5a4af9ce31",
   "metadata": {},
   "outputs": [
    {
     "name": "stdout",
     "output_type": "stream",
     "text": [
      "1\n",
      "2\n",
      "3\n",
      "4\n",
      "5\n",
      "6\n",
      "7\n",
      "8\n",
      "9\n",
      "10\n"
     ]
    }
   ],
   "source": [
    "for i in range(1,11):\n",
    "    print(i)"
   ]
  },
  {
   "cell_type": "code",
   "execution_count": 19,
   "id": "3454a5d0-6958-424e-ac47-08958d1d6822",
   "metadata": {},
   "outputs": [],
   "source": [
    "for i in range(1,11):\n",
    "    if i == 5:\n",
    "        break"
   ]
  },
  {
   "cell_type": "code",
   "execution_count": 20,
   "id": "8c3d830d-5693-45a1-baf5-8bee08a4ea8f",
   "metadata": {},
   "outputs": [
    {
     "name": "stdout",
     "output_type": "stream",
     "text": [
      "1\n",
      "2\n",
      "3\n",
      "4\n"
     ]
    }
   ],
   "source": [
    "for i in range(1,11):\n",
    "    if i == 5:\n",
    "        break\n",
    "    print(i)    "
   ]
  },
  {
   "cell_type": "markdown",
   "id": "536d19bb-4e42-4fbd-88bb-3f41941c5b2e",
   "metadata": {},
   "source": [
    "# in continue , loop wont be terminate"
   ]
  },
  {
   "cell_type": "code",
   "execution_count": 22,
   "id": "430484a2-72ae-455f-8b6b-9b6584e87776",
   "metadata": {},
   "outputs": [
    {
     "name": "stdout",
     "output_type": "stream",
     "text": [
      "1\n",
      "2\n",
      "3\n",
      "4\n",
      "6\n",
      "7\n",
      "8\n",
      "9\n",
      "10\n"
     ]
    }
   ],
   "source": [
    "for i in range(1,11):\n",
    "    if i ==5:\n",
    "        continue\n",
    "    print(i)    "
   ]
  },
  {
   "cell_type": "code",
   "execution_count": 24,
   "id": "4eb2224a-fd4e-4d43-a5d8-ebc9d5b29e0e",
   "metadata": {},
   "outputs": [
    {
     "name": "stdout",
     "output_type": "stream",
     "text": [
      "hello  1\n",
      "hello  2\n",
      "hello  3\n",
      "hello  4\n",
      "hello  6\n",
      "hello  7\n",
      "hello  8\n",
      "hello  9\n",
      "hello  10\n"
     ]
    }
   ],
   "source": [
    "for i in range(1,11):\n",
    "    if i ==5:\n",
    "        continue\n",
    "    print('hello ',i)"
   ]
  },
  {
   "cell_type": "markdown",
   "id": "105dff5e-7c1b-4968-92a9-01aefaabf78b",
   "metadata": {},
   "source": [
    "# pass statement - pass the code & it wont go "
   ]
  },
  {
   "cell_type": "code",
   "execution_count": 28,
   "id": "69d90981-9741-4442-9dae-5535bf71ccc6",
   "metadata": {},
   "outputs": [
    {
     "ename": "SyntaxError",
     "evalue": "incomplete input (1334445784.py, line 1)",
     "output_type": "error",
     "traceback": [
      "\u001b[1;36m  Cell \u001b[1;32mIn[28], line 1\u001b[1;36m\u001b[0m\n\u001b[1;33m    for i in range(1,11):\u001b[0m\n\u001b[1;37m                         ^\u001b[0m\n\u001b[1;31mSyntaxError\u001b[0m\u001b[1;31m:\u001b[0m incomplete input\n"
     ]
    }
   ],
   "source": [
    "for i in range(1,11):"
   ]
  },
  {
   "cell_type": "code",
   "execution_count": 29,
   "id": "24ddacdb-38b4-47c0-97f2-7894a3ce341e",
   "metadata": {},
   "outputs": [],
   "source": [
    "for i in range(1,11):\n",
    "    pass"
   ]
  },
  {
   "cell_type": "markdown",
   "id": "a9a4b85e-c6f1-4258-a8c2-3143771174e6",
   "metadata": {},
   "source": [
    "# #PRINTING PATTERN IN PYTHON"
   ]
  },
  {
   "cell_type": "code",
   "execution_count": 1,
   "id": "afa6c09b-fd9a-4a6e-97bd-4fa461355925",
   "metadata": {},
   "outputs": [
    {
     "name": "stdout",
     "output_type": "stream",
     "text": [
      "# # # # #\n",
      "# # # # #\n",
      "# # # # #\n",
      "# # # # #\n",
      "# # # # #\n"
     ]
    }
   ],
   "source": [
    "print('# # # # #')\n",
    "print('# # # # #')\n",
    "print('# # # # #')\n",
    "print('# # # # #')\n",
    "print('# # # # #')"
   ]
  },
  {
   "cell_type": "code",
   "execution_count": 2,
   "id": "d771e957-37bf-44e6-8884-504e8137b881",
   "metadata": {},
   "outputs": [
    {
     "name": "stdout",
     "output_type": "stream",
     "text": [
      "#  #  #  #  "
     ]
    }
   ],
   "source": [
    "for j in range(4):\n",
    "    print('#', end=\"  \")"
   ]
  },
  {
   "cell_type": "code",
   "execution_count": 3,
   "id": "c2937a7c-7bfd-4f0f-b271-1bf3553674ca",
   "metadata": {},
   "outputs": [
    {
     "name": "stdout",
     "output_type": "stream",
     "text": [
      "#  #  #  #  #  #  #  #  "
     ]
    }
   ],
   "source": [
    "for j in range(4):\n",
    "    print('#', end=\"  \")\n",
    "\n",
    "for j in range(4):\n",
    "    print('#', end=\"  \")"
   ]
  },
  {
   "cell_type": "code",
   "execution_count": 4,
   "id": "bb8b98e2-2d08-4cc3-ad4b-7b6247f1cc21",
   "metadata": {},
   "outputs": [
    {
     "name": "stdout",
     "output_type": "stream",
     "text": [
      "#  #  #  #  \n",
      "#  #  #  #  "
     ]
    }
   ],
   "source": [
    "for j in range(4):\n",
    "    print('#', end=\"  \")\n",
    "\n",
    "print()\n",
    "\n",
    "for j in range(4):\n",
    "    print('#', end=\"  \")"
   ]
  },
  {
   "cell_type": "code",
   "execution_count": 5,
   "id": "9a2098a5-278f-461b-aa29-6177b0dd9ca7",
   "metadata": {},
   "outputs": [
    {
     "name": "stdout",
     "output_type": "stream",
     "text": [
      "#  #  #  #  \n",
      "#  #  #  #  \n",
      "#  #  #  #  \n",
      "#  #  #  #  "
     ]
    }
   ],
   "source": [
    "for j in range(4):\n",
    "    print('#', end=\"  \")\n",
    "\n",
    "print()\n",
    "\n",
    "for j in range(4):\n",
    "    print('#', end=\"  \")\n",
    "\n",
    "print()\n",
    "\n",
    "for j in range(4):\n",
    "    print('#', end=\"  \")\n",
    "\n",
    "print()\n",
    "\n",
    "for j in range(4):\n",
    "    print('#', end=\"  \")"
   ]
  },
  {
   "cell_type": "code",
   "execution_count": 6,
   "id": "30aea510-bd54-4182-b945-fdcecb70f438",
   "metadata": {},
   "outputs": [
    {
     "name": "stdout",
     "output_type": "stream",
     "text": [
      "#  #  #  #  \n",
      "#  #  #  #  \n",
      "#  #  #  #  \n",
      "#  #  #  #  \n"
     ]
    }
   ],
   "source": [
    "for i in range(4):\n",
    "    for j in range(4):\n",
    "        print('#', end=\"  \")\n",
    "    print()"
   ]
  },
  {
   "cell_type": "code",
   "execution_count": 7,
   "id": "5c1c6668-8bb4-4cbe-bfe0-b940ba458522",
   "metadata": {},
   "outputs": [
    {
     "name": "stdout",
     "output_type": "stream",
     "text": [
      "\n",
      "#  \n",
      "#  #  \n",
      "#  #  #  \n",
      "#  #  #  #  \n"
     ]
    }
   ],
   "source": [
    "for i in range(5):\n",
    "    for j in range(i):\n",
    "        print('#', end=\"  \")\n",
    "    print()"
   ]
  },
  {
   "cell_type": "code",
   "execution_count": 8,
   "id": "8a62ae11-1c1b-4e01-bc0d-3a142fd28f41",
   "metadata": {},
   "outputs": [
    {
     "name": "stdout",
     "output_type": "stream",
     "text": [
      "#  \n",
      "#  #  \n",
      "#  #  #  \n",
      "#  #  #  #  \n"
     ]
    }
   ],
   "source": [
    "for i in range(4):\n",
    "    for j in range(i+1):\n",
    "        print('#', end=\"  \")\n",
    "    print()"
   ]
  },
  {
   "cell_type": "code",
   "execution_count": 9,
   "id": "126ea19a-ff47-4b88-917c-20e592c1418a",
   "metadata": {},
   "outputs": [
    {
     "name": "stdout",
     "output_type": "stream",
     "text": [
      "*  *  *  *  \n",
      "*  *  *  \n",
      "*  *  \n",
      "*  \n"
     ]
    }
   ],
   "source": [
    "for i in range(4):\n",
    "    for j in range(4-i):\n",
    "        print('*', end=\"  \")\n",
    "    print()"
   ]
  },
  {
   "cell_type": "code",
   "execution_count": 10,
   "id": "277dedfb-58af-405e-bd1b-1f3a8b22c6d8",
   "metadata": {},
   "outputs": [
    {
     "name": "stdout",
     "output_type": "stream",
     "text": [
      "#  #  #  #  \n",
      "#  #  #  \n",
      "#  #  \n",
      "#  \n"
     ]
    }
   ],
   "source": [
    "for i in range(4):\n",
    "    for j in range(4-i):\n",
    "        print('#', end=\"  \")\n",
    "    print()"
   ]
  },
  {
   "cell_type": "markdown",
   "id": "9e3414c1-84ba-4d94-9530-66ea164ff9d3",
   "metadata": {},
   "source": [
    "# For|Else in python"
   ]
  },
  {
   "cell_type": "code",
   "execution_count": 11,
   "id": "89c7ede2-9271-44b4-99f0-42b3f4a8adbf",
   "metadata": {},
   "outputs": [
    {
     "name": "stdout",
     "output_type": "stream",
     "text": [
      "15\n"
     ]
    }
   ],
   "source": [
    "nums = [12,15,18,21,26]\n",
    "\n",
    "for num in nums:\n",
    "    if num % 5 == 0:\n",
    "        print(num)"
   ]
  },
  {
   "cell_type": "code",
   "execution_count": 13,
   "id": "04e1d0a5-33b7-4820-b257-8b24b9998394",
   "metadata": {},
   "outputs": [
    {
     "name": "stdout",
     "output_type": "stream",
     "text": [
      "25\n"
     ]
    }
   ],
   "source": [
    "nums = [12,14,18,21,25]\n",
    "for num in nums:\n",
    "    if num % 5 == 0:\n",
    "        print(num)"
   ]
  },
  {
   "cell_type": "code",
   "execution_count": 15,
   "id": "ff271cd7-8dbd-4cec-9874-69167080d457",
   "metadata": {},
   "outputs": [
    {
     "name": "stdout",
     "output_type": "stream",
     "text": [
      "25\n",
      "20\n"
     ]
    }
   ],
   "source": [
    "nums = [12,14,18,25,20]\n",
    "for num in nums:\n",
    "    if num % 5 == 0:\n",
    "        print(num)"
   ]
  },
  {
   "cell_type": "code",
   "execution_count": 16,
   "id": "5272c92c-acfb-46e9-a361-30a0b30ce78e",
   "metadata": {},
   "outputs": [
    {
     "name": "stdout",
     "output_type": "stream",
     "text": [
      "25\n"
     ]
    }
   ],
   "source": [
    "nums = [12,14,18,25,20]\n",
    "for num in nums:\n",
    "    if num % 5 == 0:\n",
    "        print(num)\n",
    "        break"
   ]
  },
  {
   "cell_type": "code",
   "execution_count": 17,
   "id": "b1eb47e6-614a-4c3d-91af-41e004393266",
   "metadata": {},
   "outputs": [
    {
     "name": "stdout",
     "output_type": "stream",
     "text": [
      "20\n"
     ]
    }
   ],
   "source": [
    "nums = [12,14,18,20,25]\n",
    "for num in nums:\n",
    "    if num % 5 == 0:\n",
    "        print(num)\n",
    "        break"
   ]
  },
  {
   "cell_type": "code",
   "execution_count": 18,
   "id": "7b72e007-8782-453e-b224-cb9efba9b162",
   "metadata": {},
   "outputs": [],
   "source": [
    "nums = [7,14,18,21,23,27] #here there is no number which is dividke by 5 we got output as blank\n",
    "for num in nums:\n",
    "    if num % 5 == 0:\n",
    "        print(num)"
   ]
  },
  {
   "cell_type": "code",
   "execution_count": 19,
   "id": "397ab8fd-cf9d-4553-889d-13ec0578d482",
   "metadata": {},
   "outputs": [
    {
     "name": "stdout",
     "output_type": "stream",
     "text": [
      "Number Not Found\n",
      "Number Not Found\n",
      "Number Not Found\n",
      "Number Not Found\n",
      "Number Not Found\n",
      "Number Not Found\n"
     ]
    }
   ],
   "source": [
    "nums = [7,14,18,21,23,27]\n",
    "for num in nums:\n",
    "    if num % 5 == 0:\n",
    "        print(num)\n",
    "        break\n",
    "    else:\n",
    "        print('Number Not Found')"
   ]
  },
  {
   "cell_type": "code",
   "execution_count": 20,
   "id": "45c05fee-5af6-41c4-a15c-d78a17c80c82",
   "metadata": {},
   "outputs": [
    {
     "name": "stdout",
     "output_type": "stream",
     "text": [
      "NOt Found\n"
     ]
    }
   ],
   "source": [
    "nums = [7,14,18,21,23,27]\n",
    "for num in nums:\n",
    "    if num % 5 == 0:\n",
    "        print(num)\n",
    "\n",
    "else:\n",
    "        print('NOt Found')"
   ]
  },
  {
   "cell_type": "code",
   "execution_count": 21,
   "id": "606b7131-bd17-43eb-894a-9e980317e167",
   "metadata": {},
   "outputs": [
    {
     "name": "stdout",
     "output_type": "stream",
     "text": [
      "10\n",
      "20\n",
      "NOt Found\n"
     ]
    }
   ],
   "source": [
    "nums = [10,14,18,21,20,27]\n",
    "for num in nums:\n",
    "    if num % 5 == 0:\n",
    "        print(num)\n",
    "\n",
    "else:\n",
    "        print('NOt Found')"
   ]
  },
  {
   "cell_type": "code",
   "execution_count": 22,
   "id": "3ac08ed2-ce00-486a-b64b-6d1d047fb0a8",
   "metadata": {},
   "outputs": [
    {
     "name": "stdout",
     "output_type": "stream",
     "text": [
      "10\n"
     ]
    }
   ],
   "source": [
    "nums = [10,14,18,21,20,27]\n",
    "for num in nums:\n",
    "    if num % 5 == 0:\n",
    "        print(num)\n",
    "        break\n",
    "\n",
    "else:\n",
    "        print('Not Found')"
   ]
  },
  {
   "cell_type": "markdown",
   "id": "314d3c41-ecd6-441f-a49c-1847b0a965a3",
   "metadata": {},
   "source": [
    "# prime number - how to check given number is prime number or not"
   ]
  },
  {
   "cell_type": "code",
   "execution_count": 23,
   "id": "a86c0331-5b35-4081-9f7c-847aa12eb190",
   "metadata": {},
   "outputs": [
    {
     "name": "stdout",
     "output_type": "stream",
     "text": [
      "Not Prime Number\n"
     ]
    }
   ],
   "source": [
    "num = 12\n",
    "\n",
    "for i in range(2,num):\n",
    "    if num % i == 0:\n",
    "        print('Not Prime Number')\n",
    "        break\n",
    "\n",
    "else:\n",
    "        print('Prime Number')"
   ]
  },
  {
   "cell_type": "code",
   "execution_count": 24,
   "id": "77746a46-afce-4586-bd44-bafc8a4c346d",
   "metadata": {},
   "outputs": [
    {
     "name": "stdout",
     "output_type": "stream",
     "text": [
      "Prime Number\n"
     ]
    }
   ],
   "source": [
    "num = 13\n",
    "\n",
    "for i in range(2,num):\n",
    "    if num % i == 0:\n",
    "        print('Not Prime Number')\n",
    "        break\n",
    "\n",
    "else:\n",
    "        print('Prime Number')"
   ]
  },
  {
   "cell_type": "markdown",
   "id": "7807cd5c-c271-42d4-a83d-804a29675ef8",
   "metadata": {},
   "source": [
    "Python funcion"
   ]
  },
  {
   "cell_type": "code",
   "execution_count": 1,
   "id": "dc80b104-dcd9-4e3e-a343-213644594fe1",
   "metadata": {},
   "outputs": [],
   "source": [
    "def greet():\n",
    "    print('hello')\n",
    "    print('good morning')"
   ]
  },
  {
   "cell_type": "code",
   "execution_count": 2,
   "id": "fb97e81e-618f-4d0c-9ad8-fb2c1764b7ec",
   "metadata": {},
   "outputs": [
    {
     "name": "stdout",
     "output_type": "stream",
     "text": [
      "hello\n",
      "good morning\n"
     ]
    }
   ],
   "source": [
    "def greet():\n",
    "    print('hello')\n",
    "    print('good morning')\n",
    "greet()"
   ]
  },
  {
   "cell_type": "code",
   "execution_count": 3,
   "id": "3e45374b-68e0-4ce3-bfb5-d2d821f4b589",
   "metadata": {},
   "outputs": [
    {
     "name": "stdout",
     "output_type": "stream",
     "text": [
      "hello\n",
      "good morning\n",
      "hello\n",
      "good morning\n",
      "hello\n",
      "good morning\n"
     ]
    }
   ],
   "source": [
    "def greet():\n",
    "    print('hello')\n",
    "    print('good morning')\n",
    "greet()\n",
    "\n",
    "def greet():\n",
    "    print('hello')\n",
    "    print('good morning')\n",
    "greet()\n",
    "\n",
    "def greet():\n",
    "    print('hello')\n",
    "    print('good morning')\n",
    "greet()"
   ]
  },
  {
   "cell_type": "code",
   "execution_count": 4,
   "id": "6c26751d-71da-45e6-8662-58fc909f6a66",
   "metadata": {},
   "outputs": [
    {
     "name": "stdout",
     "output_type": "stream",
     "text": [
      "hello\n",
      "good morning\n",
      "\n",
      "hello\n",
      "good morning\n",
      "\n",
      "hello\n",
      "good morning\n"
     ]
    }
   ],
   "source": [
    "def greet():\n",
    "    print('hello')\n",
    "    print('good morning')\n",
    "greet()\n",
    "print()\n",
    "greet()\n",
    "print()\n",
    "greet()"
   ]
  },
  {
   "cell_type": "code",
   "execution_count": 5,
   "id": "2f08c5a0-6f21-436f-a26e-067811b369ab",
   "metadata": {},
   "outputs": [
    {
     "name": "stdout",
     "output_type": "stream",
     "text": [
      "11\n"
     ]
    }
   ],
   "source": [
    "def add(x,y):\n",
    "    c=x+y\n",
    "    print(c)\n",
    "add(5,6)\n"
   ]
  },
  {
   "cell_type": "code",
   "execution_count": 6,
   "id": "02cc4e39-b693-4cc1-af93-d35f6d5e07d7",
   "metadata": {},
   "outputs": [
    {
     "name": "stdout",
     "output_type": "stream",
     "text": [
      "10\n"
     ]
    }
   ],
   "source": [
    "def add(x,y,z):\n",
    "    c=x+y+z\n",
    "    print(c)\n",
    "add(1,4,5)    "
   ]
  },
  {
   "cell_type": "code",
   "execution_count": 7,
   "id": "c88c6cae-b46d-4927-b20b-a3311402c345",
   "metadata": {},
   "outputs": [
    {
     "name": "stdout",
     "output_type": "stream",
     "text": [
      "hello\n",
      "good morning\n",
      "10\n"
     ]
    }
   ],
   "source": [
    "def greet():\n",
    "    print('hello')\n",
    "    print('good morning')\n",
    "greet()\n",
    "\n",
    "def add(x,y,z):\n",
    "    c=x+y+z\n",
    "    print(c)\n",
    "add(1,4,5)    "
   ]
  },
  {
   "cell_type": "code",
   "execution_count": 8,
   "id": "80517fa6-ebc1-4613-a041-c6f93360a633",
   "metadata": {},
   "outputs": [
    {
     "name": "stdout",
     "output_type": "stream",
     "text": [
      "hello\n",
      "good morning\n",
      "10\n"
     ]
    }
   ],
   "source": [
    "def greet():\n",
    "    print('hello')\n",
    "    print('good morning')\n",
    "\n",
    "def add(x,y,z):\n",
    "    c=x+y+z\n",
    "    print(c)\n",
    "\n",
    "greet()\n",
    "add(1,4,5)"
   ]
  },
  {
   "cell_type": "code",
   "execution_count": 11,
   "id": "494877ba-e3f2-4f77-84f3-66719eb8ec51",
   "metadata": {},
   "outputs": [
    {
     "name": "stdout",
     "output_type": "stream",
     "text": [
      "hello\n",
      "good morning\n",
      "9\n",
      "4\n"
     ]
    }
   ],
   "source": [
    "def greet():\n",
    "    print('hello')\n",
    "    print('good morning')\n",
    "\n",
    "def add(x,y):\n",
    "    c=x+y\n",
    "    print(c)\n",
    "\n",
    "def sub(x,y,z):\n",
    "    d = x-y-z\n",
    "    print(d)\n",
    "\n",
    "greet()\n",
    "add(5,4)\n",
    "sub(10,2,4)"
   ]
  },
  {
   "cell_type": "code",
   "execution_count": 12,
   "id": "559bb460-044c-4236-bfbe-4d0e6e680470",
   "metadata": {},
   "outputs": [
    {
     "data": {
      "text/plain": [
       "54"
      ]
     },
     "execution_count": 12,
     "metadata": {},
     "output_type": "execute_result"
    }
   ],
   "source": [
    "def add(x,y):\n",
    "    c=x+y\n",
    "    return c\n",
    "    \n",
    "add(50,4)"
   ]
  },
  {
   "cell_type": "code",
   "execution_count": 13,
   "id": "6020b294-c090-40c0-a67d-247a3d22ae00",
   "metadata": {},
   "outputs": [
    {
     "ename": "TypeError",
     "evalue": "sub() missing 1 required positional argument: 'z'",
     "output_type": "error",
     "traceback": [
      "\u001b[1;31m---------------------------------------------------------------------------\u001b[0m",
      "\u001b[1;31mTypeError\u001b[0m                                 Traceback (most recent call last)",
      "Cell \u001b[1;32mIn[13], line 7\u001b[0m\n\u001b[0;32m      4\u001b[0m     \u001b[38;5;28;01mreturn\u001b[39;00m c\n\u001b[0;32m      5\u001b[0m     \u001b[38;5;28;01mreturn\u001b[39;00m d\n\u001b[1;32m----> 7\u001b[0m sub(\u001b[38;5;241m50\u001b[39m,\u001b[38;5;241m4\u001b[39m)\n\u001b[0;32m      8\u001b[0m add(\u001b[38;5;241m50\u001b[39m,\u001b[38;5;241m4\u001b[39m)\n",
      "\u001b[1;31mTypeError\u001b[0m: sub() missing 1 required positional argument: 'z'"
     ]
    }
   ],
   "source": [
    "def add(x,y):\n",
    "    c=x+y\n",
    "    d=x-y\n",
    "    return c\n",
    "    return d\n",
    "\n",
    "sub(50,4)\n",
    "add(50,4)"
   ]
  },
  {
   "cell_type": "code",
   "execution_count": 15,
   "id": "7384e98f-17f4-4ae3-b6ce-1472f292533e",
   "metadata": {},
   "outputs": [
    {
     "name": "stdout",
     "output_type": "stream",
     "text": [
      "46\n",
      "54\n"
     ]
    }
   ],
   "source": [
    "def add(x,y):\n",
    "    c=x+y\n",
    "    return c\n",
    "\n",
    "def sub(x,y):\n",
    "    d=x-y\n",
    "    return d\n",
    "\n",
    "su = sub(50,4)\n",
    "ad = add(50,4)\n",
    "\n",
    "print(su)\n",
    "print(ad)"
   ]
  },
  {
   "cell_type": "code",
   "execution_count": 29,
   "id": "c96a89f6-bc7b-41fd-ae76-b4c5b14f0ccc",
   "metadata": {},
   "outputs": [
    {
     "name": "stdout",
     "output_type": "stream",
     "text": [
      "(54, 46)\n"
     ]
    }
   ],
   "source": [
    "def add_sub(x,y):\n",
    "    c = x+y\n",
    "    d = x-y\n",
    "    return c, d\n",
    "\n",
    "result = add_sub(50,4)\n",
    "print(result)"
   ]
  },
  {
   "cell_type": "code",
   "execution_count": 28,
   "id": "6cb91fd2-0816-4711-b044-bb589a12a752",
   "metadata": {},
   "outputs": [
    {
     "name": "stdout",
     "output_type": "stream",
     "text": [
      "54\n",
      "46\n"
     ]
    }
   ],
   "source": [
    "def add_sub(x,y):\n",
    "    c = x+y\n",
    "    d = x-y\n",
    "    return c, d\n",
    "\n",
    "result1, result2  = add_sub(50,4)\n",
    "\n",
    "print(result1)\n",
    "print(result2)"
   ]
  },
  {
   "cell_type": "code",
   "execution_count": 30,
   "id": "43b17c64-34e2-4d61-8c62-d8536a18af90",
   "metadata": {},
   "outputs": [
    {
     "name": "stdout",
     "output_type": "stream",
     "text": [
      "54\n",
      "46\n",
      "200\n"
     ]
    }
   ],
   "source": [
    "def add_sub_mul(x,y):\n",
    "    c = x+y\n",
    "    d = x-y\n",
    "    e = x*y\n",
    "    return c, d, e\n",
    "\n",
    "result1, result2, result3  = add_sub_mul(50,4)\n",
    "\n",
    "print(result1)\n",
    "print(result2)\n",
    "print(result3)"
   ]
  },
  {
   "cell_type": "code",
   "execution_count": 31,
   "id": "021c3ad7-adb8-4c8f-9691-c37ef7671f9a",
   "metadata": {},
   "outputs": [
    {
     "name": "stdout",
     "output_type": "stream",
     "text": [
      "55\n"
     ]
    }
   ],
   "source": [
    "def add(x,y):\n",
    "    c=x+y\n",
    "    return c\n",
    "\n",
    "score = add(50,5)\n",
    "print(score)"
   ]
  },
  {
   "cell_type": "code",
   "execution_count": 32,
   "id": "956c521c-f576-4cc5-8368-9d820eae5b61",
   "metadata": {},
   "outputs": [
    {
     "name": "stdout",
     "output_type": "stream",
     "text": [
      "11\n"
     ]
    }
   ],
   "source": [
    "def add(a,b):\n",
    "    c = a+b\n",
    "    print(c)\n",
    "\n",
    "add(5,6)"
   ]
  },
  {
   "cell_type": "markdown",
   "id": "8812dc61-325e-4020-b5b2-e5ce1934d262",
   "metadata": {},
   "source": [
    "#positional argument"
   ]
  },
  {
   "cell_type": "code",
   "execution_count": 33,
   "id": "8b2c53bc-ed49-492b-ac16-f53368bb3a98",
   "metadata": {},
   "outputs": [
    {
     "name": "stdout",
     "output_type": "stream",
     "text": [
      "nit\n",
      "22\n"
     ]
    }
   ],
   "source": [
    "def person(name,age):\n",
    "    print(name)\n",
    "    print(age)\n",
    "\n",
    "person('nit',22)"
   ]
  },
  {
   "cell_type": "code",
   "execution_count": 34,
   "id": "6f2315b1-c93c-479c-bbdc-5304922ed251",
   "metadata": {},
   "outputs": [
    {
     "name": "stdout",
     "output_type": "stream",
     "text": [
      "22\n",
      "nit\n"
     ]
    }
   ],
   "source": [
    "def person(name,age):\n",
    "    print(name)\n",
    "    print(age)\n",
    "\n",
    "person(22,'nit')"
   ]
  },
  {
   "cell_type": "code",
   "execution_count": 35,
   "id": "74a45d63-6560-4040-bfd6-198105e9e70b",
   "metadata": {},
   "outputs": [
    {
     "name": "stdout",
     "output_type": "stream",
     "text": [
      "22\n"
     ]
    },
    {
     "ename": "TypeError",
     "evalue": "unsupported operand type(s) for -: 'str' and 'int'",
     "output_type": "error",
     "traceback": [
      "\u001b[1;31m---------------------------------------------------------------------------\u001b[0m",
      "\u001b[1;31mTypeError\u001b[0m                                 Traceback (most recent call last)",
      "Cell \u001b[1;32mIn[35], line 5\u001b[0m\n\u001b[0;32m      2\u001b[0m     \u001b[38;5;28mprint\u001b[39m(name)\n\u001b[0;32m      3\u001b[0m     \u001b[38;5;28mprint\u001b[39m(age\u001b[38;5;241m-\u001b[39m\u001b[38;5;241m5\u001b[39m)\n\u001b[1;32m----> 5\u001b[0m person(\u001b[38;5;241m22\u001b[39m,\u001b[38;5;124m'\u001b[39m\u001b[38;5;124mnit\u001b[39m\u001b[38;5;124m'\u001b[39m)\n",
      "Cell \u001b[1;32mIn[35], line 3\u001b[0m, in \u001b[0;36mperson\u001b[1;34m(name, age)\u001b[0m\n\u001b[0;32m      1\u001b[0m \u001b[38;5;28;01mdef\u001b[39;00m \u001b[38;5;21mperson\u001b[39m(name,age):\n\u001b[0;32m      2\u001b[0m     \u001b[38;5;28mprint\u001b[39m(name)\n\u001b[1;32m----> 3\u001b[0m     \u001b[38;5;28mprint\u001b[39m(age\u001b[38;5;241m-\u001b[39m\u001b[38;5;241m5\u001b[39m)\n",
      "\u001b[1;31mTypeError\u001b[0m: unsupported operand type(s) for -: 'str' and 'int'"
     ]
    }
   ],
   "source": [
    "def person(name,age):\n",
    "    print(name)\n",
    "    print(age-5)\n",
    "\n",
    "person(22,'nit')"
   ]
  },
  {
   "cell_type": "markdown",
   "id": "61eefa59-184d-48d9-b9d7-edff702efeed",
   "metadata": {},
   "source": [
    "#keyword argument"
   ]
  },
  {
   "cell_type": "code",
   "execution_count": 36,
   "id": "a3b235a5-5051-4f66-abaa-a8351921b06f",
   "metadata": {},
   "outputs": [
    {
     "name": "stdout",
     "output_type": "stream",
     "text": [
      "nit\n",
      "17\n"
     ]
    }
   ],
   "source": [
    "def person(name,age):\n",
    "    print(name)\n",
    "    print(age-5)\n",
    "\n",
    "person(age = 22, name = 'nit')"
   ]
  },
  {
   "cell_type": "markdown",
   "id": "a6cb2f01-8799-41f7-a1bb-f3936522e758",
   "metadata": {},
   "source": [
    "#bydefualt argument"
   ]
  },
  {
   "cell_type": "code",
   "execution_count": 37,
   "id": "2d70cc1b-78a4-4a0e-b778-937640451cf2",
   "metadata": {},
   "outputs": [
    {
     "ename": "TypeError",
     "evalue": "person() missing 1 required positional argument: 'age'",
     "output_type": "error",
     "traceback": [
      "\u001b[1;31m---------------------------------------------------------------------------\u001b[0m",
      "\u001b[1;31mTypeError\u001b[0m                                 Traceback (most recent call last)",
      "Cell \u001b[1;32mIn[37], line 5\u001b[0m\n\u001b[0;32m      2\u001b[0m     \u001b[38;5;28mprint\u001b[39m(name)\n\u001b[0;32m      3\u001b[0m     \u001b[38;5;28mprint\u001b[39m(age)\n\u001b[1;32m----> 5\u001b[0m person(\u001b[38;5;124m'\u001b[39m\u001b[38;5;124mnit\u001b[39m\u001b[38;5;124m'\u001b[39m)\n",
      "\u001b[1;31mTypeError\u001b[0m: person() missing 1 required positional argument: 'age'"
     ]
    }
   ],
   "source": [
    "def person(name,age):\n",
    "    print(name)\n",
    "    print(age)\n",
    "\n",
    "person('nit')"
   ]
  },
  {
   "cell_type": "code",
   "execution_count": 38,
   "id": "f613c664-b496-48e0-856d-a31ad29d3966",
   "metadata": {},
   "outputs": [
    {
     "name": "stdout",
     "output_type": "stream",
     "text": [
      "nit\n",
      "18\n"
     ]
    }
   ],
   "source": [
    "def person(name,age=18):\n",
    "    print(name)\n",
    "    print(age)\n",
    "\n",
    "person('nit')"
   ]
  },
  {
   "cell_type": "code",
   "execution_count": 39,
   "id": "25067a85-a8ae-46e1-a1fe-e2d7a2e66ba3",
   "metadata": {},
   "outputs": [
    {
     "name": "stdout",
     "output_type": "stream",
     "text": [
      "nit\n",
      "20\n"
     ]
    }
   ],
   "source": [
    "def person(name,age=18):\n",
    "    print(name)\n",
    "    print(age)\n",
    "\n",
    "person('nit',20)"
   ]
  },
  {
   "cell_type": "markdown",
   "id": "14429a22-896f-4b3b-a048-6b9dc7e98cbc",
   "metadata": {},
   "source": [
    "#variable length argument"
   ]
  },
  {
   "cell_type": "code",
   "execution_count": 2,
   "id": "add6de83-87e5-4dd3-b98f-8af89991fc67",
   "metadata": {},
   "outputs": [
    {
     "name": "stdout",
     "output_type": "stream",
     "text": [
      "11\n"
     ]
    }
   ],
   "source": [
    "def sum(a,b):\n",
    "    c = a+b\n",
    "    print(c)\n",
    "\n",
    "sum(5,6)"
   ]
  },
  {
   "cell_type": "markdown",
   "id": "0c026230-4da8-4204-83e1-55ec0fdb49dd",
   "metadata": {},
   "source": [
    "* Everytime we cant add only 2 value we can also pass more then 3 values\n",
    "* you can define the function when the number of argumen arenot fixed"
   ]
  },
  {
   "cell_type": "code",
   "execution_count": 3,
   "id": "07a529c4-363e-4ae2-b3f2-2072e60e029d",
   "metadata": {},
   "outputs": [
    {
     "ename": "TypeError",
     "evalue": "sum() takes 2 positional arguments but 4 were given",
     "output_type": "error",
     "traceback": [
      "\u001b[1;31m---------------------------------------------------------------------------\u001b[0m",
      "\u001b[1;31mTypeError\u001b[0m                                 Traceback (most recent call last)",
      "Cell \u001b[1;32mIn[3], line 5\u001b[0m\n\u001b[0;32m      2\u001b[0m     c \u001b[38;5;241m=\u001b[39m a\u001b[38;5;241m+\u001b[39mb\n\u001b[0;32m      3\u001b[0m     \u001b[38;5;28mprint\u001b[39m(c)\n\u001b[1;32m----> 5\u001b[0m \u001b[38;5;28msum\u001b[39m(\u001b[38;5;241m5\u001b[39m,\u001b[38;5;241m6\u001b[39m,\u001b[38;5;241m7\u001b[39m,\u001b[38;5;241m8\u001b[39m)\n",
      "\u001b[1;31mTypeError\u001b[0m: sum() takes 2 positional arguments but 4 were given"
     ]
    }
   ],
   "source": [
    "def sum(a,b):\n",
    "    c = a+b\n",
    "    print(c)\n",
    "\n",
    "sum(5,6,7,8)"
   ]
  },
  {
   "cell_type": "code",
   "execution_count": 4,
   "id": "bd2d9cd5-88ab-42cd-9cf0-e4f8fc66f5f2",
   "metadata": {},
   "outputs": [
    {
     "ename": "TypeError",
     "evalue": "unsupported operand type(s) for +: 'int' and 'tuple'",
     "output_type": "error",
     "traceback": [
      "\u001b[1;31m---------------------------------------------------------------------------\u001b[0m",
      "\u001b[1;31mTypeError\u001b[0m                                 Traceback (most recent call last)",
      "Cell \u001b[1;32mIn[4], line 5\u001b[0m\n\u001b[0;32m      2\u001b[0m     c \u001b[38;5;241m=\u001b[39m a\u001b[38;5;241m+\u001b[39mb\n\u001b[0;32m      3\u001b[0m     \u001b[38;5;28mprint\u001b[39m(c)\n\u001b[1;32m----> 5\u001b[0m \u001b[38;5;28msum\u001b[39m(\u001b[38;5;241m5\u001b[39m,\u001b[38;5;241m6\u001b[39m,\u001b[38;5;241m7\u001b[39m,\u001b[38;5;241m8\u001b[39m)\n",
      "Cell \u001b[1;32mIn[4], line 2\u001b[0m, in \u001b[0;36msum\u001b[1;34m(a, *b)\u001b[0m\n\u001b[0;32m      1\u001b[0m \u001b[38;5;28;01mdef\u001b[39;00m \u001b[38;5;21msum\u001b[39m(a, \u001b[38;5;241m*\u001b[39mb):\n\u001b[1;32m----> 2\u001b[0m     c \u001b[38;5;241m=\u001b[39m a\u001b[38;5;241m+\u001b[39mb\n\u001b[0;32m      3\u001b[0m     \u001b[38;5;28mprint\u001b[39m(c)\n",
      "\u001b[1;31mTypeError\u001b[0m: unsupported operand type(s) for +: 'int' and 'tuple'"
     ]
    }
   ],
   "source": [
    "def sum(a, *b):\n",
    "    c = a+b\n",
    "    print(c)\n",
    "\n",
    "sum(5,6,7,8)"
   ]
  },
  {
   "cell_type": "code",
   "execution_count": 5,
   "id": "c46238c2-9553-4aec-8edf-c02d385a6406",
   "metadata": {},
   "outputs": [
    {
     "name": "stdout",
     "output_type": "stream",
     "text": [
      "5\n",
      "(6, 7, 8)\n"
     ]
    }
   ],
   "source": [
    "def sum(a, *b):\n",
    "    #c = a+b\n",
    "    print(a)\n",
    "    print(b)\n",
    "\n",
    "sum(5,6,7,8)"
   ]
  },
  {
   "cell_type": "code",
   "execution_count": 6,
   "id": "4ec913db-8afa-4f66-9274-e8514acdcabb",
   "metadata": {},
   "outputs": [
    {
     "name": "stdout",
     "output_type": "stream",
     "text": [
      "11\n",
      "18\n",
      "26\n"
     ]
    }
   ],
   "source": [
    "def sum(a, *b):\n",
    "    c = a\n",
    "    for i in b:\n",
    "        c = c + i\n",
    "        print(c)\n",
    "sum(5,6,7,8)"
   ]
  },
  {
   "cell_type": "code",
   "execution_count": 7,
   "id": "9c4a6846-8185-4182-9759-f28a2cc082fd",
   "metadata": {},
   "outputs": [
    {
     "name": "stdout",
     "output_type": "stream",
     "text": [
      "26\n"
     ]
    }
   ],
   "source": [
    "def sum(a, *b):\n",
    "    c = a\n",
    "    for i in b:\n",
    "        c = c + i\n",
    "    print(c)\n",
    "sum(5,6,7,8)"
   ]
  },
  {
   "cell_type": "markdown",
   "id": "54b978e3-da06-466d-886d-5d3facd9529d",
   "metadata": {},
   "source": [
    "* KWARGs (key word variable length arguments)"
   ]
  },
  {
   "cell_type": "code",
   "execution_count": 8,
   "id": "d907afa2-008e-46d9-b0ee-0b019ac5e262",
   "metadata": {},
   "outputs": [],
   "source": [
    "def person():\n",
    "    person('AAA', 36, 'southcity', 9877567)"
   ]
  },
  {
   "cell_type": "code",
   "execution_count": 9,
   "id": "cf4d84c2-40a3-401b-96a0-c3dd29bfc6b7",
   "metadata": {},
   "outputs": [
    {
     "name": "stdout",
     "output_type": "stream",
     "text": [
      "name\n",
      "(36, 'southcity', 9877567)\n"
     ]
    }
   ],
   "source": [
    "def person(name, *data):\n",
    "    print('name')\n",
    "    print(data)\n",
    "\n",
    "person('AAA', 36, 'southcity', 9877567)"
   ]
  },
  {
   "cell_type": "code",
   "execution_count": 12,
   "id": "4492d49d-37fe-42d9-8844-62c3392d4f73",
   "metadata": {},
   "outputs": [
    {
     "ename": "TypeError",
     "evalue": "person() got an unexpected keyword argument 'age'",
     "output_type": "error",
     "traceback": [
      "\u001b[1;31m---------------------------------------------------------------------------\u001b[0m",
      "\u001b[1;31mTypeError\u001b[0m                                 Traceback (most recent call last)",
      "Cell \u001b[1;32mIn[12], line 5\u001b[0m\n\u001b[0;32m      2\u001b[0m     \u001b[38;5;28mprint\u001b[39m(\u001b[38;5;124m'\u001b[39m\u001b[38;5;124mname\u001b[39m\u001b[38;5;124m'\u001b[39m)\n\u001b[0;32m      3\u001b[0m     \u001b[38;5;28mprint\u001b[39m(data)\n\u001b[1;32m----> 5\u001b[0m person(\u001b[38;5;124m'\u001b[39m\u001b[38;5;124mAAA\u001b[39m\u001b[38;5;124m'\u001b[39m, age\u001b[38;5;241m=\u001b[39m \u001b[38;5;241m36\u001b[39m, home_place\u001b[38;5;241m=\u001b[39m \u001b[38;5;124m'\u001b[39m\u001b[38;5;124msouthcity\u001b[39m\u001b[38;5;124m'\u001b[39m, mob\u001b[38;5;241m=\u001b[39m \u001b[38;5;241m9877567\u001b[39m)\n",
      "\u001b[1;31mTypeError\u001b[0m: person() got an unexpected keyword argument 'age'"
     ]
    }
   ],
   "source": [
    "def person(name, *data):\n",
    "    print('name')\n",
    "    print(data)\n",
    "\n",
    "person('AAA', age= 36, home_place= 'southcity', mob= 9877567)"
   ]
  },
  {
   "cell_type": "code",
   "execution_count": 13,
   "id": "24ad21d9-6bdd-4863-9f1a-d74ef809c4a9",
   "metadata": {},
   "outputs": [
    {
     "name": "stdout",
     "output_type": "stream",
     "text": [
      "name\n",
      "{'age': 36, 'home_place': 'southcity', 'mob': 9877567, 'edu': 'phd'}\n"
     ]
    }
   ],
   "source": [
    "def person(name, **data):\n",
    "    print('name')\n",
    "    print(data)\n",
    "\n",
    "person('AAA', age= 36, home_place= 'southcity', mob= 9877567, edu='phd')"
   ]
  },
  {
   "cell_type": "code",
   "execution_count": 14,
   "id": "db273a0a-d809-4fc8-a32b-752e3128bc8d",
   "metadata": {},
   "outputs": [
    {
     "name": "stdout",
     "output_type": "stream",
     "text": [
      "name\n",
      "{'age': 36, 'ome_place': 'southcity', 'mob': 9877567}\n"
     ]
    }
   ],
   "source": [
    "def person(name, **data):\n",
    "    print('name')\n",
    "    print(data)\n",
    "\n",
    "person('AAA', age= 36, ome_place= 'southcity', mob= 9877567)"
   ]
  },
  {
   "cell_type": "code",
   "execution_count": 15,
   "id": "e603cb03-e569-4e46-999c-ff08d4755b9b",
   "metadata": {},
   "outputs": [
    {
     "name": "stdout",
     "output_type": "stream",
     "text": [
      "AAA\n",
      "age 36\n",
      "home_place southcity\n",
      "mob 987767\n",
      "place us\n"
     ]
    }
   ],
   "source": [
    "def person(name, **data):\n",
    "    print(name)\n",
    "\n",
    "    for i, j in data.items():\n",
    "        print(i,j)\n",
    "\n",
    "person('AAA', age = 36, home_place = 'southcity', mob =987767, place = 'us')"
   ]
  },
  {
   "cell_type": "markdown",
   "id": "db91d0c7-4f3b-43f7-8047-53994c9cfd7d",
   "metadata": {},
   "source": [
    "#  Global variable vs Local Variable\n",
    "- We discussed about variable & discussed about function \n",
    "- Sometimes we are creating variable inside the function and sometimes we are creating variable outside   of the function \n",
    "- when we declare variable outside of the function that concept called as scope "
   ]
  },
  {
   "cell_type": "code",
   "execution_count": 17,
   "id": "189dfb14-2bdb-4cc0-b77f-51b6c0f41b89",
   "metadata": {},
   "outputs": [
    {
     "name": "stdout",
     "output_type": "stream",
     "text": [
      "10\n"
     ]
    }
   ],
   "source": [
    "a = 10\n",
    "\n",
    "print(a)"
   ]
  },
  {
   "cell_type": "code",
   "execution_count": 18,
   "id": "85366b13-4776-465a-827c-e367db5b4970",
   "metadata": {},
   "outputs": [
    {
     "name": "stdout",
     "output_type": "stream",
     "text": [
      "out function 10\n"
     ]
    }
   ],
   "source": [
    "a = 10 #global variable \n",
    "\n",
    "def something():\n",
    "    a = 15 #local variable\n",
    "    print('in function', a)\n",
    "\n",
    "print('out function', a)"
   ]
  },
  {
   "cell_type": "code",
   "execution_count": 19,
   "id": "7828ec73-b98e-440a-afa3-daaa8b3fa2df",
   "metadata": {},
   "outputs": [
    {
     "name": "stdout",
     "output_type": "stream",
     "text": [
      "in function 15\n",
      "out function 10\n"
     ]
    }
   ],
   "source": [
    "a = 10\n",
    "\n",
    "def something():\n",
    "    a = 15\n",
    "    print('in function', a) # local variable \n",
    "\n",
    "something()\n",
    "print('out function', a) #global variable"
   ]
  },
  {
   "cell_type": "code",
   "execution_count": 20,
   "id": "7b494539-29d6-4994-a7f4-6b7ee384b18c",
   "metadata": {},
   "outputs": [
    {
     "name": "stdout",
     "output_type": "stream",
     "text": [
      "in function 10\n",
      "out function 10\n"
     ]
    }
   ],
   "source": [
    "a = 10\n",
    "\n",
    "def something():\n",
    "    print('in function', a) # local variable \n",
    "\n",
    "something()\n",
    "print('out function', a) #global variable"
   ]
  },
  {
   "cell_type": "code",
   "execution_count": 21,
   "id": "522495af-f66c-4e1e-9358-425920d76996",
   "metadata": {},
   "outputs": [
    {
     "name": "stdout",
     "output_type": "stream",
     "text": [
      "in function 15\n",
      "out function 10\n"
     ]
    }
   ],
   "source": [
    "a = 10\n",
    "\n",
    "def something():\n",
    "    a = 15\n",
    "    print('in function', a)  \n",
    "\n",
    "something()\n",
    "print('out function', a)"
   ]
  },
  {
   "cell_type": "markdown",
   "id": "c50731d4-8cb9-4147-9395-879d1e24aa39",
   "metadata": {},
   "source": [
    "# we can use keyword (global) also "
   ]
  },
  {
   "cell_type": "code",
   "execution_count": 22,
   "id": "52ce8bad-3470-4049-b279-4a142cdd0122",
   "metadata": {},
   "outputs": [
    {
     "name": "stdout",
     "output_type": "stream",
     "text": [
      "in function 15\n",
      "out function 15\n"
     ]
    }
   ],
   "source": [
    "a = 10\n",
    "\n",
    "def something():\n",
    "    global a\n",
    "    a = 15\n",
    "    print('in function', a)\n",
    "\n",
    "something()\n",
    "print('out function',a)"
   ]
  },
  {
   "cell_type": "code",
   "execution_count": 23,
   "id": "02e99f1f-c3d2-4f29-a712-7b068757d9aa",
   "metadata": {},
   "outputs": [
    {
     "name": "stdout",
     "output_type": "stream",
     "text": [
      "in function 15\n",
      "out function 9\n"
     ]
    }
   ],
   "source": [
    "a = 10\n",
    "\n",
    "def something():\n",
    "    global a\n",
    "    a = 15\n",
    "    print('in function', a)\n",
    "    a= 9\n",
    "something()\n",
    "print('out function',a)"
   ]
  },
  {
   "cell_type": "code",
   "execution_count": 24,
   "id": "143166c2-f76b-4346-82ff-126c4374434b",
   "metadata": {},
   "outputs": [
    {
     "name": "stdout",
     "output_type": "stream",
     "text": [
      "140720403393240\n",
      "140720403393240\n",
      "in function 9\n",
      "out function 10\n"
     ]
    }
   ],
   "source": [
    "a = 10\n",
    "print(id(a))\n",
    "\n",
    "def something():\n",
    "    a = 9\n",
    "    x = globals()['a']\n",
    "    print(id(x))\n",
    "    print('in function', a)\n",
    "\n",
    "something()\n",
    "print('out function', a)"
   ]
  },
  {
   "cell_type": "code",
   "execution_count": 26,
   "id": "81bc6733-6056-4766-86d4-f08442caed12",
   "metadata": {},
   "outputs": [
    {
     "name": "stdout",
     "output_type": "stream",
     "text": [
      "140720403393240\n",
      "140720403393240\n",
      "in function 9\n",
      "out function 15\n"
     ]
    }
   ],
   "source": [
    "a = 10\n",
    "print(id(a))\n",
    "\n",
    "def something():\n",
    "    a = 9\n",
    "    x = globals()['a']\n",
    "    print(id(x))\n",
    "    print('in function', a)\n",
    "\n",
    "    globals()['a'] = 15\n",
    "\n",
    "something()\n",
    "print('out function',a)"
   ]
  },
  {
   "cell_type": "markdown",
   "id": "1b800120-3c8e-49de-a7f7-e699c28e07ed",
   "metadata": {},
   "source": [
    "# pass list to function"
   ]
  },
  {
   "cell_type": "code",
   "execution_count": 28,
   "id": "9cbbd3e5-04a5-45c8-9f00-85b59c3b8d6e",
   "metadata": {},
   "outputs": [
    {
     "name": "stdout",
     "output_type": "stream",
     "text": [
      "5\n",
      "6\n"
     ]
    }
   ],
   "source": [
    "def count(lst):\n",
    "\n",
    "    even = 0\n",
    "    odd = 0\n",
    "\n",
    "    for i in lst:\n",
    "        if i%2 == 0:\n",
    "            even +=1\n",
    "        else:\n",
    "            odd +=1\n",
    "    return even,odd\n",
    "\n",
    "lst = [1,2,3,4,5,6,7,8,9,10,11]\n",
    "even,odd = count(lst)\n",
    "\n",
    "print(even)\n",
    "print(odd)"
   ]
  },
  {
   "cell_type": "code",
   "execution_count": 29,
   "id": "b3bd7aff-7c8e-44e5-ba64-e43734c89036",
   "metadata": {},
   "outputs": [
    {
     "name": "stdout",
     "output_type": "stream",
     "text": [
      "Even : 5 and Odd : 6\n"
     ]
    }
   ],
   "source": [
    "def count(lst):\n",
    "\n",
    "    even = 0\n",
    "    odd = 0\n",
    "\n",
    "    for i in lst:\n",
    "        if i%2 == 0:\n",
    "            even +=1\n",
    "        else:\n",
    "            odd +=1\n",
    "    return even,odd\n",
    "\n",
    "lst = [1,2,3,4,5,6,7,8,9,10,11]\n",
    "even,odd = count(lst)\n",
    "\n",
    "print(\"Even : {} and Odd : {}\".format(even,odd))"
   ]
  },
  {
   "cell_type": "markdown",
   "id": "f5f509cf-5ac0-48e2-88c9-b15910a6a120",
   "metadata": {},
   "source": [
    "# Fibonacci sequence"
   ]
  },
  {
   "cell_type": "code",
   "execution_count": 30,
   "id": "dae1d92c-1e3a-47f3-8641-a4a660475862",
   "metadata": {},
   "outputs": [
    {
     "name": "stdout",
     "output_type": "stream",
     "text": [
      "0\n",
      "1\n"
     ]
    }
   ],
   "source": [
    "def fib(n):\n",
    "    print(0)\n",
    "    print(1)\n",
    "\n",
    "fib(0)"
   ]
  },
  {
   "cell_type": "code",
   "execution_count": 31,
   "id": "e645d6e4-a35c-4f07-bbe3-3c3ca9783729",
   "metadata": {},
   "outputs": [
    {
     "name": "stdout",
     "output_type": "stream",
     "text": [
      "0\n",
      "1\n",
      "1\n",
      "2\n",
      "3\n",
      "5\n"
     ]
    }
   ],
   "source": [
    "def fib(n):\n",
    "    print(0)\n",
    "    print(1)\n",
    "    print(1)\n",
    "    print(2)\n",
    "    print(3)\n",
    "    print(5)\n",
    "\n",
    "fib(0)"
   ]
  },
  {
   "cell_type": "markdown",
   "id": "23f6e9d1-29be-4f23-af95-0f324b444e33",
   "metadata": {},
   "source": [
    "# 0  1  1  2  3  5  8  13  21\n",
    "#  a  b\n",
    "\n",
    "# 0  1  1  2  3  5  8  13  21\n",
    "#  a  b  c"
   ]
  },
  {
   "cell_type": "code",
   "execution_count": 32,
   "id": "af75ba61-b853-4f98-9f79-706b65125335",
   "metadata": {},
   "outputs": [
    {
     "ename": "IndentationError",
     "evalue": "unexpected indent (3708952861.py, line 2)",
     "output_type": "error",
     "traceback": [
      "\u001b[1;36m  Cell \u001b[1;32mIn[32], line 2\u001b[1;36m\u001b[0m\n\u001b[1;33m    def fib(n):\u001b[0m\n\u001b[1;37m    ^\u001b[0m\n\u001b[1;31mIndentationError\u001b[0m\u001b[1;31m:\u001b[0m unexpected indent\n"
     ]
    }
   ],
   "source": [
    "# in programing we need to continue these procees thats why we need to use loop hear\n",
    " def fib(n):\n",
    "     a = 0\n",
    "     b = 1\n",
    "\n",
    "     print(a)\n",
    "     print(b)\n",
    "\n",
    "     for i in range(2,n):\n",
    "         c = a + b\n",
    "         a = b\n",
    "         b = c\n",
    "\n",
    "         print(c)\n",
    "\n",
    "fib(5)"
   ]
  },
  {
   "cell_type": "code",
   "execution_count": 33,
   "id": "3bdd5e7d-7487-4e53-add5-38eb02e98db2",
   "metadata": {},
   "outputs": [
    {
     "name": "stdout",
     "output_type": "stream",
     "text": [
      "0\n",
      "1\n",
      "1\n",
      "2\n",
      "3\n"
     ]
    }
   ],
   "source": [
    "def fib(n):\n",
    "    a, b = 0, 1\n",
    "    if n == 1:\n",
    "        print(a)\n",
    "    else:\n",
    "        print(a)\n",
    "        print(b)\n",
    "\n",
    "        for i in range(2, n):\n",
    "            c = a + b\n",
    "            a = b\n",
    "            b = c\n",
    "            print(c)\n",
    "\n",
    "fib(5)"
   ]
  },
  {
   "cell_type": "markdown",
   "id": "6b5e85a8-617f-4e40-bceb-a6c9dcc35575",
   "metadata": {},
   "source": [
    "# Factorial number-->\n",
    "# 5! = 5x4x3x2x1 \n",
    "# 5! = 1x2x3x4x5 "
   ]
  },
  {
   "cell_type": "code",
   "execution_count": 34,
   "id": "7de0540a-e4f2-4392-8b85-d8c34f441e74",
   "metadata": {},
   "outputs": [
    {
     "name": "stdout",
     "output_type": "stream",
     "text": [
      "120\n"
     ]
    }
   ],
   "source": [
    "def fact(n):\n",
    "    f = 1\n",
    "    for i in range(1, n+1):\n",
    "        f = f*i\n",
    "\n",
    "    return f\n",
    "\n",
    "x = 5\n",
    "result = fact(x)\n",
    "print(result)"
   ]
  },
  {
   "cell_type": "markdown",
   "id": "a9a9319c-1ec5-4e36-94ac-65f981f3e09f",
   "metadata": {},
   "source": [
    " RECURSSION - CALLING FUNCTION FROM ITSELF IS CALLED RECURSSION"
   ]
  },
  {
   "cell_type": "code",
   "execution_count": 35,
   "id": "650fd528-080d-49e0-a9c9-84805b8bec76",
   "metadata": {},
   "outputs": [
    {
     "name": "stdout",
     "output_type": "stream",
     "text": [
      "hello\n"
     ]
    }
   ],
   "source": [
    "def wish():\n",
    "    print('hello')\n",
    "wish()   "
   ]
  },
  {
   "cell_type": "code",
   "execution_count": 36,
   "id": "7fcd62eb-938c-4bea-afff-d3a47928035c",
   "metadata": {},
   "outputs": [
    {
     "name": "stdout",
     "output_type": "stream",
     "text": [
      "hello\n",
      "hello\n",
      "hello\n",
      "hello\n",
      "hello\n",
      "hello\n",
      "hello\n",
      "hello\n",
      "hello\n",
      "hello\n",
      "hello\n",
      "hello\n",
      "hello\n",
      "hello\n",
      "hello\n",
      "hello\n",
      "hello\n",
      "hello\n",
      "hello\n",
      "hello\n",
      "hello\n",
      "hello\n",
      "hello\n",
      "hello\n",
      "hello\n",
      "hello\n",
      "hello\n",
      "hello\n",
      "hello\n",
      "hello\n",
      "hello\n",
      "hello\n",
      "hello\n",
      "hello\n",
      "hello\n",
      "hello\n",
      "hello\n",
      "hello\n",
      "hello\n",
      "hello\n",
      "hello\n",
      "hello\n",
      "hello\n",
      "hello\n",
      "hello\n",
      "hello\n",
      "hello\n",
      "hello\n",
      "hello\n",
      "hello\n",
      "hello\n",
      "hello\n",
      "hello\n",
      "hello\n",
      "hello\n",
      "hello\n",
      "hello\n",
      "hello\n",
      "hello\n",
      "hello\n",
      "hello\n",
      "hello\n",
      "hello\n",
      "hello\n",
      "hello\n",
      "hello\n",
      "hello\n",
      "hello\n",
      "hello\n",
      "hello\n",
      "hello\n",
      "hello\n",
      "hello\n",
      "hello\n",
      "hello\n",
      "hello\n",
      "hello\n",
      "hello\n",
      "hello\n",
      "hello\n",
      "hello\n",
      "hello\n",
      "hello\n",
      "hello\n",
      "hello\n",
      "hello\n",
      "hello\n",
      "hello\n",
      "hello\n",
      "hello\n",
      "hello\n",
      "hello\n",
      "hello\n",
      "hello\n",
      "hello\n",
      "hello\n",
      "hello\n",
      "hello\n",
      "hello\n",
      "hello\n",
      "hello\n",
      "hello\n",
      "hello\n",
      "hello\n",
      "hello\n",
      "hello\n",
      "hello\n",
      "hello\n",
      "hello\n",
      "hello\n",
      "hello\n",
      "hello\n",
      "hello\n",
      "hello\n",
      "hello\n",
      "hello\n",
      "hello\n",
      "hello\n",
      "hello\n",
      "hello\n",
      "hello\n",
      "hello\n",
      "hello\n",
      "hello\n",
      "hello\n",
      "hello\n",
      "hello\n",
      "hello\n",
      "hello\n",
      "hello\n",
      "hello\n",
      "hello\n",
      "hello\n",
      "hello\n",
      "hello\n",
      "hello\n",
      "hello\n",
      "hello\n",
      "hello\n",
      "hello\n",
      "hello\n",
      "hello\n",
      "hello\n",
      "hello\n",
      "hello\n",
      "hello\n",
      "hello\n",
      "hello\n",
      "hello\n",
      "hello\n",
      "hello\n",
      "hello\n",
      "hello\n",
      "hello\n",
      "hello\n",
      "hello\n",
      "hello\n",
      "hello\n",
      "hello\n",
      "hello\n",
      "hello\n",
      "hello\n",
      "hello\n",
      "hello\n",
      "hello\n",
      "hello\n",
      "hello\n",
      "hello\n",
      "hello\n",
      "hello\n",
      "hello\n",
      "hello\n",
      "hello\n",
      "hello\n",
      "hello\n",
      "hello\n",
      "hello\n",
      "hello\n",
      "hello\n",
      "hello\n",
      "hello\n",
      "hello\n",
      "hello\n",
      "hello\n",
      "hello\n",
      "hello\n",
      "hello\n",
      "hello\n",
      "hello\n",
      "hello\n",
      "hello\n",
      "hello\n",
      "hello\n",
      "hello\n",
      "hello\n",
      "hello\n",
      "hello\n",
      "hello\n",
      "hello\n",
      "hello\n",
      "hello\n",
      "hello\n",
      "hello\n",
      "hello\n",
      "hello\n",
      "hello\n",
      "hello\n",
      "hello\n",
      "hello\n",
      "hello\n",
      "hello\n",
      "hello\n",
      "hello\n",
      "hello\n",
      "hello\n",
      "hello\n",
      "hello\n",
      "hello\n",
      "hello\n",
      "hello\n",
      "hello\n",
      "hello\n",
      "hello\n",
      "hello\n",
      "hello\n",
      "hello\n",
      "hello\n",
      "hello\n",
      "hello\n",
      "hello\n",
      "hello\n",
      "hello\n",
      "hello\n",
      "hello\n",
      "hello\n",
      "hello\n",
      "hello\n",
      "hello\n",
      "hello\n",
      "hello\n",
      "hello\n",
      "hello\n",
      "hello\n",
      "hello\n",
      "hello\n",
      "hello\n",
      "hello\n",
      "hello\n",
      "hello\n",
      "hello\n",
      "hello\n",
      "hello\n",
      "hello\n",
      "hello\n",
      "hello\n",
      "hello\n",
      "hello\n",
      "hello\n",
      "hello\n",
      "hello\n",
      "hello\n",
      "hello\n",
      "hello\n",
      "hello\n",
      "hello\n",
      "hello\n",
      "hello\n",
      "hello\n",
      "hello\n",
      "hello\n",
      "hello\n",
      "hello\n",
      "hello\n",
      "hello\n",
      "hello\n",
      "hello\n",
      "hello\n",
      "hello\n",
      "hello\n",
      "hello\n",
      "hello\n",
      "hello\n",
      "hello\n",
      "hello\n",
      "hello\n",
      "hello\n",
      "hello\n",
      "hello\n",
      "hello\n",
      "hello\n",
      "hello\n",
      "hello\n",
      "hello\n",
      "hello\n",
      "hello\n",
      "hello\n",
      "hello\n",
      "hello\n",
      "hello\n",
      "hello\n",
      "hello\n",
      "hello\n",
      "hello\n",
      "hello\n",
      "hello\n",
      "hello\n",
      "hello\n",
      "hello\n",
      "hello\n",
      "hello\n",
      "hello\n",
      "hello\n",
      "hello\n",
      "hello\n",
      "hello\n",
      "hello\n",
      "hello\n",
      "hello\n",
      "hello\n",
      "hello\n",
      "hello\n",
      "hello\n",
      "hello\n",
      "hello\n",
      "hello\n",
      "hello\n",
      "hello\n",
      "hello\n",
      "hello\n",
      "hello\n",
      "hello\n",
      "hello\n",
      "hello\n",
      "hello\n",
      "hello\n",
      "hello\n",
      "hello\n",
      "hello\n",
      "hello\n",
      "hello\n",
      "hello\n",
      "hello\n",
      "hello\n",
      "hello\n",
      "hello\n",
      "hello\n",
      "hello\n",
      "hello\n",
      "hello\n",
      "hello\n",
      "hello\n",
      "hello\n",
      "hello\n",
      "hello\n",
      "hello\n",
      "hello\n",
      "hello\n",
      "hello\n",
      "hello\n",
      "hello\n",
      "hello\n",
      "hello\n",
      "hello\n",
      "hello\n",
      "hello\n",
      "hello\n",
      "hello\n",
      "hello\n",
      "hello\n",
      "hello\n",
      "hello\n",
      "hello\n",
      "hello\n",
      "hello\n",
      "hello\n",
      "hello\n",
      "hello\n",
      "hello\n",
      "hello\n",
      "hello\n",
      "hello\n",
      "hello\n",
      "hello\n",
      "hello\n",
      "hello\n",
      "hello\n",
      "hello\n",
      "hello\n",
      "hello\n",
      "hello\n",
      "hello\n",
      "hello\n",
      "hello\n",
      "hello\n",
      "hello\n",
      "hello\n",
      "hello\n",
      "hello\n",
      "hello\n",
      "hello\n",
      "hello\n",
      "hello\n",
      "hello\n",
      "hello\n",
      "hello\n",
      "hello\n",
      "hello\n",
      "hello\n",
      "hello\n",
      "hello\n",
      "hello\n",
      "hello\n",
      "hello\n",
      "hello\n",
      "hello\n",
      "hello\n",
      "hello\n",
      "hello\n",
      "hello\n",
      "hello\n",
      "hello\n",
      "hello\n",
      "hello\n",
      "hello\n",
      "hello\n",
      "hello\n",
      "hello\n",
      "hello\n",
      "hello\n",
      "hello\n",
      "hello\n",
      "hello\n",
      "hello\n",
      "hello\n",
      "hello\n",
      "hello\n",
      "hello\n",
      "hello\n",
      "hello\n",
      "hello\n",
      "hello\n",
      "hello\n",
      "hello\n",
      "hello\n",
      "hello\n",
      "hello\n",
      "hello\n",
      "hello\n",
      "hello\n",
      "hello\n",
      "hello\n",
      "hello\n",
      "hello\n",
      "hello\n",
      "hello\n",
      "hello\n",
      "hello\n",
      "hello\n",
      "hello\n",
      "hello\n",
      "hello\n",
      "hello\n",
      "hello\n",
      "hello\n",
      "hello\n",
      "hello\n",
      "hello\n",
      "hello\n",
      "hello\n",
      "hello\n",
      "hello\n",
      "hello\n",
      "hello\n",
      "hello\n",
      "hello\n",
      "hello\n",
      "hello\n",
      "hello\n",
      "hello\n",
      "hello\n",
      "hello\n",
      "hello\n",
      "hello\n",
      "hello\n",
      "hello\n",
      "hello\n",
      "hello\n",
      "hello\n",
      "hello\n",
      "hello\n",
      "hello\n",
      "hello\n",
      "hello\n",
      "hello\n",
      "hello\n",
      "hello\n",
      "hello\n",
      "hello\n",
      "hello\n",
      "hello\n",
      "hello\n",
      "hello\n",
      "hello\n",
      "hello\n",
      "hello\n",
      "hello\n",
      "hello\n",
      "hello\n",
      "hello\n",
      "hello\n",
      "hello\n",
      "hello\n",
      "hello\n",
      "hello\n",
      "hello\n",
      "hello\n",
      "hello\n",
      "hello\n",
      "hello\n",
      "hello\n",
      "hello\n",
      "hello\n",
      "hello\n",
      "hello\n",
      "hello\n",
      "hello\n",
      "hello\n",
      "hello\n",
      "hello\n",
      "hello\n",
      "hello\n",
      "hello\n",
      "hello\n",
      "hello\n",
      "hello\n",
      "hello\n",
      "hello\n",
      "hello\n",
      "hello\n",
      "hello\n",
      "hello\n",
      "hello\n",
      "hello\n",
      "hello\n",
      "hello\n",
      "hello\n",
      "hello\n",
      "hello\n",
      "hello\n",
      "hello\n",
      "hello\n",
      "hello\n",
      "hello\n",
      "hello\n",
      "hello\n",
      "hello\n",
      "hello\n",
      "hello\n",
      "hello\n",
      "hello\n",
      "hello\n",
      "hello\n",
      "hello\n",
      "hello\n",
      "hello\n",
      "hello\n",
      "hello\n",
      "hello\n",
      "hello\n",
      "hello\n",
      "hello\n",
      "hello\n",
      "hello\n",
      "hello\n",
      "hello\n",
      "hello\n",
      "hello\n",
      "hello\n",
      "hello\n",
      "hello\n",
      "hello\n",
      "hello\n",
      "hello\n",
      "hello\n",
      "hello\n",
      "hello\n",
      "hello\n",
      "hello\n",
      "hello\n",
      "hello\n",
      "hello\n",
      "hello\n",
      "hello\n",
      "hello\n",
      "hello\n",
      "hello\n",
      "hello\n",
      "hello\n",
      "hello\n",
      "hello\n",
      "hello\n",
      "hello\n",
      "hello\n",
      "hello\n",
      "hello\n",
      "hello\n",
      "hello\n",
      "hello\n",
      "hello\n",
      "hello\n",
      "hello\n",
      "hello\n",
      "hello\n",
      "hello\n",
      "hello\n",
      "hello\n",
      "hello\n",
      "hello\n",
      "hello\n",
      "hello\n",
      "hello\n",
      "hello\n",
      "hello\n",
      "hello\n",
      "hello\n",
      "hello\n",
      "hello\n",
      "hello\n",
      "hello\n",
      "hello\n",
      "hello\n",
      "hello\n",
      "hello\n",
      "hello\n",
      "hello\n",
      "hello\n",
      "hello\n",
      "hello\n",
      "hello\n",
      "hello\n",
      "hello\n",
      "hello\n",
      "hello\n",
      "hello\n",
      "hello\n",
      "hello\n",
      "hello\n",
      "hello\n",
      "hello\n",
      "hello\n",
      "hello\n",
      "hello\n",
      "hello\n",
      "hello\n",
      "hello\n",
      "hello\n",
      "hello\n",
      "hello\n",
      "hello\n",
      "hello\n",
      "hello\n",
      "hello\n",
      "hello\n",
      "hello\n",
      "hello\n",
      "hello\n",
      "hello\n",
      "hello\n",
      "hello\n",
      "hello\n",
      "hello\n",
      "hello\n",
      "hello\n",
      "hello\n",
      "hello\n",
      "hello\n",
      "hello\n",
      "hello\n",
      "hello\n",
      "hello\n",
      "hello\n",
      "hello\n",
      "hello\n",
      "hello\n",
      "hello\n",
      "hello\n",
      "hello\n",
      "hello\n",
      "hello\n",
      "hello\n",
      "hello\n",
      "hello\n",
      "hello\n",
      "hello\n",
      "hello\n",
      "hello\n",
      "hello\n",
      "hello\n",
      "hello\n",
      "hello\n",
      "hello\n",
      "hello\n",
      "hello\n",
      "hello\n",
      "hello\n",
      "hello\n",
      "hello\n",
      "hello\n",
      "hello\n",
      "hello\n",
      "hello\n",
      "hello\n",
      "hello\n",
      "hello\n",
      "hello\n",
      "hello\n",
      "hello\n",
      "hello\n",
      "hello\n",
      "hello\n",
      "hello\n",
      "hello\n",
      "hello\n",
      "hello\n",
      "hello\n",
      "hello\n",
      "hello\n",
      "hello\n",
      "hello\n",
      "hello\n",
      "hello\n",
      "hello\n",
      "hello\n",
      "hello\n",
      "hello\n",
      "hello\n",
      "hello\n",
      "hello\n",
      "hello\n",
      "hello\n",
      "hello\n",
      "hello\n",
      "hello\n",
      "hello\n",
      "hello\n",
      "hello\n",
      "hello\n",
      "hello\n",
      "hello\n",
      "hello\n",
      "hello\n",
      "hello\n",
      "hello\n",
      "hello\n",
      "hello\n",
      "hello\n",
      "hello\n",
      "hello\n",
      "hello\n",
      "hello\n",
      "hello\n",
      "hello\n",
      "hello\n",
      "hello\n",
      "hello\n",
      "hello\n",
      "hello\n",
      "hello\n",
      "hello\n",
      "hello\n",
      "hello\n",
      "hello\n",
      "hello\n",
      "hello\n",
      "hello\n",
      "hello\n",
      "hello\n",
      "hello\n",
      "hello\n",
      "hello\n",
      "hello\n",
      "hello\n",
      "hello\n",
      "hello\n",
      "hello\n",
      "hello\n",
      "hello\n",
      "hello\n",
      "hello\n",
      "hello\n",
      "hello\n",
      "hello\n",
      "hello\n",
      "hello\n",
      "hello\n",
      "hello\n",
      "hello\n",
      "hello\n",
      "hello\n",
      "hello\n",
      "hello\n",
      "hello\n",
      "hello\n",
      "hello\n",
      "hello\n",
      "hello\n",
      "hello\n",
      "hello\n",
      "hello\n",
      "hello\n",
      "hello\n",
      "hello\n",
      "hello\n",
      "hello\n",
      "hello\n",
      "hello\n",
      "hello\n",
      "hello\n",
      "hello\n",
      "hello\n",
      "hello\n",
      "hello\n",
      "hello\n",
      "hello\n",
      "hello\n",
      "hello\n",
      "hello\n",
      "hello\n",
      "hello\n",
      "hello\n",
      "hello\n",
      "hello\n",
      "hello\n",
      "hello\n",
      "hello\n",
      "hello\n",
      "hello\n",
      "hello\n",
      "hello\n",
      "hello\n",
      "hello\n",
      "hello\n",
      "hello\n",
      "hello\n",
      "hello\n",
      "hello\n",
      "hello\n",
      "hello\n",
      "hello\n",
      "hello\n",
      "hello\n",
      "hello\n",
      "hello\n",
      "hello\n",
      "hello\n",
      "hello\n",
      "hello\n",
      "hello\n",
      "hello\n",
      "hello\n",
      "hello\n",
      "hello\n",
      "hello\n",
      "hello\n",
      "hello\n",
      "hello\n",
      "hello\n",
      "hello\n",
      "hello\n",
      "hello\n",
      "hello\n",
      "hello\n",
      "hello\n",
      "hello\n",
      "hello\n",
      "hello\n",
      "hello\n",
      "hello\n",
      "hello\n",
      "hello\n",
      "hello\n",
      "hello\n",
      "hello\n",
      "hello\n",
      "hello\n",
      "hello\n",
      "hello\n",
      "hello\n",
      "hello\n",
      "hello\n",
      "hello\n",
      "hello\n",
      "hello\n",
      "hello\n",
      "hello\n",
      "hello\n",
      "hello\n",
      "hello\n",
      "hello\n",
      "hello\n",
      "hello\n",
      "hello\n",
      "hello\n",
      "hello\n",
      "hello\n",
      "hello\n",
      "hello\n",
      "hello\n",
      "hello\n",
      "hello\n",
      "hello\n",
      "hello\n",
      "hello\n",
      "hello\n",
      "hello\n",
      "hello\n",
      "hello\n",
      "hello\n",
      "hello\n",
      "hello\n",
      "hello\n",
      "hello\n",
      "hello\n",
      "hello\n",
      "hello\n",
      "hello\n",
      "hello\n",
      "hello\n",
      "hello\n",
      "hello\n",
      "hello\n",
      "hello\n",
      "hello\n",
      "hello\n",
      "hello\n",
      "hello\n",
      "hello\n",
      "hello\n",
      "hello\n",
      "hello\n",
      "hello\n",
      "hello\n",
      "hello\n",
      "hello\n",
      "hello\n",
      "hello\n",
      "hello\n",
      "hello\n",
      "hello\n",
      "hello\n",
      "hello\n",
      "hello\n",
      "hello\n",
      "hello\n",
      "hello\n",
      "hello\n",
      "hello\n",
      "hello\n",
      "hello\n",
      "hello\n",
      "hello\n",
      "hello\n",
      "hello\n",
      "hello\n",
      "hello\n",
      "hello\n",
      "hello\n",
      "hello\n",
      "hello\n",
      "hello\n",
      "hello\n",
      "hello\n",
      "hello\n",
      "hello\n",
      "hello\n",
      "hello\n",
      "hello\n",
      "hello\n",
      "hello\n",
      "hello\n",
      "hello\n",
      "hello\n",
      "hello\n",
      "hello\n",
      "hello\n",
      "hello\n",
      "hello\n",
      "hello\n",
      "hello\n",
      "hello\n",
      "hello\n",
      "hello\n",
      "hello\n",
      "hello\n",
      "hello\n",
      "hello\n",
      "hello\n",
      "hello\n",
      "hello\n",
      "hello\n",
      "hello\n",
      "hello\n",
      "hello\n",
      "hello\n",
      "hello\n",
      "hello\n",
      "hello\n",
      "hello\n",
      "hello\n",
      "hello\n",
      "hello\n",
      "hello\n",
      "hello\n",
      "hello\n",
      "hello\n",
      "hello\n",
      "hello\n",
      "hello\n",
      "hello\n",
      "hello\n",
      "hello\n",
      "hello\n",
      "hello\n",
      "hello\n",
      "hello\n",
      "hello\n",
      "hello\n",
      "hello\n",
      "hello\n",
      "hello\n",
      "hello\n",
      "hello\n",
      "hello\n",
      "hello\n",
      "hello\n",
      "hello\n",
      "hello\n",
      "hello\n",
      "hello\n",
      "hello\n",
      "hello\n",
      "hello\n",
      "hello\n",
      "hello\n",
      "hello\n",
      "hello\n",
      "hello\n",
      "hello\n",
      "hello\n",
      "hello\n",
      "hello\n",
      "hello\n",
      "hello\n",
      "hello\n",
      "hello\n",
      "hello\n",
      "hello\n",
      "hello\n",
      "hello\n",
      "hello\n",
      "hello\n",
      "hello\n",
      "hello\n",
      "hello\n",
      "hello\n",
      "hello\n",
      "hello\n",
      "hello\n",
      "hello\n",
      "hello\n",
      "hello\n",
      "hello\n",
      "hello\n",
      "hello\n",
      "hello\n",
      "hello\n",
      "hello\n",
      "hello\n",
      "hello\n",
      "hello\n",
      "hello\n",
      "hello\n",
      "hello\n",
      "hello\n",
      "hello\n",
      "hello\n",
      "hello\n",
      "hello\n",
      "hello\n",
      "hello\n",
      "hello\n",
      "hello\n",
      "hello\n",
      "hello\n",
      "hello\n",
      "hello\n",
      "hello\n",
      "hello\n",
      "hello\n",
      "hello\n",
      "hello\n",
      "hello\n",
      "hello\n",
      "hello\n",
      "hello\n",
      "hello\n",
      "hello\n",
      "hello\n",
      "hello\n",
      "hello\n",
      "hello\n",
      "hello\n",
      "hello\n",
      "hello\n",
      "hello\n",
      "hello\n",
      "hello\n",
      "hello\n",
      "hello\n",
      "hello\n",
      "hello\n",
      "hello\n",
      "hello\n",
      "hello\n",
      "hello\n",
      "hello\n",
      "hello\n",
      "hello\n",
      "hello\n",
      "hello\n",
      "hello\n",
      "hello\n",
      "hello\n",
      "hello\n",
      "hello\n",
      "hello\n",
      "hello\n",
      "hello\n",
      "hello\n",
      "hello\n",
      "hello\n",
      "hello\n",
      "hello\n",
      "hello\n",
      "hello\n",
      "hello\n",
      "hello\n",
      "hello\n",
      "hello\n",
      "hello\n",
      "hello\n",
      "hello\n",
      "hello\n",
      "hello\n",
      "hello\n",
      "hello\n",
      "hello\n",
      "hello\n",
      "hello\n",
      "hello\n",
      "hello\n",
      "hello\n",
      "hello\n",
      "hello\n",
      "hello\n",
      "hello\n",
      "hello\n",
      "hello\n",
      "hello\n",
      "hello\n",
      "hello\n",
      "hello\n",
      "hello\n",
      "hello\n",
      "hello\n",
      "hello\n",
      "hello\n",
      "hello\n",
      "hello\n",
      "hello\n",
      "hello\n",
      "hello\n",
      "hello\n",
      "hello\n",
      "hello\n",
      "hello\n",
      "hello\n",
      "hello\n",
      "hello\n",
      "hello\n",
      "hello\n",
      "hello\n",
      "hello\n",
      "hello\n",
      "hello\n",
      "hello\n",
      "hello\n",
      "hello\n",
      "hello\n",
      "hello\n",
      "hello\n",
      "hello\n",
      "hello\n",
      "hello\n",
      "hello\n",
      "hello\n",
      "hello\n",
      "hello\n",
      "hello\n",
      "hello\n",
      "hello\n",
      "hello\n",
      "hello\n",
      "hello\n",
      "hello\n",
      "hello\n",
      "hello\n",
      "hello\n",
      "hello\n",
      "hello\n",
      "hello\n",
      "hello\n",
      "hello\n",
      "hello\n",
      "hello\n",
      "hello\n",
      "hello\n",
      "hello\n",
      "hello\n",
      "hello\n",
      "hello\n",
      "hello\n",
      "hello\n",
      "hello\n",
      "hello\n",
      "hello\n",
      "hello\n",
      "hello\n",
      "hello\n",
      "hello\n",
      "hello\n",
      "hello\n",
      "hello\n",
      "hello\n",
      "hello\n",
      "hello\n",
      "hello\n",
      "hello\n",
      "hello\n",
      "hello\n",
      "hello\n",
      "hello\n",
      "hello\n",
      "hello\n",
      "hello\n",
      "hello\n",
      "hello\n",
      "hello\n",
      "hello\n",
      "hello\n",
      "hello\n",
      "hello\n",
      "hello\n",
      "hello\n",
      "hello\n",
      "hello\n",
      "hello\n",
      "hello\n",
      "hello\n",
      "hello\n",
      "hello\n",
      "hello\n",
      "hello\n",
      "hello\n",
      "hello\n",
      "hello\n",
      "hello\n",
      "hello\n",
      "hello\n",
      "hello\n",
      "hello\n",
      "hello\n",
      "hello\n",
      "hello\n",
      "hello\n",
      "hello\n",
      "hello\n",
      "hello\n",
      "hello\n",
      "hello\n",
      "hello\n",
      "hello\n",
      "hello\n",
      "hello\n",
      "hello\n",
      "hello\n",
      "hello\n",
      "hello\n",
      "hello\n",
      "hello\n",
      "hello\n",
      "hello\n",
      "hello\n",
      "hello\n",
      "hello\n",
      "hello\n",
      "hello\n",
      "hello\n",
      "hello\n",
      "hello\n",
      "hello\n",
      "hello\n",
      "hello\n",
      "hello\n",
      "hello\n",
      "hello\n",
      "hello\n",
      "hello\n",
      "hello\n",
      "hello\n",
      "hello\n",
      "hello\n",
      "hello\n",
      "hello\n",
      "hello\n",
      "hello\n",
      "hello\n",
      "hello\n",
      "hello\n",
      "hello\n",
      "hello\n",
      "hello\n",
      "hello\n",
      "hello\n",
      "hello\n",
      "hello\n",
      "hello\n",
      "hello\n",
      "hello\n",
      "hello\n",
      "hello\n",
      "hello\n",
      "hello\n",
      "hello\n",
      "hello\n",
      "hello\n",
      "hello\n",
      "hello\n",
      "hello\n",
      "hello\n",
      "hello\n",
      "hello\n",
      "hello\n",
      "hello\n",
      "hello\n",
      "hello\n",
      "hello\n",
      "hello\n",
      "hello\n",
      "hello\n",
      "hello\n",
      "hello\n",
      "hello\n",
      "hello\n",
      "hello\n",
      "hello\n",
      "hello\n",
      "hello\n",
      "hello\n",
      "hello\n",
      "hello\n",
      "hello\n",
      "hello\n",
      "hello\n",
      "hello\n",
      "hello\n",
      "hello\n",
      "hello\n",
      "hello\n",
      "hello\n",
      "hello\n",
      "hello\n",
      "hello\n",
      "hello\n",
      "hello\n",
      "hello\n",
      "hello\n",
      "hello\n",
      "hello\n",
      "hello\n",
      "hello\n",
      "hello\n",
      "hello\n",
      "hello\n",
      "hello\n",
      "hello\n",
      "hello\n",
      "hello\n",
      "hello\n",
      "hello\n",
      "hello\n",
      "hello\n",
      "hello\n",
      "hello\n",
      "hello\n",
      "hello\n",
      "hello\n",
      "hello\n",
      "hello\n",
      "hello\n",
      "hello\n",
      "hello\n",
      "hello\n",
      "hello\n",
      "hello\n",
      "hello\n",
      "hello\n",
      "hello\n",
      "hello\n",
      "hello\n",
      "hello\n",
      "hello\n",
      "hello\n",
      "hello\n",
      "hello\n",
      "hello\n",
      "hello\n",
      "hello\n",
      "hello\n",
      "hello\n",
      "hello\n",
      "hello\n",
      "hello\n",
      "hello\n",
      "hello\n",
      "hello\n",
      "hello\n",
      "hello\n",
      "hello\n",
      "hello\n",
      "hello\n",
      "hello\n",
      "hello\n",
      "hello\n",
      "hello\n",
      "hello\n",
      "hello\n",
      "hello\n",
      "hello\n",
      "hello\n",
      "hello\n",
      "hello\n",
      "hello\n",
      "hello\n",
      "hello\n",
      "hello\n",
      "hello\n",
      "hello\n",
      "hello\n",
      "hello\n",
      "hello\n",
      "hello\n",
      "hello\n",
      "hello\n",
      "hello\n",
      "hello\n",
      "hello\n",
      "hello\n",
      "hello\n",
      "hello\n",
      "hello\n",
      "hello\n",
      "hello\n",
      "hello\n",
      "hello\n",
      "hello\n",
      "hello\n",
      "hello\n",
      "hello\n",
      "hello\n",
      "hello\n",
      "hello\n",
      "hello\n",
      "hello\n",
      "hello\n",
      "hello\n",
      "hello\n",
      "hello\n",
      "hello\n",
      "hello\n",
      "hello\n",
      "hello\n",
      "hello\n",
      "hello\n",
      "hello\n",
      "hello\n",
      "hello\n",
      "hello\n",
      "hello\n",
      "hello\n",
      "hello\n",
      "hello\n",
      "hello\n",
      "hello\n",
      "hello\n",
      "hello\n",
      "hello\n",
      "hello\n",
      "hello\n",
      "hello\n",
      "hello\n",
      "hello\n",
      "hello\n",
      "hello\n",
      "hello\n",
      "hello\n",
      "hello\n",
      "hello\n",
      "hello\n",
      "hello\n",
      "hello\n",
      "hello\n",
      "hello\n",
      "hello\n",
      "hello\n",
      "hello\n",
      "hello\n",
      "hello\n",
      "hello\n",
      "hello\n",
      "hello\n",
      "hello\n",
      "hello\n",
      "hello\n",
      "hello\n",
      "hello\n",
      "hello\n",
      "hello\n",
      "hello\n",
      "hello\n",
      "hello\n",
      "hello\n",
      "hello\n",
      "hello\n",
      "hello\n",
      "hello\n",
      "hello\n",
      "hello\n",
      "hello\n",
      "hello\n",
      "hello\n",
      "hello\n",
      "hello\n",
      "hello\n",
      "hello\n",
      "hello\n",
      "hello\n",
      "hello\n",
      "hello\n",
      "hello\n",
      "hello\n",
      "hello\n",
      "hello\n",
      "hello\n",
      "hello\n",
      "hello\n",
      "hello\n",
      "hello\n",
      "hello\n",
      "hello\n",
      "hello\n",
      "hello\n",
      "hello\n",
      "hello\n",
      "hello\n",
      "hello\n",
      "hello\n",
      "hello\n",
      "hello\n",
      "hello\n",
      "hello\n",
      "hello\n",
      "hello\n",
      "hello\n",
      "hello\n",
      "hello\n",
      "hello\n",
      "hello\n",
      "hello\n",
      "hello\n",
      "hello\n",
      "hello\n",
      "hello\n",
      "hello\n",
      "hello\n",
      "hello\n",
      "hello\n",
      "hello\n",
      "hello\n",
      "hello\n",
      "hello\n",
      "hello\n",
      "hello\n",
      "hello\n",
      "hello\n",
      "hello\n",
      "hello\n",
      "hello\n",
      "hello\n",
      "hello\n",
      "hello\n",
      "hello\n",
      "hello\n",
      "hello\n",
      "hello\n",
      "hello\n",
      "hello\n",
      "hello\n",
      "hello\n",
      "hello\n",
      "hello\n",
      "hello\n",
      "hello\n",
      "hello\n",
      "hello\n",
      "hello\n",
      "hello\n",
      "hello\n",
      "hello\n",
      "hello\n",
      "hello\n",
      "hello\n",
      "hello\n",
      "hello\n",
      "hello\n",
      "hello\n",
      "hello\n",
      "hello\n",
      "hello\n",
      "hello\n",
      "hello\n",
      "hello\n",
      "hello\n",
      "hello\n",
      "hello\n",
      "hello\n",
      "hello\n",
      "hello\n",
      "hello\n",
      "hello\n",
      "hello\n",
      "hello\n",
      "hello\n",
      "hello\n",
      "hello\n",
      "hello\n",
      "hello\n",
      "hello\n",
      "hello\n",
      "hello\n",
      "hello\n",
      "hello\n",
      "hello\n",
      "hello\n",
      "hello\n",
      "hello\n",
      "hello\n",
      "hello\n",
      "hello\n",
      "hello\n",
      "hello\n",
      "hello\n",
      "hello\n",
      "hello\n",
      "hello\n",
      "hello\n",
      "hello\n",
      "hello\n",
      "hello\n",
      "hello\n",
      "hello\n",
      "hello\n",
      "hello\n",
      "hello\n",
      "hello\n",
      "hello\n",
      "hello\n",
      "hello\n",
      "hello\n",
      "hello\n",
      "hello\n",
      "hello\n",
      "hello\n",
      "hello\n",
      "hello\n",
      "hello\n",
      "hello\n",
      "hello\n",
      "hello\n",
      "hello\n",
      "hello\n",
      "hello\n",
      "hello\n",
      "hello\n",
      "hello\n",
      "hello\n",
      "hello\n",
      "hello\n",
      "hello\n",
      "hello\n",
      "hello\n",
      "hello\n",
      "hello\n",
      "hello\n",
      "hello\n",
      "hello\n",
      "hello\n",
      "hello\n",
      "hello\n",
      "hello\n",
      "hello\n",
      "hello\n",
      "hello\n",
      "hello\n",
      "hello\n",
      "hello\n",
      "hello\n",
      "hello\n",
      "hello\n",
      "hello\n",
      "hello\n",
      "hello\n",
      "hello\n",
      "hello\n",
      "hello\n",
      "hello\n",
      "hello\n",
      "hello\n",
      "hello\n",
      "hello\n",
      "hello\n",
      "hello\n",
      "hello\n",
      "hello\n",
      "hello\n",
      "hello\n",
      "hello\n",
      "hello\n",
      "hello\n",
      "hello\n",
      "hello\n",
      "hello\n",
      "hello\n",
      "hello\n",
      "hello\n",
      "hello\n",
      "hello\n",
      "hello\n",
      "hello\n",
      "hello\n",
      "hello\n",
      "hello\n",
      "hello\n",
      "hello\n",
      "hello\n",
      "hello\n",
      "hello\n",
      "hello\n",
      "hello\n",
      "hello\n",
      "hello\n",
      "hello\n",
      "hello\n",
      "hello\n",
      "hello\n",
      "hello\n",
      "hello\n",
      "hello\n",
      "hello\n",
      "hello\n",
      "hello\n",
      "hello\n",
      "hello\n",
      "hello\n",
      "hello\n",
      "hello\n",
      "hello\n",
      "hello\n",
      "hello\n",
      "hello\n",
      "hello\n",
      "hello\n",
      "hello\n",
      "hello\n",
      "hello\n",
      "hello\n",
      "hello\n",
      "hello\n",
      "hello\n",
      "hello\n",
      "hello\n",
      "hello\n",
      "hello\n",
      "hello\n",
      "hello\n",
      "hello\n",
      "hello\n",
      "hello\n",
      "hello\n",
      "hello\n",
      "hello\n",
      "hello\n",
      "hello\n",
      "hello\n",
      "hello\n",
      "hello\n",
      "hello\n",
      "hello\n",
      "hello\n",
      "hello\n",
      "hello\n",
      "hello\n",
      "hello\n",
      "hello\n",
      "hello\n",
      "hello\n",
      "hello\n",
      "hello\n",
      "hello\n",
      "hello\n",
      "hello\n",
      "hello\n",
      "hello\n",
      "hello\n",
      "hello\n",
      "hello\n",
      "hello\n",
      "hello\n",
      "hello\n",
      "hello\n",
      "hello\n",
      "hello\n",
      "hello\n",
      "hello\n",
      "hello\n",
      "hello\n",
      "hello\n",
      "hello\n",
      "hello\n",
      "hello\n",
      "hello\n",
      "hello\n",
      "hello\n",
      "hello\n",
      "hello\n",
      "hello\n",
      "hello\n",
      "hello\n",
      "hello\n",
      "hello\n",
      "hello\n",
      "hello\n",
      "hello\n",
      "hello\n",
      "hello\n",
      "hello\n",
      "hello\n",
      "hello\n",
      "hello\n",
      "hello\n",
      "hello\n",
      "hello\n",
      "hello\n",
      "hello\n",
      "hello\n",
      "hello\n",
      "hello\n",
      "hello\n",
      "hello\n",
      "hello\n",
      "hello\n",
      "hello\n",
      "hello\n",
      "hello\n",
      "hello\n",
      "hello\n",
      "hello\n",
      "hello\n",
      "hello\n",
      "hello\n",
      "hello\n",
      "hello\n",
      "hello\n",
      "hello\n",
      "hello\n",
      "hello\n",
      "hello\n",
      "hello\n",
      "hello\n",
      "hello\n",
      "hello\n",
      "hello\n",
      "hello\n",
      "hello\n",
      "hello\n",
      "hello\n",
      "hello\n",
      "hello\n",
      "hello\n",
      "hello\n",
      "hello\n",
      "hello\n",
      "hello\n",
      "hello\n",
      "hello\n",
      "hello\n",
      "hello\n",
      "hello\n",
      "hello\n",
      "hello\n",
      "hello\n",
      "hello\n",
      "hello\n",
      "hello\n",
      "hello\n",
      "hello\n",
      "hello\n",
      "hello\n",
      "hello\n",
      "hello\n",
      "hello\n",
      "hello\n",
      "hello\n",
      "hello\n",
      "hello\n",
      "hello\n",
      "hello\n",
      "hello\n",
      "hello\n",
      "hello\n",
      "hello\n",
      "hello\n",
      "hello\n",
      "hello\n",
      "hello\n",
      "hello\n",
      "hello\n",
      "hello\n",
      "hello\n",
      "hello\n",
      "hello\n",
      "hello\n",
      "hello\n",
      "hello\n",
      "hello\n",
      "hello\n",
      "hello\n",
      "hello\n",
      "hello\n",
      "hello\n",
      "hello\n",
      "hello\n",
      "hello\n",
      "hello\n",
      "hello\n",
      "hello\n",
      "hello\n",
      "hello\n",
      "hello\n",
      "hello\n",
      "hello\n",
      "hello\n",
      "hello\n",
      "hello\n",
      "hello\n",
      "hello\n",
      "hello\n",
      "hello\n",
      "hello\n",
      "hello\n",
      "hello\n",
      "hello\n",
      "hello\n",
      "hello\n",
      "hello\n",
      "hello\n",
      "hello\n",
      "hello\n",
      "hello\n",
      "hello\n",
      "hello\n",
      "hello\n",
      "hello\n",
      "hello\n",
      "hello\n",
      "hello\n",
      "hello\n",
      "hello\n",
      "hello\n",
      "hello\n",
      "hello\n",
      "hello\n",
      "hello\n",
      "hello\n",
      "hello\n",
      "hello\n",
      "hello\n",
      "hello\n",
      "hello\n",
      "hello\n",
      "hello\n",
      "hello\n",
      "hello\n",
      "hello\n",
      "hello\n",
      "hello\n",
      "hello\n",
      "hello\n",
      "hello\n",
      "hello\n",
      "hello\n",
      "hello\n",
      "hello\n",
      "hello\n",
      "hello\n",
      "hello\n",
      "hello\n",
      "hello\n",
      "hello\n",
      "hello\n",
      "hello\n",
      "hello\n",
      "hello\n",
      "hello\n",
      "hello\n",
      "hello\n",
      "hello\n",
      "hello\n",
      "hello\n",
      "hello\n",
      "hello\n",
      "hello\n",
      "hello\n",
      "hello\n",
      "hello\n",
      "hello\n",
      "hello\n",
      "hello\n",
      "hello\n",
      "hello\n",
      "hello\n",
      "hello\n",
      "hello\n",
      "hello\n",
      "hello\n",
      "hello\n",
      "hello\n",
      "hello\n",
      "hello\n",
      "hello\n",
      "hello\n",
      "hello\n",
      "hello\n",
      "hello\n",
      "hello\n",
      "hello\n",
      "hello\n",
      "hello\n",
      "hello\n",
      "hello\n",
      "hello\n",
      "hello\n",
      "hello\n",
      "hello\n",
      "hello\n",
      "hello\n",
      "hello\n",
      "hello\n",
      "hello\n",
      "hello\n",
      "hello\n",
      "hello\n",
      "hello\n",
      "hello\n",
      "hello\n",
      "hello\n",
      "hello\n",
      "hello\n",
      "hello\n",
      "hello\n",
      "hello\n",
      "hello\n",
      "hello\n",
      "hello\n",
      "hello\n",
      "hello\n",
      "hello\n",
      "hello\n",
      "hello\n",
      "hello\n",
      "hello\n",
      "hello\n",
      "hello\n",
      "hello\n",
      "hello\n",
      "hello\n",
      "hello\n",
      "hello\n",
      "hello\n",
      "hello\n",
      "hello\n",
      "hello\n",
      "hello\n",
      "hello\n",
      "hello\n",
      "hello\n",
      "hello\n",
      "hello\n",
      "hello\n",
      "hello\n",
      "hello\n",
      "hello\n",
      "hello\n",
      "hello\n",
      "hello\n",
      "hello\n",
      "hello\n",
      "hello\n",
      "hello\n",
      "hello\n",
      "hello\n",
      "hello\n",
      "hello\n",
      "hello\n",
      "hello\n",
      "hello\n",
      "hello\n",
      "hello\n",
      "hello\n",
      "hello\n",
      "hello\n",
      "hello\n",
      "hello\n",
      "hello\n",
      "hello\n",
      "hello\n",
      "hello\n",
      "hello\n",
      "hello\n",
      "hello\n",
      "hello\n",
      "hello\n",
      "hello\n",
      "hello\n",
      "hello\n",
      "hello\n",
      "hello\n",
      "hello\n",
      "hello\n",
      "hello\n",
      "hello\n",
      "hello\n",
      "hello\n",
      "hello\n",
      "hello\n",
      "hello\n",
      "hello\n",
      "hello\n",
      "hello\n",
      "hello\n",
      "hello\n",
      "hello\n",
      "hello\n",
      "hello\n",
      "hello\n",
      "hello\n",
      "hello\n",
      "hello\n",
      "hello\n",
      "hello\n",
      "hello\n",
      "hello\n",
      "hello\n",
      "hello\n",
      "hello\n",
      "hello\n",
      "hello\n",
      "hello\n",
      "hello\n",
      "hello\n",
      "hello\n",
      "hello\n",
      "hello\n",
      "hello\n",
      "hello\n",
      "hello\n",
      "hello\n",
      "hello\n",
      "hello\n",
      "hello\n",
      "hello\n",
      "hello\n",
      "hello\n",
      "hello\n",
      "hello\n",
      "hello\n",
      "hello\n",
      "hello\n",
      "hello\n",
      "hello\n",
      "hello\n",
      "hello\n",
      "hello\n",
      "hello\n",
      "hello\n",
      "hello\n",
      "hello\n",
      "hello\n",
      "hello\n",
      "hello\n",
      "hello\n",
      "hello\n",
      "hello\n",
      "hello\n",
      "hello\n",
      "hello\n",
      "hello\n",
      "hello\n",
      "hello\n",
      "hello\n",
      "hello\n",
      "hello\n",
      "hello\n",
      "hello\n",
      "hello\n",
      "hello\n",
      "hello\n",
      "hello\n",
      "hello\n",
      "hello\n",
      "hello\n",
      "hello\n",
      "hello\n",
      "hello\n",
      "hello\n",
      "hello\n",
      "hello\n",
      "hello\n",
      "hello\n",
      "hello\n",
      "hello\n",
      "hello\n",
      "hello\n",
      "hello\n",
      "hello\n",
      "hello\n",
      "hello\n",
      "hello\n",
      "hello\n",
      "hello\n",
      "hello\n",
      "hello\n",
      "hello\n",
      "hello\n",
      "hello\n",
      "hello\n",
      "hello\n",
      "hello\n",
      "hello\n",
      "hello\n",
      "hello\n",
      "hello\n",
      "hello\n",
      "hello\n",
      "hello\n",
      "hello\n",
      "hello\n",
      "hello\n",
      "hello\n",
      "hello\n",
      "hello\n",
      "hello\n",
      "hello\n",
      "hello\n",
      "hello\n",
      "hello\n",
      "hello\n",
      "hello\n",
      "hello\n",
      "hello\n",
      "hello\n",
      "hello\n",
      "hello\n",
      "hello\n",
      "hello\n",
      "hello\n",
      "hello\n",
      "hello\n",
      "hello\n",
      "hello\n",
      "hello\n",
      "hello\n",
      "hello\n",
      "hello\n",
      "hello\n",
      "hello\n",
      "hello\n",
      "hello\n",
      "hello\n",
      "hello\n",
      "hello\n",
      "hello\n",
      "hello\n",
      "hello\n",
      "hello\n",
      "hello\n",
      "hello\n",
      "hello\n",
      "hello\n",
      "hello\n",
      "hello\n",
      "hello\n",
      "hello\n",
      "hello\n",
      "hello\n",
      "hello\n",
      "hello\n",
      "hello\n",
      "hello\n",
      "hello\n",
      "hello\n",
      "hello\n",
      "hello\n",
      "hello\n",
      "hello\n",
      "hello\n",
      "hello\n",
      "hello\n",
      "hello\n",
      "hello\n",
      "hello\n",
      "hello\n",
      "hello\n",
      "hello\n",
      "hello\n",
      "hello\n",
      "hello\n",
      "hello\n",
      "hello\n",
      "hello\n",
      "hello\n",
      "hello\n",
      "hello\n",
      "hello\n",
      "hello\n",
      "hello\n",
      "hello\n",
      "hello\n",
      "hello\n",
      "hello\n",
      "hello\n",
      "hello\n",
      "hello\n",
      "hello\n",
      "hello\n",
      "hello\n",
      "hello\n",
      "hello\n",
      "hello\n",
      "hello\n",
      "hello\n",
      "hello\n",
      "hello\n",
      "hello\n",
      "hello\n",
      "hello\n",
      "hello\n",
      "hello\n",
      "hello\n",
      "hello\n",
      "hello\n",
      "hello\n",
      "hello\n",
      "hello\n",
      "hello\n",
      "hello\n",
      "hello\n",
      "hello\n",
      "hello\n",
      "hello\n",
      "hello\n",
      "hello\n",
      "hello\n",
      "hello\n",
      "hello\n",
      "hello\n",
      "hello\n",
      "hello\n",
      "hello\n",
      "hello\n",
      "hello\n",
      "hello\n",
      "hello\n",
      "hello\n",
      "hello\n",
      "hello\n",
      "hello\n",
      "hello\n",
      "hello\n",
      "hello\n",
      "hello\n",
      "hello\n",
      "hello\n",
      "hello\n",
      "hello\n",
      "hello\n",
      "hello\n",
      "hello\n",
      "hello\n",
      "hello\n",
      "hello\n",
      "hello\n",
      "hello\n",
      "hello\n",
      "hello\n",
      "hello\n",
      "hello\n",
      "hello\n",
      "hello\n",
      "hello\n",
      "hello\n",
      "hello\n",
      "hello\n",
      "hello\n",
      "hello\n",
      "hello\n",
      "hello\n",
      "hello\n",
      "hello\n",
      "hello\n",
      "hello\n",
      "hello\n",
      "hello\n",
      "hello\n",
      "hello\n",
      "hello\n",
      "hello\n",
      "hello\n",
      "hello\n",
      "hello\n",
      "hello\n",
      "hello\n",
      "hello\n",
      "hello\n",
      "hello\n",
      "hello\n",
      "hello\n",
      "hello\n",
      "hello\n",
      "hello\n",
      "hello\n",
      "hello\n",
      "hello\n",
      "hello\n",
      "hello\n",
      "hello\n",
      "hello\n",
      "hello\n",
      "hello\n",
      "hello\n",
      "hello\n",
      "hello\n",
      "hello\n",
      "hello\n",
      "hello\n",
      "hello\n",
      "hello\n",
      "hello\n",
      "hello\n",
      "hello\n",
      "hello\n",
      "hello\n",
      "hello\n",
      "hello\n",
      "hello\n",
      "hello\n",
      "hello\n",
      "hello\n",
      "hello\n",
      "hello\n",
      "hello\n",
      "hello\n",
      "hello\n",
      "hello\n",
      "hello\n",
      "hello\n",
      "hello\n",
      "hello\n",
      "hello\n",
      "hello\n",
      "hello\n",
      "hello\n",
      "hello\n",
      "hello\n",
      "hello\n",
      "hello\n",
      "hello\n",
      "hello\n",
      "hello\n",
      "hello\n",
      "hello\n",
      "hello\n",
      "hello\n",
      "hello\n",
      "hello\n",
      "hello\n",
      "hello\n",
      "hello\n",
      "hello\n",
      "hello\n",
      "hello\n",
      "hello\n",
      "hello\n",
      "hello\n",
      "hello\n",
      "hello\n",
      "hello\n",
      "hello\n",
      "hello\n",
      "hello\n",
      "hello\n",
      "hello\n",
      "hello\n",
      "hello\n",
      "hello\n",
      "hello\n",
      "hello\n",
      "hello\n",
      "hello\n",
      "hello\n",
      "hello\n",
      "hello\n",
      "hello\n",
      "hello\n",
      "hello\n",
      "hello\n",
      "hello\n",
      "hello\n",
      "hello\n",
      "hello\n",
      "hello\n",
      "hello\n",
      "hello\n",
      "hello\n",
      "hello\n",
      "hello\n",
      "hello\n",
      "hello\n",
      "hello\n",
      "hello\n",
      "hello\n",
      "hello\n",
      "hello\n",
      "hello\n",
      "hello\n",
      "hello\n",
      "hello\n",
      "hello\n",
      "hello\n",
      "hello\n",
      "hello\n",
      "hello\n",
      "hello\n",
      "hello\n",
      "hello\n",
      "hello\n",
      "hello\n",
      "hello\n",
      "hello\n",
      "hello\n",
      "hello\n",
      "hello\n",
      "hello\n",
      "hello\n",
      "hello\n",
      "hello\n",
      "hello\n",
      "hello\n",
      "hello\n",
      "hello\n",
      "hello\n",
      "hello\n",
      "hello\n",
      "hello\n",
      "hello\n",
      "hello\n",
      "hello\n",
      "hello\n",
      "hello\n",
      "hello\n",
      "hello\n",
      "hello\n",
      "hello\n",
      "hello\n",
      "hello\n",
      "hello\n",
      "hello\n",
      "hello\n",
      "hello\n",
      "hello\n",
      "hello\n",
      "hello\n",
      "hello\n",
      "hello\n",
      "hello\n",
      "hello\n",
      "hello\n",
      "hello\n",
      "hello\n",
      "hello\n",
      "hello\n",
      "hello\n",
      "hello\n",
      "hello\n",
      "hello\n",
      "hello\n",
      "hello\n",
      "hello\n",
      "hello\n",
      "hello\n",
      "hello\n",
      "hello\n",
      "hello\n",
      "hello\n",
      "hello\n",
      "hello\n",
      "hello\n",
      "hello\n",
      "hello\n",
      "hello\n",
      "hello\n",
      "hello\n",
      "hello\n",
      "hello\n",
      "hello\n",
      "hello\n",
      "hello\n",
      "hello\n",
      "hello\n",
      "hello\n",
      "hello\n",
      "hello\n",
      "hello\n",
      "hello\n",
      "hello\n",
      "hello\n",
      "hello\n",
      "hello\n",
      "hello\n",
      "hello\n",
      "hello\n",
      "hello\n",
      "hello\n",
      "hello\n",
      "hello\n",
      "hello\n",
      "hello\n",
      "hello\n",
      "hello\n",
      "hello\n",
      "hello\n",
      "hello\n",
      "hello\n",
      "hello\n",
      "hello\n",
      "hello\n",
      "hello\n",
      "hello\n",
      "hello\n",
      "hello\n",
      "hello\n",
      "hello\n",
      "hello\n",
      "hello\n",
      "hello\n",
      "hello\n",
      "hello\n",
      "hello\n",
      "hello\n",
      "hello\n",
      "hello\n",
      "hello\n",
      "hello\n",
      "hello\n",
      "hello\n",
      "hello\n",
      "hello\n",
      "hello\n",
      "hello\n",
      "hello\n",
      "hello\n",
      "hello\n",
      "hello\n",
      "hello\n",
      "hello\n",
      "hello\n",
      "hello\n",
      "hello\n",
      "hello\n",
      "hello\n",
      "hello\n",
      "hello\n",
      "hello\n",
      "hello\n",
      "hello\n",
      "hello\n",
      "hello\n",
      "hello\n",
      "hello\n",
      "hello\n",
      "hello\n",
      "hello\n",
      "hello\n",
      "hello\n",
      "hello\n",
      "hello\n",
      "hello\n",
      "hello\n",
      "hello\n",
      "hello\n",
      "hello\n",
      "hello\n",
      "hello\n",
      "hello\n",
      "hello\n",
      "hello\n",
      "hello\n",
      "hello\n",
      "hello\n",
      "hello\n",
      "hello\n",
      "hello\n",
      "hello\n",
      "hello\n",
      "hello\n",
      "hello\n",
      "hello\n",
      "hello\n",
      "hello\n",
      "hello\n",
      "hello\n",
      "hello\n",
      "hello\n",
      "hello\n",
      "hello\n",
      "hello\n",
      "hello\n",
      "hello\n",
      "hello\n",
      "hello\n",
      "hello\n",
      "hello\n",
      "hello\n",
      "hello\n",
      "hello\n",
      "hello\n",
      "hello\n",
      "hello\n",
      "hello\n",
      "hello\n",
      "hello\n",
      "hello\n",
      "hello\n",
      "hello\n",
      "hello\n",
      "hello\n",
      "hello\n",
      "hello\n",
      "hello\n",
      "hello\n",
      "hello\n",
      "hello\n",
      "hello\n",
      "hello\n",
      "hello\n",
      "hello\n",
      "hello\n",
      "hello\n",
      "hello\n",
      "hello\n",
      "hello\n",
      "hello\n",
      "hello\n",
      "hello\n",
      "hello\n",
      "hello\n",
      "hello\n",
      "hello\n",
      "hello\n",
      "hello\n",
      "hello\n",
      "hello\n",
      "hello\n",
      "hello\n",
      "hello\n",
      "hello\n",
      "hello\n",
      "hello\n",
      "hello\n",
      "hello\n",
      "hello\n",
      "hello\n",
      "hello\n",
      "hello\n",
      "hello\n",
      "hello\n",
      "hello\n",
      "hello\n",
      "hello\n",
      "hello\n",
      "hello\n",
      "hello\n",
      "hello\n",
      "hello\n",
      "hello\n",
      "hello\n",
      "hello\n",
      "hello\n",
      "hello\n",
      "hello\n",
      "hello\n",
      "hello\n",
      "hello\n",
      "hello\n",
      "hello\n",
      "hello\n",
      "hello\n",
      "hello\n",
      "hello\n",
      "hello\n",
      "hello\n",
      "hello\n",
      "hello\n",
      "hello\n",
      "hello\n",
      "hello\n",
      "hello\n",
      "hello\n",
      "hello\n",
      "hello\n",
      "hello\n",
      "hello\n",
      "hello\n",
      "hello\n",
      "hello\n",
      "hello\n",
      "hello\n",
      "hello\n",
      "hello\n",
      "hello\n",
      "hello\n",
      "hello\n",
      "hello\n",
      "hello\n",
      "hello\n",
      "hello\n",
      "hello\n",
      "hello\n",
      "hello\n",
      "hello\n",
      "hello\n",
      "hello\n",
      "hello\n",
      "hello\n",
      "hello\n",
      "hello\n",
      "hello\n",
      "hello\n",
      "hello\n",
      "hello\n",
      "hello\n",
      "hello\n",
      "hello\n",
      "hello\n",
      "hello\n",
      "hello\n",
      "hello\n",
      "hello\n",
      "hello\n",
      "hello\n",
      "hello\n",
      "hello\n",
      "hello\n",
      "hello\n",
      "hello\n",
      "hello\n",
      "hello\n",
      "hello\n",
      "hello\n",
      "hello\n",
      "hello\n",
      "hello\n",
      "hello\n",
      "hello\n",
      "hello\n",
      "hello\n",
      "hello\n",
      "hello\n",
      "hello\n",
      "hello\n",
      "hello\n",
      "hello\n",
      "hello\n",
      "hello\n",
      "hello\n",
      "hello\n",
      "hello\n",
      "hello\n",
      "hello\n",
      "hello\n",
      "hello\n",
      "hello\n",
      "hello\n",
      "hello\n",
      "hello\n",
      "hello\n",
      "hello\n",
      "hello\n",
      "hello\n",
      "hello\n",
      "hello\n",
      "hello\n",
      "hello\n",
      "hello\n",
      "hello\n",
      "hello\n",
      "hello\n",
      "hello\n",
      "hello\n",
      "hello\n",
      "hello\n",
      "hello\n",
      "hello\n",
      "hello\n",
      "hello\n",
      "hello\n",
      "hello\n",
      "hello\n",
      "hello\n",
      "hello\n",
      "hello\n",
      "hello\n",
      "hello\n",
      "hello\n",
      "hello\n",
      "hello\n",
      "hello\n",
      "hello\n",
      "hello\n",
      "hello\n",
      "hello\n",
      "hello\n",
      "hello\n",
      "hello\n",
      "hello\n",
      "hello\n",
      "hello\n",
      "hello\n",
      "hello\n",
      "hello\n",
      "hello\n",
      "hello\n",
      "hello\n",
      "hello\n",
      "hello\n"
     ]
    },
    {
     "ename": "RecursionError",
     "evalue": "maximum recursion depth exceeded",
     "output_type": "error",
     "traceback": [
      "\u001b[1;31m---------------------------------------------------------------------------\u001b[0m",
      "\u001b[1;31mRecursionError\u001b[0m                            Traceback (most recent call last)",
      "Cell \u001b[1;32mIn[36], line 4\u001b[0m\n\u001b[0;32m      2\u001b[0m     \u001b[38;5;28mprint\u001b[39m(\u001b[38;5;124m'\u001b[39m\u001b[38;5;124mhello\u001b[39m\u001b[38;5;124m'\u001b[39m)\n\u001b[0;32m      3\u001b[0m     wish()\n\u001b[1;32m----> 4\u001b[0m wish()\n",
      "Cell \u001b[1;32mIn[36], line 3\u001b[0m, in \u001b[0;36mwish\u001b[1;34m()\u001b[0m\n\u001b[0;32m      1\u001b[0m \u001b[38;5;28;01mdef\u001b[39;00m \u001b[38;5;21mwish\u001b[39m():\n\u001b[0;32m      2\u001b[0m     \u001b[38;5;28mprint\u001b[39m(\u001b[38;5;124m'\u001b[39m\u001b[38;5;124mhello\u001b[39m\u001b[38;5;124m'\u001b[39m)\n\u001b[1;32m----> 3\u001b[0m     wish()\n",
      "Cell \u001b[1;32mIn[36], line 3\u001b[0m, in \u001b[0;36mwish\u001b[1;34m()\u001b[0m\n\u001b[0;32m      1\u001b[0m \u001b[38;5;28;01mdef\u001b[39;00m \u001b[38;5;21mwish\u001b[39m():\n\u001b[0;32m      2\u001b[0m     \u001b[38;5;28mprint\u001b[39m(\u001b[38;5;124m'\u001b[39m\u001b[38;5;124mhello\u001b[39m\u001b[38;5;124m'\u001b[39m)\n\u001b[1;32m----> 3\u001b[0m     wish()\n",
      "    \u001b[1;31m[... skipping similar frames: wish at line 3 (2972 times)]\u001b[0m\n",
      "Cell \u001b[1;32mIn[36], line 3\u001b[0m, in \u001b[0;36mwish\u001b[1;34m()\u001b[0m\n\u001b[0;32m      1\u001b[0m \u001b[38;5;28;01mdef\u001b[39;00m \u001b[38;5;21mwish\u001b[39m():\n\u001b[0;32m      2\u001b[0m     \u001b[38;5;28mprint\u001b[39m(\u001b[38;5;124m'\u001b[39m\u001b[38;5;124mhello\u001b[39m\u001b[38;5;124m'\u001b[39m)\n\u001b[1;32m----> 3\u001b[0m     wish()\n",
      "Cell \u001b[1;32mIn[36], line 2\u001b[0m, in \u001b[0;36mwish\u001b[1;34m()\u001b[0m\n\u001b[0;32m      1\u001b[0m \u001b[38;5;28;01mdef\u001b[39;00m \u001b[38;5;21mwish\u001b[39m():\n\u001b[1;32m----> 2\u001b[0m     \u001b[38;5;28mprint\u001b[39m(\u001b[38;5;124m'\u001b[39m\u001b[38;5;124mhello\u001b[39m\u001b[38;5;124m'\u001b[39m)\n\u001b[0;32m      3\u001b[0m     wish()\n",
      "File \u001b[1;32m~\\anaconda3\\Lib\\site-packages\\ipykernel\\iostream.py:649\u001b[0m, in \u001b[0;36mOutStream.write\u001b[1;34m(self, string)\u001b[0m\n\u001b[0;32m    646\u001b[0m     msg \u001b[38;5;241m=\u001b[39m \u001b[38;5;124m\"\u001b[39m\u001b[38;5;124mI/O operation on closed file\u001b[39m\u001b[38;5;124m\"\u001b[39m\n\u001b[0;32m    647\u001b[0m     \u001b[38;5;28;01mraise\u001b[39;00m \u001b[38;5;167;01mValueError\u001b[39;00m(msg)\n\u001b[1;32m--> 649\u001b[0m is_child \u001b[38;5;241m=\u001b[39m \u001b[38;5;129;01mnot\u001b[39;00m \u001b[38;5;28mself\u001b[39m\u001b[38;5;241m.\u001b[39m_is_master_process()\n\u001b[0;32m    650\u001b[0m \u001b[38;5;66;03m# only touch the buffer in the IO thread to avoid races\u001b[39;00m\n\u001b[0;32m    651\u001b[0m \u001b[38;5;28;01mwith\u001b[39;00m \u001b[38;5;28mself\u001b[39m\u001b[38;5;241m.\u001b[39m_buffer_lock:\n",
      "\u001b[1;31mRecursionError\u001b[0m: maximum recursion depth exceeded"
     ]
    }
   ],
   "source": [
    "def wish():\n",
    "    print('hello')\n",
    "    wish()\n",
    "wish()"
   ]
  },
  {
   "cell_type": "code",
   "execution_count": 38,
   "id": "05d29b42-3a2f-4c55-9c55-59140caa6cc8",
   "metadata": {},
   "outputs": [
    {
     "name": "stdout",
     "output_type": "stream",
     "text": [
      "3000\n"
     ]
    }
   ],
   "source": [
    "import sys \n",
    "print(sys.getrecursionlimit())"
   ]
  },
  {
   "cell_type": "code",
   "execution_count": 39,
   "id": "02bf411b-a613-4270-8f52-4a413e492d26",
   "metadata": {},
   "outputs": [],
   "source": [
    "sys.setrecursionlimit(4000)"
   ]
  },
  {
   "cell_type": "code",
   "execution_count": 40,
   "id": "39fd887c-bbe5-48cf-9e17-7fe79ee0440e",
   "metadata": {},
   "outputs": [
    {
     "name": "stdout",
     "output_type": "stream",
     "text": [
      "4000\n"
     ]
    }
   ],
   "source": [
    "print(sys.getrecursionlimit())"
   ]
  },
  {
   "cell_type": "code",
   "execution_count": 41,
   "id": "25a30412-753d-4bc2-b277-60018e8191e8",
   "metadata": {},
   "outputs": [
    {
     "data": {
      "text/plain": [
       "\"\\ndef wish():\\n    print('hello')\\n    wish()\\nwish()\\n\""
      ]
     },
     "execution_count": 41,
     "metadata": {},
     "output_type": "execute_result"
    }
   ],
   "source": [
    "'''\n",
    "def wish():\n",
    "    print('hello')\n",
    "    wish()\n",
    "wish()\n",
    "'''"
   ]
  },
  {
   "cell_type": "code",
   "execution_count": 42,
   "id": "3afaf515-0497-4038-b79d-ef4356eb2d74",
   "metadata": {},
   "outputs": [
    {
     "name": "stdout",
     "output_type": "stream",
     "text": [
      "100\n",
      "hello 1\n",
      "hello 2\n",
      "hello 3\n",
      "hello 4\n",
      "hello 5\n",
      "hello 6\n",
      "hello 7\n",
      "hello 8\n",
      "hello 9\n",
      "hello 10\n",
      "hello 11\n",
      "hello 12\n",
      "hello 13\n",
      "hello 14\n",
      "hello 15\n",
      "hello 16\n",
      "hello 17\n",
      "hello 18\n",
      "hello 19\n",
      "hello 20\n",
      "hello 21\n",
      "hello 22\n",
      "hello 23\n",
      "hello 24\n",
      "hello 25\n",
      "hello 26\n",
      "hello 27\n",
      "hello 28\n",
      "hello 29\n",
      "hello 30\n",
      "hello 31\n",
      "hello 32\n",
      "hello 33\n",
      "hello 34\n",
      "hello 35\n",
      "hello 36\n",
      "hello 37\n",
      "hello 38\n",
      "hello 39\n",
      "hello 40\n",
      "hello 41\n",
      "hello 42\n",
      "hello 43\n",
      "hello 44\n",
      "hello 45\n",
      "hello 46\n",
      "hello 47\n",
      "hello 48\n",
      "hello 49\n",
      "hello 50\n",
      "hello 51\n",
      "hello 52\n",
      "hello 53\n",
      "hello 54\n",
      "hello 55\n",
      "hello 56\n",
      "hello 57\n",
      "hello 58\n",
      "hello 59\n",
      "hello 60\n",
      "hello 61\n",
      "hello 62\n",
      "hello 63\n",
      "hello 64\n",
      "hello 65\n",
      "hello 66\n",
      "hello 67\n",
      "hello 68\n",
      "hello 69\n",
      "hello 70\n",
      "hello 71\n",
      "hello 72\n",
      "hello 73\n",
      "hello 74\n",
      "hello 75\n"
     ]
    },
    {
     "ename": "RecursionError",
     "evalue": "maximum recursion depth exceeded",
     "output_type": "error",
     "traceback": [
      "\u001b[1;31m---------------------------------------------------------------------------\u001b[0m",
      "\u001b[1;31mRecursionError\u001b[0m                            Traceback (most recent call last)",
      "Cell \u001b[1;32mIn[42], line 12\u001b[0m\n\u001b[0;32m     10\u001b[0m     \u001b[38;5;28mprint\u001b[39m(\u001b[38;5;124m'\u001b[39m\u001b[38;5;124mhello\u001b[39m\u001b[38;5;124m'\u001b[39m, i)\n\u001b[0;32m     11\u001b[0m     wish()\n\u001b[1;32m---> 12\u001b[0m wish()\n",
      "Cell \u001b[1;32mIn[42], line 11\u001b[0m, in \u001b[0;36mwish\u001b[1;34m()\u001b[0m\n\u001b[0;32m      9\u001b[0m i \u001b[38;5;241m+\u001b[39m\u001b[38;5;241m=\u001b[39m\u001b[38;5;241m1\u001b[39m\n\u001b[0;32m     10\u001b[0m \u001b[38;5;28mprint\u001b[39m(\u001b[38;5;124m'\u001b[39m\u001b[38;5;124mhello\u001b[39m\u001b[38;5;124m'\u001b[39m, i)\n\u001b[1;32m---> 11\u001b[0m wish()\n",
      "Cell \u001b[1;32mIn[42], line 11\u001b[0m, in \u001b[0;36mwish\u001b[1;34m()\u001b[0m\n\u001b[0;32m      9\u001b[0m i \u001b[38;5;241m+\u001b[39m\u001b[38;5;241m=\u001b[39m\u001b[38;5;241m1\u001b[39m\n\u001b[0;32m     10\u001b[0m \u001b[38;5;28mprint\u001b[39m(\u001b[38;5;124m'\u001b[39m\u001b[38;5;124mhello\u001b[39m\u001b[38;5;124m'\u001b[39m, i)\n\u001b[1;32m---> 11\u001b[0m wish()\n",
      "    \u001b[1;31m[... skipping similar frames: wish at line 11 (72 times)]\u001b[0m\n",
      "Cell \u001b[1;32mIn[42], line 11\u001b[0m, in \u001b[0;36mwish\u001b[1;34m()\u001b[0m\n\u001b[0;32m      9\u001b[0m i \u001b[38;5;241m+\u001b[39m\u001b[38;5;241m=\u001b[39m\u001b[38;5;241m1\u001b[39m\n\u001b[0;32m     10\u001b[0m \u001b[38;5;28mprint\u001b[39m(\u001b[38;5;124m'\u001b[39m\u001b[38;5;124mhello\u001b[39m\u001b[38;5;124m'\u001b[39m, i)\n\u001b[1;32m---> 11\u001b[0m wish()\n",
      "Cell \u001b[1;32mIn[42], line 10\u001b[0m, in \u001b[0;36mwish\u001b[1;34m()\u001b[0m\n\u001b[0;32m      8\u001b[0m \u001b[38;5;28;01mglobal\u001b[39;00m i\n\u001b[0;32m      9\u001b[0m i \u001b[38;5;241m+\u001b[39m\u001b[38;5;241m=\u001b[39m\u001b[38;5;241m1\u001b[39m\n\u001b[1;32m---> 10\u001b[0m \u001b[38;5;28mprint\u001b[39m(\u001b[38;5;124m'\u001b[39m\u001b[38;5;124mhello\u001b[39m\u001b[38;5;124m'\u001b[39m, i)\n\u001b[0;32m     11\u001b[0m wish()\n",
      "File \u001b[1;32m~\\anaconda3\\Lib\\site-packages\\ipykernel\\iostream.py:649\u001b[0m, in \u001b[0;36mOutStream.write\u001b[1;34m(self, string)\u001b[0m\n\u001b[0;32m    646\u001b[0m     msg \u001b[38;5;241m=\u001b[39m \u001b[38;5;124m\"\u001b[39m\u001b[38;5;124mI/O operation on closed file\u001b[39m\u001b[38;5;124m\"\u001b[39m\n\u001b[0;32m    647\u001b[0m     \u001b[38;5;28;01mraise\u001b[39;00m \u001b[38;5;167;01mValueError\u001b[39;00m(msg)\n\u001b[1;32m--> 649\u001b[0m is_child \u001b[38;5;241m=\u001b[39m \u001b[38;5;129;01mnot\u001b[39;00m \u001b[38;5;28mself\u001b[39m\u001b[38;5;241m.\u001b[39m_is_master_process()\n\u001b[0;32m    650\u001b[0m \u001b[38;5;66;03m# only touch the buffer in the IO thread to avoid races\u001b[39;00m\n\u001b[0;32m    651\u001b[0m \u001b[38;5;28;01mwith\u001b[39;00m \u001b[38;5;28mself\u001b[39m\u001b[38;5;241m.\u001b[39m_buffer_lock:\n",
      "\u001b[1;31mRecursionError\u001b[0m: maximum recursion depth exceeded"
     ]
    }
   ],
   "source": [
    "import sys \n",
    "sys.setrecursionlimit(100)\n",
    "print(sys.getrecursionlimit())\n",
    "\n",
    "i = 0\n",
    "\n",
    "def wish():\n",
    "    global i\n",
    "    i +=1\n",
    "    print('hello', i)\n",
    "    wish()\n",
    "wish()    "
   ]
  },
  {
   "cell_type": "markdown",
   "id": "ca02678c-216a-49d9-a6e7-9658c8a5e939",
   "metadata": {},
   "source": [
    "FACTORIAL USING RECURSSION"
   ]
  },
  {
   "cell_type": "code",
   "execution_count": 43,
   "id": "398d9725-443c-4d2c-99d3-0c2fc8d42b25",
   "metadata": {},
   "outputs": [
    {
     "data": {
      "text/plain": [
       "24"
      ]
     },
     "execution_count": 43,
     "metadata": {},
     "output_type": "execute_result"
    }
   ],
   "source": [
    "def fact(n):\n",
    "    if n==0:\n",
    "        return 1\n",
    "    return n * fact(n -1)\n",
    "\n",
    "result = fact(4)\n",
    "\n",
    "result"
   ]
  },
  {
   "cell_type": "markdown",
   "id": "acace2ee-8e39-4fff-9ff7-48fd8f548787",
   "metadata": {},
   "source": [
    "# Function without name is called - ANONYMOUS FUNCTION OR LAMBDA"
   ]
  },
  {
   "cell_type": "code",
   "execution_count": 2,
   "id": "64fa8be5-4c98-43f9-9539-588be36293f5",
   "metadata": {},
   "outputs": [
    {
     "name": "stdout",
     "output_type": "stream",
     "text": [
      "25\n"
     ]
    }
   ],
   "source": [
    "def square(a):\n",
    "    return a * a\n",
    "result = square(5)\n",
    "print(result)"
   ]
  },
  {
   "cell_type": "code",
   "execution_count": 3,
   "id": "7a37c4af-1707-47b9-b91e-e0d4db009f1f",
   "metadata": {},
   "outputs": [
    {
     "data": {
      "text/plain": [
       "100"
      ]
     },
     "execution_count": 3,
     "metadata": {},
     "output_type": "execute_result"
    }
   ],
   "source": [
    "# lambda expression or lambda function\n",
    "f = lambda a: a * a\n",
    "\n",
    "result = f(10)\n",
    "result"
   ]
  },
  {
   "cell_type": "code",
   "execution_count": 4,
   "id": "3533b0ce-aae7-4ee2-8c93-4bd403d488c0",
   "metadata": {},
   "outputs": [
    {
     "data": {
      "text/plain": [
       "5"
      ]
     },
     "execution_count": 4,
     "metadata": {},
     "output_type": "execute_result"
    }
   ],
   "source": [
    "f = lambda a, b : a + b\n",
    "\n",
    "result = f(1,4)\n",
    "result"
   ]
  },
  {
   "cell_type": "code",
   "execution_count": null,
   "id": "14cd7e45-11ac-4ee6-bee3-18b6925ac729",
   "metadata": {},
   "outputs": [],
   "source": [
    "# How can we use lambda in other function like - filter, map & reduce\n",
    "\n",
    "filter()\n",
    "map()\n",
    "reduce()"
   ]
  },
  {
   "cell_type": "code",
   "execution_count": 6,
   "id": "4eaaeac8-45d5-4cbe-b3c1-cf0a9a0bbc04",
   "metadata": {},
   "outputs": [
    {
     "ename": "NameError",
     "evalue": "name 'is_even' is not defined",
     "output_type": "error",
     "traceback": [
      "\u001b[1;31m---------------------------------------------------------------------------\u001b[0m",
      "\u001b[1;31mNameError\u001b[0m                                 Traceback (most recent call last)",
      "Cell \u001b[1;32mIn[6], line 3\u001b[0m\n\u001b[0;32m      1\u001b[0m nums \u001b[38;5;241m=\u001b[39m [\u001b[38;5;241m3\u001b[39m,\u001b[38;5;241m2\u001b[39m,\u001b[38;5;241m6\u001b[39m,\u001b[38;5;241m8\u001b[39m,\u001b[38;5;241m4\u001b[39m,\u001b[38;5;241m6\u001b[39m,\u001b[38;5;241m2\u001b[39m,\u001b[38;5;241m9\u001b[39m]\n\u001b[1;32m----> 3\u001b[0m evens \u001b[38;5;241m=\u001b[39m \u001b[38;5;28mlist\u001b[39m(\u001b[38;5;28mfilter\u001b[39m(is_even, nums))\n",
      "\u001b[1;31mNameError\u001b[0m: name 'is_even' is not defined"
     ]
    }
   ],
   "source": [
    "nums = [3,2,6,8,4,6,2,9]\n",
    "\n",
    "evens = list(filter(is_even, nums))"
   ]
  },
  {
   "cell_type": "code",
   "execution_count": 7,
   "id": "f48d6339-a1e1-4ec8-b9a3-86101570aaf9",
   "metadata": {},
   "outputs": [
    {
     "name": "stdout",
     "output_type": "stream",
     "text": [
      "[2, 6, 8, 4, 6, 2]\n"
     ]
    }
   ],
   "source": [
    "def is_even(n):\n",
    "    return n % 2 == 0\n",
    "\n",
    "nums = [3,2,6,8,4,6,2,9]\n",
    "evens = list(filter(is_even, nums))\n",
    "print(evens)"
   ]
  },
  {
   "cell_type": "code",
   "execution_count": 8,
   "id": "a4600c36-d1ec-4533-b328-6e56c7b83b20",
   "metadata": {},
   "outputs": [
    {
     "name": "stdout",
     "output_type": "stream",
     "text": [
      "[3, 9]\n"
     ]
    }
   ],
   "source": [
    "def is_odd(n):\n",
    "    return n % 2 !=0\n",
    "\n",
    "nums = [3,2,6,8,4,6,2,9]\n",
    "odd = list(filter(is_odd, nums))\n",
    "print(odd)"
   ]
  },
  {
   "cell_type": "code",
   "execution_count": 10,
   "id": "30909711-f21a-4520-a9a6-24d9af1211d3",
   "metadata": {},
   "outputs": [
    {
     "name": "stdout",
     "output_type": "stream",
     "text": [
      "[2, 6, 8, 4, 6, 2]\n"
     ]
    }
   ],
   "source": [
    "nums = [3,2,6,8,4,6,2,9]\n",
    "evens = list(filter(lambda n : n%2 ==0,nums))\n",
    "print(evens)"
   ]
  },
  {
   "cell_type": "code",
   "execution_count": 11,
   "id": "bcfabc1d-464b-40c1-9f1c-3285f863c3c1",
   "metadata": {},
   "outputs": [
    {
     "name": "stdout",
     "output_type": "stream",
     "text": [
      "[3, 9]\n"
     ]
    }
   ],
   "source": [
    "nums = [3,2,6,8,4,6,2,9]\n",
    "odd = list(filter(lambda n : n%2 !=0,nums))\n",
    "print(odd)"
   ]
  },
  {
   "cell_type": "markdown",
   "id": "7a2a5c65-0e0d-430e-92a1-88c71f4a5e6d",
   "metadata": {},
   "source": [
    "- What ever even number I have from the assigned list\n",
    "- I want to double the even number i.e 2 become 4  || 4 become 6 || 6 become 8\n",
    "- that we will do using map function \n",
    "- this largly we are using in google map reduce programme\n",
    "- we can build using user define & lambda"
   ]
  },
  {
   "cell_type": "code",
   "execution_count": 12,
   "id": "a3896a77-6767-4700-bf47-a8c5c6a6480d",
   "metadata": {},
   "outputs": [
    {
     "name": "stdout",
     "output_type": "stream",
     "text": [
      "[4, 12, 16, 8, 12, 4]\n"
     ]
    }
   ],
   "source": [
    "def update(n):\n",
    "    return n*2\n",
    "\n",
    "nums = [3,2,6,8,4,6,2,9]\n",
    "evens = list(filter(is_even, nums))\n",
    "doudle = list(map(update, evens))\n",
    "print(doudle)"
   ]
  },
  {
   "cell_type": "code",
   "execution_count": 13,
   "id": "d0b23305-0102-45dd-9c08-df117e2dbecd",
   "metadata": {},
   "outputs": [
    {
     "name": "stdout",
     "output_type": "stream",
     "text": [
      "[4, 12, 16, 8, 12, 4]\n",
      "[0, 4, 6, 2, 4, 0]\n"
     ]
    }
   ],
   "source": [
    "nums =[3,2,6,8,4,6,2,9]\n",
    "evens = list(filter(is_even, nums))\n",
    "doudle = list(map(lambda n : n*2, evens))\n",
    "doudle_ = list(map(lambda n : n-2, evens))\n",
    "print(doudle)\n",
    "print(doudle_)"
   ]
  },
  {
   "cell_type": "markdown",
   "id": "9b17a93e-78a3-46e1-804a-33f55b957149",
   "metadata": {},
   "source": [
    "- i want to perform reduce now \n",
    "- i want reduce all the values \n",
    "- reduce you can add only 2 values\n",
    "- [4, 12, 16, 8, 12, 4] if you sum everything then you will get 56"
   ]
  },
  {
   "cell_type": "code",
   "execution_count": 14,
   "id": "da79cf04-25a8-48ce-9380-670af0209740",
   "metadata": {},
   "outputs": [
    {
     "name": "stdout",
     "output_type": "stream",
     "text": [
      "56\n"
     ]
    }
   ],
   "source": [
    "from functools import reduce \n",
    "\n",
    "def add_all(a,b):\n",
    "    return a+b\n",
    "\n",
    "nums = [3,2,6,8,4,6,2,9]\n",
    "\n",
    "evens = list(filter(is_even, nums))\n",
    "doudle = list(map(lambda n : n*2, evens))\n",
    "sums = reduce(add_all, doudle)\n",
    "\n",
    "print(sums)"
   ]
  },
  {
   "cell_type": "code",
   "execution_count": 15,
   "id": "c65c4f87-ddfd-455c-9a59-19a1b0bda1c9",
   "metadata": {},
   "outputs": [
    {
     "name": "stdout",
     "output_type": "stream",
     "text": [
      "56\n",
      "[4, 12, 16, 8, 12, 4]\n",
      "56\n"
     ]
    }
   ],
   "source": [
    "from functools import reduce \n",
    "\n",
    "def add_all(a,b):\n",
    "    return a+b\n",
    "\n",
    "nums = [3,2,6,8,4,6,2,9]\n",
    "\n",
    "evens = list(filter(is_even, nums))\n",
    "doudle = list(map(lambda n : n*2, evens))\n",
    "sums = reduce(add_all, doudle)\n",
    "\n",
    "print(sums)\n",
    "print(doudle)\n",
    "print(sums)"
   ]
  },
  {
   "cell_type": "code",
   "execution_count": 16,
   "id": "778c8dc8-68a9-4f47-bc26-dbebcb74d235",
   "metadata": {},
   "outputs": [
    {
     "name": "stdout",
     "output_type": "stream",
     "text": [
      "56\n",
      "[4, 12, 16, 8, 12, 4]\n",
      "56\n"
     ]
    }
   ],
   "source": [
    "from functools import reduce \n",
    "\n",
    "def add_all(a,b):\n",
    "    return a+b\n",
    "\n",
    "nums = [3,2,6,8,4,6,2,9]\n",
    "\n",
    "evens = list(filter(is_even, nums))\n",
    "doudle = list(map(lambda n : n*2, evens))\n",
    "sums = reduce(lambda a,b: a+b, doudle)\n",
    "\n",
    "print(sums)\n",
    "print(doudle)\n",
    "print(sums)"
   ]
  },
  {
   "cell_type": "markdown",
   "id": "acbb3779-d5b5-4a57-8022-4ca0507a5f70",
   "metadata": {},
   "source": [
    "# python decorators \n",
    "- This is one of amazin feature in python\n",
    "- We knew that function are build on certain task\n",
    "- lets understand we have some predefined function \n",
    "- div() function which takes 2 parameter"
   ]
  },
  {
   "cell_type": "code",
   "execution_count": 1,
   "id": "56025071-ac79-48bd-8fc1-001c27b2c6ff",
   "metadata": {},
   "outputs": [
    {
     "name": "stdout",
     "output_type": "stream",
     "text": [
      "2.0\n"
     ]
    }
   ],
   "source": [
    "def div(a,b):\n",
    "    print(a / b)\n",
    "div(4,2)    "
   ]
  },
  {
   "cell_type": "code",
   "execution_count": 2,
   "id": "32e2e85b-c568-4edc-b16d-e8ba08fdb933",
   "metadata": {},
   "outputs": [
    {
     "name": "stdout",
     "output_type": "stream",
     "text": [
      "0.5\n"
     ]
    }
   ],
   "source": [
    "def div(a,b):\n",
    "    print(a / b)\n",
    "div(2,4)    "
   ]
  },
  {
   "cell_type": "markdown",
   "id": "effd54ea-c862-48ff-ad8b-7a2ae4796b46",
   "metadata": {},
   "source": [
    "- i want different logic hear\n",
    "- it does not matter in which sequence i pass the value alway numerator should be greather then denomerator ( numerator > denomenator)\n",
    "- in the above function when i divide 2/4 ( numerator<denomenator)\n",
    "- even though user pass 2/4 but inbuild it should consider as 4 / 2 but how to swap lets discuss \n",
    "\n",
    "- before division 2/4 lets apply the logic & logic is if 2<4 then i want to swap"
   ]
  },
  {
   "cell_type": "code",
   "execution_count": 3,
   "id": "d2553e66-7c76-4af5-8ab5-aa66062b98f2",
   "metadata": {},
   "outputs": [
    {
     "name": "stdout",
     "output_type": "stream",
     "text": [
      "2.0\n"
     ]
    }
   ],
   "source": [
    "def div(a,b):\n",
    "    if a<b:\n",
    "        a,b = b,a\n",
    "    print(a / b)\n",
    "div(2,4)"
   ]
  },
  {
   "cell_type": "markdown",
   "id": "301d26ee-2b7f-4742-b726-0688857e94aa",
   "metadata": {},
   "source": [
    "- lets understand the twist, imagine the code you dont have , you work in the organization \n",
    "- inbuild the code & you dont want to change the existing code \n",
    "- without impacting on existing code you need to get the solution \n",
    "- being a developer you need to swap the value without touching the existing function \n",
    "- thats the reason DECORATOR comes into the picture\n",
    "- using the help of DECORATOR you can add the extra feature in the existing function \n",
    "- lets create a new function for decorator \n",
    "- we can write functin inside the funtion thats why we called as python is functional programing language"
   ]
  },
  {
   "cell_type": "code",
   "execution_count": 4,
   "id": "f942eb9e-2c94-42c7-8364-08a6aedf981d",
   "metadata": {},
   "outputs": [
    {
     "name": "stdout",
     "output_type": "stream",
     "text": [
      "2.0\n"
     ]
    }
   ],
   "source": [
    "def div(a,b):\n",
    "    print(a / b)\n",
    "\n",
    "def div_decorator(func):\n",
    "    def inner(a,b):\n",
    "        if a<b:\n",
    "            a,b = b,a\n",
    "        return func(a,b)\n",
    "    return inner\n",
    "div = div_decorator(div)\n",
    "div(2,4)"
   ]
  },
  {
   "cell_type": "code",
   "execution_count": 5,
   "id": "43d2aef7-1777-4106-a437-519eaaf454f5",
   "metadata": {},
   "outputs": [
    {
     "name": "stdout",
     "output_type": "stream",
     "text": [
      "Something is happening before the function is called.\n",
      "Hello!\n",
      "Something is happening after the function is called.\n"
     ]
    }
   ],
   "source": [
    "def my_decorator(func):\n",
    "    def wrapper():\n",
    "        print(\"Something is happening before the function is called.\")\n",
    "        func()\n",
    "        print(\"Something is happening after the function is called.\")\n",
    "    return wrapper\n",
    "\n",
    "@my_decorator\n",
    "def say_hello():\n",
    "    print(\"Hello!\")\n",
    "\n",
    "say_hello()"
   ]
  },
  {
   "cell_type": "markdown",
   "id": "74f66d62-8816-403a-8945-508860e69a6d",
   "metadata": {},
   "source": [
    "- the best part of the decorator is you can change the behaviour of existing function at the time of compiler \n",
    "- what we done now we take new function which take func as an parameter\n",
    "- you cant do like this any programming language\n",
    "- we can defin the function with in the function which actually replacing using swap\n",
    "- without changing existing code with the help of decorator we are get the output"
   ]
  },
  {
   "cell_type": "markdown",
   "id": "a843dacd-067a-4737-9c3b-7b257d9c7a9e",
   "metadata": {},
   "source": [
    "# Modules\n",
    "\n",
    "- concept of debugging means - remov the bugs\n",
    "- what is codeing - coding will create bugs or add the bugs\n",
    "- Brekdown complex codes or logical part to different modules.\n",
    "\n",
    "              A B C D\n",
    "             A C    B D\n",
    "            A   C  B  D\n",
    "- if you see the image \n",
    "- lets break down to logical part ac is 1 module & bd is another module\n",
    "- again we are breaking into c module, a module, b module , d module as well\n",
    "- main advantage is if you change module a it wont effect on other module b, or c \n",
    "- another advantage is you can re-use the module\n",
    "- if you build oter module as GADP (A & D) module is reused\n",
    "\n",
    "- Inbuild module (import numpy as np)\n",
    "- user define module as well (lets create how to define user define module)\n",
    "- for that lets take one new file as test.ipynb which define 4 function (add, sub, multi, div) \n",
    "- i want to use this function in another module \n",
    "- so lets create our own module  "
   ]
  },
  {
   "cell_type": "markdown",
   "id": "22d23316-d560-464f-ad6d-cd41982460bb",
   "metadata": {},
   "source": [
    "Special Variable name"
   ]
  },
  {
   "cell_type": "code",
   "execution_count": 6,
   "id": "53491208-5f0c-48e2-906f-7b33a47122df",
   "metadata": {},
   "outputs": [
    {
     "data": {
      "text/plain": [
       "'__main__'"
      ]
     },
     "execution_count": 6,
     "metadata": {},
     "output_type": "execute_result"
    }
   ],
   "source": [
    "__name__"
   ]
  },
  {
   "cell_type": "code",
   "execution_count": 7,
   "id": "d17ef727-8dd1-4b8d-b633-96834a7192dc",
   "metadata": {},
   "outputs": [
    {
     "name": "stdout",
     "output_type": "stream",
     "text": [
      "__main__\n"
     ]
    }
   ],
   "source": [
    "print(__name__)"
   ]
  },
  {
   "cell_type": "markdown",
   "id": "bb8f2460-d7d7-41fd-95e3-b9611535e211",
   "metadata": {},
   "source": [
    "- The moment when i print __name__ then i will get output as main\n",
    "- in your project if you have 5 modules or 10 modules there will some modules which will be run first \n",
    "- so the frist module name is always __main__. thats why the code start \n",
    "- to understand indetaild review we will work with PYCHARM"
   ]
  },
  {
   "cell_type": "code",
   "execution_count": null,
   "id": "248bffd4-6b92-4894-aa79-be9d347ad14e",
   "metadata": {},
   "outputs": [],
   "source": []
  }
 ],
 "metadata": {
  "kernelspec": {
   "display_name": "Python 3 (ipykernel)",
   "language": "python",
   "name": "python3"
  },
  "language_info": {
   "codemirror_mode": {
    "name": "ipython",
    "version": 3
   },
   "file_extension": ".py",
   "mimetype": "text/x-python",
   "name": "python",
   "nbconvert_exporter": "python",
   "pygments_lexer": "ipython3",
   "version": "3.12.7"
  }
 },
 "nbformat": 4,
 "nbformat_minor": 5
}
